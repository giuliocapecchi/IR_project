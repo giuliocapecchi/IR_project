{
  "cells": [
    {
      "cell_type": "markdown",
      "metadata": {
        "id": "view-in-github",
        "colab_type": "text"
      },
      "source": [
        "<a href=\"https://colab.research.google.com/github/giuliocapecchi/IR_project/blob/main/IR_project.ipynb\" target=\"_parent\"><img src=\"https://colab.research.google.com/assets/colab-badge.svg\" alt=\"Open In Colab\"/></a>"
      ]
    },
    {
      "cell_type": "code",
      "execution_count": null,
      "metadata": {
        "colab": {
          "base_uri": "https://localhost:8080/"
        },
        "id": "iNk06jLCfXXM",
        "outputId": "d632e291-0b43-41bf-e5a2-eea5d9eb31e5"
      },
      "outputs": [
        {
          "output_type": "stream",
          "name": "stdout",
          "text": [
            "Requirement already satisfied: torch in /usr/local/lib/python3.10/dist-packages (2.4.1+cu121)\n",
            "Requirement already satisfied: matplotlib in /usr/local/lib/python3.10/dist-packages (3.7.1)\n",
            "Requirement already satisfied: nltk in /usr/local/lib/python3.10/dist-packages (3.8.1)\n",
            "Requirement already satisfied: tqdm in /usr/local/lib/python3.10/dist-packages (4.66.5)\n",
            "Requirement already satisfied: gdown in /usr/local/lib/python3.10/dist-packages (5.2.0)\n",
            "Requirement already satisfied: filelock in /usr/local/lib/python3.10/dist-packages (from torch) (3.16.1)\n",
            "Requirement already satisfied: typing-extensions>=4.8.0 in /usr/local/lib/python3.10/dist-packages (from torch) (4.12.2)\n",
            "Requirement already satisfied: sympy in /usr/local/lib/python3.10/dist-packages (from torch) (1.13.3)\n",
            "Requirement already satisfied: networkx in /usr/local/lib/python3.10/dist-packages (from torch) (3.4.1)\n",
            "Requirement already satisfied: jinja2 in /usr/local/lib/python3.10/dist-packages (from torch) (3.1.4)\n",
            "Requirement already satisfied: fsspec in /usr/local/lib/python3.10/dist-packages (from torch) (2024.6.1)\n",
            "Requirement already satisfied: contourpy>=1.0.1 in /usr/local/lib/python3.10/dist-packages (from matplotlib) (1.3.0)\n",
            "Requirement already satisfied: cycler>=0.10 in /usr/local/lib/python3.10/dist-packages (from matplotlib) (0.12.1)\n",
            "Requirement already satisfied: fonttools>=4.22.0 in /usr/local/lib/python3.10/dist-packages (from matplotlib) (4.54.1)\n",
            "Requirement already satisfied: kiwisolver>=1.0.1 in /usr/local/lib/python3.10/dist-packages (from matplotlib) (1.4.7)\n",
            "Requirement already satisfied: numpy>=1.20 in /usr/local/lib/python3.10/dist-packages (from matplotlib) (1.26.4)\n",
            "Requirement already satisfied: packaging>=20.0 in /usr/local/lib/python3.10/dist-packages (from matplotlib) (24.1)\n",
            "Requirement already satisfied: pillow>=6.2.0 in /usr/local/lib/python3.10/dist-packages (from matplotlib) (10.4.0)\n",
            "Requirement already satisfied: pyparsing>=2.3.1 in /usr/local/lib/python3.10/dist-packages (from matplotlib) (3.2.0)\n",
            "Requirement already satisfied: python-dateutil>=2.7 in /usr/local/lib/python3.10/dist-packages (from matplotlib) (2.8.2)\n",
            "Requirement already satisfied: click in /usr/local/lib/python3.10/dist-packages (from nltk) (8.1.7)\n",
            "Requirement already satisfied: joblib in /usr/local/lib/python3.10/dist-packages (from nltk) (1.4.2)\n",
            "Requirement already satisfied: regex>=2021.8.3 in /usr/local/lib/python3.10/dist-packages (from nltk) (2024.9.11)\n",
            "Requirement already satisfied: beautifulsoup4 in /usr/local/lib/python3.10/dist-packages (from gdown) (4.12.3)\n",
            "Requirement already satisfied: requests[socks] in /usr/local/lib/python3.10/dist-packages (from gdown) (2.32.3)\n",
            "Requirement already satisfied: six>=1.5 in /usr/local/lib/python3.10/dist-packages (from python-dateutil>=2.7->matplotlib) (1.16.0)\n",
            "Requirement already satisfied: soupsieve>1.2 in /usr/local/lib/python3.10/dist-packages (from beautifulsoup4->gdown) (2.6)\n",
            "Requirement already satisfied: MarkupSafe>=2.0 in /usr/local/lib/python3.10/dist-packages (from jinja2->torch) (3.0.2)\n",
            "Requirement already satisfied: charset-normalizer<4,>=2 in /usr/local/lib/python3.10/dist-packages (from requests[socks]->gdown) (3.4.0)\n",
            "Requirement already satisfied: idna<4,>=2.5 in /usr/local/lib/python3.10/dist-packages (from requests[socks]->gdown) (3.10)\n",
            "Requirement already satisfied: urllib3<3,>=1.21.1 in /usr/local/lib/python3.10/dist-packages (from requests[socks]->gdown) (2.2.3)\n",
            "Requirement already satisfied: certifi>=2017.4.17 in /usr/local/lib/python3.10/dist-packages (from requests[socks]->gdown) (2024.8.30)\n",
            "Requirement already satisfied: PySocks!=1.5.7,>=1.5.6 in /usr/local/lib/python3.10/dist-packages (from requests[socks]->gdown) (1.7.1)\n",
            "Requirement already satisfied: mpmath<1.4,>=1.1.0 in /usr/local/lib/python3.10/dist-packages (from sympy->torch) (1.3.0)\n"
          ]
        }
      ],
      "source": [
        "!pip install torch matplotlib nltk tqdm gdown"
      ]
    },
    {
      "cell_type": "markdown",
      "metadata": {
        "id": "q1f7eJ4tFSfq"
      },
      "source": [
        "# 1. Download the collection\n",
        "\n",
        "Con questo modulo si possono scaricare files, quindi ho scaricato la collection e l'ho butttata sul mio drive (ci vogliono circa 30s/1 minuto di tempo)"
      ]
    },
    {
      "cell_type": "code",
      "execution_count": null,
      "metadata": {
        "colab": {
          "base_uri": "https://localhost:8080/",
          "height": 1000
        },
        "id": "8oKwHN5yEPTq",
        "collapsed": true,
        "outputId": "6713aa5e-dd13-4097-eb45-34150701abdd"
      },
      "outputs": [
        {
          "output_type": "stream",
          "name": "stderr",
          "text": [
            "Downloading...\n",
            "From (original): https://drive.google.com/uc?id=1_wXJjiwdgc9Kpt7o7atP8oWe-U4Z56hn\n",
            "From (redirected): https://drive.google.com/uc?id=1_wXJjiwdgc9Kpt7o7atP8oWe-U4Z56hn&confirm=t&uuid=366d04ad-38f8-4aa0-8f3a-a88b15f5bc7b\n",
            "To: /content/collection.tsv\n",
            "\n",
            "  0%|          | 0.00/3.06G [00:00<?, ?B/s]\u001b[A\n",
            "  0%|          | 4.72M/3.06G [00:00<02:54, 17.5MB/s]\u001b[A\n",
            "  1%|          | 17.3M/3.06G [00:00<01:23, 36.6MB/s]\u001b[A\n",
            "  1%|          | 26.2M/3.06G [00:00<01:02, 48.6MB/s]\u001b[A\n",
            "  1%|          | 34.1M/3.06G [00:00<01:04, 46.9MB/s]\u001b[A\n",
            "  2%|▏         | 50.9M/3.06G [00:00<00:47, 63.0MB/s]\u001b[A\n",
            "  2%|▏         | 59.2M/3.06G [00:01<00:45, 65.6MB/s]\u001b[A\n",
            "  2%|▏         | 67.6M/3.06G [00:01<00:50, 59.1MB/s]\u001b[A\n",
            "  3%|▎         | 81.3M/3.06G [00:01<00:39, 76.0MB/s]\u001b[A\n",
            "  3%|▎         | 90.2M/3.06G [00:01<00:43, 69.1MB/s]\u001b[A\n",
            "  3%|▎         | 98.0M/3.06G [00:01<00:44, 66.2MB/s]\u001b[A\n",
            "  4%|▎         | 110M/3.06G [00:01<00:39, 74.1MB/s] \u001b[A\n",
            "  4%|▍         | 123M/3.06G [00:01<00:33, 86.6MB/s]\u001b[A\n",
            "  4%|▍         | 132M/3.06G [00:02<00:34, 85.0MB/s]\u001b[A\n",
            "  5%|▍         | 143M/3.06G [00:02<00:49, 59.4MB/s]\u001b[A\n",
            "  5%|▌         | 156M/3.06G [00:02<00:40, 72.2MB/s]\u001b[A\n",
            "  5%|▌         | 165M/3.06G [00:02<00:45, 63.2MB/s]\u001b[A\n",
            "  6%|▌         | 177M/3.06G [00:02<00:52, 55.4MB/s]\u001b[A\n",
            "  6%|▌         | 188M/3.06G [00:02<00:43, 65.9MB/s]\u001b[A\n",
            "  6%|▋         | 198M/3.06G [00:03<00:40, 71.2MB/s]\u001b[A\n",
            "  7%|▋         | 206M/3.06G [00:03<00:42, 67.1MB/s]\u001b[A\n",
            "  7%|▋         | 214M/3.06G [00:03<00:42, 67.2MB/s]\u001b[A\n",
            "  7%|▋         | 229M/3.06G [00:03<00:32, 86.2MB/s]\u001b[A\n",
            "  8%|▊         | 243M/3.06G [00:03<00:28, 99.7MB/s]\u001b[A\n",
            "  8%|▊         | 255M/3.06G [00:03<00:27, 104MB/s] \u001b[A\n",
            "  9%|▊         | 266M/3.06G [00:03<00:28, 97.4MB/s]\u001b[A\n",
            "  9%|▉         | 276M/3.06G [00:04<00:38, 72.6MB/s]\u001b[A\n",
            "  9%|▉         | 285M/3.06G [00:05<01:44, 26.4MB/s]\u001b[A\n",
            " 10%|▉         | 292M/3.06G [00:05<01:33, 29.5MB/s]\u001b[A\n",
            " 10%|▉         | 300M/3.06G [00:05<01:15, 36.6MB/s]\u001b[A\n",
            " 10%|█         | 310M/3.06G [00:05<01:01, 45.1MB/s]\u001b[A\n",
            " 11%|█         | 324M/3.06G [00:05<00:44, 61.5MB/s]\u001b[A\n",
            " 11%|█         | 336M/3.06G [00:05<00:38, 71.2MB/s]\u001b[A\n",
            " 11%|█▏        | 346M/3.06G [00:05<00:48, 56.4MB/s]\u001b[A\n",
            " 12%|█▏        | 354M/3.06G [00:06<00:59, 45.3MB/s]\u001b[A\n",
            " 12%|█▏        | 361M/3.06G [00:06<01:08, 39.2MB/s]\u001b[A\n",
            " 12%|█▏        | 372M/3.06G [00:06<00:54, 49.3MB/s]\u001b[A\n",
            " 12%|█▏        | 379M/3.06G [00:06<00:52, 51.5MB/s]\u001b[A\n",
            " 13%|█▎        | 386M/3.06G [00:06<00:49, 53.9MB/s]\u001b[A\n",
            " 13%|█▎        | 399M/3.06G [00:06<00:37, 70.4MB/s]\u001b[A\n",
            " 13%|█▎        | 410M/3.06G [00:06<00:33, 79.7MB/s]\u001b[A\n",
            " 14%|█▎        | 419M/3.06G [00:07<00:38, 68.7MB/s]\u001b[A\n",
            " 14%|█▍        | 428M/3.06G [00:07<00:40, 65.4MB/s]\u001b[A\n",
            " 14%|█▍        | 435M/3.06G [00:07<00:39, 66.2MB/s]\u001b[A\n",
            " 14%|█▍        | 443M/3.06G [00:07<00:37, 69.2MB/s]\u001b[A\n",
            " 15%|█▌        | 460M/3.06G [00:07<00:27, 93.7MB/s]\u001b[A\n",
            " 15%|█▌        | 470M/3.06G [00:07<00:27, 95.6MB/s]\u001b[A\n",
            " 16%|█▌        | 481M/3.06G [00:07<00:27, 93.3MB/s]\u001b[A\n",
            " 16%|█▌        | 495M/3.06G [00:07<00:30, 84.0MB/s]\u001b[A\n",
            " 17%|█▋        | 512M/3.06G [00:08<00:28, 91.0MB/s]\u001b[A\n",
            " 17%|█▋        | 522M/3.06G [00:08<00:28, 90.4MB/s]\u001b[A\n",
            " 18%|█▊        | 537M/3.06G [00:08<00:28, 89.2MB/s]\u001b[A\n",
            " 18%|█▊        | 553M/3.06G [00:08<00:24, 104MB/s] \u001b[A\n",
            " 19%|█▊        | 567M/3.06G [00:08<00:22, 112MB/s]\u001b[A\n",
            " 19%|█▉        | 579M/3.06G [00:08<00:25, 97.4MB/s]\u001b[A\n",
            " 19%|█▉        | 589M/3.06G [00:08<00:26, 92.8MB/s]\u001b[A\n",
            " 20%|█▉        | 602M/3.06G [00:09<00:24, 102MB/s] \u001b[A\n",
            " 20%|██        | 613M/3.06G [00:09<00:24, 101MB/s]\u001b[A\n",
            " 20%|██        | 624M/3.06G [00:09<00:49, 49.2MB/s]\u001b[A\n",
            " 21%|██        | 636M/3.06G [00:09<00:40, 60.1MB/s]\u001b[A\n",
            " 21%|██        | 646M/3.06G [00:09<00:35, 67.8MB/s]\u001b[A\n",
            " 21%|██▏       | 657M/3.06G [00:09<00:32, 75.1MB/s]\u001b[A\n",
            " 22%|██▏       | 670M/3.06G [00:10<00:27, 87.4MB/s]\u001b[A\n",
            " 22%|██▏       | 688M/3.06G [00:10<00:21, 110MB/s] \u001b[A\n",
            " 23%|██▎       | 701M/3.06G [00:10<00:23, 102MB/s]\u001b[A\n",
            " 24%|██▎       | 720M/3.06G [00:10<00:19, 122MB/s]\u001b[A\n",
            " 24%|██▍       | 733M/3.06G [00:10<00:20, 113MB/s]\u001b[A\n",
            " 24%|██▍       | 746M/3.06G [00:10<00:20, 110MB/s]\u001b[A\n",
            " 25%|██▍       | 758M/3.06G [00:10<00:27, 83.9MB/s]\u001b[A\n",
            " 25%|██▌       | 774M/3.06G [00:10<00:22, 100MB/s] \u001b[A\n",
            " 26%|██▌       | 789M/3.06G [00:11<00:26, 87.2MB/s]\u001b[A\n",
            " 26%|██▋       | 807M/3.06G [00:11<00:21, 106MB/s] \u001b[A\n",
            " 27%|██▋       | 819M/3.06G [00:11<00:22, 99.2MB/s]\u001b[A\n",
            " 27%|██▋       | 831M/3.06G [00:11<00:22, 97.1MB/s]\u001b[A\n",
            " 28%|██▊       | 842M/3.06G [00:11<00:27, 81.5MB/s]\u001b[A\n",
            " 28%|██▊       | 851M/3.06G [00:11<00:29, 73.9MB/s]\u001b[A\n",
            " 28%|██▊       | 864M/3.06G [00:12<00:26, 82.4MB/s]\u001b[A\n",
            " 29%|██▊       | 873M/3.06G [00:12<00:28, 77.4MB/s]\u001b[A\n",
            " 29%|██▉       | 887M/3.06G [00:12<00:23, 91.7MB/s]\u001b[A\n",
            " 30%|██▉       | 904M/3.06G [00:12<00:19, 110MB/s] \u001b[A\n",
            " 30%|██▉       | 916M/3.06G [00:12<00:30, 69.4MB/s]\u001b[A\n",
            " 30%|███       | 930M/3.06G [00:12<00:26, 81.9MB/s]\u001b[A\n",
            " 31%|███       | 941M/3.06G [00:13<00:33, 63.0MB/s]\u001b[A\n",
            " 31%|███       | 953M/3.06G [00:13<00:28, 72.9MB/s]\u001b[A\n",
            " 31%|███▏      | 963M/3.06G [00:15<02:35, 13.5MB/s]\u001b[A\n",
            " 32%|███▏      | 982M/3.06G [00:15<01:36, 21.5MB/s]\u001b[A\n",
            " 32%|███▏      | 992M/3.06G [00:16<01:39, 20.9MB/s]\u001b[A\n",
            " 33%|███▎      | 999M/3.06G [00:16<01:28, 23.2MB/s]\u001b[A\n",
            " 33%|███▎      | 1.01G/3.06G [00:16<01:20, 25.4MB/s]\u001b[A\n",
            " 33%|███▎      | 1.02G/3.06G [00:17<01:15, 27.0MB/s]\u001b[A\n",
            " 33%|███▎      | 1.02G/3.06G [00:17<01:14, 27.3MB/s]\u001b[A\n",
            " 34%|███▎      | 1.03G/3.06G [00:17<01:02, 32.7MB/s]\u001b[A\n",
            " 34%|███▍      | 1.04G/3.06G [00:17<00:54, 37.4MB/s]\u001b[A\n",
            " 34%|███▍      | 1.05G/3.06G [00:17<00:48, 41.7MB/s]\u001b[A\n",
            " 35%|███▍      | 1.06G/3.06G [00:18<00:53, 37.7MB/s]\u001b[A\n",
            " 35%|███▍      | 1.07G/3.06G [00:18<00:59, 33.8MB/s]\u001b[A\n",
            " 35%|███▌      | 1.07G/3.06G [00:18<00:50, 39.5MB/s]\u001b[A\n",
            " 35%|███▌      | 1.08G/3.06G [00:18<00:43, 45.1MB/s]\u001b[A\n",
            " 36%|███▌      | 1.10G/3.06G [00:18<00:32, 61.4MB/s]\u001b[A\n",
            " 36%|███▌      | 1.10G/3.06G [00:18<00:32, 59.7MB/s]\u001b[A\n",
            " 36%|███▋      | 1.11G/3.06G [00:18<00:34, 56.1MB/s]\u001b[A\n",
            " 37%|███▋      | 1.12G/3.06G [00:19<00:29, 65.9MB/s]\u001b[A\n",
            " 37%|███▋      | 1.14G/3.06G [00:19<00:21, 89.1MB/s]\u001b[A\n",
            " 38%|███▊      | 1.15G/3.06G [00:19<00:20, 93.3MB/s]\u001b[A\n",
            " 38%|███▊      | 1.17G/3.06G [00:19<00:18, 102MB/s] \u001b[A\n",
            " 38%|███▊      | 1.18G/3.06G [00:19<00:17, 106MB/s]\u001b[A\n",
            " 39%|███▉      | 1.19G/3.06G [00:19<00:16, 113MB/s]\u001b[A\n",
            " 39%|███▉      | 1.21G/3.06G [00:19<00:15, 121MB/s]\u001b[A\n",
            " 40%|████      | 1.23G/3.06G [00:19<00:14, 126MB/s]\u001b[A\n",
            " 40%|████      | 1.24G/3.06G [00:20<00:17, 102MB/s]\u001b[A\n",
            " 41%|████      | 1.25G/3.06G [00:20<00:21, 84.5MB/s]\u001b[A\n",
            " 41%|████      | 1.26G/3.06G [00:20<00:30, 59.8MB/s]\u001b[A\n",
            " 41%|████▏     | 1.27G/3.06G [00:20<00:32, 54.5MB/s]\u001b[A\n",
            " 42%|████▏     | 1.28G/3.06G [00:20<00:26, 66.8MB/s]\u001b[A\n",
            " 42%|████▏     | 1.30G/3.06G [00:21<00:23, 75.5MB/s]\u001b[A\n",
            " 43%|████▎     | 1.30G/3.06G [00:21<00:27, 63.0MB/s]\u001b[A\n",
            " 43%|████▎     | 1.32G/3.06G [00:21<00:21, 81.0MB/s]\u001b[A\n",
            " 44%|████▎     | 1.34G/3.06G [00:21<00:17, 98.5MB/s]\u001b[A\n",
            " 44%|████▍     | 1.35G/3.06G [00:21<00:14, 118MB/s] \u001b[A\n",
            " 45%|████▍     | 1.38G/3.06G [00:21<00:13, 121MB/s]\u001b[A\n",
            " 45%|████▌     | 1.39G/3.06G [00:21<00:12, 130MB/s]\u001b[A\n",
            " 46%|████▌     | 1.41G/3.06G [00:21<00:13, 123MB/s]\u001b[A\n",
            " 46%|████▋     | 1.42G/3.06G [00:22<00:16, 97.1MB/s]\u001b[A\n",
            " 47%|████▋     | 1.43G/3.06G [00:22<00:15, 106MB/s] \u001b[A\n",
            " 47%|████▋     | 1.45G/3.06G [00:22<00:13, 120MB/s]\u001b[A\n",
            " 48%|████▊     | 1.46G/3.06G [00:22<00:12, 124MB/s]\u001b[A\n",
            " 48%|████▊     | 1.48G/3.06G [00:22<00:15, 102MB/s]\u001b[A\n",
            " 49%|████▉     | 1.50G/3.06G [00:22<00:12, 124MB/s]\u001b[A\n",
            " 49%|████▉     | 1.51G/3.06G [00:23<00:18, 84.5MB/s]\u001b[A\n",
            " 50%|█████     | 1.53G/3.06G [00:23<00:14, 108MB/s] \u001b[A\n",
            " 51%|█████     | 1.55G/3.06G [00:23<00:18, 81.6MB/s]\u001b[A\n",
            " 51%|█████     | 1.56G/3.06G [00:23<00:17, 84.6MB/s]\u001b[A\n",
            " 52%|█████▏    | 1.58G/3.06G [00:23<00:15, 92.8MB/s]\u001b[A\n",
            " 52%|█████▏    | 1.59G/3.06G [00:23<00:17, 82.9MB/s]\u001b[A\n",
            " 52%|█████▏    | 1.60G/3.06G [00:24<00:17, 82.4MB/s]\u001b[A\n",
            " 53%|█████▎    | 1.61G/3.06G [00:24<00:16, 87.8MB/s]\u001b[A\n",
            " 53%|█████▎    | 1.62G/3.06G [00:24<00:18, 77.2MB/s]\u001b[A\n",
            " 53%|█████▎    | 1.63G/3.06G [00:24<00:16, 86.5MB/s]\u001b[A\n",
            " 54%|█████▎    | 1.64G/3.06G [00:24<00:16, 85.4MB/s]\u001b[A\n",
            " 54%|█████▍    | 1.66G/3.06G [00:24<00:15, 92.9MB/s]\u001b[A\n",
            " 54%|█████▍    | 1.67G/3.06G [00:24<00:16, 83.7MB/s]\u001b[A\n",
            " 55%|█████▍    | 1.68G/3.06G [00:24<00:15, 90.8MB/s]\u001b[A\n",
            " 55%|█████▌    | 1.69G/3.06G [00:25<00:14, 93.9MB/s]\u001b[A\n",
            " 56%|█████▌    | 1.70G/3.06G [00:25<00:12, 109MB/s] \u001b[A\n",
            " 56%|█████▌    | 1.72G/3.06G [00:25<00:15, 85.3MB/s]\u001b[A\n",
            " 57%|█████▋    | 1.73G/3.06G [00:25<00:14, 94.5MB/s]\u001b[A\n",
            " 57%|█████▋    | 1.75G/3.06G [00:25<00:12, 106MB/s] \u001b[A\n",
            " 58%|█████▊    | 1.76G/3.06G [00:25<00:11, 116MB/s]\u001b[A\n",
            " 58%|█████▊    | 1.78G/3.06G [00:25<00:10, 128MB/s]\u001b[A\n",
            " 59%|█████▊    | 1.79G/3.06G [00:25<00:09, 129MB/s]\u001b[A\n",
            " 59%|█████▉    | 1.81G/3.06G [00:26<00:10, 123MB/s]\u001b[A\n",
            " 60%|█████▉    | 1.83G/3.06G [00:26<00:09, 125MB/s]\u001b[A\n",
            " 60%|██████    | 1.84G/3.06G [00:26<00:09, 129MB/s]\u001b[A\n",
            " 61%|██████    | 1.86G/3.06G [00:26<00:08, 138MB/s]\u001b[A\n",
            " 61%|██████    | 1.87G/3.06G [00:26<00:08, 145MB/s]\u001b[A\n",
            " 62%|██████▏   | 1.89G/3.06G [00:26<00:09, 129MB/s]\u001b[A\n",
            " 62%|██████▏   | 1.91G/3.06G [00:26<00:08, 141MB/s]\u001b[A\n",
            " 63%|██████▎   | 1.92G/3.06G [00:26<00:10, 112MB/s]\u001b[A\n",
            " 63%|██████▎   | 1.93G/3.06G [00:27<00:09, 119MB/s]\u001b[A\n",
            " 64%|██████▎   | 1.95G/3.06G [00:27<00:09, 119MB/s]\u001b[A\n",
            " 64%|██████▍   | 1.96G/3.06G [00:27<00:12, 88.2MB/s]\u001b[A\n",
            " 65%|██████▍   | 1.98G/3.06G [00:27<00:10, 106MB/s] \u001b[A\n",
            " 65%|██████▌   | 1.99G/3.06G [00:27<00:11, 96.4MB/s]\u001b[A\n",
            " 66%|██████▌   | 2.01G/3.06G [00:27<00:10, 101MB/s] \u001b[A\n",
            " 66%|██████▌   | 2.02G/3.06G [00:27<00:09, 110MB/s]\u001b[A\n",
            " 66%|██████▋   | 2.03G/3.06G [00:30<00:55, 18.6MB/s]\u001b[A\n",
            " 67%|██████▋   | 2.06G/3.06G [00:30<00:34, 28.9MB/s]\u001b[A\n",
            " 67%|██████▋   | 2.07G/3.06G [00:30<00:33, 29.3MB/s]\u001b[A\n",
            " 68%|██████▊   | 2.07G/3.06G [00:30<00:31, 31.1MB/s]\u001b[A\n",
            " 68%|██████▊   | 2.08G/3.06G [00:31<00:30, 32.3MB/s]\u001b[A\n",
            " 68%|██████▊   | 2.09G/3.06G [00:31<00:28, 33.6MB/s]\u001b[A\n",
            " 69%|██████▊   | 2.10G/3.06G [00:31<00:27, 35.4MB/s]\u001b[A\n",
            " 69%|██████▉   | 2.11G/3.06G [00:31<00:26, 35.4MB/s]\u001b[A\n",
            " 69%|██████▉   | 2.11G/3.06G [00:31<00:24, 38.0MB/s]\u001b[A\n",
            " 69%|██████▉   | 2.12G/3.06G [00:32<00:26, 35.5MB/s]\u001b[A\n",
            " 70%|██████▉   | 2.13G/3.06G [00:32<00:24, 38.7MB/s]\u001b[A\n",
            " 70%|██████▉   | 2.14G/3.06G [00:32<00:24, 37.6MB/s]\u001b[A\n",
            " 70%|███████   | 2.15G/3.06G [00:32<00:18, 49.7MB/s]\u001b[A\n",
            " 70%|███████   | 2.16G/3.06G [00:32<00:21, 41.4MB/s]\u001b[A\n",
            " 71%|███████   | 2.17G/3.06G [00:32<00:17, 52.1MB/s]\u001b[A\n",
            " 71%|███████   | 2.17G/3.06G [00:33<00:16, 52.2MB/s]\u001b[A\n",
            " 72%|███████▏  | 2.19G/3.06G [00:33<00:11, 72.9MB/s]\u001b[A\n",
            " 72%|███████▏  | 2.20G/3.06G [00:33<00:09, 86.0MB/s]\u001b[A\n",
            " 72%|███████▏  | 2.22G/3.06G [00:33<00:12, 66.5MB/s]\u001b[A\n",
            " 73%|███████▎  | 2.23G/3.06G [00:33<00:09, 84.2MB/s]\u001b[A\n",
            " 73%|███████▎  | 2.24G/3.06G [00:33<00:10, 75.1MB/s]\u001b[A\n",
            " 74%|███████▎  | 2.25G/3.06G [00:33<00:10, 74.2MB/s]\u001b[A\n",
            " 74%|███████▍  | 2.26G/3.06G [00:34<00:10, 79.3MB/s]\u001b[A\n",
            " 74%|███████▍  | 2.27G/3.06G [00:34<00:11, 70.2MB/s]\u001b[A\n",
            " 74%|███████▍  | 2.28G/3.06G [00:34<00:10, 74.1MB/s]\u001b[A\n",
            " 75%|███████▍  | 2.29G/3.06G [00:34<00:10, 74.3MB/s]\u001b[A\n",
            " 75%|███████▍  | 2.30G/3.06G [00:34<00:11, 67.3MB/s]\u001b[A\n",
            " 75%|███████▌  | 2.31G/3.06G [00:34<00:09, 82.5MB/s]\u001b[A\n",
            " 76%|███████▌  | 2.32G/3.06G [00:34<00:08, 88.0MB/s]\u001b[A\n",
            " 76%|███████▌  | 2.33G/3.06G [00:35<00:11, 63.4MB/s]\u001b[A\n",
            " 76%|███████▋  | 2.34G/3.06G [00:35<00:22, 32.6MB/s]\u001b[A\n",
            " 77%|███████▋  | 2.36G/3.06G [00:35<00:15, 45.7MB/s]\u001b[A\n",
            " 77%|███████▋  | 2.37G/3.06G [00:36<00:14, 48.3MB/s]\u001b[A\n",
            " 78%|███████▊  | 2.37G/3.06G [00:36<00:15, 43.4MB/s]\u001b[A\n",
            " 78%|███████▊  | 2.38G/3.06G [00:36<00:14, 47.1MB/s]\u001b[A\n",
            " 78%|███████▊  | 2.39G/3.06G [00:36<00:14, 45.5MB/s]\u001b[A\n",
            " 78%|███████▊  | 2.40G/3.06G [00:36<00:14, 46.9MB/s]\u001b[A\n",
            " 79%|███████▊  | 2.41G/3.06G [00:36<00:11, 57.2MB/s]\u001b[A\n",
            " 79%|███████▉  | 2.42G/3.06G [00:37<00:12, 50.5MB/s]\u001b[A\n",
            " 79%|███████▉  | 2.42G/3.06G [00:37<00:17, 37.0MB/s]\u001b[A\n",
            " 80%|███████▉  | 2.44G/3.06G [00:37<00:13, 46.4MB/s]\u001b[A\n",
            " 80%|████████  | 2.46G/3.06G [00:37<00:09, 60.7MB/s]\u001b[A\n",
            " 80%|████████  | 2.46G/3.06G [00:38<00:10, 58.9MB/s]\u001b[A\n",
            " 81%|████████  | 2.48G/3.06G [00:38<00:07, 75.5MB/s]\u001b[A\n",
            " 81%|████████▏ | 2.49G/3.06G [00:38<00:08, 67.8MB/s]\u001b[A\n",
            " 82%|████████▏ | 2.50G/3.06G [00:38<00:06, 82.5MB/s]\u001b[A\n",
            " 82%|████████▏ | 2.51G/3.06G [00:38<00:06, 81.6MB/s]\u001b[A\n",
            " 82%|████████▏ | 2.52G/3.06G [00:38<00:06, 84.3MB/s]\u001b[A\n",
            " 83%|████████▎ | 2.54G/3.06G [00:38<00:05, 97.1MB/s]\u001b[A\n",
            " 83%|████████▎ | 2.55G/3.06G [00:39<00:07, 67.3MB/s]\u001b[A\n",
            " 84%|████████▎ | 2.56G/3.06G [00:39<00:07, 70.5MB/s]\u001b[A\n",
            " 84%|████████▍ | 2.57G/3.06G [00:39<00:07, 65.0MB/s]\u001b[A\n",
            " 84%|████████▍ | 2.58G/3.06G [00:39<00:05, 84.6MB/s]\u001b[A\n",
            " 85%|████████▍ | 2.59G/3.06G [00:39<00:05, 86.4MB/s]\u001b[A\n",
            " 85%|████████▌ | 2.61G/3.06G [00:39<00:05, 84.5MB/s]\u001b[A\n",
            " 86%|████████▌ | 2.63G/3.06G [00:39<00:04, 87.6MB/s]\u001b[A\n",
            " 86%|████████▋ | 2.64G/3.06G [00:40<00:04, 91.4MB/s]\u001b[A\n",
            " 87%|████████▋ | 2.66G/3.06G [00:40<00:03, 103MB/s] \u001b[A\n",
            " 87%|████████▋ | 2.67G/3.06G [00:40<00:03, 99.0MB/s]\u001b[A\n",
            " 88%|████████▊ | 2.68G/3.06G [00:40<00:04, 91.1MB/s]\u001b[A\n",
            " 88%|████████▊ | 2.69G/3.06G [00:40<00:04, 92.0MB/s]\u001b[A\n",
            " 88%|████████▊ | 2.70G/3.06G [00:40<00:03, 90.6MB/s]\u001b[A\n",
            " 89%|████████▊ | 2.71G/3.06G [00:40<00:03, 95.5MB/s]\u001b[A\n",
            " 89%|████████▉ | 2.72G/3.06G [00:40<00:03, 97.3MB/s]\u001b[A\n",
            " 89%|████████▉ | 2.74G/3.06G [00:41<00:03, 107MB/s] \u001b[A\n",
            " 90%|████████▉ | 2.75G/3.06G [00:41<00:03, 103MB/s]\u001b[A\n",
            " 90%|█████████ | 2.76G/3.06G [00:41<00:03, 90.0MB/s]\u001b[A\n",
            " 91%|█████████ | 2.78G/3.06G [00:41<00:02, 109MB/s] \u001b[A\n",
            " 91%|█████████▏| 2.79G/3.06G [00:41<00:02, 112MB/s]\u001b[A\n",
            " 92%|█████████▏| 2.81G/3.06G [00:41<00:02, 120MB/s]\u001b[A\n",
            " 92%|█████████▏| 2.82G/3.06G [00:41<00:02, 102MB/s]\u001b[A\n",
            " 93%|█████████▎| 2.84G/3.06G [00:41<00:02, 104MB/s]\u001b[A\n",
            " 93%|█████████▎| 2.85G/3.06G [00:42<00:02, 106MB/s]\u001b[A\n",
            " 93%|█████████▎| 2.86G/3.06G [00:42<00:02, 97.4MB/s]\u001b[A\n",
            " 94%|█████████▍| 2.88G/3.06G [00:42<00:01, 117MB/s] \u001b[A\n",
            " 94%|█████████▍| 2.89G/3.06G [00:42<00:01, 90.5MB/s]\u001b[A\n",
            " 95%|█████████▍| 2.91G/3.06G [00:42<00:01, 109MB/s] \u001b[A\n",
            " 95%|█████████▌| 2.92G/3.06G [00:43<00:02, 65.8MB/s]\u001b[A\n",
            " 96%|█████████▌| 2.94G/3.06G [00:43<00:01, 90.3MB/s]\u001b[A\n",
            " 96%|█████████▋| 2.95G/3.06G [00:43<00:01, 97.6MB/s]\u001b[A\n",
            " 97%|█████████▋| 2.97G/3.06G [00:43<00:00, 110MB/s] \u001b[A\n",
            " 98%|█████████▊| 2.99G/3.06G [00:43<00:00, 122MB/s]\u001b[A\n",
            " 98%|█████████▊| 3.00G/3.06G [00:43<00:00, 125MB/s]\u001b[A\n",
            " 98%|█████████▊| 3.02G/3.06G [00:43<00:00, 128MB/s]\u001b[A\n",
            " 99%|█████████▉| 3.03G/3.06G [00:43<00:00, 118MB/s]\u001b[A\n",
            " 99%|█████████▉| 3.04G/3.06G [00:44<00:00, 89.8MB/s]\u001b[A\n",
            "100%|██████████| 3.06G/3.06G [00:44<00:00, 69.3MB/s]\n"
          ]
        },
        {
          "output_type": "execute_result",
          "data": {
            "text/plain": [
              "'collection.tsv'"
            ],
            "application/vnd.google.colaboratory.intrinsic+json": {
              "type": "string"
            }
          },
          "metadata": {},
          "execution_count": 23
        }
      ],
      "source": [
        "import gdown\n",
        "\n",
        "url = 'https://drive.google.com/uc?id=1_wXJjiwdgc9Kpt7o7atP8oWe-U4Z56hn'\n",
        "gdown.download(url, 'collection.tsv', quiet=False)"
      ]
    },
    {
      "cell_type": "code",
      "execution_count": null,
      "metadata": {
        "id": "mY5w1EETpWSm"
      },
      "outputs": [],
      "source": [
        "\"\"\"\n",
        "read 'collection.tsv' file and prepare it for data manipulation\n",
        "the file is organized in the following way:\n",
        "<pid>\\t<text>\\n\n",
        "where <pid> is the passage id and <text> is the passage text\n",
        "\"\"\"\n",
        "import pandas as pd\n",
        "\n",
        "df = pd.read_csv('collection.tsv', sep='\\t', header=None)"
      ]
    },
    {
      "cell_type": "code",
      "execution_count": null,
      "metadata": {
        "colab": {
          "base_uri": "https://localhost:8080/"
        },
        "id": "B-z1wJvFpXQ_",
        "outputId": "62f4dad4-a03d-4762-f627-1c9dfce0ffaf"
      },
      "outputs": [
        {
          "output_type": "stream",
          "name": "stdout",
          "text": [
            "   doc_id                                               text\n",
            "0       0  The presence of communication amid scientific ...\n",
            "1       1  The Manhattan Project and its atomic bomb help...\n"
          ]
        }
      ],
      "source": [
        "# let's not truncate Pandas output too much\n",
        "pd.set_option('display.max_colwidth', 50) # mettici 150\n",
        "df.columns = ['doc_id', 'text']\n",
        "print(df.head(2)) # returns the first N rows"
      ]
    },
    {
      "cell_type": "code",
      "execution_count": null,
      "metadata": {
        "id": "F3wDCYeRpYX5"
      },
      "outputs": [],
      "source": [
        "import re\n",
        "import string\n",
        "import nltk\n",
        "\n",
        "nltk.download(\"stopwords\", quiet=True)\n",
        "\n",
        "def preprocess(s):\n",
        "    # lowercasing\n",
        "    s = s.lower()\n",
        "    # ampersand\n",
        "    s = s.replace(\"&\", \" and \")\n",
        "    # special chars\n",
        "    s = s.translate(dict([(ord(x), ord(y)) for x, y in zip(\"‘’´“”–-\", \"'''\\\"\\\"--\")]))\n",
        "    # acronyms\n",
        "    s = re.sub(r\"\\.(?!(\\S[^. ])|\\d)\", \"\", s) # remove dots that are not part of an acronym\n",
        "    # remove punctuation\n",
        "    s = s.translate(str.maketrans(string.punctuation, \" \" * len(string.punctuation)))\n",
        "    # strip whitespaces\n",
        "    s = s.strip()\n",
        "    while \"  \" in s:\n",
        "        s = s.replace(\"  \", \" \")\n",
        "    # tokeniser\n",
        "    s = s.split()\n",
        "    # stopwords\n",
        "    stopwords = nltk.corpus.stopwords.words('english')\n",
        "    s = [t for t in s if t not in stopwords]\n",
        "    # stemming\n",
        "    stemmer = nltk.stem.PorterStemmer().stem\n",
        "    s = [stemmer(t) for t in s]\n",
        "    return s"
      ]
    },
    {
      "cell_type": "code",
      "execution_count": null,
      "metadata": {
        "id": "vMXjjbwwpZg7"
      },
      "outputs": [],
      "source": [
        "import time\n",
        "\n",
        "def profile(f):\n",
        "    def f_timer(*args, **kwargs):\n",
        "        start = time.time()\n",
        "        result = f(*args, **kwargs)\n",
        "        end = time.time()\n",
        "        ms = (end - start) * 1000\n",
        "        print(f\"{f.__name__} ({ms:.3f} ms)\")\n",
        "        return result\n",
        "    return f_timer"
      ]
    },
    {
      "cell_type": "code",
      "execution_count": null,
      "metadata": {
        "id": "GEMd0ALMpabE"
      },
      "outputs": [],
      "source": [
        "from collections import Counter\n",
        "from tqdm.auto import tqdm\n",
        "\n",
        "@profile\n",
        "def build_index(dataset):\n",
        "    lexicon = {}\n",
        "    doc_index = []\n",
        "    inv_d, inv_f = {}, {}\n",
        "    termid = 0\n",
        "\n",
        "    num_docs = 0\n",
        "    total_dl = 0\n",
        "    total_toks = 0\n",
        "    for docid, doc in tqdm(enumerate(dataset.docs_iter()), desc='Indexing', total=dataset.docs_count()):\n",
        "        tokens = preprocess(doc.text)\n",
        "        #print(tokens)\n",
        "        token_tf = Counter(tokens)\n",
        "        for token, tf in token_tf.items():\n",
        "            if token not in lexicon:\n",
        "                lexicon[token] = [termid, 0, 0]\n",
        "                inv_d[termid], inv_f[termid] =  [], []\n",
        "                termid += 1\n",
        "            token_id = lexicon[token][0] # prendo il termid\n",
        "            inv_d[token_id].append(docid) # aggiungo il docid alla lista dei docid in cui compare il termine\n",
        "            inv_f[token_id].append(tf) # aggiungo il tf alla lista dei tf in cui compare il termine\n",
        "            lexicon[token][1] += 1 # incremento il df\n",
        "            lexicon[token][2] += tf # tf è quanto compare il termine nel documento\n",
        "        doclen = len(tokens)\n",
        "        doc_index.append((str(doc.doc_id), doclen))\n",
        "        total_dl += doclen\n",
        "        num_docs += 1\n",
        "\n",
        "\n",
        "    stats = {\n",
        "        'num_docs': 1 + docid, # docid parte da 0\n",
        "        'num_terms': len(lexicon),\n",
        "        'num_tokens': total_dl,\n",
        "    }\n",
        "    return lexicon, {'docids': inv_d, 'freqs': inv_f}, doc_index, stats"
      ]
    },
    {
      "cell_type": "code",
      "execution_count": 22,
      "metadata": {
        "id": "bG1E5wTxpbPq"
      },
      "outputs": [],
      "source": [
        "\"\"\"\n",
        "This class that takes the dataframe we created before with columns 'docno' and 'text', and creates a list of namedtuples\n",
        "\"\"\"\n",
        "from collections import namedtuple\n",
        "\n",
        "\n",
        "class MSMarcoDataset:\n",
        "    def __init__(self, df):\n",
        "        self.docs = [Document(row.doc_id, row.text) for row in df.itertuples()]\n",
        "\n",
        "    def docs_iter(self):\n",
        "        return iter(self.docs)\n",
        "\n",
        "    def docs_count(self):\n",
        "        return len(self.docs)\n",
        "\n",
        "\n",
        "Document = namedtuple('Document', ['doc_id', 'text']) # must define what a document is"
      ]
    },
    {
      "cell_type": "code",
      "execution_count": null,
      "metadata": {
        "colab": {
          "base_uri": "https://localhost:8080/",
          "height": 118,
          "referenced_widgets": [
            "b8a07c24223a4d5ea324b9d686955d8d",
            "91ca5865961f4d5490d71cde97b4f135",
            "acbde65caf154e519d8600aaa498e66d",
            "8bea3c0a779c450898a4bb592d657f84",
            "09f71121d4904eb5aa92b9375eeb7703",
            "7dddc4bb9ac64b01bd51387f91ffff2e",
            "690bba4032b0497b89e35c288d3ac5af",
            "c946f4e93c2d4c9d97e7ca4d3e7efd41",
            "b6ad00949bc04bd584c8f495428d43ea",
            "619892272ddc45e7be80ca566378f6d9",
            "1904a04777ae4c5987c2dc4a52174b5b"
          ]
        },
        "id": "Kp2g4Q9VpcYr",
        "outputId": "480d9fb6-358f-4d1e-a4a9-9c731d7caa29"
      },
      "outputs": [
        {
          "output_type": "stream",
          "name": "stdout",
          "text": [
            "Document(doc_id=1, text='A school')\n",
            "Document(doc_id=2, text='Another example.')\n",
            "Document(doc_id=3, text='This is a house.')\n"
          ]
        },
        {
          "output_type": "display_data",
          "data": {
            "text/plain": [
              "Indexing:   0%|          | 0/3 [00:00<?, ?it/s]"
            ],
            "application/vnd.jupyter.widget-view+json": {
              "version_major": 2,
              "version_minor": 0,
              "model_id": "b8a07c24223a4d5ea324b9d686955d8d"
            }
          },
          "metadata": {}
        },
        {
          "output_type": "stream",
          "name": "stdout",
          "text": [
            "build_index (35.002 ms)\n"
          ]
        }
      ],
      "source": [
        "# Test the MSMarcoDataset class by passing Document(1, \"school\"), Document(2, \"example.\"), Document(3, \"house.\")\n",
        "\n",
        "test_docs = [Document(1, \"A school\"), Document(2, \"Another example.\"), Document(3, \"This is a house.\")]\n",
        "test_dataset = MSMarcoDataset(pd.DataFrame(test_docs, columns=['doc_id', 'text']))\n",
        "\n",
        "for doc in test_dataset.docs_iter():\n",
        "    print(doc)\n",
        "\n",
        "lex, inv, doc, stats = build_index(test_dataset)\n"
      ]
    },
    {
      "cell_type": "code",
      "execution_count": null,
      "metadata": {
        "colab": {
          "base_uri": "https://localhost:8080/"
        },
        "id": "FlrZVKx3pdM6",
        "outputId": "8f93c041-1aee-4a98-c885-3833859b7f7a"
      },
      "outputs": [
        {
          "output_type": "stream",
          "name": "stdout",
          "text": [
            "{'school': [0, 1, 1], 'anoth': [1, 1, 1], 'exampl': [2, 1, 1], 'hous': [3, 1, 1]}\n",
            "{'docids': {0: [0], 1: [1], 2: [1], 3: [2]}, 'freqs': {0: [1], 1: [1], 2: [1], 3: [1]}}\n",
            "[('1', 1), ('2', 2), ('3', 1)]\n",
            "{'num_docs': 3, 'num_terms': 4, 'num_tokens': 4}\n"
          ]
        }
      ],
      "source": [
        "print(lex)\n",
        "print(inv)\n",
        "print(doc)\n",
        "print(stats)"
      ]
    },
    {
      "cell_type": "code",
      "execution_count": null,
      "metadata": {
        "id": "ceced8dd-3e3b-4b72-a0b7-2d6d5a2c2a19"
      },
      "outputs": [],
      "source": [
        "import math\n",
        "\n",
        "class InvertedIndex:\n",
        "\n",
        "    class PostingListIterator:\n",
        "        def __init__(self, docids, freqs, doc):\n",
        "            self.docids = docids\n",
        "            self.freqs = freqs\n",
        "            self.pos = 0\n",
        "            self.doc = doc\n",
        "\n",
        "        def docid(self):\n",
        "            if self.is_end_list():\n",
        "                return math.inf\n",
        "            return self.docids[self.pos]\n",
        "\n",
        "        def score(self):\n",
        "            if self.is_end_list():\n",
        "                return math.inf\n",
        "            return self.freqs[self.pos]/self.doc[self.docid()][1]\n",
        "\n",
        "        def next(self, target = None):\n",
        "            if not target:\n",
        "                if not self.is_end_list():\n",
        "                    self.pos += 1\n",
        "            else:\n",
        "                if target > self.docid():\n",
        "                    try:\n",
        "                        self.pos = self.docids.index(target, self.pos)\n",
        "                    except ValueError:\n",
        "                        self.pos = len(self.docids)\n",
        "\n",
        "        def is_end_list(self):\n",
        "            return self.pos == len(self.docids)\n",
        "\n",
        "\n",
        "        def len(self):\n",
        "            return len(self.docids)\n",
        "\n",
        "\n",
        "    def __init__(self, lex, inv, doc, stats):\n",
        "        self.lexicon = lex\n",
        "        self.inv = inv\n",
        "        self.doc = doc\n",
        "        self.stat = stats\n",
        "\n",
        "    def num_docs(self):\n",
        "        return self.stats['num_docs']\n",
        "\n",
        "    def get_posting(self, termid):\n",
        "        return InvertedIndex.PostingListIterator(self.inv['docids'][termid], self.inv['freqs'][termid], self.doc)\n",
        "\n",
        "    def get_termids(self, tokens):\n",
        "        return [self.lexicon[token][0] for token in tokens if token in self.lexicon]\n",
        "\n",
        "    def get_postings(self, termids):\n",
        "        return [self.get_posting(termid) for termid in termids]"
      ]
    },
    {
      "cell_type": "code",
      "execution_count": null,
      "metadata": {
        "id": "6a219298-ba9e-40af-a976-4305dd2abded"
      },
      "outputs": [],
      "source": [
        "inv_index = InvertedIndex(lex, inv, doc, stats)"
      ]
    },
    {
      "cell_type": "markdown",
      "metadata": {
        "id": "Qa_COj90wg1F"
      },
      "source": [
        "TopQueue class, which stores the top  K  (score, docid) tuples, using an heap"
      ]
    },
    {
      "cell_type": "code",
      "execution_count": null,
      "metadata": {
        "id": "2eaa7d65-1e50-46aa-a053-a7afd3b5a255"
      },
      "outputs": [],
      "source": [
        "import heapq\n",
        "\n",
        "class TopQueue:\n",
        "    def __init__(self, k=10, threshold=0.0):\n",
        "        self.queue = []\n",
        "        self.k = k\n",
        "        self.threshold = threshold\n",
        "\n",
        "    def size(self):\n",
        "        return len(self.queue)\n",
        "\n",
        "    def would_enter(self, score):\n",
        "        return score > self.threshold\n",
        "\n",
        "    def clear(self, new_threshold=None):\n",
        "        self.queue = []\n",
        "        if new_threshold:\n",
        "            self.threshold = new_threshold\n",
        "\n",
        "    def __repr__(self):\n",
        "        return f'<{self.size()} items, th={self.threshold} {self.queue}'\n",
        "\n",
        "    def insert(self, docid, score):\n",
        "        if score > self.threshold:\n",
        "            if self.size() >= self.k:\n",
        "                heapq.heapreplace(self.queue, (score, docid))\n",
        "            else:\n",
        "                heapq.heappush(self.queue, (score, docid))\n",
        "            if self.size() >= self.k:\n",
        "                self.threshold = max(self.threshold, self.queue[0][0])\n",
        "            return True\n",
        "        return False"
      ]
    },
    {
      "cell_type": "markdown",
      "metadata": {
        "id": "ok5kLF_fxjbQ"
      },
      "source": [
        "TAAT"
      ]
    },
    {
      "cell_type": "code",
      "execution_count": null,
      "metadata": {
        "id": "c40a406f-cd24-4e41-adb0-e05f88a5cbe6"
      },
      "outputs": [],
      "source": [
        "from collections import defaultdict\n",
        "\n",
        "def taat(postings, k=10):\n",
        "    A = defaultdict(float)\n",
        "    for posting in postings:\n",
        "        current_docid = posting.docid()\n",
        "        while current_docid != math.inf:\n",
        "            A[current_docid] += posting.score()\n",
        "            posting.next()\n",
        "            current_docid = posting.docid()\n",
        "    top = TopQueue(k)\n",
        "    for docid, score in A.items():\n",
        "        top.insert(docid, score)\n",
        "    return sorted(top.queue, reverse=True)\n",
        "\n",
        "def query_process(query, index):\n",
        "    qtokens = set(preprocess(query))\n",
        "    qtermids = index.get_termids(qtokens)\n",
        "    postings = index.get_postings(qtermids)\n",
        "    return taat(postings)"
      ]
    },
    {
      "cell_type": "markdown",
      "metadata": {
        "id": "Fh0BUYooxrqk"
      },
      "source": [
        "DAAT"
      ]
    },
    {
      "cell_type": "code",
      "execution_count": null,
      "metadata": {
        "id": "ddf92eec-2159-4d02-a34a-210ff6a8ee31"
      },
      "outputs": [],
      "source": [
        "import math\n",
        "\n",
        "def daat(postings, k=10):\n",
        "    top = TopQueue(k)\n",
        "    current_docid = min_docid(postings)\n",
        "    while current_docid != math.inf:\n",
        "        score = 0\n",
        "        next_docid = math.inf\n",
        "        for posting in postings:\n",
        "            if posting.docid() == current_docid:\n",
        "                score += posting.score()\n",
        "                posting.next()\n",
        "            if not posting.is_end_list():\n",
        "                next_docid = posting.docid()\n",
        "        top.insert(current_docid, score)\n",
        "        current_docid = next_docid\n",
        "    return sorted(top.queue, reverse=True)\n",
        "\n",
        "def query_process(query, index):\n",
        "    qtokens = set(preprocess(query))\n",
        "    qtermids = index.get_termids(qtokens)\n",
        "    postings = index.get_postings(qtermids)\n",
        "    return daat(postings)"
      ]
    },
    {
      "cell_type": "code",
      "execution_count": 18,
      "metadata": {
        "colab": {
          "base_uri": "https://localhost:8080/"
        },
        "id": "YccWSsil0ZQF",
        "outputId": "d0adfc4f-5b56-4a80-97a4-555716799692"
      },
      "outputs": [
        {
          "output_type": "stream",
          "name": "stderr",
          "text": [
            "Downloading...\n",
            "From: https://msmarco.z22.web.core.windows.net/msmarcoranking/queries.tar.gz\n",
            "To: /content/queries.tar.gz\n",
            "100%|██████████| 18.9M/18.9M [00:03<00:00, 4.99MB/s]\n"
          ]
        }
      ],
      "source": [
        "url = 'https://msmarco.z22.web.core.windows.net/msmarcoranking/queries.tar.gz'\n",
        "gdown.download(url, 'queries.tar.gz', quiet=False)\n",
        "!tar -xzf queries.tar.gz\n"
      ]
    },
    {
      "cell_type": "code",
      "source": [
        "import pandas as pd\n",
        "\n",
        "\n",
        "queries = pd.read_csv('queries.eval.tsv', sep='\\t', header=None)"
      ],
      "metadata": {
        "id": "4LD6h57eBXPJ"
      },
      "execution_count": 27,
      "outputs": []
    },
    {
      "cell_type": "code",
      "source": [
        "class MSMarcoQueries:\n",
        "    def __init__(self, df):\n",
        "        self.queries = [Query(row.query_id, row.text) for row in df.itertuples()]\n",
        "\n",
        "    def queries_iter(self):\n",
        "        return iter(self.queries)\n",
        "\n",
        "    def queries_count(self):\n",
        "        return len(self.queries)\n",
        "\n",
        "\n",
        "Query = namedtuple('Query', ['query_id', 'text'])"
      ],
      "metadata": {
        "id": "eyRIr9uF9-6M"
      },
      "execution_count": 31,
      "outputs": []
    },
    {
      "cell_type": "code",
      "source": [
        "queries.columns = ['query_id', 'text']\n",
        "queries_dataset = MSMarcoQueries(queries)"
      ],
      "metadata": {
        "id": "uBSQzl6j3W-E"
      },
      "execution_count": 32,
      "outputs": []
    },
    {
      "cell_type": "code",
      "execution_count": 33,
      "metadata": {
        "colab": {
          "base_uri": "https://localhost:8080/"
        },
        "id": "L8QH1tdDyCxx",
        "outputId": "fc51662d-0c94-4003-cfb9-b63f7cf8265f"
      },
      "outputs": [
        {
          "output_type": "stream",
          "name": "stdout",
          "text": [
            "101092\n"
          ]
        }
      ],
      "source": [
        "print(len(list(queries_dataset.queries_iter())))"
      ]
    },
    {
      "cell_type": "markdown",
      "metadata": {
        "id": "9uBbdTl7oBcO"
      },
      "source": [
        "Now build up the index for the MSMARCO collection"
      ]
    },
    {
      "cell_type": "code",
      "execution_count": null,
      "metadata": {
        "id": "LFodt2eRoLXx"
      },
      "outputs": [],
      "source": [
        "# create a df with the first 10 rows\n",
        "df_cut = df.head(10) # TODO : REMOVE THIS\n",
        "\n",
        "dataset = MSMarcoDataset(df_cut)"
      ]
    },
    {
      "cell_type": "markdown",
      "metadata": {
        "id": "sIBvuNv8oPS3"
      },
      "source": [
        "The index is built only if a pickled version isn't already present"
      ]
    },
    {
      "cell_type": "code",
      "execution_count": null,
      "metadata": {
        "id": "teujB76HoAE5"
      },
      "outputs": [],
      "source": [
        "import pickle\n",
        "\n",
        "try: # try to open the pickled files, else build the index\n",
        "    with open('./pickled/lex.pkl', 'rb') as f:\n",
        "        lex = pickle.load(f)\n",
        "    with open('./pickled/inv.pkl', 'rb') as f:\n",
        "        inv = pickle.load(f)\n",
        "    with open('./pickled/doc.pkl', 'rb') as f:\n",
        "        doc = pickle.load(f)\n",
        "    with open('./pickled/stats.pkl', 'rb') as f:\n",
        "        stats = pickle.load(f)\n",
        "    print(\"Index loaded from pickles\")\n",
        "\n",
        "except:\n",
        "    lex, inv, doc, stats = build_index(dataset)\n",
        "\n",
        "    # pickle lex, inv, doc, stats\n",
        "    with open('./pickled/lex.pkl', 'wb') as f:\n",
        "        pickle.dump(lex, f)\n",
        "\n",
        "    with open('./pickled/inv.pkl','wb') as f:\n",
        "        pickle.dump(inv, f)\n",
        "\n",
        "    with open('./pickled/doc.pkl', 'wb') as f:\n",
        "        pickle.dump(doc, f)\n",
        "\n",
        "    with open('./pickled/stats.pkl', 'wb') as f:\n",
        "        pickle.dump(stats, f)\n",
        "\n",
        "    print(\"Index built and pickled\")"
      ]
    },
    {
      "cell_type": "code",
      "execution_count": null,
      "metadata": {
        "id": "ZEd4N3FkperO"
      },
      "outputs": [],
      "source": [
        "print(lex)\n",
        "print(inv)\n",
        "print(doc)\n",
        "print(stats)"
      ]
    }
  ],
  "metadata": {
    "colab": {
      "provenance": [],
      "include_colab_link": true
    },
    "kernelspec": {
      "display_name": "Python 3",
      "name": "python3"
    },
    "language_info": {
      "name": "python"
    },
    "widgets": {
      "application/vnd.jupyter.widget-state+json": {
        "b8a07c24223a4d5ea324b9d686955d8d": {
          "model_module": "@jupyter-widgets/controls",
          "model_name": "HBoxModel",
          "model_module_version": "1.5.0",
          "state": {
            "_dom_classes": [],
            "_model_module": "@jupyter-widgets/controls",
            "_model_module_version": "1.5.0",
            "_model_name": "HBoxModel",
            "_view_count": null,
            "_view_module": "@jupyter-widgets/controls",
            "_view_module_version": "1.5.0",
            "_view_name": "HBoxView",
            "box_style": "",
            "children": [
              "IPY_MODEL_91ca5865961f4d5490d71cde97b4f135",
              "IPY_MODEL_acbde65caf154e519d8600aaa498e66d",
              "IPY_MODEL_8bea3c0a779c450898a4bb592d657f84"
            ],
            "layout": "IPY_MODEL_09f71121d4904eb5aa92b9375eeb7703"
          }
        },
        "91ca5865961f4d5490d71cde97b4f135": {
          "model_module": "@jupyter-widgets/controls",
          "model_name": "HTMLModel",
          "model_module_version": "1.5.0",
          "state": {
            "_dom_classes": [],
            "_model_module": "@jupyter-widgets/controls",
            "_model_module_version": "1.5.0",
            "_model_name": "HTMLModel",
            "_view_count": null,
            "_view_module": "@jupyter-widgets/controls",
            "_view_module_version": "1.5.0",
            "_view_name": "HTMLView",
            "description": "",
            "description_tooltip": null,
            "layout": "IPY_MODEL_7dddc4bb9ac64b01bd51387f91ffff2e",
            "placeholder": "​",
            "style": "IPY_MODEL_690bba4032b0497b89e35c288d3ac5af",
            "value": "Indexing: 100%"
          }
        },
        "acbde65caf154e519d8600aaa498e66d": {
          "model_module": "@jupyter-widgets/controls",
          "model_name": "FloatProgressModel",
          "model_module_version": "1.5.0",
          "state": {
            "_dom_classes": [],
            "_model_module": "@jupyter-widgets/controls",
            "_model_module_version": "1.5.0",
            "_model_name": "FloatProgressModel",
            "_view_count": null,
            "_view_module": "@jupyter-widgets/controls",
            "_view_module_version": "1.5.0",
            "_view_name": "ProgressView",
            "bar_style": "success",
            "description": "",
            "description_tooltip": null,
            "layout": "IPY_MODEL_c946f4e93c2d4c9d97e7ca4d3e7efd41",
            "max": 3,
            "min": 0,
            "orientation": "horizontal",
            "style": "IPY_MODEL_b6ad00949bc04bd584c8f495428d43ea",
            "value": 3
          }
        },
        "8bea3c0a779c450898a4bb592d657f84": {
          "model_module": "@jupyter-widgets/controls",
          "model_name": "HTMLModel",
          "model_module_version": "1.5.0",
          "state": {
            "_dom_classes": [],
            "_model_module": "@jupyter-widgets/controls",
            "_model_module_version": "1.5.0",
            "_model_name": "HTMLModel",
            "_view_count": null,
            "_view_module": "@jupyter-widgets/controls",
            "_view_module_version": "1.5.0",
            "_view_name": "HTMLView",
            "description": "",
            "description_tooltip": null,
            "layout": "IPY_MODEL_619892272ddc45e7be80ca566378f6d9",
            "placeholder": "​",
            "style": "IPY_MODEL_1904a04777ae4c5987c2dc4a52174b5b",
            "value": " 3/3 [00:00&lt;00:00, 96.51it/s]"
          }
        },
        "09f71121d4904eb5aa92b9375eeb7703": {
          "model_module": "@jupyter-widgets/base",
          "model_name": "LayoutModel",
          "model_module_version": "1.2.0",
          "state": {
            "_model_module": "@jupyter-widgets/base",
            "_model_module_version": "1.2.0",
            "_model_name": "LayoutModel",
            "_view_count": null,
            "_view_module": "@jupyter-widgets/base",
            "_view_module_version": "1.2.0",
            "_view_name": "LayoutView",
            "align_content": null,
            "align_items": null,
            "align_self": null,
            "border": null,
            "bottom": null,
            "display": null,
            "flex": null,
            "flex_flow": null,
            "grid_area": null,
            "grid_auto_columns": null,
            "grid_auto_flow": null,
            "grid_auto_rows": null,
            "grid_column": null,
            "grid_gap": null,
            "grid_row": null,
            "grid_template_areas": null,
            "grid_template_columns": null,
            "grid_template_rows": null,
            "height": null,
            "justify_content": null,
            "justify_items": null,
            "left": null,
            "margin": null,
            "max_height": null,
            "max_width": null,
            "min_height": null,
            "min_width": null,
            "object_fit": null,
            "object_position": null,
            "order": null,
            "overflow": null,
            "overflow_x": null,
            "overflow_y": null,
            "padding": null,
            "right": null,
            "top": null,
            "visibility": null,
            "width": null
          }
        },
        "7dddc4bb9ac64b01bd51387f91ffff2e": {
          "model_module": "@jupyter-widgets/base",
          "model_name": "LayoutModel",
          "model_module_version": "1.2.0",
          "state": {
            "_model_module": "@jupyter-widgets/base",
            "_model_module_version": "1.2.0",
            "_model_name": "LayoutModel",
            "_view_count": null,
            "_view_module": "@jupyter-widgets/base",
            "_view_module_version": "1.2.0",
            "_view_name": "LayoutView",
            "align_content": null,
            "align_items": null,
            "align_self": null,
            "border": null,
            "bottom": null,
            "display": null,
            "flex": null,
            "flex_flow": null,
            "grid_area": null,
            "grid_auto_columns": null,
            "grid_auto_flow": null,
            "grid_auto_rows": null,
            "grid_column": null,
            "grid_gap": null,
            "grid_row": null,
            "grid_template_areas": null,
            "grid_template_columns": null,
            "grid_template_rows": null,
            "height": null,
            "justify_content": null,
            "justify_items": null,
            "left": null,
            "margin": null,
            "max_height": null,
            "max_width": null,
            "min_height": null,
            "min_width": null,
            "object_fit": null,
            "object_position": null,
            "order": null,
            "overflow": null,
            "overflow_x": null,
            "overflow_y": null,
            "padding": null,
            "right": null,
            "top": null,
            "visibility": null,
            "width": null
          }
        },
        "690bba4032b0497b89e35c288d3ac5af": {
          "model_module": "@jupyter-widgets/controls",
          "model_name": "DescriptionStyleModel",
          "model_module_version": "1.5.0",
          "state": {
            "_model_module": "@jupyter-widgets/controls",
            "_model_module_version": "1.5.0",
            "_model_name": "DescriptionStyleModel",
            "_view_count": null,
            "_view_module": "@jupyter-widgets/base",
            "_view_module_version": "1.2.0",
            "_view_name": "StyleView",
            "description_width": ""
          }
        },
        "c946f4e93c2d4c9d97e7ca4d3e7efd41": {
          "model_module": "@jupyter-widgets/base",
          "model_name": "LayoutModel",
          "model_module_version": "1.2.0",
          "state": {
            "_model_module": "@jupyter-widgets/base",
            "_model_module_version": "1.2.0",
            "_model_name": "LayoutModel",
            "_view_count": null,
            "_view_module": "@jupyter-widgets/base",
            "_view_module_version": "1.2.0",
            "_view_name": "LayoutView",
            "align_content": null,
            "align_items": null,
            "align_self": null,
            "border": null,
            "bottom": null,
            "display": null,
            "flex": null,
            "flex_flow": null,
            "grid_area": null,
            "grid_auto_columns": null,
            "grid_auto_flow": null,
            "grid_auto_rows": null,
            "grid_column": null,
            "grid_gap": null,
            "grid_row": null,
            "grid_template_areas": null,
            "grid_template_columns": null,
            "grid_template_rows": null,
            "height": null,
            "justify_content": null,
            "justify_items": null,
            "left": null,
            "margin": null,
            "max_height": null,
            "max_width": null,
            "min_height": null,
            "min_width": null,
            "object_fit": null,
            "object_position": null,
            "order": null,
            "overflow": null,
            "overflow_x": null,
            "overflow_y": null,
            "padding": null,
            "right": null,
            "top": null,
            "visibility": null,
            "width": null
          }
        },
        "b6ad00949bc04bd584c8f495428d43ea": {
          "model_module": "@jupyter-widgets/controls",
          "model_name": "ProgressStyleModel",
          "model_module_version": "1.5.0",
          "state": {
            "_model_module": "@jupyter-widgets/controls",
            "_model_module_version": "1.5.0",
            "_model_name": "ProgressStyleModel",
            "_view_count": null,
            "_view_module": "@jupyter-widgets/base",
            "_view_module_version": "1.2.0",
            "_view_name": "StyleView",
            "bar_color": null,
            "description_width": ""
          }
        },
        "619892272ddc45e7be80ca566378f6d9": {
          "model_module": "@jupyter-widgets/base",
          "model_name": "LayoutModel",
          "model_module_version": "1.2.0",
          "state": {
            "_model_module": "@jupyter-widgets/base",
            "_model_module_version": "1.2.0",
            "_model_name": "LayoutModel",
            "_view_count": null,
            "_view_module": "@jupyter-widgets/base",
            "_view_module_version": "1.2.0",
            "_view_name": "LayoutView",
            "align_content": null,
            "align_items": null,
            "align_self": null,
            "border": null,
            "bottom": null,
            "display": null,
            "flex": null,
            "flex_flow": null,
            "grid_area": null,
            "grid_auto_columns": null,
            "grid_auto_flow": null,
            "grid_auto_rows": null,
            "grid_column": null,
            "grid_gap": null,
            "grid_row": null,
            "grid_template_areas": null,
            "grid_template_columns": null,
            "grid_template_rows": null,
            "height": null,
            "justify_content": null,
            "justify_items": null,
            "left": null,
            "margin": null,
            "max_height": null,
            "max_width": null,
            "min_height": null,
            "min_width": null,
            "object_fit": null,
            "object_position": null,
            "order": null,
            "overflow": null,
            "overflow_x": null,
            "overflow_y": null,
            "padding": null,
            "right": null,
            "top": null,
            "visibility": null,
            "width": null
          }
        },
        "1904a04777ae4c5987c2dc4a52174b5b": {
          "model_module": "@jupyter-widgets/controls",
          "model_name": "DescriptionStyleModel",
          "model_module_version": "1.5.0",
          "state": {
            "_model_module": "@jupyter-widgets/controls",
            "_model_module_version": "1.5.0",
            "_model_name": "DescriptionStyleModel",
            "_view_count": null,
            "_view_module": "@jupyter-widgets/base",
            "_view_module_version": "1.2.0",
            "_view_name": "StyleView",
            "description_width": ""
          }
        }
      }
    }
  },
  "nbformat": 4,
  "nbformat_minor": 0
}