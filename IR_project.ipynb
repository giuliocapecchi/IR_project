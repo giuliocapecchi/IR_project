{
 "cells": [
  {
   "cell_type": "markdown",
   "metadata": {},
   "source": [
    "<a href=\"https://colab.research.google.com/github/giuliocapecchi/IR_project/blob/main/IR_project.ipynb\" target=\"_parent\"><img src=\"https://colab.research.google.com/assets/colab-badge.svg\" alt=\"Open In Colab\"/></a>"
   ]
  },
  {
   "cell_type": "code",
   "execution_count": 4,
   "metadata": {
    "ExecuteTime": {
     "end_time": "2024-11-19T17:27:39.294725Z",
     "start_time": "2024-11-19T17:27:39.283186Z"
    }
   },
   "outputs": [],
   "source": [
    "#%pip install torch matplotlib nltk tqdm gdown ir_datasets humanize"
   ]
  },
  {
   "cell_type": "markdown",
   "metadata": {},
   "source": [
    "# 1. Download and prepare the collection"
   ]
  },
  {
   "cell_type": "code",
   "execution_count": 1,
   "metadata": {
    "ExecuteTime": {
     "end_time": "2024-11-19T17:27:39.388287Z",
     "start_time": "2024-11-19T17:27:39.359476Z"
    }
   },
   "outputs": [],
   "source": [
    "# chosen_collection can be one of [\"vaswani\", \"msmarco\", \"covid\"]\n",
    "\n",
    "chosen_collection = \"msmarco\""
   ]
  },
  {
   "cell_type": "code",
   "execution_count": 2,
   "metadata": {
    "ExecuteTime": {
     "end_time": "2024-11-19T17:27:39.561923Z",
     "start_time": "2024-11-19T17:27:39.454360Z"
    }
   },
   "outputs": [],
   "source": [
    "import gdown\n",
    "import ir_datasets\n",
    "import pandas as pd\n",
    "import os\n",
    "\n",
    "if chosen_collection not in [\"vaswani\", \"msmarco\"]:\n",
    "    raise ValueError(\"chosen_collection must be one of ['vaswani', 'msmarco']\")\n",
    "\n",
    "if chosen_collection == \"msmarco\":\n",
    "\n",
    "    os.makedirs('./collection/msmarco', exist_ok=True)\n",
    "\n",
    "    url_collection = 'https://drive.google.com/uc?id=1_wXJjiwdgc9Kpt7o7atP8oWe-U4Z56hn'\n",
    "    \n",
    "    if not os.path.exists('./collection/msmarco/msmarco.tsv'):\n",
    "        gdown.download(url_collection, './collection/msmarco/msmarco.tsv', quiet=False)\n",
    "    \n",
    "    \"\"\"os.makedirs('./pickles', exist_ok=True)\n",
    "    if not os.path.exists('./pickles/stats.pkl'):\n",
    "        gdown.download(url_stats, './pickles/stats.pkl', quiet=False)\n",
    "    if not os.path.exists('./pickles/lex.pkl'):\n",
    "        gdown.download(url_lex, './pickles/lex.pkl', quiet=False)\n",
    "    if not os.path.exists('./pickles/inv.pkl'):\n",
    "        gdown.download(url_inv, './pickles/inv.pkl', quiet=False)\n",
    "    if not os.path.exists('./pickles/doc.pkl'):\n",
    "        gdown.download(url_doc, './pickles/doc.pkl', quiet=False)\"\"\"\n",
    "\n",
    "elif chosen_collection == \"vaswani\":\n",
    "    os.makedirs('./collection/vaswani', exist_ok=True)\n",
    "\n",
    "    vaswani_dataset = ir_datasets.load(chosen_collection)\n",
    "    docs = list(vaswani_dataset.docs_iter())\n",
    "    df = pd.DataFrame(docs)\n",
    "    df['doc_id'] = (df['doc_id'].astype(int) - 1).astype(str)\n",
    "    # rimuovi i \\n da ogni documento\n",
    "    df['text'] = df['text'].str.replace('\\n', ' ')\n",
    "    if not os.path.exists('./collection/vaswani/vaswani.tsv'):\n",
    "        df.to_csv('./collection/vaswani/vaswani.tsv', sep='\\t', header=False, index=False)"
   ]
  },
  {
   "cell_type": "markdown",
   "metadata": {},
   "source": [
    "Standard preprocessing but with the usage of the *PyStemmer* library."
   ]
  },
  {
   "cell_type": "code",
   "execution_count": 3,
   "metadata": {
    "ExecuteTime": {
     "end_time": "2024-11-19T17:27:39.671041Z",
     "start_time": "2024-11-19T17:27:39.649947Z"
    }
   },
   "outputs": [],
   "source": [
    "import re\n",
    "import string\n",
    "import nltk\n",
    "import Stemmer # PyStemmer\n",
    "\n",
    "\n",
    "nltk.download(\"stopwords\", quiet=True)\n",
    "STOPWORDS = set(nltk.corpus.stopwords.words(\"english\"))\n",
    "STEMMER = Stemmer.Stemmer('english')\n",
    "# stemmer = nltk.stem.PorterStemmer().stem # much slower than PyStemmer\n",
    "\n",
    "\n",
    "def preprocess(s):\n",
    "    # lowercasing\n",
    "    s = s.lower()\n",
    "    # ampersand and special chars\n",
    "    s = re.sub(r\"[‘’´“”–-]\", \"'\", s.replace(\"&\", \" and \")) # this replaces & with 'and' and normalises quotes\n",
    "    # acronyms\n",
    "    s = re.sub(r\"\\.(?!(\\S[^. ])|\\d)\", \"\", s) # this removes dots that are not part of an acronym\n",
    "    # remove punctuation\n",
    "    s = s.translate(str.maketrans(string.punctuation, \" \" * len(string.punctuation)))\n",
    "    # strip whitespaces\n",
    "    s = re.sub(r\"\\s+\", \" \", s).strip()\n",
    "    # tokenisation\n",
    "    tokens = [t for t in s.split() if t not in STOPWORDS]\n",
    "    # stemming\n",
    "    return STEMMER.stemWords(tokens)"
   ]
  },
  {
   "cell_type": "code",
   "execution_count": 4,
   "metadata": {
    "ExecuteTime": {
     "end_time": "2024-11-19T17:27:39.717258Z",
     "start_time": "2024-11-19T17:27:39.705731Z"
    }
   },
   "outputs": [],
   "source": [
    "import time\n",
    "\n",
    "def profile(f):\n",
    "    def f_timer(*args, **kwargs):\n",
    "        start = time.time()\n",
    "        result = f(*args, **kwargs)\n",
    "        end = time.time()\n",
    "        ms = (end - start) * 1000\n",
    "        print(f\"{f.__name__} ({ms:.3f} ms)\")\n",
    "        return result\n",
    "    return f_timer"
   ]
  },
  {
   "cell_type": "code",
   "execution_count": 5,
   "metadata": {
    "ExecuteTime": {
     "end_time": "2024-11-19T17:27:39.810568Z",
     "start_time": "2024-11-19T17:27:39.782650Z"
    }
   },
   "outputs": [],
   "source": [
    "import pickle\n",
    "import humanize\n",
    "import os\n",
    "from tqdm import tqdm\n",
    "\n",
    "def print_pickled_size(var_name, var):\n",
    "    # If the 'tmp' directory does not exist, we first create it\n",
    "    os.makedirs('./tmp', exist_ok=True)\n",
    "    with open(f\"./tmp/{var_name}.pickle\", 'wb') as f:\n",
    "        pickle.dump(var, f)\n",
    "    print(f'{var_name} requires {humanize.naturalsize(os.path.getsize(f\"./tmp/{var_name}.pickle\"))}')\n",
    "    os.remove(f\"./tmp/{var_name}.pickle\")\n",
    "    os.removedirs('./tmp')\n",
    "\n",
    "\n",
    "def vbyte_encode(number):\n",
    "    bytes_list = bytearray()\n",
    "    while True:\n",
    "        byte = number & 0x7F # Prendi i 7 bit meno significativi -> 0111 1111 = 0x7F\n",
    "        number >>= 7 # Shifta a destra di 7 bit\n",
    "        if number:\n",
    "            bytes_list.append(byte) # Aggiungo i 7 bit al risultato\n",
    "        else:\n",
    "            bytes_list.append(0x80 | byte) # Aggiungo i 7 bit con il bit di continuazione, 0x80 = 1000 0000\n",
    "            break\n",
    "    return bytes(bytes_list)\n",
    "\n",
    "def vbyte_decode(bytes_seq):\n",
    "    number = 0\n",
    "    for i, byte in enumerate(bytes_seq):\n",
    "        number |= (byte & 0x7F) << (7 * i)\n",
    "        if byte & 0x80:\n",
    "            break\n",
    "    return number\n",
    "\n",
    "def decode_concatenated_vbyte(encoded_bytes):\n",
    "    decoded_numbers = []\n",
    "    current_number = 0\n",
    "    shift_amount = 0\n",
    "    \n",
    "    for byte in encoded_bytes:\n",
    "        if byte & 0x80:  # Bit di continuazione trovato, fine del numero\n",
    "            current_number |= (byte & 0x7F) << shift_amount\n",
    "            decoded_numbers.append(current_number)\n",
    "            current_number = 0\n",
    "            shift_amount = 0\n",
    "        else:  # Continuo a comporre il numero\n",
    "            current_number |= (byte & 0x7F) << shift_amount\n",
    "            shift_amount += 7\n",
    "    \n",
    "    return decoded_numbers\n",
    "\n",
    "#------------------------------------------------------------------------------------------------------------------------------------------------------------------#\n",
    "\n",
    "def compress_index(lexicon, inv_d, inv_f):    \n",
    "    compressed_inv_d = {}\n",
    "    compressed_inv_f = {}\n",
    "\n",
    "    for term, (termid, df, _) in tqdm(lexicon.items(), desc=\"Compressing lists\", unit=\"term\"):\n",
    "        encoded_d = bytearray()\n",
    "        for x in inv_d[termid]:\n",
    "            encoded_d.extend(vbyte_encode(x)) \n",
    "        assert decode_concatenated_vbyte(encoded_d) == inv_d[termid]\n",
    "        compressed_inv_d[termid] = encoded_d\n",
    "\n",
    "        encoded_f = bytearray()\n",
    "        for x in inv_f[termid]:\n",
    "            encoded_f.extend(vbyte_encode(x))\n",
    "        assert decode_concatenated_vbyte(encoded_f) == inv_f[termid]\n",
    "        compressed_inv_f[termid] = encoded_f\n",
    "\n",
    "    return compressed_inv_d, compressed_inv_f"
   ]
  },
  {
   "cell_type": "markdown",
   "metadata": {},
   "source": [
    "## Functions to build the inverted index"
   ]
  },
  {
   "cell_type": "code",
   "execution_count": 6,
   "metadata": {
    "ExecuteTime": {
     "end_time": "2024-11-19T17:27:39.889433Z",
     "start_time": "2024-11-19T17:27:39.848182Z"
    }
   },
   "outputs": [],
   "source": [
    "import pandas as pd\n",
    "from collections import Counter\n",
    "from tqdm.auto import tqdm\n",
    "\n",
    "def build_index(filepath, batch_size=10000):\n",
    "    total_documents = sum(1 for _ in open(filepath)) # get total number of documents\n",
    "\n",
    "    lexicon = {}\n",
    "    inv_d = {}\n",
    "    inv_f = {}\n",
    "    doc_index = []\n",
    "    total_dl = 0\n",
    "    num_docs = 0\n",
    "    termid = 0\n",
    "\n",
    "    with open(filepath, 'r') as file:        \n",
    "        batch = []\n",
    "        \n",
    "        with tqdm(total=total_documents, desc=\"Processing documents\", unit=\"doc\") as pbar:\n",
    "            for line in file:\n",
    "                batch.append(line.strip())\n",
    "                \n",
    "                # when the batch is full, we process it\n",
    "                if len(batch) >= batch_size:\n",
    "                    for line in batch:\n",
    "                        doc_id, text = line.split('\\t', 1) # '1' specifies the number of splits\n",
    "                        doc_id = int(doc_id)\n",
    "                        tokens = preprocess(text)\n",
    "                        token_tf = Counter(tokens)\n",
    "\n",
    "                        for token, tf in token_tf.items():\n",
    "                            if token not in lexicon:\n",
    "                                lexicon[token] = [termid, 0, 0] # termid, df, tf\n",
    "                                inv_d[termid], inv_f[termid] = [], [] # docids, freqs\n",
    "                                termid += 1\n",
    "                            token_id = lexicon[token][0]  # get termid\n",
    "                            inv_d[token_id].append(doc_id)  # add doc_id to the list of documents containing the term\n",
    "                            inv_f[token_id].append(tf)  # add term frequency for this doc\n",
    "                            lexicon[token][1] += 1  # increment document frequency (df)\n",
    "                            lexicon[token][2] += tf  # increment total term frequency (tf)\n",
    "\n",
    "                        doclen = len(tokens)\n",
    "                        doc_index.append((str(doc_id), doclen))\n",
    "                        total_dl += doclen\n",
    "                        num_docs += 1                    \n",
    "                    # update progress bar for each processed document\n",
    "                    pbar.update(len(batch))\n",
    "                    batch = []\n",
    "\n",
    "            # process the remaining documents in the last batch\n",
    "            if batch:\n",
    "                for line in batch:\n",
    "                    doc_id, text = line.split('\\t', 1)\n",
    "                    doc_id = int(doc_id)\n",
    "                    tokens = preprocess(text)\n",
    "                    token_tf = Counter(tokens)\n",
    "\n",
    "                    for token, tf in token_tf.items():\n",
    "                        if token not in lexicon:\n",
    "                            lexicon[token] = [termid, 0, 0]\n",
    "                            inv_d[termid], inv_f[termid] = [], []\n",
    "                            termid += 1\n",
    "                        token_id = lexicon[token][0]  # get termid\n",
    "                        inv_d[token_id].append(doc_id)  # get doc_id to the list of documents containing the term\n",
    "                        inv_f[token_id].append(tf)  # get term frequency for this doc\n",
    "                        lexicon[token][1] += 1  # increment document frequency (df)\n",
    "                        lexicon[token][2] += tf  # increment total term frequency (tf)\n",
    "\n",
    "                    doclen = len(tokens)\n",
    "                    doc_index.append((str(doc_id), doclen))\n",
    "                    total_dl += doclen\n",
    "                    num_docs += 1                    \n",
    "                    pbar.update(1)\n",
    "                    \n",
    "     # Calculate average document length (avdl)\n",
    "    avdl = total_dl / num_docs if num_docs > 0 else 0\n",
    "                    \n",
    "    stats = {\n",
    "        'num_docs': num_docs,\n",
    "        'num_terms': len(lexicon),\n",
    "        'num_tokens': total_dl,\n",
    "        'avdl': avdl  # Add avdl to stats\n",
    "    }\n",
    "    return lexicon, {'docids': inv_d, 'freqs': inv_f}, doc_index, stats"
   ]
  },
  {
   "cell_type": "code",
   "execution_count": 7,
   "metadata": {
    "ExecuteTime": {
     "end_time": "2024-11-19T17:27:39.982267Z",
     "start_time": "2024-11-19T17:27:39.948216Z"
    }
   },
   "outputs": [],
   "source": [
    "import math\n",
    "import bisect\n",
    "\n",
    "\n",
    "class InvertedIndex:\n",
    "\n",
    "    class PostingListIterator:\n",
    "        def __init__(self, docids, freqs, doc, avdl):\n",
    "            self.docids = docids\n",
    "            self.freqs = freqs\n",
    "            self.pos = 0\n",
    "            self.doc = doc\n",
    "            self.total_docs_number = len(doc)\n",
    "            self.avdl = avdl\n",
    "\n",
    "        def docid(self):\n",
    "            if self.is_end_list():\n",
    "                return math.inf\n",
    "            return self.docids[self.pos]\n",
    "\n",
    "\n",
    "        ###################################################################################        \n",
    "        def score(self): # TODO : check if correct, this is TF-IDF score\n",
    "            \"\"\"\n",
    "            Calculate TF-IDF score of the current document in the posting list.\n",
    "            \"\"\"\n",
    "            if self.is_end_list():\n",
    "                return math.inf \n",
    "            \n",
    "            tf = self.freqs[self.pos]\n",
    "                        \n",
    "            if tf > 0:\n",
    "                wtd = 1 + math.log(tf)\n",
    "            else:\n",
    "                wtd = 0 # avoid log(0)\n",
    "            \n",
    "            df = self.len()  # document frequency\n",
    "            if df > 0:\n",
    "                idf = math.log(self.total_docs_number / df)\n",
    "            else:\n",
    "                idf = 0  # avoid log(0)\n",
    "            \n",
    "            # finally calculate tf-idf score\n",
    "            tfidf = wtd * idf\n",
    "\n",
    "            return tfidf\n",
    "\n",
    "        ###################################################################################\n",
    "        # new score_bm25 function\n",
    "        # TODO: check if correct\n",
    "        def score_bm25(self): # Modified to match the BM25 formula from the slides\n",
    "            if self.is_end_list():\n",
    "                return math.inf\n",
    "            else:\n",
    "                # Standard BM25 parameters\n",
    "                b = 0.75\n",
    "                k_1 = 1.5\n",
    "                \n",
    "                # Length of the current document\n",
    "                dl = self.doc[self.docid()][1]\n",
    "                \n",
    "                # Term frequency in the current document\n",
    "                tf = self.freqs[self.pos]\n",
    "                \n",
    "                # Total number of documents in the collection\n",
    "                N = self.total_docs_number\n",
    "                \n",
    "                # Number of documents containing the term\n",
    "                n = self.len()  # document frequency\n",
    "                \n",
    "                # Calculate document length normalization component (B_j)\n",
    "                B_j = (1 - b) + b * (dl / self.avdl)\n",
    "                \n",
    "                # Calculate the IDF component\n",
    "                idf = math.log( N / n)\n",
    "                \n",
    "                # Calculate the BM25 score\n",
    "                rsv_bm25 = ((tf) / (tf + k_1 * B_j)) * idf\n",
    "                \n",
    "                return rsv_bm25\n",
    "            \n",
    "            ###################################################################################\n",
    "\n",
    "        def next(self, target=None):\n",
    "            if not target:\n",
    "                if not self.is_end_list():\n",
    "                    self.pos += 1\n",
    "            else:\n",
    "                if target > self.docid():\n",
    "                    self.pos = bisect.bisect_left(self.docids, target, self.pos)\n",
    "\n",
    "        def is_end_list(self):\n",
    "            return self.pos == len(self.docids)\n",
    "\n",
    "\n",
    "        def len(self):\n",
    "            return len(self.docids)\n",
    "        \n",
    "\n",
    "    def __init__(self, lex, inv, doc, stats):\n",
    "        self.lexicon = lex\n",
    "        self.inv = inv\n",
    "        self.doc = doc\n",
    "        self.stats = stats\n",
    "\n",
    "    def num_docs(self):\n",
    "        return self.stats['num_docs']\n",
    "    \n",
    "    def avdl(self):\n",
    "        return self.stats['avdl']\n",
    "\n",
    "    def get_posting(self, termid):\n",
    "        return InvertedIndex.PostingListIterator(self.inv['docids'][termid], self.inv['freqs'][termid], self.doc, self.stats['avdl'])\n",
    "    \n",
    "    def get_termids(self, tokens):\n",
    "        return [self.lexicon[token][0] for token in tokens if token in self.lexicon]\n",
    "\n",
    "    def get_postings(self, termids):\n",
    "        return [self.get_posting(termid) for termid in termids]\n",
    "    "
   ]
  },
  {
   "cell_type": "code",
   "execution_count": 12,
   "metadata": {
    "ExecuteTime": {
     "end_time": "2024-11-19T17:27:40.060261Z",
     "start_time": "2024-11-19T17:27:40.033105Z"
    }
   },
   "outputs": [],
   "source": [
    "# import cProfile\n",
    "# import pstats\n",
    "\n",
    "# cProfile.run(\"build_index('./vaswani.tsv')\", \"output.prof\")\n",
    "# p = pstats.Stats(\"output.prof\")\n",
    "# p.sort_stats(\"cumtime\").print_stats(10)\n",
    "# os.remove(\"output.prof\")"
   ]
  },
  {
   "cell_type": "markdown",
   "metadata": {},
   "source": [
    "## Building the index on the chosen collection \n",
    "\n",
    "Now build up the index for the chosen collection. It is built only if a pickled version of its components doesn't exist already :"
   ]
  },
  {
   "cell_type": "code",
   "execution_count": 9,
   "metadata": {
    "ExecuteTime": {
     "end_time": "2024-11-19T17:27:41.514455Z",
     "start_time": "2024-11-19T17:27:40.142154Z"
    }
   },
   "outputs": [
    {
     "name": "stdout",
     "output_type": "stream",
     "text": [
      "Numero di documenti: 8841823\n"
     ]
    }
   ],
   "source": [
    "import pickle\n",
    "\n",
    "# If the 'pickles' directory does not exist, we first create it\n",
    "os.makedirs('./pickles', exist_ok=True)\n",
    "\n",
    "if chosen_collection == \"msmarco\":\n",
    "    try: # try to open the pickled files, else build the index\n",
    "        with open('./pickles/inv_index.pkl', 'rb') as f:\n",
    "            inv_index = pickle.load(f)\n",
    "        \n",
    "    except FileNotFoundError:\n",
    "        lex, inv, doc, stats = build_index('./collection/'+chosen_collection + '/'+chosen_collection+'.tsv')\n",
    "\n",
    "        # Save the lexicon, inverted lists, and document index to disk\n",
    "        with open('./pickles/lex.pkl', 'wb') as f:\n",
    "            pickle.dump(lex, f)\n",
    "        with open('./pickles/inv.pkl', 'wb') as f:\n",
    "            pickle.dump(inv, f)\n",
    "        with open('./pickles/doc.pkl', 'wb') as f:\n",
    "            pickle.dump(doc, f)\n",
    "        with open('./pickles/stats.pkl', 'wb') as f:\n",
    "            pickle.dump(stats, f)\n",
    "                    \n",
    "        # Compress the inverted lists\n",
    "        #inv['docids'], inv['freqs'] = compress_index(lex, inv['docids'], inv['freqs'])\n",
    "        \n",
    "        inv_index = InvertedIndex(lex, inv, doc, stats)\n",
    "        with open('./pickles/inv_index.pkl', 'wb') as f:\n",
    "            pickle.dump(inv_index, f)\n",
    "else:\n",
    "    lex, inv, doc, stats = build_index('./collection/'+chosen_collection + '/'+chosen_collection+'.tsv')\n",
    "    inv_index = InvertedIndex(lex, inv, doc, stats)\n",
    "\n",
    "\n",
    "print(f\"Numero di documenti: {inv_index.num_docs()}\")"
   ]
  },
  {
   "cell_type": "code",
   "execution_count": 12,
   "metadata": {
    "ExecuteTime": {
     "end_time": "2024-11-19T17:27:41.577071Z",
     "start_time": "2024-11-19T17:27:41.566029Z"
    }
   },
   "outputs": [
    {
     "name": "stdout",
     "output_type": "stream",
     "text": [
      "Avdl: 34.687022122021666\n"
     ]
    }
   ],
   "source": [
    "# print avdl\n",
    "print(f\"Avdl: {inv_index.avdl()}\")"
   ]
  },
  {
   "cell_type": "code",
   "execution_count": 15,
   "metadata": {
    "ExecuteTime": {
     "end_time": "2024-11-19T17:27:41.654971Z",
     "start_time": "2024-11-19T17:27:41.635929Z"
    }
   },
   "outputs": [],
   "source": [
    "# # Create a test collection\n",
    "# test_collection = [\n",
    "#     \"0\\tterm1 term2 term3\",\n",
    "#     \"1\\tterm2 term3 term4\",\n",
    "#     \"2\\tterm1 term4 term5\",\n",
    "#     \"3\\tterm3 term5 term6\",\n",
    "#     \"4\\tterm1 term2 term3\",\n",
    "# ]\n",
    "\n",
    "# # Write the fake collection to a temporary file\n",
    "# with open('./collection/test_collection.tsv', 'w') as f:\n",
    "#     for line in test_collection:\n",
    "#         f.write(line + '\\n')\n",
    "\n",
    "# # Call the build_index function on the test collection\n",
    "# lex, inv, doc, stats = build_index('./collection/test_collection.tsv')\n",
    "\n",
    "# # Print the results\n",
    "# print(\"Lexicon:\", lex)\n",
    "# print(\"Inverted Index (docids):\", inv['docids'])\n",
    "# print(\"Inverted Index (freqs):\", inv['freqs'])\n",
    "# print(\"Document Index:\", doc)\n",
    "# print(\"Statistics:\", stats)\n",
    "\n",
    "# inv_index = InvertedIndex(lex, inv, doc, stats)\n",
    "\n",
    "# query = \"term1 term2\"\n",
    "# termids = inv_index.get_termids(query.split())\n",
    "# postings = inv_index.get_postings(termids)\n",
    "# print(f\"Query: '{query}', TermID: {termids}\")\n",
    "# for posting in postings:\n",
    "#     while not posting.is_end_list():\n",
    "#         print(f\"docid: {posting.docid()}, score: {posting.score_bm25()}\")\n",
    "#         posting.next()\n"
   ]
  },
  {
   "cell_type": "code",
   "execution_count": 16,
   "metadata": {
    "ExecuteTime": {
     "end_time": "2024-11-19T17:27:41.718244Z",
     "start_time": "2024-11-19T17:27:41.709662Z"
    }
   },
   "outputs": [],
   "source": [
    "#print_pickled_size('inv_index', inv_index)"
   ]
  },
  {
   "cell_type": "markdown",
   "metadata": {},
   "source": [
    "# 2. Download and prepare queries"
   ]
  },
  {
   "cell_type": "code",
   "execution_count": 13,
   "metadata": {
    "ExecuteTime": {
     "end_time": "2024-11-19T17:27:41.796711Z",
     "start_time": "2024-11-19T17:27:41.768982Z"
    }
   },
   "outputs": [
    {
     "name": "stdout",
     "output_type": "stream",
     "text": [
      "Number of queries:  200\n",
      "Number of relevance judgments:  9260\n"
     ]
    }
   ],
   "source": [
    "import gzip\n",
    "import os\n",
    "\n",
    "if chosen_collection not in [\"vaswani\", \"msmarco\"]:\n",
    "    raise ValueError(\"chosen_collection must be one of ['vaswani', 'msmarco']\")\n",
    "\n",
    "if chosen_collection == \"msmarco\":\n",
    "    if not os.path.exists('./collection/msmarco/msmarco-queries.tsv'):\n",
    "        url = 'https://msmarco.z22.web.core.windows.net/msmarcoranking/msmarco-test2019-queries.tsv.gz'\n",
    "        gdown.download(url, './collection/msmarco/msmarco-test2019-queries.tsv.gz', quiet=False)\n",
    "        with gzip.open('./collection/msmarco/msmarco-test2019-queries.tsv.gz', 'rt') as f_in:\n",
    "            with open('./collection/msmarco/msmarco-queries.tsv', 'w') as f_out:\n",
    "                f_out.write(f_in.read())\n",
    "        os.remove('./collection/msmarco/msmarco-test2019-queries.tsv.gz') # delete the compressed file\n",
    "    queries = pd.read_csv('./collection/msmarco/msmarco-queries.tsv', sep='\\t', header=None)\n",
    "    queries.columns = ['qid', 'query']\n",
    "    print(\"Number of queries: \",len(queries))\n",
    "\n",
    "    if not os.path.exists('./collection/msmarco/msmarco-qrels.txt'):\n",
    "        url = 'https://trec.nist.gov/data/deep/2019qrels-pass.txt'\n",
    "        gdown.download(url, './collection/msmarco/msmarco-qrels.txt', quiet=False)\n",
    "    qrels = pd.read_csv('./collection/msmarco/msmarco-qrels.txt', sep=' ', header=None)\n",
    "    qrels.columns = ['qid', 'Q0', 'docid', 'rating']\n",
    "    print(\"Number of relevance judgments: \",len(qrels))\n",
    "\n",
    "\n",
    "elif chosen_collection == \"vaswani\":\n",
    "    queries = pd.DataFrame(vaswani_dataset.queries_iter())\n",
    "    queries.columns = ['qid', 'query']\n",
    "    print(\"Number of queries: \",len(list(vaswani_dataset.queries_iter()))) \n",
    "    if not os.path.exists('./collection/vaswani/vaswani-queries.tsv'):\n",
    "        queries.to_csv('./collection/vaswani/vaswani-queries.tsv', sep='\\t', header=False, index=False)\n",
    "    qrels = pd.DataFrame(vaswani_dataset.qrels_iter()) \n",
    "    qrels.columns = ['qid', 'docid', 'relevance', 'iteration']\n",
    "    qrels['docid'] = (qrels['docid'].astype(int) - 1).astype(str) # convert to 0-based indexing\n",
    "\n",
    "    if not os.path.exists('./collection/vaswani/vaswani-qrels.txt'):\n",
    "        qrels.to_csv('./collection/vaswani/vaswani-qrels.txt', sep='\\t', header=False, index=False)\n",
    "    print(\"Number of relevance judgments: \",len(list(vaswani_dataset.qrels_iter())))"
   ]
  },
  {
   "cell_type": "code",
   "execution_count": 14,
   "metadata": {
    "ExecuteTime": {
     "end_time": "2024-11-19T17:27:41.859156Z",
     "start_time": "2024-11-19T17:27:41.848111Z"
    }
   },
   "outputs": [
    {
     "name": "stdout",
     "output_type": "stream",
     "text": [
      "The number of queries is:  200\n"
     ]
    }
   ],
   "source": [
    "from collections import namedtuple\n",
    "\n",
    "\n",
    "class QueriesDataset:\n",
    "    def __init__(self, df):\n",
    "        self.queries = [Query(row.query_id, row.text) for row in df.itertuples()]\n",
    "\n",
    "    def queries_iter(self):\n",
    "        return iter(self.queries)\n",
    "\n",
    "    def queries_count(self):\n",
    "        return len(self.queries)\n",
    "    \n",
    "    def get_query(self, query_id):\n",
    "        return self.queries[query_id]\n",
    "\n",
    "\n",
    "Query = namedtuple('Query', ['query_id', 'text'])\n",
    "queries.columns = ['query_id', 'text']\n",
    "queries_dataset = QueriesDataset(queries)\n",
    "print(\"The number of queries is: \", queries_dataset.queries_count())"
   ]
  },
  {
   "cell_type": "markdown",
   "metadata": {},
   "source": [
    "Let's prepare the functions necessary to perform TAAT and DAAT query processing"
   ]
  },
  {
   "cell_type": "markdown",
   "metadata": {},
   "source": [
    "First, we need a TopQueue class, which stores the top  K  (score, docid) tuples, using an heap "
   ]
  },
  {
   "cell_type": "code",
   "execution_count": 15,
   "metadata": {
    "ExecuteTime": {
     "end_time": "2024-11-19T17:27:41.954190Z",
     "start_time": "2024-11-19T17:27:41.931158Z"
    }
   },
   "outputs": [],
   "source": [
    "import heapq\n",
    "\n",
    "class TopQueue:\n",
    "    def __init__(self, k=10, threshold=0.0):\n",
    "        self.queue = []\n",
    "        self.k = k\n",
    "        self.threshold = threshold\n",
    "\n",
    "    def size(self):\n",
    "        return len(self.queue)\n",
    "\n",
    "    def would_enter(self, score):\n",
    "        return score > self.threshold\n",
    "\n",
    "    def clear(self, new_threshold=None):\n",
    "        self.queue = []\n",
    "        if new_threshold:\n",
    "            self.threshold = new_threshold\n",
    "\n",
    "    def __repr__(self):\n",
    "        return f'<{self.size()} items, th={self.threshold} {self.queue}'\n",
    "\n",
    "    def insert(self, docid, score):\n",
    "        if score > self.threshold:\n",
    "            if self.size() >= self.k:\n",
    "                heapq.heapreplace(self.queue, (score, docid))\n",
    "            else:\n",
    "                heapq.heappush(self.queue, (score, docid))\n",
    "            if self.size() >= self.k:\n",
    "                self.threshold = max(self.threshold, self.queue[0][0])\n",
    "            return True\n",
    "        return False\n",
    "\n",
    "#print(sorted(topq.queue, reverse=True)) # print the queue sorted by score"
   ]
  },
  {
   "cell_type": "markdown",
   "metadata": {},
   "source": [
    "### TAAT"
   ]
  },
  {
   "cell_type": "code",
   "execution_count": 16,
   "metadata": {
    "ExecuteTime": {
     "end_time": "2024-11-19T17:27:42.016394Z",
     "start_time": "2024-11-19T17:27:42.004032Z"
    }
   },
   "outputs": [],
   "source": [
    "from collections import defaultdict\n",
    "\n",
    "def taat(postings, k=10):\n",
    "    A = defaultdict(float)\n",
    "    for posting in postings:\n",
    "        current_docid = posting.docid()\n",
    "        while current_docid != math.inf:\n",
    "            A[current_docid] += posting.score()\n",
    "            posting.next()\n",
    "            current_docid = posting.docid()\n",
    "    top = TopQueue(k)\n",
    "    for docid, score in A.items():\n",
    "        top.insert(docid, score)\n",
    "    return sorted(top.queue, reverse=True)\n",
    "\n",
    "\n",
    "def query_process(query, index):\n",
    "    qtokens = set(preprocess(query))\n",
    "    qtermids = index.get_termids(qtokens)\n",
    "    postings = index.get_postings(qtermids)\n",
    "    return taat(postings)"
   ]
  },
  {
   "cell_type": "markdown",
   "metadata": {},
   "source": [
    "### DAAT"
   ]
  },
  {
   "cell_type": "code",
   "execution_count": 17,
   "metadata": {
    "ExecuteTime": {
     "end_time": "2024-11-19T17:27:42.080146Z",
     "start_time": "2024-11-19T17:27:42.068274Z"
    }
   },
   "outputs": [],
   "source": [
    "import math\n",
    "\n",
    "def min_docid(postings):\n",
    "    min_docid = math.inf\n",
    "    for p in postings:\n",
    "        if not p.is_end_list():\n",
    "            min_docid = min(p.docid(), min_docid)\n",
    "    return min_docid\n",
    "\n",
    "def daat(postings, k=10):\n",
    "    top = TopQueue(k)\n",
    "    current_docid = min_docid(postings)\n",
    "    while current_docid != math.inf:\n",
    "        score = 0\n",
    "        next_docid = math.inf\n",
    "        for posting in postings:\n",
    "            if posting.docid() == current_docid:\n",
    "                score += posting.score()\n",
    "                posting.next()\n",
    "            if not posting.is_end_list():\n",
    "                next_docid = posting.docid()\n",
    "        top.insert(current_docid, score)\n",
    "        current_docid = next_docid\n",
    "    return sorted(top.queue, reverse=True)\n",
    "\n",
    "def query_process(query, index):\n",
    "    qtokens = set(preprocess(query))\n",
    "    qtermids = index.get_termids(qtokens)\n",
    "    postings = index.get_postings(qtermids)\n",
    "    return daat(postings)"
   ]
  },
  {
   "cell_type": "code",
   "execution_count": 18,
   "metadata": {
    "ExecuteTime": {
     "end_time": "2024-11-19T17:27:42.158183Z",
     "start_time": "2024-11-19T17:27:42.146647Z"
    }
   },
   "outputs": [],
   "source": [
    "from tqdm import tqdm\n",
    "\n",
    "@profile\n",
    "def query_processing(queries_iter, fn):\n",
    "    #for q in tqdm(queries_iter, desc=\"Processing queries\", total=queries_dataset.queries_count(), unit=\"query\"):\n",
    "    for q in queries_iter:\n",
    "        query = preprocess(q.text)\n",
    "        termids = inv_index.get_termids(query)\n",
    "        postings = inv_index.get_postings(termids)\n",
    "        res = fn(postings)"
   ]
  },
  {
   "cell_type": "code",
   "execution_count": 23,
   "metadata": {
    "ExecuteTime": {
     "end_time": "2024-11-19T17:27:42.268199Z",
     "start_time": "2024-11-19T17:27:42.255565Z"
    }
   },
   "outputs": [],
   "source": [
    "# import cProfile\n",
    "# import pstats\n",
    "\n",
    "# cProfile.run(\"query_processing(queries_dataset.queries_iter(), taat)\", \"./perfm/result.prof\")\n",
    "# p = pstats.Stats(\"./perfm/result.prof\")\n",
    "# p.sort_stats(\"cumtime\").print_stats(25)"
   ]
  },
  {
   "cell_type": "code",
   "execution_count": null,
   "metadata": {
    "ExecuteTime": {
     "end_time": "2024-11-19T17:27:43.705732Z",
     "start_time": "2024-11-19T17:27:42.309256Z"
    }
   },
   "outputs": [
    {
     "name": "stdout",
     "output_type": "stream",
     "text": [
      "query_processing (285906.451 ms)\n"
     ]
    }
   ],
   "source": [
    "#query_processing(queries_dataset.queries_iter(), taat)"
   ]
  },
  {
   "cell_type": "code",
   "execution_count": null,
   "metadata": {
    "ExecuteTime": {
     "end_time": "2024-11-19T17:27:48.351530Z",
     "start_time": "2024-11-19T17:27:43.756372Z"
    }
   },
   "outputs": [
    {
     "name": "stdout",
     "output_type": "stream",
     "text": [
      "query_processing (614704.556 ms)\n"
     ]
    }
   ],
   "source": [
    "#query_processing(queries_dataset.queries_iter(), daat)"
   ]
  },
  {
   "cell_type": "markdown",
   "metadata": {},
   "source": [
    "---"
   ]
  },
  {
   "cell_type": "markdown",
   "metadata": {},
   "source": [
    "# 3. Evaluation"
   ]
  },
  {
   "cell_type": "markdown",
   "metadata": {},
   "source": [
    "A relevance assessment (called ***qrel*** in `ir_datasets`) is composed by:\n",
    "* a **topic id** (called *query_id* in `ir_datasets`) as in a topic,\n",
    "* a **docno** (called *doc_id* in `ir_datasets`) as in a document,\n",
    "* a **judgement** (called *relevance* in `ir_datasets`) as a binary or graded relevance judgment/label, and\n",
    "* an **iteration**, **UNUSED** and always equal to the string `'0'`."
   ]
  },
  {
   "cell_type": "code",
   "execution_count": null,
   "metadata": {
    "ExecuteTime": {
     "end_time": "2024-11-19T17:27:48.428545Z",
     "start_time": "2024-11-19T17:27:48.400834Z"
    }
   },
   "outputs": [
    {
     "name": "stdout",
     "output_type": "stream",
     "text": [
      "Number of relevance judgments:  9260\n"
     ]
    }
   ],
   "source": [
    "# get the qrels for the chosen collection\n",
    "# as above but space separated\n",
    "'''qrels = pd.read_csv('./collection/'+chosen_collection+'/'+chosen_collection+'-qrels.txt', sep=' ', header=None)\n",
    "qrels.columns = ['query_id', 'doc_id', 'relevance', 'iteration']\n",
    "print(\"Number of relevance judgments: \",len(qrels))'''"
   ]
  },
  {
   "cell_type": "code",
   "execution_count": 20,
   "metadata": {
    "ExecuteTime": {
     "end_time": "2024-11-19T17:27:48.522665Z",
     "start_time": "2024-11-19T17:27:48.509131Z"
    }
   },
   "outputs": [],
   "source": [
    "import os\n",
    "\n",
    "def create_run_file(queries_iter, fn, run_id, output_file):\n",
    "    \"\"\"\n",
    "    Preprocess the queries and write the results to a run file.\n",
    "    :param queries_iter: Query iterator\n",
    "    :param fn: Function to process the postings and return the results in the format (score, docid)\n",
    "    :param run_id: Name identifier for the run\n",
    "    :param output_file: Output run file\n",
    "    \"\"\"\n",
    "    if not os.path.exists('./results'):\n",
    "        os.makedirs('./results')\n",
    "    with open(f\"./results/{output_file}\", \"w\") as f:\n",
    "        for q in queries_iter:\n",
    "            topic_id = q.query_id \n",
    "            query = preprocess(q.text)\n",
    "            termids = inv_index.get_termids(query)\n",
    "            postings = inv_index.get_postings(termids)\n",
    "            results = fn(postings, k=100)\n",
    "            \n",
    "            if results:\n",
    "                # Write results to the run file\n",
    "                for rank, (score, docno) in enumerate(results, start=1):\n",
    "                    line = f\"{topic_id}\\tQ0\\t{docno}\\t{rank}\\t{score:.6f}\\t{run_id}\\n\"\n",
    "                    f.write(line)\n",
    "            else:\n",
    "                # Annotate that no results were found for this query\n",
    "                line = f\"{topic_id}\\tQ0\\tNO_RESULTS\\t0\\t0.0\\t{run_id}\\n\"\n",
    "                f.write(line)\n",
    "\n",
    "    print(f\"Run file {output_file} produced successfully.\")"
   ]
  },
  {
   "cell_type": "code",
   "execution_count": null,
   "metadata": {
    "ExecuteTime": {
     "end_time": "2024-11-19T17:27:49.927949Z",
     "start_time": "2024-11-19T17:27:48.573038Z"
    }
   },
   "outputs": [
    {
     "name": "stdout",
     "output_type": "stream",
     "text": [
      "Run file msmarco.run produced successfully.\n"
     ]
    }
   ],
   "source": [
    "#create_run_file(queries_dataset.queries_iter(), taat, \"run\", f\"{chosen_collection}.run\")"
   ]
  },
  {
   "cell_type": "code",
   "execution_count": 22,
   "metadata": {},
   "outputs": [
    {
     "name": "stdout",
     "output_type": "stream",
     "text": [
      "8841823\n"
     ]
    }
   ],
   "source": [
    "print(inv_index.num_docs())"
   ]
  },
  {
   "cell_type": "code",
   "execution_count": 23,
   "metadata": {
    "ExecuteTime": {
     "end_time": "2024-11-19T17:27:50.567735Z",
     "start_time": "2024-11-19T17:27:49.963043Z"
    }
   },
   "outputs": [
    {
     "data": {
      "text/plain": [
       "'rel_docids = []\\n\\ngold = {}\\nwith open(\\'./collection/msmarco/msmarco-qrels.txt\\', \\'r\\') as f:\\n    for line in f:\\n        qid, _, docid, rel = line.strip().split(\\' \\')\\n        qid = int(qid)\\n        docid = int(docid)\\n        #if int(rel) > 0:\\n        if qid not in gold:\\n            gold[qid] = []\\n        gold[qid].append(docid)\\n        \\n        if docid not in rel_docids:\\n            rel_docids.append(docid)\\n        \\n    \\n\\n\\n\\n# D = 0 ... num_docs-1 (0-based indexing)\\n# D = \\n\\nD = list(range(inv_index.num_docs())) # from 0 to number of documents\\nT = list(range(1,len(gold))) # from 1 to number of queries\\n\\n# open the run file and create a \\'results\\' dictionary that contains for each qid the list of retrieved documents\\nresults = {}\\nwith open(\\'./results/msmarco.run\\', \\'r\\') as f:\\n    for line in f:\\n        qid, _, docid, rank, score, _ = line.strip().split(\\'\\t\\')\\n        qid = int(qid)\\n        if docid == \\'NO_RESULTS\\':\\n            docid = -1\\n        else:\\n            docid = int(docid)\\n        if qid not in results:\\n            results[qid] = []\\n        results[qid].append(docid)\\n\\n\\nA = {} # A will contain if the results returned by the IR system are actually relevant\\nfor qid in gold:\\n    A[qid] = [1 if d in gold[qid] else 0 for d in D]\\n\\n\\n\\nprint(\"Number of queries in the qrel file: \", len(gold))\\nprint(\"Number of queries in the run file: \", len(results))\\nprint(\"Number of \\'A\\': \", len(A))\\n\\n# print(\"qrels:\\t\",gold)\\n# print(\"results:\",results)\\n# # stampa i primi 10 elementi di A\\n# print(\"A:\\t\", {k: A[k] for k in list(A)[:10]})'"
      ]
     },
     "execution_count": 23,
     "metadata": {},
     "output_type": "execute_result"
    }
   ],
   "source": [
    "# TODO docid == docno ?\n",
    "# TODO adattare a ms marco\n",
    "# open the qrel file and create a 'gold' dictionary that contains for each qid the list of relevant documents\n",
    "\n",
    "# empty list for for the docids\n",
    "'''rel_docids = []\n",
    "\n",
    "gold = {}\n",
    "with open('./collection/msmarco/msmarco-qrels.txt', 'r') as f:\n",
    "    for line in f:\n",
    "        qid, _, docid, rel = line.strip().split(' ')\n",
    "        qid = int(qid)\n",
    "        docid = int(docid)\n",
    "        #if int(rel) > 0:\n",
    "        if qid not in gold:\n",
    "            gold[qid] = []\n",
    "        gold[qid].append(docid)\n",
    "        \n",
    "        if docid not in rel_docids:\n",
    "            rel_docids.append(docid)\n",
    "        \n",
    "    \n",
    "\n",
    "\n",
    "\n",
    "# D = 0 ... num_docs-1 (0-based indexing)\n",
    "# D = \n",
    "\n",
    "D = list(range(inv_index.num_docs())) # from 0 to number of documents\n",
    "T = list(range(1,len(gold))) # from 1 to number of queries\n",
    "\n",
    "# open the run file and create a 'results' dictionary that contains for each qid the list of retrieved documents\n",
    "results = {}\n",
    "with open('./results/msmarco.run', 'r') as f:\n",
    "    for line in f:\n",
    "        qid, _, docid, rank, score, _ = line.strip().split('\\t')\n",
    "        qid = int(qid)\n",
    "        if docid == 'NO_RESULTS':\n",
    "            docid = -1\n",
    "        else:\n",
    "            docid = int(docid)\n",
    "        if qid not in results:\n",
    "            results[qid] = []\n",
    "        results[qid].append(docid)\n",
    "\n",
    "\n",
    "A = {} # A will contain if the results returned by the IR system are actually relevant\n",
    "for qid in gold:\n",
    "    A[qid] = [1 if d in gold[qid] else 0 for d in D]\n",
    "\n",
    "\n",
    "\n",
    "print(\"Number of queries in the qrel file: \", len(gold))\n",
    "print(\"Number of queries in the run file: \", len(results))\n",
    "print(\"Number of 'A': \", len(A))\n",
    "\n",
    "# print(\"qrels:\\t\",gold)\n",
    "# print(\"results:\",results)\n",
    "# # stampa i primi 10 elementi di A\n",
    "# print(\"A:\\t\", {k: A[k] for k in list(A)[:10]})'''"
   ]
  },
  {
   "cell_type": "code",
   "execution_count": 24,
   "metadata": {},
   "outputs": [],
   "source": [
    "# print T horizzontally\n",
    "#print(\"T:\\t\", T)"
   ]
  },
  {
   "cell_type": "code",
   "execution_count": null,
   "metadata": {},
   "outputs": [
    {
     "name": "stdout",
     "output_type": "stream",
     "text": [
      "{1108939: [3652655, 2068541, 3647358, 5553584, 4502510, 3130232, 6707713, 6185573, 4928535, 5553585, 5840050, 4744533, 8596285, 6225297, 6166456, 3357552, 3899060, 1397503, 7919347, 7152561, 698106, 699259, 5471907, 141310, 8661642, 242056, 6388957, 6388955, 4772091, 4390191, 6980266, 6758075, 3985446, 3502557, 3357548, 631424, 753531, 3150726, 5807716, 1511466, 2251472, 371765, 8596283, 5163856, 2010859, 4049530, 4172981, 3745976, 6681205, 1979870, 6179026, 2011059, 1842680, 1027732, 457000, 456998, 456997, 6564869, 6715236, 8596284, 3097883, 1889170, 1851519, 6868009, 6041119, 935161, 8209350, 6521245, 5118561, 8256786, 6204916, 414222, 8363174, 5579740, 2834919, 7777453, 6969425, 5668417, 4772094, 3209267, 2918196, 2875828, 1640379, 582753, 8172843, 7844766, 7844765, 3865302, 3009955, 2115313, 917895, 610121, 8611344, 6959553, 6859965, 5992241, 5194301, 4612632, 4320195, 4034250], 1112389: [8138765, 5892677, 7817890, 4931198, 7120135, 7651152, 452842, 452841, 452838, 452837, 452836, 8138768, 6199112, 8138763, 5892681, 6064417, 4337253, 4790816, 2472193, 2086171, 1116794, 4284834, 7119576, 6064420, 6064419, 6064418, 6780773, 6064416, 4337251, 4284840, 1394174, 8060371, 1449007, 8097877, 2107820, 4337245, 4076, 8138767, 4355897, 3394197, 3394193, 1394173, 5892680, 6780774, 4790809, 3394196, 7651158, 5099991, 4855805, 7120208, 5099993, 1447482, 190722, 6832274, 4284833, 4284831, 1015764, 4496945, 2086170, 1510661, 6528140, 3570708, 648294, 1449010, 6496650, 8060368, 1904447, 7119888, 7117143, 3416310, 8452814, 1007615, 1357130, 7651153, 6780768, 6064415, 2472196, 4071, 2413408, 5938697, 5938696, 2469106, 5584711, 5225573, 1953577, 7523038, 7523036, 7523034, 6766060, 5800768, 5290393, 5222231, 5054164, 5054162, 4931199, 4553542, 4355903, 4284837, 4284835, 4046104], 792752: [6571521, 8803599, 8803603, 8803596, 8803604, 8803602, 8803598, 8803595, 8666254, 6348951, 5080330, 5080327], 1119729: [2203469, 4037446, 8721935, 6178092, 6178089, 2787567, 2787566, 8537212, 6178090, 8557135, 610135, 8537204, 1495717, 2218822, 1765594, 2218828, 2159309, 8537208, 6800871, 6509531, 6178095, 2868520, 2787570, 6178096, 2159308, 8537205, 2159303, 5875858, 2218824, 6133909, 6122013, 6098307, 5823071, 2218825, 2190624, 2159304, 982588, 945784, 330786, 2159311, 385213, 5183625, 2159306, 8294486, 6800870, 6188701, 6188699, 3480410, 3451057, 2787568, 2218826, 2109505, 5875857, 2159307, 1672585, 2218829, 8294483, 6083373, 5875859, 5875854, 3815398, 2203470, 1303633, 5809617, 4103696, 4103693, 1627281, 982580, 1904846, 8537211, 5183620, 3815397, 8557133, 8068925, 8557132, 8537209, 8537207, 8537203, 7653915, 6936329, 6523930, 6344037, 5425445, 4882027, 4469207, 4103689, 3451055, 2868515, 2787565, 2218830, 2218823, 1770933, 1246704, 330794, 330792, 8068924, 7030122, 6523926, 6509532, 6178091], 1105095: [8208163, 8208165, 8208159, 4774560, 6243243, 4121226, 3598870, 1585143, 2334838, 5077534, 6847368, 3563995, 3563994, 6243244, 4121225, 6196516, 6990777, 3598032, 3598029, 8585504, 4806819, 2938192, 4689272, 4545832, 8208160, 2502685, 2665389, 4885304, 4404524, 6056015, 8208161, 7576784, 7448655, 773275, 773272, 7061422, 6928263, 3598866, 3598865, 3598038, 6920718, 520921, 8208166, 2575486, 4285554, 3574875, 6535301, 7999634, 6286501, 7576781, 4702616, 3992342, 2334839, 4789493, 4285557, 8788762, 7465881, 2415528, 2536853, 2536852, 1407619, 690690, 1153895, 434190, 175895, 6497976, 8133809, 3627776, 8369446, 2469041, 8374422, 5738696, 6084924, 7633774, 6515071, 4989750, 8454268, 8208264, 5506792, 5382334, 5382330, 5038396, 2475407, 7465882, 6056014, 2019186, 1428381, 6811635, 660604, 2498964, 7856246, 3356378, 4467578, 1424496, 6061032, 3557488, 3557487, 2469042, 6267392, 5994705], 1105103: [6064743, 8343805, 8343808, 2566346, 5957769, 5427642, 4322449, 3483018, 6674298, 6674295, 6414737, 4530882, 3796698, 1212802, 103957, 8627713, 8343802, 4434251, 2738058, 2738057, 2213692, 721832, 7351750, 8343804, 4120387, 4582644, 4582642, 8783189, 8517298, 8517295, 6830418, 6414738, 6414735, 4356340, 3800008, 3693228, 3009436, 2213698, 1898824, 14040, 4530883, 3796694, 3557811, 5545111, 3557805, 8226670, 8226666, 3557806, 8226673, 8734763, 8627715, 8627714, 7370466, 6456125, 4978937, 3896954, 3730333, 3483022, 818028, 8209690, 4468975, 7344156, 6740559, 1889605, 6689254, 8734761, 8555003, 8555002, 8517296, 8500863, 8343803, 7603777, 7370464, 6578207, 6578206, 6341283, 5957771, 5408651, 5009266, 4577043, 4577039, 3001409, 3001408, 2404904, 2180793, 1212801, 630229, 191274, 8208067, 1223224, 2905078, 656754, 4861913, 8783184, 7852757, 7351752, 7351747, 7351745, 6414734, 4036362], 1128373: [8656493, 7630511, 5814751, 4254836, 8085708, 3400903, 3400902, 8656499, 8656497, 7465140, 7465139, 7465137, 7175865, 6702197, 5839892, 5281148, 4215653, 3980915, 2777377, 1782963, 1016132, 1016128, 6249757, 3299960, 8519713, 8318153, 7073518, 6248852, 3884881, 8146334, 8024309, 7678189, 7589014, 6820615, 6782345, 6718494, 5000167, 1267422, 788586, 542347, 491120, 97739, 8780616, 8117361, 8073461, 7987888, 7451207, 7451206, 7078434, 7073516, 6497852, 6341833, 5038538, 4911365, 4682759, 4013724, 3930069, 2669218, 2495625, 1993076, 1941266, 1849304, 1073193, 387427, 45696, 5430008, 5371380, 5227680, 5121126, 4843649, 4840263, 4737360, 4659772, 4335375, 4262451, 4165838, 3983276, 3363729, 3219547, 3159911, 3152904, 2942442, 2896791, 2687842, 2476773, 2213812, 2178330, 2135122, 2042482, 2009826, 1965924, 1959309, 1954327, 1935431, 1857666, 1762465, 1725357, 1721919, 1618969, 1331326], 1127622: [8719477, 8719475, 6735154, 2382782, 7489808, 6438649, 6696954, 2382778, 955244, 6288345, 3557978, 7401932, 6438651, 2684201, 2205371, 717667, 3768865, 3768864, 8719473, 6735155, 4537357, 8719474, 1345491, 6735157, 4082033, 3768873, 1682047, 1563568, 1379440, 1220769, 6438647, 4537354, 4039127, 3768868, 1379447, 5899881, 5899880, 5899878, 8802879, 7208023, 5680799, 3627605, 5899886, 2632978, 1419316, 1220767, 652120, 8189477, 1231618, 388894, 8089368, 7208030, 3768871, 955246, 7692427, 4107694, 4082037, 3768867, 1345494, 5680798, 5420065, 1231622, 2795165, 179784, 476998, 8623605, 8623600, 8189473, 8048851, 8048848, 6735158, 6397230, 5680796, 5680792, 3936323, 2711475, 8623601, 6438653, 5896253, 8719480, 8719479, 8454908, 8454906, 6700648, 6696952, 4082032, 3768872, 2795161, 7005495, 5417605, 8263485, 487429, 6914163, 6174604, 3768866, 2795163, 8189475, 7950371, 5680797, 5545762], 1124979: [8011235, 8011231, 1612110, 1360646, 6135587, 8011236, 1612107, 484411, 7504299, 6760213, 8013919, 8011232, 6547158, 7504298, 5447202, 1567396, 1434376, 8030851, 6764071, 6240386, 3810789, 1830483, 1830482, 844936, 844935, 835868, 582181, 560008, 5656155, 8543029, 8014093, 7582347, 6551433, 5914816, 5728175, 5447206, 3895600, 2941344, 1830484, 1165667, 402863, 6760208, 6760207, 2805240, 2805232, 6760211, 1612106, 8827487, 8613731, 8103605, 7504297, 7482168, 7135418, 6953464, 6595041, 6551431, 6545193, 6356337, 5041428, 4699953, 3904341, 3902072, 3894494, 3848797, 3766360, 2796241, 2287453, 1965435, 1760576, 1567391, 1471168, 955815, 702930, 402856, 3351360, 3351357, 3351355, 6479246, 6356340, 6316954, 6067565, 6033849, 6027127, 5757748, 5447208, 5447205, 5051078, 5041431, 5000342, 4874485, 4758671, 4691773, 4594099, 4423307, 4022410, 3936500, 3894501, 2405992, 2239594, 2237809], 885490: [3401433, 4407503, 8821100, 2205266, 2927840, 1888456, 4485270, 5422580, 7711419, 3963549, 3878625, 2927843, 7884561, 2610098, 8323863, 8821105, 7941299, 4713675, 2927849, 2551936, 2551933, 2551932, 7282779, 8148615, 6779398, 4485265, 3913494, 7624000, 4032151, 7295616, 8750534, 4032145, 391157, 7281792, 5383142, 664481, 8821104, 3913497, 2157777, 1296972, 4032148, 4032146, 1359459, 1359458, 1359455, 6811887, 3929151, 8821103, 8821101, 8821099, 7414073, 7330373, 7329549, 7252658, 6852190, 6828044, 5994936, 3508189, 3003040, 2642410, 2642406, 2551937, 2551930, 2551928, 2161519, 1888454, 916816, 489622, 475415, 3966567, 4662043, 8131449, 6390928, 4032147, 1359456, 5510688, 3468160, 8546592, 7243270, 6211033, 4923353, 4032150, 4032149, 2754893, 2692480, 2692477, 2320631, 1359461, 1359457, 964136, 391161, 7361802, 6852183, 3878629, 3615541, 2551935, 2265629, 1888459, 830385, 830384], 1119827: [8067976, 8067974, 5604317, 5604318, 5604324, 5604315, 6600080, 2255096, 8067978, 3736216, 448116, 5604323, 5604320, 8723724, 7484880, 6693275, 8723726, 7920925, 4006106, 2255093, 8067981, 8067980, 8067975, 5604322, 5604321, 5604319, 5604316, 3586227, 5137997, 7854698, 7666013, 4892596, 448117, 448109, 5101642, 5101640, 6314926, 3486757, 5190043, 5190038, 5190036, 1360280, 1360278, 4980533, 7920926, 242696, 8249599, 4987196, 7352761, 7352760, 6340568, 8735882, 6556715, 5343785, 4339913, 5094403, 6815255, 1526423, 7352759, 5732145, 2873704, 1882127, 4343041, 4593221, 6896919, 3766958, 8775105, 2185540, 1879243, 783140, 6286059, 5819842, 5819836, 2015503, 7289868, 6314919, 2233602, 3469306, 5459276, 5368188, 5909190, 7642599, 7642598, 7642596, 7642594, 7430204, 6286060, 5819838, 5819837, 5819835, 4980537, 2873708, 3469305, 2282705, 6219183, 5141430, 4921105, 4921103, 5381359, 1675204], 190044: [7048218, 411230, 1353074, 4060155, 736258, 2074834, 2957424, 7435374, 4782426, 7435376, 4782431, 4049059, 6409993, 6375114, 2234959, 6779598, 1794220, 1353072, 6362860, 3155166, 2234954, 4782425, 4281056, 402222, 7435371, 3002624, 1970765, 1970763, 421765, 2565904, 6478583, 4196429, 4782428, 4782424, 4205145, 8339439, 2136267, 8363412, 1748752, 2600279, 2177824, 5782113, 8596603, 6412478, 3002616, 5010662, 668248, 3166428, 2027152, 7297990, 6818935, 6166040, 7993204, 7048213, 6362866, 2084943, 7435372, 6412482, 402228, 6362865, 213275, 3014531, 6808606, 7560477, 1943105, 797060, 3334965, 2277779, 2177823, 3386988, 6412480, 2585315, 3781484, 7354421, 7351975, 6362864, 6543210, 1061599, 683122, 683121, 6362858, 8424, 6354331, 6412484, 6412481, 8339434, 7575350, 2417583, 2230448, 7346872, 2600274, 2313132, 505659, 1120179, 5519049, 4364752, 6818936, 1842311, 7047249, 670024], 500575: [8429779, 1702111, 1256624, 8322763, 7194499, 6191047, 4328194, 4057954, 1256627, 1256620, 8553399, 6191044, 5188692, 4955410, 4328199, 1312335, 927012, 708893, 3798754, 8824433, 8553400, 8294015, 6191046, 6191043, 5725802, 5188686, 5139618, 4840636, 2791237, 2791231, 2131086, 1702103, 1256621, 1156707, 1116133, 1116124, 708898, 708896, 8460306, 5680505, 2131077, 813770, 513001, 8558051, 8460312, 7736350, 7668976, 7496360, 7496357, 7219829, 6740716, 6191050, 5015198, 4412155, 4328198, 4328196, 3021817, 3021813, 2959461, 2791230, 2791229, 2453663, 1852111, 1646727, 1644445, 1632967, 1268092, 927008, 708900, 708895, 6442162, 8460310, 5728006, 309180, 1193409, 8362334, 3524052, 8113845, 6241577, 6219651, 5962394, 4973567, 4973565, 4973564, 4955411, 4955408, 4955407, 4954444, 4840634, 4840633, 4840631, 4840630, 4412154, 4328201, 4328200, 4206863, 4122715, 4050834, 3711408, 3464290], 883785: [4644, 4645, 4643, 965832, 4944076, 2385475, 4647, 3195327, 7551963, 3477234, 7551962, 5413024, 1280824, 2643589, 4650, 4648, 8711038, 8521312, 7526063, 2646647, 1889942, 2383984, 5201618, 3833372, 1999258, 3477233, 29768, 7060405, 1765851, 4944074, 3255595, 8716695, 7999960, 7890111, 6906611, 6841810, 5396795, 5278486, 4689237, 3705832, 3004913, 2620130, 2127590, 1783621, 636260, 444888, 439942, 6631761, 4973858, 4494278, 4356223, 258076, 5201620, 2999725, 1927025, 478811, 29771, 3039348, 4131572, 6901982, 6901981, 6846703, 2681207, 2294140, 1923273, 4494279, 3195329, 2999723, 8640913, 3195328, 8641175, 965837, 876205, 4365266, 2721844, 444891, 8521316, 4196112, 3833373, 1209946, 901342, 3723097, 2074251, 1366115, 7891967, 2513793, 6901979, 8203025, 8166650, 1804853, 1848671, 7976118, 25259, 7458403, 2999727, 6996851, 6996849, 3255591, 495836, 1760528], 264403: [6073642, 3706620, 6073638, 3706613, 3738083, 4845723, 6499956, 3706614, 1317553, 1859694, 1317554, 3300080, 6021493, 6073645, 3706611, 667554, 1718251, 8654296, 1908222, 8121445, 832199, 667552, 7071190, 6073639, 490401, 1908228, 3706617, 3251694, 8313915, 1168347, 6073643, 7969495, 6831893, 4859815, 2472494, 3837440, 7071191, 2153075, 3837446, 3706615, 1322478, 7587608, 2850498, 733014, 6327376, 635534, 7630835, 8099055, 4790421, 6831888, 6831886, 6073644, 667556, 8654297, 6300135, 5283354, 6086200, 3953698, 4447552, 7747548, 2123061, 7071184, 7135867, 2850502, 2850499, 2850497, 68738, 5744839, 6300133, 6196775, 6591520, 5771737, 375754, 329141, 8073010, 1261195, 382563, 6799206, 2472495, 667553, 3837442, 8121444, 3300075, 6499962, 5846801, 4790426, 606265, 1718252, 6196770, 6217762, 5462057, 1689591, 1566428, 784990, 7322054, 3147479, 1929845, 6502521, 5283353, 2858744], 1108100: [2055732, 2055724, 3652404, 8726006, 3513681, 527814, 8716414, 624917, 4327732, 2145609, 8632507, 781258, 6439847, 4049427, 4049426, 1364284, 1857628, 2140918, 2055956, 7050731, 4800431, 4986033, 8334049, 4327735, 910800, 6652482, 3076228, 1833313, 8332161, 6889166, 3352032, 3352031, 2845054, 83926, 8180319, 1646424, 8609233, 2787774, 3329200, 2280763, 7614022, 1765937, 1863672, 6186394, 1692662, 5916017, 5307267, 3748013, 2145606, 788023, 1183704, 954742, 1364285, 4842679, 6889163, 6889162, 8009905, 3692631, 5933878, 7174174, 2119468, 8412566, 8149046, 7526756, 6944137, 6202766, 2612268, 1660692, 221252, 8596991, 8596989, 4784094, 4107819, 6301669, 6202765, 6202764, 3271923, 3190189, 2420674, 788425, 6925166, 7223877, 553394, 5769010, 6433963, 5516305, 4740920, 4584070, 3155859, 3640952, 1139252, 7422816, 6541964, 6278732, 3895140, 3217225, 2714947, 1122174, 8228953, 7486930], 421756: [6100781, 6277188, 6361845, 994811, 994810, 8521645, 8521640, 8521639, 8521641, 6361847, 6154853, 6361848, 6100780, 6100779, 6100778, 2181879, 5792671, 5792667, 7359739, 4337843, 2549530, 75207, 6100782, 4459544, 3082647, 6361846, 6329795, 6111438, 2294476, 6361843, 3139721, 3139713, 8521642, 8492519, 5583378, 8521646, 8323047, 6111440, 6100783, 6100777, 6100776, 6100775, 5746574, 5258221, 2549532, 8694457, 7961953, 7359740, 7180453, 3139719, 5854401, 7173028, 6158907, 4904771, 4782808, 3191775, 8521643, 6167318, 6056012, 5556416, 4550791, 3607085, 5616205, 5616201, 3082648, 75209, 75204, 6056013, 2056909, 4624300, 4162201, 8651569, 2684216, 859550, 6353431, 5357521, 4391995, 3036363, 5616200, 5562147, 6652784, 6242183, 6242182, 5051597, 3721749, 3082652, 8502268, 8081615, 7778676, 7778675, 7671002, 7670998, 6543419, 6395919, 6361844, 6111441, 5545089, 5288519, 3803513, 3803511], 1108307: [6229921, 1211081, 8248768, 4565821, 1705372, 2766060, 6215678, 1211088, 5442083, 2766064, 2766059, 8187314, 3604627, 4555853, 5855275, 5423622, 6494895, 2290457, 1211086, 5830943, 5591782, 1211087, 6215680, 4555845, 3416127, 8205020, 3647650, 1650948, 4565822, 4467942, 3154394, 2895836, 8837854, 81370, 8248763, 6397407, 4555851, 3679634, 2593309, 2376752, 2376751, 2290464, 1211083, 5612917, 2766063, 5436771, 175203, 1681472, 81378, 81374, 4565826, 3307480, 1211089, 1211082, 2469721, 3337661, 8248770, 2766066, 2766062, 2376754, 3826913, 3307485, 8050877, 7804853, 6411867, 5404931, 4565828, 4105440, 3376167, 2766058, 1650945, 4555854, 7393057, 7393052, 6397413, 2593315, 2290456, 3416124, 5591778, 5404935, 5170915, 4555848, 2988983, 2376757, 1820259, 1820255, 1650944, 6215679, 5296206, 7970848, 7034461, 5170918, 7804851, 2290460, 6411868, 4510043, 1211090, 7551273, 3235364, 5323570], 966413: [7051671, 320945, 3793421, 2758355, 2588722, 6239890, 3379682, 6424655, 5323852, 4297951, 2758356, 6239882, 5938287, 2758357, 5648871, 3615888, 2588719, 7096069, 6239884, 363249, 7557221, 3793420, 8047636, 2905884, 3615887, 8837418, 4650631, 3379683, 240971, 3283016, 8096229, 6424656, 3615881, 867908, 757118, 3398700, 4722311, 3320169, 6548088, 5938285, 3615880, 2588723, 8474376, 5634828, 5459711, 3674094, 3615882, 3172508, 2518494, 1561281, 8029905, 5883973, 4321745, 2518496, 2518495, 2518493, 297448, 5308287, 7096071, 3153959, 827820, 802895, 6548084, 6273817, 5938282, 3674095, 3615885, 3398708, 3318855, 2905888, 2758358, 2278363, 474737, 8474377, 7506830, 7196941, 7107701, 7051667, 5634829, 5629914, 3379677, 757122, 757115, 320952, 320949, 320947, 4180468, 3650057, 3068983, 4528863, 8029904, 7681668, 2966217, 7557219, 7154420, 7098299, 6239881, 5883968, 5824787, 5824782], 1111546: [8147311, 8147315, 2760190, 1141026, 4700239, 8147313, 7587288, 5052458, 5052451, 4700233, 4185293, 4185289, 3622762, 1141032, 445253, 7440164, 7410556, 7003168, 6451339, 6278101, 4944898, 4613888, 4118433, 1846933, 1141031, 8147310, 5600889, 8412284, 7491448, 7491447, 7003169, 6619092, 6619091, 6451344, 5845168, 5815477, 5052457, 4700232, 4613889, 4613885, 4304359, 4118427, 3622757, 3202035, 1846930, 1141034, 1141030, 1141028, 203438, 152369, 135661, 6963365, 5965875, 6963368, 2320858, 5656520, 8087630, 8087625, 6963364, 947307, 8087629, 5967681, 5965874, 8815748, 8087624, 6537154, 6481152, 6449398, 6222892, 6164360, 5967689, 5967687, 5594298, 4540076, 4018468, 3632662, 3606158, 2949104, 1697051, 1561269, 926122, 926120, 8698582, 8087628, 8087623, 6963367, 6455173, 6301669, 6162724, 5961014, 4880774, 4769406, 2892278, 2892277, 1671471, 1417554, 632401, 309464, 1846937, 1846936], 156493: [2411918, 6139386, 8182166, 885944, 8029433, 2317807, 4940228, 6983822, 2616515, 8245444, 8182165, 8182161, 3288600, 3288597, 3288596, 2949801, 2259183, 6859025, 994482, 1277727, 7371078, 5022725, 8376847, 8376842, 6859028, 6859023, 4400818, 3349838, 8245439, 6859027, 3179963, 2708309, 2708304, 2259185, 7371077, 5346660, 2949802, 2612492, 1347266, 95514, 8273018, 7371079, 2259182, 1277724, 6267258, 5406908, 1960255, 8245443, 8245442, 8029436, 7663272, 7371081, 7063365, 6859031, 6859029, 6642654, 6524745, 6464089, 5877550, 5877549, 5437919, 5122741, 4400817, 4400816, 4400811, 3218250, 2717165, 2708303, 2411912, 2411911, 2317803, 2236390, 95513, 8273019, 8273017, 8182160, 6357270, 1277725, 349638, 8029430, 7663268, 7483864, 6983825, 6983820, 6983819, 6859026, 6859024, 6859022, 5433707, 5433706, 5346656, 5122743, 5009748, 4527708, 4527705, 3349833, 3218255, 3180514, 2717158, 2708301], 1124145: [526365, 526368, 526364, 526372, 7690416, 1927060, 5885684, 5885680, 8491736, 8303973, 5885679, 5885677, 526363, 8207766, 7059875, 5885681, 5422513, 5422508, 5233181, 3762728, 554541, 8305192, 8027397, 8027393, 554544, 5362403, 3133442, 2984690, 8601501, 8384187, 8027378, 7747936, 7747931, 5938197, 5885678, 5422507, 5233177, 5233176, 3762727, 3762722, 2285084, 1926728, 1926726, 1926724, 554538, 8305195, 8207761, 8207760, 8027396, 8027395, 7947542, 7690421, 7690418, 7296960, 7144383, 7144382, 7144379, 7144375, 7059876, 7059874, 6775997, 5885685, 5885683, 5885682, 5519056, 5422514, 5233185, 5233178, 3762730, 3064301, 2285081, 2174751, 1927054, 1927051, 1799978, 1220344, 1119804, 554545, 554543, 526370, 526367, 8305188, 554542, 5949587, 5362402, 3591683, 554537, 4109439, 4030402, 3978836, 3978834, 3956259, 3762729, 3762723, 3661612, 3545728, 3545727, 3047024, 2942518, 2924861], 1110199: [8160520, 3838645, 3609843, 554521, 398442, 5600214, 3447960, 4511137, 4558064, 6161016, 1957395, 7891043, 8301971, 6430362, 6430361, 5326655, 5218014, 3722531, 3342396, 879021, 557605, 167604, 7837903, 2975909, 7676274, 7374632, 5460001, 7960023, 4597572, 3967240, 7688977, 7038440, 6450552, 4181876, 2347591, 2132644, 1809286, 1276856, 972987, 549756, 4082283, 8160527, 1901881, 8160523, 7680811, 6392463, 5716613, 4750530, 4511144, 357932, 5846443, 1795043, 8448196, 8299274, 7860697, 6489317, 4250511, 3203333, 3038572, 1079807, 8011652, 7891035, 7628036, 7418916, 7418915, 7374629, 6557396, 6505415, 6002288, 5460003, 5313571, 5049890, 4579297, 4558063, 3533183, 2132650, 2132645, 549750, 255516, 2330472, 7006774, 7006766, 6383464, 5811657, 5811656, 5811655, 4982694, 4487656, 4005659, 2917466, 1519803, 1176155, 355295, 5628776, 5613980, 5613973, 5495456, 5495454, 5495450, 5459999], 1056204: [6486837, 1996042, 6693226, 6693224, 5234797, 6046708, 4929932, 4620531, 2053688, 8255942, 4298401, 2053685, 5086588, 5086587, 4298410, 1518210, 5234795, 1928838, 4504066, 1505442, 7160090, 3642275, 69062, 2664096, 3144979, 5643823, 4504069, 4298403, 2686337, 5086590, 5234791, 2724786, 3843254, 7005143, 6772592, 4829662, 6020711, 69057, 69064, 8676395, 2576450, 6046704, 5220630, 3343476, 2724573, 3218341, 8617078, 5043419, 7777875, 2576447, 4504065, 2053687, 8670687, 6804163, 6772587, 5643825, 4546394, 2710959, 6020708, 6020710, 6083075, 6772586, 2625580, 1728407, 5156986, 635534, 2370147, 4546393, 2858981, 8769900, 5699487, 5432495, 3418792, 3312362, 319105, 4504064, 3399501, 1907059, 6046710, 2352830, 822977, 4359959, 4298405, 4196751, 5643824, 4546399, 6046702, 4776029, 5043418, 5344802, 8785140, 5865316, 5444384, 8040618, 6340535, 4504067, 5466652, 955522, 3418795, 4548009], 199143: [5056759, 5056755, 8311584, 8311587, 4892011, 6356269, 5224835, 8311590, 2639428, 8455866, 7557853, 8311589, 6828416, 5402598, 7592619, 4892014, 5839572, 5402599, 2641186, 6005444, 584775, 6291573, 5698851, 8311588, 5402600, 7233904, 2256971, 2430647, 3728906, 1158668, 524470, 1374016, 1247002, 3261845, 8311586, 7088053, 6828417, 23776, 5940730, 751464, 6332561, 5839578, 1204149, 7233908, 7094922, 3357393, 4960723, 5357241, 1856116, 3111582, 1401032, 6356267, 2763699, 5056758, 7193910, 6369957, 5624760, 6780981, 6165233, 2743758, 4990581, 7247991, 1892924, 6291580, 6828418, 1352694, 6145961, 2909314, 2641193, 7996118, 6519942, 1333278, 3150545, 8557031, 5549965, 6780985, 1969981, 1969980, 7828951, 1453355, 239931, 2192641, 1647793, 2207312, 1830539, 2642826, 4358217, 6332563, 4686412, 6440881, 435433, 5516015, 4817326, 2277033, 4862368, 6495534, 6356268, 6475872, 6145965, 239933], 835929: [7210707, 3205505, 6207220, 5131821, 7829361, 3205501, 1859028, 82561, 2328352, 555650, 7465438, 7942198, 7829362, 6479285, 6207218, 1859024, 7936139, 7476918, 7145416, 6754905, 4569663, 4216180, 555655, 555654, 6207221, 6196266, 5146729, 4216182, 3205504, 3179087, 2952556, 1729928, 82556, 1157282, 7348700, 8468550, 4569672, 2676901, 1685223, 82554, 1157288, 8566564, 7936147, 7829367, 7509159, 7348705, 6479280, 6295788, 4962026, 4692086, 4572256, 4542368, 2952562, 2610100, 851536, 555653, 555651, 82558, 8815044, 8604605, 8604601, 8566563, 7936145, 7841138, 7829360, 7465434, 7145417, 6969750, 6868822, 6868819, 6013740, 6013738, 5301437, 4711715, 4664070, 4569669, 4565960, 4216185, 4216184, 3205502, 2440066, 1957173, 1908268, 1835348, 1296966, 555652, 14747, 6265451, 8319697, 6581762, 5876232, 2077677, 4706162, 4216186, 5603019, 3740334, 3740332, 8428252, 7969326, 6214866], 1063750: [4788295, 2997653, 6093904, 6093907, 4788297, 3327051, 7952971, 6486433, 6314894, 1506582, 4337527, 4337526, 6666451, 4788299, 4788296, 4329899, 4096516, 2981566, 2516, 5937604, 8251701, 4414266, 4164404, 3388270, 3388267, 2711887, 2489562, 1526356, 8506050, 7571426, 5659951, 7711212, 3327050, 5859941, 7561482, 1574995, 8264764, 8319520, 6383600, 7441871, 4922958, 2007422, 5113521, 4241171, 819284, 819283, 8251296, 7781321, 7778348, 7396984, 6754262, 6412975, 6166999, 5513299, 4234223, 3827056, 3524139, 3131255, 3045442, 2250780, 2250779, 2195061, 1257677, 927567, 245009, 7303375, 6376129, 6098651, 6073708, 5746663, 1599437, 507277, 5853864, 1739177, 8312061, 4240499, 4234217, 3827050, 1999122, 216863, 6441046, 6219135, 6058448, 2855274, 1247131, 11246, 2643004, 7778351, 2531262, 2499714, 2391457, 2380068, 2305581, 2048290, 2002911, 2002909, 1747827, 1747824, 1719079, 1707415], 1104031: [4711154, 6243964, 81487, 6243959, 4793445, 1031803, 613831, 2759527, 6243957, 8217771, 5332965, 2040113, 2759535, 6669853, 3689289, 1809426, 2702744, 3279518, 4866917, 4083091, 4137852, 4137851, 4406931, 6149761, 6549925, 2759526, 4523246, 4646743, 1665280, 2759528, 1809431, 1809429, 5565077, 4292942, 1928060, 5662894, 4473010, 7132461, 6281227, 8089370, 1249130, 112209, 112204, 5914995, 8117753, 2385746, 630818, 1809428, 2867813, 7312792, 6281225, 4292947, 4718123, 1061234, 3279519, 6243963, 1551854, 6243961, 3934678, 5337510, 112210, 8679347, 788459, 2385743, 361215, 2368054, 630823, 8419497, 2073003, 2072997, 7020203, 4389780, 3689297, 3689288, 5257455, 3279516, 3904810, 3279515, 1899135, 7471073, 8576087, 8576086, 8217767, 8217763, 7950731, 7896092, 7466506, 4292943, 1441633, 31117, 2380846, 1870096, 7675712, 5877493, 7531781, 8181569, 1259212, 3536289, 7950730, 6243960], 398483: [6156344, 2239519, 487271, 7751968, 6482430, 6254329, 2834690, 8314661, 7771241, 1509223, 42181, 6563406, 7432724, 1708541, 5471476, 256645, 6523080, 6280692, 1133483, 1126181, 5198486, 1649488, 8261719, 7933164, 7041750, 6264970, 5695392, 5577030, 4854066, 3385783, 2619668, 1031363, 8479605, 8261722, 7673789, 6824888, 6494730, 3474525, 2209870, 1865254, 1438748, 7751969, 5747185, 5341850, 2454539, 209304, 4817666, 5071181, 257012, 440729, 8829482, 7920858, 7920857, 7803491, 7332700, 6772185, 6772183, 6735297, 6558447, 6514738, 6254330, 6254328, 6060379, 5967539, 5871872, 5772897, 5648962, 5402591, 4802214, 3578937, 3385784, 2991446, 2637495, 2015965, 1918385, 1590869, 1472132, 1259721, 621816, 316938, 6817509, 4516536, 42182, 6549803, 4516533, 4516531, 3829032, 784302, 257009, 7430182, 7053309, 6993450, 4570810, 1999513, 8372701, 5881814, 5471473, 1929762, 1306060, 3829029], 432930: [8410596, 8410594, 8410602, 2680926, 8410598, 6257579, 4043555, 3874336, 6891430, 6257581, 7546502, 3889512, 8410597, 665366, 294516, 563686, 563695, 7601922, 8173803, 1377675, 2680927, 2155962, 470697, 114208, 118912, 6931446, 7646202, 2610427, 6931448, 6057528, 6069164, 3101380, 7443904, 2509235, 1134902, 6931447, 4041405, 4884318, 6057529, 114207, 8144664, 8084775, 5680757, 3889517, 3889514, 1377672, 6868622, 872337, 1458383, 2096264, 2096262, 3791963, 3308877, 2949422, 2544740, 348853, 5153509, 6553912, 7142943, 118914, 2694991, 7921204, 4043552, 6938272, 6069172, 6813722, 4879207, 6244064, 1669000, 3280891, 4397479, 166322, 6057530, 1791732, 5304659, 6158166, 8527130, 7601923, 3474539, 4606963, 8410595, 1377265, 93313, 6813719, 5162874, 5045163, 1377259, 5728383, 1377670, 7427095, 6931443, 6641740, 1361326, 1236436, 3946503, 2628168, 5889407, 4105189, 5919144, 6244069], 478605: [3736270, 8404575, 8755204, 8404583, 3736269, 6010351, 2146424, 1088842, 5527592, 4423500, 5378650, 1258970, 8404582, 8404578, 908951, 8557806, 8557801, 5684693, 5023011, 8404581, 7959719, 3736272, 8700958, 7685356, 1575330, 293324, 8623491, 4352333, 2542279, 799698, 5565552, 7117751, 6157915, 5023005, 3617173, 1109280, 8173587, 1881301, 6413614, 5046904, 1262471, 2349342, 1917635, 1917642, 5378652, 4886229, 1258973, 6900783, 5378651, 284421, 8404579, 3807169, 2146431, 2146428, 6765, 5909751, 705721, 6934178, 8700959, 8700954, 8700952, 4313807, 8755202, 2115792, 7871705, 6346160, 5828549, 5453133, 5146446, 4743941, 3511556, 2724019, 1753322, 1567620, 1343774, 1150981, 546081, 478492, 218541, 8404577, 3807168, 6935974, 800945, 511790, 6340890, 7012995, 2102279, 1918756, 6134715, 1504010, 8368505, 227203, 1258974, 3122441, 8623492, 8623488, 6797454, 908950, 6813840, 8700950], 1044797: [1795108, 4977786, 5658896, 5148739, 1795106, 4886156, 3235003, 8679694, 4111252, 1795101, 8683724, 6760610, 4666654, 3408873, 3331652, 1565593, 748542, 7578414, 6340625, 8679690, 8457797, 8457794, 8243231, 6479724, 4749216, 4165711, 2488906, 835748, 8679692, 8425090, 8253958, 8145811, 7493441, 5671358, 5446916, 3385499, 3213595, 2118256, 473632, 8797344, 8679696, 8318264, 8145812, 7652338, 7357592, 7244334, 5544856, 5507363, 4643997, 4001875, 4001869, 3235004, 3235002, 2525714, 2488910, 1795105, 1546577, 1506697, 931500, 8778788, 8679693, 7652339, 7492013, 7357589, 7163808, 6834926, 6834921, 6668843, 6545803, 5754707, 5671355, 5507366, 4841899, 4727401, 2022478, 1936981, 1784714, 1784713, 1546573, 1112823, 569649, 2344559, 1455876, 5712591, 3553369, 1935289, 1893698, 1893697, 1873380, 317664, 5712588, 4658404, 3553364, 1893701, 5667543, 3553367, 3331647, 3164187, 1455882, 944170], 1124464: [5157556, 3796062, 5093165, 2637864, 906090, 8024103, 3796061, 1593566, 8715580, 5611859, 4141773, 4135217, 4032389, 1553683, 6896919, 7781342, 7781337, 7084162, 6442358, 6442352, 5936315, 5093158, 5093157, 4180349, 2854957, 647251, 647248, 51493, 3469306, 3469305, 5136946, 550949, 7496226, 3602530, 787635, 8024106, 8024101, 7984725, 7781341, 7781340, 7781339, 7503487, 7434466, 7152318, 6557702, 6542120, 6442355, 5884331, 5213992, 5157558, 5093162, 5093159, 5093156, 4898268, 4157283, 3343846, 3343841, 2638601, 2164054, 1502537, 1502536, 1502531, 1445157, 1285320, 1028741, 875766, 697529, 647253, 647249, 377801, 308401, 288700, 288697, 51497, 51495, 51491, 8095094, 8072762, 7206984, 7206978, 6949809, 5479668, 8792731, 8586047, 7930606, 7396148, 6967615, 5868379, 5029634, 4297871, 3469311, 2450287, 1278441, 934509, 6967614, 6967613, 6351618, 6351617, 5136941, 5029633], 1107988: [5783056, 3121786, 4349541, 4316094, 3817719, 8238832, 4147975, 8238830, 8238829, 7126834, 5328786, 3681614, 3681607, 1778599, 261113, 6996163, 3703330, 8163274, 7201507, 6244417, 5552997, 4349543, 5328784, 4008240, 1639218, 8238836, 6996158, 3817723, 3121782, 596365, 8238833, 6233682, 6233681, 5783063, 4432436, 3875581, 3703333, 3703332, 3570363, 1174576, 261110, 2192857, 1639213, 8193457, 8163280, 6996164, 6244412, 5783060, 4960398, 6211998, 5783057, 4147971, 1778606, 1778605, 6511137, 6244418, 5783058, 3875583, 3875580, 3817718, 3570359, 3218592, 3121789, 3121781, 3026272, 2147022, 1778602, 921359, 596370, 7126837, 2861240, 8181275, 7101165, 5083978, 261108, 6256454, 4651186, 4378358, 4378357, 4378356, 4378355, 4147976, 3895830, 3817724, 3703327, 3680028, 3635279, 3612831, 3612826, 3570360, 3570356, 3218593, 3121783, 3062109, 3026273, 2760822, 2760821, 2646405, 2147025, 2147024], 130510: [7501563, 1494936, 7125239, 1494935, 996732, 799647, 8612906, 4022909, 4022904, 1494932, 1494930, 1110766, 996740, 5685710, 1047769, 7708723, 6881821, 6881820, 6881818, 5930010, 5685706, 6172269, 4089773, 1494931, 4189500, 5685711, 5415276, 2282531, 5930018, 5930011, 5685708, 5685704, 2589317, 2490145, 7696346, 2881563, 7501557, 6763277, 6486232, 6183638, 6035035, 3995677, 1494938, 8665472, 7476127, 2191828, 1047766, 6172268, 2191821, 1221427, 1047775, 8612903, 2407055, 8451681, 6311867, 6162832, 5741269, 5508459, 5287797, 4329884, 3663460, 3663459, 3663457, 2407063, 2407061, 2236894, 2191826, 2191825, 2191822, 1445210, 1221430, 1047773, 724961, 7529548, 7298862, 6542823, 4202076, 2961568, 1476289, 815703, 566525, 348429, 6162829, 5934990, 5855637, 5743112, 5508458, 4653478, 4504390, 4219576, 4060394, 2961566, 2959128, 2129894, 1997918, 1848366, 1832478, 1316418, 1288887, 1221433], 1127893: [8698940, 8698945, 8698946, 8698941, 6788279, 8698938, 8039150, 8698942, 76632, 1816373, 8518448, 2855592, 5357945, 3003195, 6788282, 6366578, 6841788, 2773885, 7035418, 6792262, 6840457, 2137517, 5244192, 787350, 8698944, 5878741, 5587014, 957685, 8602161, 8446815, 8148845, 8120218, 8067186, 8040366, 8037444, 8025175, 8020360, 7679170, 7642723, 6782245, 6545202, 5700797, 4191542, 2152966, 2152960, 1783665, 1487479, 1064932, 1064928, 849179, 833602, 809382, 363565, 7691065, 8518756, 8461248, 5878738, 6497775, 8698943, 5878740, 7464022, 654623, 500938, 5626214, 628367, 783365, 6874422, 5727695, 3684853, 1180344, 751948, 7691064, 2124707, 6792264, 8504311, 5587015, 2896028, 6935839, 6788275, 6168936, 6092397, 2561239, 2513154, 2019536, 6707842, 8813225, 8273340, 7666335, 7573022, 7497296, 6830543, 6005128, 6005127, 5878739, 5295047, 3729073, 3576730, 3098906, 2908380, 6167825], 1135377: [8053974, 8053973, 24581, 5674600, 5674594, 762503, 3776299, 8599509, 7445171, 7267011, 6888417, 6740607, 5674601, 5302441, 545635, 4386107, 8388483, 6313945, 3202806, 3099012, 6403354, 6177653, 3234260, 4549305, 1086904, 6588151, 8352440, 6654643, 6081151, 1941133, 5090272, 8314064, 4453033, 3448273, 8754489, 7601002, 5701184, 5499179, 5493752, 2293406, 585309, 8786679, 8310513, 92278, 1474197, 3468489, 7692421, 7907895, 8413363, 8768819, 5653542, 8754488, 7104059, 6753650, 5136004, 4728617, 3883280, 3100389, 2103729, 3776301, 3020618, 8809502, 3066867, 1718491, 1109000, 1086903, 8167625, 2505021, 1509001, 1227972, 8352437, 7151790, 1908936, 6081149, 4451167, 6993085, 6993078, 6463077, 3567691, 7878746, 6384086, 5142538, 3902145, 68260, 8631944, 7823785, 2281565, 867614, 746931, 167947, 8163500, 8128333, 7618581, 7087147, 6948042, 6809633, 4406009, 4138544, 3883279, 3379265], 1126206: [5948392, 2547468, 1242148, 3825039, 4290828, 1242141, 4591259, 2382884, 6188821, 1242140, 6188819, 7657600, 1236794, 1242144, 4040780, 5441951, 7979003, 4835940, 6657989, 6216845, 2382878, 2382881, 2382879, 2538121, 4959177, 4488459, 4934505, 7105401, 1242146, 232027, 7796272, 5537945, 3825042, 8143166, 3084653, 2100770, 1242147, 4040784, 6283290, 467765, 467766, 2457018, 2100767, 530081, 6278529, 6215119, 7644241, 467769, 4934502, 4040782, 6188820, 2382882, 5537952, 4652225, 4040775, 8641353, 7758417, 2538123, 8150923, 4835938, 6030934, 4040783, 3825044, 1242142, 52180, 2382887, 4040779, 6265029, 2263540, 8131527, 6920864, 2272981, 2538127, 4537902, 3825035, 1194644, 6215121, 8150922, 6278536, 6216851, 5018282, 4934498, 4063179, 5980488, 1200863, 369963, 369962, 5948394, 2538125, 4833018, 6493915, 2538124, 782930, 1804350, 4537898, 3902728, 4934504, 3436181, 3436179, 3436178], 645693: [8516621, 8516620, 8516618, 3112254, 8516616, 7875156, 3834194, 8516615, 6135345, 5395369, 2474129, 529203, 2474132, 2474130, 5216235, 6984498, 5957911, 340443, 2935495, 8078496, 529208, 5072031, 357733, 698979, 340449, 1364149, 8255374, 6265451, 6330189, 4052043, 6573752, 6446413, 4190416, 2142736, 975188, 503482, 503480, 8503660, 8259441, 8096314, 7842588, 7350139, 5903565, 4288591, 4275196, 4190418, 3217252, 2935493, 401541, 8414264, 6260859, 5403450, 1271601, 8642816, 8207115, 8014708, 7902799, 7739714, 7172725, 7098102, 7023523, 6545894, 6545893, 5579615, 3893137, 3229821, 1920170, 80360, 8503661, 8503658, 7458071, 5692103, 5603058, 4088923, 3344867, 1048598, 435375, 167712, 7559887, 7457395, 6984495, 6664836, 6446410, 6330193, 6270707, 5720147, 5692817, 5608015, 5035327, 4318221, 4264588, 4052047, 4052044, 3217249, 2935500, 2675303, 2200175, 2142734, 2142733, 340441], 1133328: [5213266, 933779, 5393194, 7773044, 7906344, 2680672, 7066225, 7944631, 74709, 2372179, 8825526, 5515093, 7793498, 6455436, 997258, 3835263, 7552619, 2276562, 5127954, 8178344, 7760365, 7793495, 5640377, 2372180, 3822548, 3717259, 1435106, 3761469, 1925200, 6647044, 3822544, 2276558, 2372177, 2318027, 4223449, 7316466, 5515092, 3699628, 2372176, 8241738, 6395114, 6004627, 1604538, 3717260, 5440597, 5515094, 47174, 7944632, 3028406, 8236828, 6395115, 4366726, 5318350, 2064654, 1817968, 4741212, 2574751, 2101098, 2276560, 8236827, 2680670, 5009471, 4342532, 7685928, 5619691, 2372181, 2268101, 2064655, 1347796, 1270139, 1141949, 997256, 3476616, 2699044, 1817973, 1479000, 6197787, 8539214, 7760361, 8458060, 5640383, 1604546, 819556, 6666924, 4366729, 3822543, 3136862, 1604541, 194782, 8557036, 7760360, 3395239, 3156089, 2699042, 2159952, 1478999, 1478998, 8665689, 7906348, 7458479], 646207: [7165654, 13053, 7165656, 7120702, 13056, 6285726, 5826543, 5046349, 5046348, 959365, 2302746, 7878504, 1881018, 1881014, 7671056, 4295551, 1229418, 7532771, 7459383, 7459379, 6899803, 3418496, 1906390, 8321834, 6000536, 6051121, 5536412, 1625908, 386192, 7851026, 2284497, 8101574, 4494542, 2635357, 7350036, 2639008, 396120, 4675117, 6804186, 5697039, 5124957, 1092588, 7744344, 1929281, 6045325, 4938867, 5564241, 4473831, 3671528, 394743, 6578320, 5233259, 3975489, 7345884, 7060792, 6758041, 6271327, 6043039, 4409318, 2302751, 1844984, 1625906, 1471831, 288236, 7310396, 1067938, 6130194, 5036214, 1565096, 1022656, 4009413, 8669793, 7165650, 4643640, 4643638, 4327590, 5930841, 5816858, 5416365, 6246656, 5363212, 8821055, 8594322, 7643370, 7200032, 6895919, 6730234, 6245430, 5992134, 4100927, 4085628, 3070389, 2872499, 2382045, 2034764, 1548736, 1127473, 8101573, 7248132, 7248126], 1012021: [1941265, 8682468, 466077, 5360263, 6090598, 865129, 3704757, 4695043, 466078, 8324555, 6912389, 1340479, 2670865, 584502, 3795087, 2494914, 341702, 6810939, 1941271, 1941270, 942684, 6912392, 5198410, 1454236, 2842368, 8795580, 5182945, 3735421, 8289144, 7398145, 5813837, 3321204, 3580836, 4623012, 4407053, 7318516, 3520218, 1550680, 2434427, 8275104, 7914592, 1936438, 1552486, 1212741, 3082308, 8342750, 7840768, 5558453, 1158659, 532756, 6301482, 3579772, 8606346, 8606341, 1340482, 802250, 5163596, 6308108, 6090595, 5482886, 5404785, 5248170, 1092109, 8541156, 1436124, 5933049, 3915440, 8331682, 4695051, 4695049, 1552490, 1340476, 960443, 354829, 8607056, 679461, 6842913, 1552484, 7638975, 2901101, 2787884, 1939335, 6912390, 1053245, 6890172, 4871543, 703497, 7238936, 7056737, 4407056, 4407050, 3795239, 2084176, 1036356, 1036354, 7850350, 4871544, 5704798, 4871542, 1196954], 489204: [5583224, 678245, 8737051, 528349, 528348, 1310103, 7113153, 216492, 8737053, 1418931, 1310108, 1310107, 1310106, 4918001, 6661536, 7660249, 1310101, 5519177, 1778458, 6237430, 6237429, 3075337, 973923, 5895917, 2959687, 1479542, 1950269, 3049941, 6753503, 6753502, 4387756, 4430765, 8376910, 535375, 4917998, 6327176, 6327179, 6327178, 66437, 1642421, 1642420, 4918005, 7358643, 8055356, 4917999, 2218038, 852257, 1418935, 1319513, 7718090, 6397957, 114148, 1051498, 1410255, 1410249, 6327182, 6101884, 1965358, 1410250, 6087671, 4777497, 1871772, 6153007, 8269322, 1950273, 1070807, 7734612, 3744940, 855969, 6065708, 6237427, 3075338, 5590163, 6059416, 2330481, 4174215, 7232781, 4918004, 8083618, 4917997, 224747, 3716313, 2373000, 7564980, 6237428, 2268657, 2372993, 1538587, 224744, 5856570, 5640846, 4218632, 1958136, 6204208, 420290, 6065704, 6065710, 1736553, 5261291, 8167516], 1119075: [8165856, 8075059, 2067687, 2988032, 7105865, 7133141, 6670854, 6670859, 6670857, 653852, 6196347, 7215260, 6196343, 8075061, 6670860, 6670851, 4503603, 7215261, 7133140, 1516867, 6670856, 8075058, 16175, 8075063, 7133143, 6670858, 6196342, 16173, 7215257, 6670855, 6670853, 6670852, 3346258, 7215264, 6196344, 653849, 7133137, 1379739, 5890184, 6196341, 7215259, 7215258, 6982585, 6982584, 6982582, 5890183, 5890182, 16174, 8165862, 5890185, 1379740, 7215262, 2492801, 8165861, 8165857, 7133139, 7105868, 6196346, 6196345, 5890177, 2564262, 2067685, 653853, 653845, 16178, 16176, 1516865, 7215263, 7133138, 4503604, 8075062, 1760640, 2870496, 4503606, 1955506, 653844, 5890179, 4353429, 2067684, 1379745, 1379744, 1379742, 1379738, 7356070, 7134112, 7105867, 7105866, 7105864, 5833085, 3540676, 2067690, 1379741, 1379737, 1379736, 754873, 7133144, 7133142, 2018495, 1004828, 5890178], 573724: [3365633, 3146238, 3365631, 3365638, 3365636, 7384332, 87405, 7609926, 1165129, 2417985, 7384325, 3365632, 7199669, 1816038, 6121093, 7609928, 3146236, 394139, 2002448, 5310530, 7674858, 5047796, 7609930, 3365640, 3146240, 7609927, 7199674, 87409, 8441642, 3365635, 394142, 394136, 7609929, 7199672, 1183178, 8450864, 7104826, 6334630, 5733261, 41433, 5339620, 8492171, 8626956, 7199673, 8833192, 8444730, 7609932, 7199675, 5384308, 1509942, 1293333, 2932991, 1852621, 3254868, 3365639, 4041520, 2536258, 1509944, 6911370, 4283854, 4199099, 3254871, 855581, 8540429, 6084690, 226245, 8404002, 7609933, 7199667, 7104825, 5962424, 3617636, 6016808, 1998597, 8047166, 5185671, 5185664, 3897221, 150398, 5308661, 2660859, 535798, 2719662, 1509937, 525215, 5694507, 5962426, 4457787, 2133806, 1183181, 160844, 148751, 8837926, 5733257, 3254873, 7376280, 8047172, 6823994, 5733256, 4041522], 600573: [6197299, 6268923, 2081549, 8548609, 5136316, 4812123, 4611231, 2850531, 2733298, 4194852, 201232, 3543256, 6973156, 7053094, 4140572, 1050102, 6973159, 569268, 6312429, 8280787, 7416407, 1790844, 1923120, 3280247, 1374242, 1212233, 125035, 572317, 4032737, 1947752, 1947751, 1192890, 583901, 4812125, 171860, 3941083, 3074947, 8286403, 911923, 7599981, 6973158, 6716608, 5802022, 1132680, 5376015, 1397608, 201233, 2525079, 6192648, 4846738, 4117500, 1312376, 2143662, 1883936, 6009117, 3879362, 3537515, 158724, 6861913, 6484761, 3485537, 423563, 8516012, 2718565, 2196128, 1048866, 661559, 6940747, 1970351, 171861, 7039080, 1393376, 3069839, 6973163, 1941564, 8000504, 3087262, 3940350, 5648149, 6215048, 7639623, 4710481, 2065519, 2065513, 4288589, 2322120, 7568584, 3082245, 5239123, 3745791, 6206097, 5133067, 5843334, 3071848, 1782052, 1410481, 171859, 8631917, 7003235, 5872053], 1120447: [5664635, 8062202, 815123, 7148039, 1788612, 2458314, 5409309, 8062204, 3768464, 1670842, 6523749, 7260241, 6881896, 5664637, 6138608, 227632, 8062207, 6666766, 6383181, 1670844, 808695, 8320715, 7778434, 3885798, 3809508, 1759494, 8315161, 6037234, 915558, 824837, 492272, 215481, 198667, 6828735, 225059, 6981002, 8262127, 4416188, 4416185, 815122, 862130, 8062206, 7778441, 6031975, 5014446, 3885801, 3840913, 3789145, 2735241, 2459204, 7763556, 7520474, 5128250, 4711434, 2270914, 5662956, 862123, 666381, 8062205, 7911299, 3098603, 7911295, 7904380, 7036820, 4711431, 2707515, 1596861, 8647324, 8059491, 7686442, 7395206, 7017479, 6991144, 6880177, 5870526, 5341713, 4798711, 4798708, 3897131, 2764445, 2746259, 2203358, 2104085, 826793, 731295, 538310, 223002, 222530, 213427, 213426, 213423, 7914442, 6813890, 4927924, 4866353, 4150773, 3475847, 2268538, 984149, 808699], 574575: [6161786, 6021167, 1222553, 590546, 2828791, 7883300, 1222551, 1222554, 6161784, 3581241, 3070864, 5178979, 3619937, 1925812, 3219300, 5918478, 3542701, 1416540, 6161780, 5074107, 2077504, 766621, 1222556, 7789776, 4718678, 2504541, 3964152, 6470334, 978168, 7266280, 6100546, 8574932, 7740131, 3538805, 3241862, 8574931, 8574930, 3165860, 1615722, 971113, 6470335, 6217712, 4424784, 3999578, 2361247, 6907676, 6230620, 4466908, 2318167, 2032642, 7935743, 6183647, 3188002, 2943404, 2375366, 3994891, 2077501, 3595883, 1209000, 1620088, 6241706, 5559295, 6267842, 2868887, 7266276, 6267838, 5818870, 5136286, 1925805, 1211414, 6883339, 6183645, 1007725, 3768598, 5337556, 1463719, 1319049, 8430162, 2032646, 1280431, 2759592, 5178974, 6267837, 5241409, 5136285, 2940884, 2828794, 1319052, 1287119, 1215525, 5106777, 1319046, 6294617, 5295991, 3638730, 7918142, 7273141, 6226847, 6200060, 5559300], 1055865: [8654371, 7427204, 3318413, 8837068, 8654373, 3158312, 6449605, 4463868, 8654369, 3188497, 3753628, 7427200, 8654372, 8654367, 5491557, 5334029, 4219214, 4219213, 8388867, 499079, 7847456, 6140348, 3948878, 2796422, 8654374, 3319396, 72327, 5857241, 5334033, 7950540, 7737171, 6130441, 4773183, 1555414, 5217897, 7293622, 2492343, 5763294, 3453164, 8542391, 7293614, 6332669, 5780421, 4365993, 3714832, 3588294, 7742733, 499081, 495834, 8066229, 7258629, 4754161, 4587730, 4550876, 4452432, 4663943, 2997835, 813887, 6999380, 950568, 8800709, 72326, 5405925, 2670528, 8254716, 8254715, 5333114, 2226709, 95944, 1449729, 3158313, 3158310, 1098970, 7303665, 2410103, 8090674, 4721727, 6541019, 2957364, 2957360, 2221537, 495833, 3642669, 2899787, 95942, 8388874, 4721730, 7686433, 6540617, 3348627, 2685498, 7293601, 5780416, 499077, 8799177, 5326669, 2797419, 8654368, 3753625, 3318414], 494835: [6073328, 6073325, 8479965, 2855632, 2059328, 6073327, 4644641, 2560334, 8442446, 8479966, 8479961, 7173730, 6505523, 5902812, 462511, 8132241, 6199273, 4223589, 2816905, 8798875, 8479968, 8316349, 8316345, 7393558, 7041719, 7041715, 6808933, 6660622, 6660619, 2914089, 1959284, 279699, 4254836, 7977596, 7060353, 6541331, 1669497, 6073326, 5966057, 5916504, 5905063, 5902813, 5658594, 5658592, 5491264, 5385693, 5350787, 5322094, 5302566, 5247572, 5184760, 5114817, 5049410, 5049409, 4875624, 4801073, 4777648, 4777647, 4777646, 4709596, 4672529, 4629491, 4435899, 4370029, 4258048, 4154824, 4074845, 3967087, 3967086, 3802677, 3675591, 3675447, 3670770, 3462423, 3348308, 3280708, 3230630, 3197595, 3093357, 3069582, 2927963, 2886677, 2654077, 2560333, 2547751, 2354094, 2341282, 2331113, 2299391, 2225175, 2211254, 2061961, 2059329, 2014983, 2014975, 1959289, 1916698, 1766939, 1766938, 1713174], 1126814: [8783828, 8783832, 8783833, 3174224, 3174223, 3174218, 8783830, 8783826, 3328906, 8783831, 8783825, 2065085, 8783834, 8783829, 8783827, 7269600, 5472597, 1802937, 8606378, 6891510, 5731502, 3769004, 3311155, 3156474, 1454402, 1454394, 8584709, 8154500, 7040502, 6593894, 6585233, 5557079, 4356657, 3105164, 2946018, 2154868, 2085443, 8545787, 7327439, 6977529, 6261515, 6020560, 5823547, 5376065, 4467141, 4402540, 4356659, 4288188, 4040483, 4040481, 3786883, 2976695, 2657276, 2458831, 2154869, 2085449, 2085444, 1894734, 1710678, 1570931, 1527829, 1009930, 985331, 6049377, 5954081, 5953406, 5940970, 5869711, 5864016, 5756239, 5660091, 5656654, 5376063, 5260636, 4767228, 4762283, 4293237, 4288190, 4122859, 4083627, 4040484, 4040480, 3790153, 3750129, 3156479, 3128748, 3126835, 2812475, 2586251, 2578182, 2566042, 2458837, 2233880, 2095749, 2085445, 2073915, 2073912, 2073911, 1915306, 1796243], 168216: [13499, 3174840, 2265769, 3830857, 1381477, 6213325, 6061718, 3908773, 3399715, 3198687, 6213322, 2069992, 3198689, 6282561, 2790904, 3908774, 3908777, 3399713, 3344828, 6426634, 6264733, 6061722, 6061721, 3399712, 1183706, 6426638, 3908776, 1735358, 6282562, 6282567, 7745780, 2265772, 8639627, 2069995, 6061726, 3198680, 4792582, 661750, 2069988, 5293614, 8639630, 6329932, 1924800, 6264731, 6426632, 3198682, 4119829, 2659074, 1924796, 290826, 6012600, 8731621, 1301472, 1301469, 8141128, 6264734, 8252763, 2210774, 8723467, 3033359, 7049039, 5935477, 1735360, 6282560, 7492755, 6264732, 5935476, 4324487, 3681095, 1301465, 8639633, 4498419, 2210775, 2036279, 1301467, 731200, 6426631, 5024307, 3399716, 6061723, 8731622, 1860843, 6426637, 6213323, 3198681, 8731624, 8252764, 8185135, 3344834, 1274194, 2774860, 7492752, 7492748, 4938900, 8185129, 7492753, 7337519, 3908779, 1090088, 4498423], 100983: [1183962, 4005451, 1841071, 3319667, 6515061, 3318276, 4681480, 1183960, 7704807, 4902699, 5801466, 8720733, 7198157, 4486504, 6013124, 1336317, 3318273, 7485586, 4486500, 2820890, 8367729, 3081420, 6648234, 4918879, 4287085, 4005452, 2820891, 1815153, 1815146, 117382, 8720731, 5281612, 2370755, 593089, 6782187, 5644251, 2242608, 117387, 1336320, 7818822, 5690910, 7704805, 7198162, 6254706, 6240767, 2448814, 7704804, 5690909, 1336319, 4036596, 3318272, 2242607, 117386, 5737766, 5644256, 3318278, 2448813, 5594655, 3276467, 2370760, 2370757, 1183961, 7192780, 3319669, 3318277, 1478800, 1183965, 8720730, 6515060, 6241070, 5484058, 4287080, 117381, 6603551, 2641887, 1225059, 7818821, 5484973, 4036597, 3731047, 2820897, 2619208, 1465038, 486189, 486188, 7028999, 5817067, 5801472, 5281609, 5281606, 3276469, 3112007, 2853391, 2641886, 5801473, 5801470, 5480789, 5089965, 2816324, 1336316], 194013: [73074, 8108372, 73080, 73076, 73078, 2529058, 2557801, 73079, 1179977, 1179976, 73075, 577031, 7762107, 7411443, 3415029, 6287108, 569513, 3415030, 8150710, 2973322, 7052100, 5106308, 199036, 4086704, 3415035, 147581, 8199703, 4519053, 3035809, 1085036, 3350701, 6376328, 8199706, 1418196, 443270, 2223328, 1490698, 4503185, 4086703, 4086698, 1728627, 5863480, 1654485, 6989478, 8740156, 7445813, 4374402, 1882289, 1011355, 854409, 590037, 6241837, 8199700, 6864296, 6647513, 6387684, 6262578, 6039511, 5874746, 5520930, 3415034, 3415032, 3415028, 7005976, 6011545, 5595798, 3122624, 2220140, 5872228, 4099556, 7109104, 7090346, 6865886, 6744036, 5678037, 4227825, 1832000, 1509534, 354837, 310278, 7764026, 7764024, 6954173, 6083499, 5844692, 5431767, 5431766, 4665943, 4431539, 3415033, 2341626, 2339689, 2339688, 1728625, 1145188, 1134635, 615371, 105582, 4374408, 8415788], 1119092: [8097019, 8353484, 2649357, 8074961, 7152311, 8074960, 8074957, 277150, 277152, 8353481, 7177551, 2302961, 277155, 5807699, 5788330, 277149, 7395112, 3910051, 98888, 8748431, 8439267, 7152313, 7063290, 7063289, 5788327, 3891643, 8353486, 4414573, 2105112, 277153, 1272639, 1272634, 428321, 8097020, 8074966, 5402707, 5402706, 5402701, 5092397, 2649363, 2302957, 1603190, 1593293, 2559982, 8614896, 7679460, 6223289, 6223283, 4869418, 4327785, 1744564, 7751469, 6957140, 6489316, 8431511, 8388934, 8388930, 8264689, 8245262, 8097021, 8074962, 7925150, 7703044, 7467320, 7395106, 7395105, 7395104, 7395103, 7336352, 7082130, 7082126, 6489313, 6036158, 6036154, 5402699, 5340452, 5340446, 5340444, 5185838, 4512177, 4267737, 3485664, 2633256, 2321959, 2095103, 2095097, 2083987, 1406136, 1406132, 1406127, 1198691, 892626, 892423, 892420, 652064, 494402, 494395, 381284, 277156, 277148], 1133167: [5674622, 6467522, 7093509, 8160241, 8255705, 3421900, 3953805, 8160230, 1883281, 190809, 2611059, 2611058, 6467518, 5674623, 1824488, 7093512, 6930277, 3964281, 1883280, 6710762, 4188779, 4188780, 8033645, 4443375, 8033646, 7793414, 6112592, 4926204, 4498479, 3074598, 190806, 3964286, 4712273, 823277, 190805, 7091464, 4830311, 8250498, 6467519, 6299575, 6112589, 6112588, 4443370, 3421904, 1883278, 8484851, 8405623, 8255701, 6112586, 2276678, 823272, 7236839, 3964289, 1789859, 7486594, 7218016, 6257038, 6112590, 4550240, 3421898, 1883277, 1824487, 6530225, 6530224, 6530221, 6112585, 3964283, 3421906, 8839920, 8033650, 6103289, 4494097, 2613293, 6142, 8704478, 7942854, 7887733, 7835489, 6662634, 6530222, 6022013, 5475781, 4507841, 3893641, 3893637, 3512077, 3218783, 2869435, 2478183, 1962628, 1789857, 1164674, 1060136, 977421, 8484849, 8415742, 8255706, 8250501, 7793409, 7486599], 1133418: [8235137, 8235133, 8235138, 4352734, 4352732, 8235129, 4268149, 4268147, 6397517, 4352727, 2590192, 7267087, 5634114, 7500221, 7500220, 2590187, 5234842, 529677, 6562492, 4302832, 2836126, 8237965, 5400969, 4352730, 4352728, 4489642, 8731392, 8155316, 8120993, 8120989, 8037218, 8036381, 8035716, 8035122, 7215807, 7094514, 7092138, 7090754, 6925630, 6562485, 6405586, 6269068, 6111058, 5973186, 5908567, 5868880, 5634109, 5621437, 5621436, 5621434, 5146828, 4492493, 4204915, 4066160, 2832153, 2590186, 8769779, 8205581, 8060404, 7755452, 7266119, 7266113, 7227761, 7213278, 7005138, 5977073, 5334567, 4964098, 4535185, 4155139, 2700023, 2388900, 1410584, 475333, 130707, 4268145, 4268143, 7292065, 7036397, 6990233, 6852932, 6841389, 6832432, 6084705, 5621431, 5234846, 5214290, 4878123, 4871714, 4841786, 4757699, 4459882, 4456535, 4348378, 3905186, 3372067, 3190241, 3000440, 2700022, 2700019], 427578: [4004813, 2315696, 4702663, 2240673, 2266708, 6577520, 1050420, 2190824, 2332136, 3845137, 2567622, 5032044, 5032043, 1612888, 4045384, 290704, 8368450, 4724792, 4128818, 3541534, 2240676, 7071443, 4913888, 5342170, 5780718, 2567623, 1245314, 8368446, 8368445, 6211795, 5561946, 2266704, 2150122, 2272738, 7717809, 6840567, 4724797, 4723236, 4702662, 6315712, 6315711, 2240675, 1195746, 522954, 522948, 8674045, 7205367, 4690829, 7196707, 6245201, 3350785, 7717815, 5795282, 5436166, 5353176, 5353170, 5142217, 4724791, 4702657, 4128811, 2551333, 2535978, 6972697, 2559858, 8803990, 6773626, 4913890, 4813581, 4724798, 3360536, 1214440, 7682465, 7071442, 4724790, 378741, 4186402, 7162297, 3898911, 465237, 7580073, 2315691, 6951490, 2551513, 8677802, 2242180, 6832835, 6832833, 6832829, 5262973, 4128814, 3360528, 2551332, 2551326, 3500625, 2402182, 1798976, 2190819, 486748, 4724793, 7878626], 324211: [1046556, 5643278, 6542185, 1280978, 903747, 3054539, 6209327, 3054535, 1280977, 3054534, 549288, 3054536, 3059165, 5599360, 6753497, 6542187, 206082, 5599364, 2815314, 6753495, 1046558, 5820646, 5638200, 206083, 5506810, 6244566, 919280, 3054541, 514603, 1280974, 903753, 1046549, 8422981, 3054540, 2214894, 6542182, 6336116, 1046555, 5820642, 514608, 514605, 8522232, 6497598, 5596604, 3413992, 4146083, 107582, 2815318, 2815317, 2518882, 549286, 454182, 156107, 1046550, 783899, 8717123, 549292, 5599359, 8318356, 7512300, 5506808, 625217, 6407507, 6497604, 5599362, 3059173, 454178, 156109, 783891, 5599358, 903754, 107589, 549291, 5615716, 1105802, 514600, 6244565, 6542183, 4250542, 206078, 4197627, 3973060, 847282, 206080, 7065338, 3275012, 6769414, 549285, 5599361, 4324997, 4324991, 7073895, 1280975, 354608, 3026083, 8015820, 8186719, 107587, 156112, 6753499], 11096: [8606621, 8606620, 911097, 8296001, 7526146, 5855684, 8606624, 7637797, 1391571, 8792078, 8296004, 1868423, 1967637, 8296002, 8790374, 1967639, 1965607, 8296006, 2277155, 5734834, 5530073, 418058, 2277163, 6029408, 6152053, 116488, 6152054, 2568674, 5834728, 5819658, 2277161, 311066, 911096, 4266266, 5640446, 2277157, 1967638, 2689157, 2689154, 2689149, 4680203, 418053, 6425070, 5754511, 5640448, 5640454, 505455, 4394901, 1868421, 7871171, 4394898, 1391575, 1391574, 7412951, 4296475, 5530072, 8227111, 7412952, 5734828, 5734833, 5624376, 1967642, 5734830, 5327717, 2942743, 2277154, 911100, 5640449, 4891512, 2883769, 1967640, 116482, 116481, 7855287, 5640453, 5640452, 5734829, 6939413, 6939412, 6238711, 2720039, 4002036, 8258339, 8258337, 4048797, 1967643, 5530068, 418056, 8208316, 4394900, 8320882, 7412947, 5640450, 116485, 5754514, 911103, 6647325, 3763688, 4029043, 1868425], 1134787: [5985558, 4733434, 2362, 8686363, 8686362, 8040255, 6874894, 6172026, 8686368, 6874893, 6172027, 5840080, 5814760, 4733435, 8108984, 8686360, 7400014, 6553323, 6294988, 6133045, 4599195, 4599193, 4599186, 4163974, 1579024, 138835, 138832, 591459, 8506615, 7840223, 6172030, 6133049, 5985550, 5985549, 5814761, 4247591, 1874717, 1579022, 591467, 169000, 2358, 2355, 2354, 8686367, 8686365, 8108978, 7301184, 7284945, 5985554, 5985551, 5814768, 4599189, 4163983, 3811016, 3594968, 3483782, 3369859, 2719925, 2369057, 927667, 591460, 339587, 339585, 8686361, 7595842, 7546920, 7126598, 6874892, 6553322, 6553317, 6294987, 6279450, 6133044, 5985556, 5985553, 4733436, 4733433, 4619233, 4466760, 4002969, 3799195, 3089111, 2667514, 2552621, 2351014, 2351009, 1803343, 1769410, 1728037, 1573474, 1262943, 434614, 434613, 286372, 251612, 138837, 138831, 2357, 2356, 5429413], 89928: [6703726, 3560543, 3023983, 4736793, 128418, 8135809, 5721801, 6332097, 5527169, 1509492, 3560540, 6246940, 2653942, 134006, 5468261, 5566599, 6703725, 6207082, 454267, 7034355, 5796590, 6453382, 7326099, 5337926, 2596462, 956199, 5510902, 956202, 5468254, 1161324, 5641539, 8669033, 7326095, 6812972, 6580036, 5536134, 4736797, 4610441, 2955307, 2479947, 1759879, 128419, 126240, 4056115, 6812976, 1424369, 5337923, 5804238, 956194, 6703727, 5721805, 5337919, 3423669, 1161319, 1844581, 2643779, 8304824, 2594247, 5641534, 8490798, 8404962, 6223073, 5641536, 6559408, 941674, 5641538, 5510566, 5085449, 2643776, 4862046, 1679882, 128424, 214701, 5804236, 3965911, 1509484, 5242643, 4736792, 5616579, 160352, 5736027, 1191494, 5413161, 5350826, 1640157, 2831676, 478892, 6470041, 5527174, 4056110, 956197, 6703728, 2596466, 5510567, 8404955, 2479950, 92547, 160353, 2744465, 7326096], 499920: [8462930, 2806546, 6268532, 5038535, 2322553, 1780976, 7378431, 618005, 8041769, 2806539, 7931365, 6316578, 582606, 4792413, 4279598, 3544593, 2460843, 2441188, 988584, 923337, 605553, 487733, 487732, 7931368, 7628458, 5270053, 4852508, 1734014, 598992, 2683667, 8730812, 5609242, 6578083, 6134065, 6103850, 2547189, 1734017, 7729850, 7628460, 6171467, 5834216, 4885213, 925394, 582598, 8561074, 7676475, 6811559, 6592098, 6210030, 4821659, 4398120, 3012984, 2460841, 2156285, 2127728, 1271869, 925389, 166942, 166426, 166420, 8774767, 7026055, 7014038, 6939174, 6939171, 6484286, 6359874, 5775172, 5429920, 5350229, 5265009, 4585853, 4069749, 3471729, 3145228, 2985385, 2905500, 2665576, 2635068, 2369589, 2241492, 2079986, 1884843, 1836101, 1807091, 1603317, 1496970, 1442870, 820416, 644021, 582599, 152769, 4254836, 6986907, 4792405, 3149577, 650712, 373498, 7659767, 7138665], 527433: [6186391, 4903731, 1251475, 4958697, 269423, 4958696, 1251481, 6743092, 269426, 269430, 269428, 6743093, 4958693, 5603301, 4351171, 269425, 269424, 4046876, 2981253, 2004910, 319839, 5466810, 7514089, 6045939, 2331981, 1317225, 301243, 8617275, 4903736, 2981256, 2331984, 1753610, 1753605, 1753603, 1721940, 1251478, 6186394, 5603306, 5603299, 5331576, 2496224, 2331982, 1317224, 3430046, 2018341, 319844, 8322920, 7121927, 7121922, 6897131, 3430053, 2981259, 1721936, 1542069, 1251473, 542041, 319845, 7887794, 7514088, 4351170, 1993699, 1753608, 1317222, 1251477, 422228, 5603305, 5603302, 4998549, 3430049, 3430047, 6928819, 4351175, 8306451, 8306449, 6186393, 5603300, 2496227, 1101462, 653103, 653097, 269429, 6743090, 6394980, 6394979, 5629886, 4958694, 4903733, 4351177, 4046869, 3841707, 3841705, 3430045, 2981254, 2845327, 2193553, 1753607, 1251472, 1079071, 1007732, 681029], 40578: [1471242, 1471240, 3808877, 2276243, 965329, 2627881, 2208667, 965327, 2627883, 1249073, 2820143, 597901, 6629656, 41814, 6511213, 2627882, 2208668, 6752471, 17882, 597900, 8602576, 5756872, 5633865, 5462142, 7352874, 5865248, 6409607, 3665696, 41811, 41807, 3919066, 5462143, 597899, 5314008, 6356014, 5314009, 1956403, 8512567, 2627884, 7209519, 4397665, 6269008, 6269007, 4302055, 965330, 4397658, 8270879, 2820141, 2414936, 5995702, 190754, 1846419, 5462149, 375908, 7352880, 5848863, 2627879, 6602108, 2627885, 5011607, 5198104, 1627010, 806387, 5934412, 5604674, 41809, 41806, 2892827, 1844463, 4302056, 5633864, 1249077, 546067, 5314006, 4397659, 2979440, 1627004, 6409610, 597905, 2627887, 6390950, 4789694, 8259565, 1627003, 2414931, 1627009, 3158964, 8462187, 1262650, 41808, 3525961, 6167135, 5089766, 1647040, 5633857, 6629653, 2208669, 2208672, 4898841, 3808879], 694342: [5565594, 7206967, 5902573, 3242136, 8617643, 6272578, 3911492, 3242135, 3242134, 383186, 2103207, 8069855, 6816087, 6278601, 5791442, 5348808, 3242138, 1291893, 1043755, 949864, 383188, 48240, 8069853, 7193461, 6816090, 6816089, 6816085, 6415305, 6305089, 6305083, 5461461, 5348809, 4316565, 3242139, 2103204, 1962164, 544744, 383192, 7206969, 7193465, 7193464, 7193460, 6881291, 6816091, 6562423, 6164280, 5348803, 4595400, 4403387, 4154470, 4126791, 4126788, 3549092, 3522279, 3504379, 2672839, 2103210, 1979370, 1291899, 1043753, 511638, 383194, 383193, 7490499, 6816086, 6786797, 6415307, 6278606, 6278599, 6278548, 6137109, 5791450, 5791448, 5791441, 5744253, 5744251, 5565595, 5371922, 5348804, 5225241, 4631230, 4620143, 4284578, 4146640, 4126792, 3575298, 3567714, 3543537, 3376745, 3242140, 3071466, 2886013, 2247276, 2247268, 2117264, 1962790, 1550226, 1465789, 1354647, 1291902], 1125225: [98239, 98237, 6192781, 3915090, 7162698, 3435457, 3546821, 6192778, 6192777, 98244, 98235, 3435449, 6738498, 681076, 6738499, 3435450, 3226954, 3435452, 3435451, 6321989, 4313512, 3101058, 840575, 5471146, 4397360, 3277746, 4791453, 6201338, 6321992, 5431291, 661029, 252732, 7166844, 6201336, 661027, 8554269, 7978269, 6201335, 5785871, 5593980, 4406282, 2678793, 917670, 6738505, 2869330, 5353892, 681074, 2106702, 1875616, 1716065, 5127782, 6201340, 3546817, 681073, 6321986, 5107337, 2106703, 661034, 661025, 6137884, 4415340, 3291604, 444836, 8455836, 8292316, 7141904, 5585829, 3277752, 1611666, 1549512, 8104303, 6030071, 5932217, 5932214, 5639420, 5511299, 3684954, 6250601, 5471150, 3913465, 6030070, 6494128, 6313606, 6705922, 6561661, 3777458, 1761410, 1499635, 669766, 7633196, 7162695, 6014483, 5127783, 4903118, 4220022, 3101055, 3922365, 7685465, 7362769, 6738497], 1136427: [8025604, 7184390, 5324424, 3577655, 2871968, 2239911, 2239909, 2239906, 7943916, 2871969, 2239903, 7885838, 7184387, 2061892, 1290234, 1038885, 857645, 818179, 8306667, 8289444, 8240607, 8118916, 8036171, 5149215, 4565929, 4565927, 4140498, 3757150, 2871971, 1728590, 1367555, 8387944, 7184389, 826425, 8240608, 8135882, 7612575, 6394664, 5942741, 5864717, 5845960, 5819147, 5817505, 5515627, 5481229, 5234048, 4407610, 3912300, 2871972, 2192923, 2187721, 2090335, 1287837, 1236317, 1236316, 915136, 675006, 630295, 501811, 494311, 279095, 189981, 2381167, 7885842, 7557984, 6618028, 6618024, 6566061, 6392876, 6091092, 6031460, 5894520, 5661245, 5485408, 5483305, 5386165, 5161652, 5030466, 4768730, 4304000, 4303994, 3980719, 3980717, 3846232, 3757148, 3699839, 3689945, 3495827, 3159211, 2919711, 2871970, 2359424, 2192928, 2192927, 2192925, 1803463, 1727628, 1609888, 1298477, 1260670], 1128856: [8618712, 8618714, 8618711, 8618715, 8618708, 8083043, 8083038, 5933016, 4081818, 4386107, 8083040, 2309967, 1616310, 6734611, 8388483, 6313945, 3202806, 6403354, 6177653, 4549305, 1086904, 6588151, 5778588, 8470168, 6586565, 6001757, 1058815, 1941133, 5090272, 8314064, 4453033, 3448273, 6043396, 4269955, 1458028, 1308917, 8754489, 7601002, 5701184, 5499179, 5493752, 2293406, 8786679, 8310513, 92278, 4129668, 8160592, 5933021, 4082974, 2355781, 1603080, 1474197, 3468489, 7907895, 8413363, 4115799, 5653542, 8754488, 7104059, 6753650, 5136004, 4728617, 3883280, 3100389, 2103729, 8809502, 3066867, 1718491, 1109000, 1086903, 8167625, 2505021, 1509001, 1227972, 6220403, 4959083, 7151790, 1908936, 8618713, 8618710, 8618707, 7878746, 6384086, 5142538, 3902145, 68260, 8631944, 7823785, 2281565, 867614, 746931, 167947, 2629994, 1747657, 7618581, 7087147, 6948042, 6809633, 4406009, 4138544], 719381: [8188843, 6921271, 151258, 1914317, 7310659, 981072, 7689804, 4051877, 5321345, 6645948, 1607429, 1414754, 1301188, 160655, 5250974, 3923586, 8667947, 8167859, 168352, 974059, 7605008, 7580035, 7418819, 6967590, 6925473, 6010108, 5874333, 4934750, 2036372, 1170657, 427422, 1234558, 8667944, 7689808, 6167000, 4449518, 1257678, 3162551, 1321061, 5321343, 1002002, 8667942, 8188846, 7990543, 7985672, 7605011, 7605010, 7605007, 7267893, 7231061, 7165108, 7082429, 6886792, 6188082, 6010109, 4963739, 4925567, 4652584, 4006216, 3717531, 3422711, 2684592, 2684589, 1794469, 1782334, 1686726, 1257671, 534361, 307937, 7911080, 7864317, 7267896, 7130333, 6537358, 5892341, 5637539, 5008167, 4776645, 4591690, 4503819, 3717530, 3713939, 3573121, 3467584, 3403295, 3387076, 3387074, 3182113, 3068286, 3068283, 2990702, 2901093, 2792811, 2735646, 2730251, 2672708, 2499284, 2404061, 1912805, 1821757], 53175: [3235092, 5925091, 5925083, 5925089, 5925084, 479864, 479863, 6383517, 2451720, 1569148, 5096314, 8565376, 7403381, 6636483, 2348436, 2231499, 1270423, 8014788, 3575633, 713686, 1755117, 2426515, 4474059, 7383733, 7773599, 7489592, 6636482, 5103808, 3920240, 2451713, 579789, 8565386, 2341905, 6650406, 479865, 6878759, 2646417, 6621349, 6593772, 1703618, 1203854, 4860417, 8348610, 6878758, 4200372, 4478435, 4121702, 2090231, 8273886, 4819102, 8480596, 8311109, 7403378, 7403376, 7403375, 6922739, 6911521, 6111159, 5576676, 5576675, 5576672, 4868182, 4868178, 4667060, 3955687, 3955682, 3955681, 3884231, 3852648, 3675008, 3675007, 2521848, 2348434, 2339653, 2339649, 2339645, 1342969, 301075, 301073, 8055896, 6878531, 6741003, 6464174, 6370721, 98665, 98660, 98656, 3820569, 6242369, 6118852, 3540257, 3179206, 3939426, 7745546, 2263531, 7811556, 8499845, 4819101, 1798976, 6034376], 131651: [3695982, 8334290, 2062607, 2062600, 4599676, 228040, 3695976, 4386032, 4386031, 6983085, 6983081, 5658050, 4636782, 8137500, 3695980, 2133752, 626271, 2133749, 8724468, 3350622, 2133753, 2062602, 2062601, 1490196, 578718, 6260955, 3695977, 3063216, 2133755, 2062604, 1850755, 1850751, 8195113, 8137502, 7895096, 2765412, 8127862, 8043573, 7419380, 5981112, 5238004, 2133747, 2133746, 919931, 8605586, 7322148, 3273178, 2062603, 790551, 8137501, 6260956, 4075002, 3512845, 3493842, 3350626, 3339169, 2694724, 2062599, 2062598, 1502653, 3514473, 8137506, 3587144, 2694723, 1370555, 7363476, 4386033, 1658449, 867563, 8605581, 8334292, 8334291, 8137505, 7825212, 7607811, 7554989, 7124341, 5658054, 2584586, 607015, 399863, 3695975, 3456216, 3350624, 3350623, 3350621, 3350619, 2931158, 2857102, 2857099, 2698683, 2694719, 2551848, 2342835, 2342828, 2133751, 2062606, 2062605, 1994086, 1949969], 1037798: [3641634, 8760873, 8760864, 6279828, 4978171, 6412269, 4916597, 2806462, 1208969, 8760866, 3620983, 1308037, 7755931, 1208967, 811307, 8760867, 5438881, 3167284, 2157456, 5888975, 452036, 8780808, 8544055, 5700364, 5280267, 3014139, 2934328, 789998, 406699, 367565, 8385584, 8385583, 7407776, 6155140, 5732888, 5732887, 5143685, 5143677, 408449, 5099520, 3030655, 3030654, 6526050, 4075483, 7253357, 7993269, 7854017, 7134596, 6378122, 5181664, 4729710, 4296396, 3736204, 4712, 8385580, 8010124, 7995048, 7623882, 6907802, 5732886, 4092429, 4092426, 4092424, 2511159, 684596, 684595, 408448, 6873858, 6847274, 6543291, 6478620, 6244295, 6175657, 6045186, 5663790, 5280265, 4657680, 4657677, 4382648, 4297405, 4271687, 4182101, 4114353, 3683784, 3589797, 3540804, 3540798, 3526430, 3315969, 2922328, 2354062, 2354061, 2232398, 2012998, 1777076, 1771110, 1639088, 1063541, 1038928, 681070], 915593: [4566815, 4566816, 8178998, 1396701, 2923497, 1396707, 1772930, 7861756, 2923498, 2744909, 6923052, 3538164, 4566819, 3538163, 5931268, 3538162, 3538167, 4566823, 7837086, 4691129, 3538166, 3357360, 2210593, 210379, 82111, 82107, 82105, 7861753, 2923494, 82113, 7861749, 698385, 4566818, 8178996, 3523599, 82109, 3538160, 1396706, 8455301, 8103067, 8002855, 7861751, 2923501, 7742098, 3523602, 2210591, 8002853, 5931262, 3573480, 8103068, 8103065, 7861747, 7837084, 7816726, 6761346, 6181638, 5931269, 5931266, 4910037, 4818067, 4566822, 3573479, 3385971, 1815965, 1396704, 275732, 275726, 8178999, 8179000, 8103063, 8029533, 8029530, 6923057, 6923050, 5931271, 5931270, 5931265, 3538165, 3485338, 2923496, 275728, 3710119, 8402972, 8179001, 8029524, 1033076, 7861748, 8402970, 6761344, 8402973, 341356, 8802307, 8179005, 2027167, 4566824, 6226401, 3573474, 3573471, 3450898, 2210598], 264014: [96854, 4239616, 5611210, 6641238, 5635521, 1610712, 5635519, 3666584, 2688537, 6337909, 2223171, 3666583, 6333841, 4834547, 528379, 7326934, 4647186, 1610714, 3120993, 4021598, 3764482, 96852, 2873068, 1610709, 7196300, 2991665, 276903, 1473907, 5950723, 5328095, 3201487, 5849270, 1752754, 7317297, 6393559, 2572557, 6333839, 4834544, 4687213, 447992, 528372, 5698125, 8623794, 8531389, 3683674, 3577344, 1610713, 96859, 5611214, 759777, 276898, 6501719, 5950725, 2474341, 96857, 8310921, 5950722, 473960, 96855, 96851, 5688722, 2616296, 1804644, 5371877, 6345193, 5896177, 5587285, 5583426, 5528663, 5063309, 5063302, 331935, 331933, 96856, 4834543, 5611216, 1444280, 7751055, 4033775, 2701931, 1716850, 6134523, 3601337, 3362706, 8503152, 5563085, 698061, 7646826, 2616292, 6333840, 4160854, 2688532, 3742370, 1638584, 7428006, 8801660, 3577342, 2498165, 2438164, 6722229], 1121402: [5189913, 188213, 8052624, 182373, 182368, 188215, 7125983, 188218, 188217, 182364, 7125978, 188209, 182370, 6717342, 8052621, 182372, 182369, 8052619, 6612507, 6157464, 7125985, 7125981, 188210, 182365, 3785310, 188216, 188214, 188211, 1623225, 8235730, 8052622, 7477360, 7144707, 7144704, 6873412, 5662150, 8052617, 4305983, 167779, 4893520, 2849501, 177811, 177810, 53697, 4085757, 1623224, 3785308, 6371838, 1623219, 8747692, 7887381, 6612502, 3674188, 53699, 53692, 8644861, 8644859, 4305985, 4305982, 4449258, 8186493, 7477364, 7477363, 7477362, 7477359, 7244819, 7244818, 6717340, 6717338, 6717336, 4486895, 4486894, 3674180, 2849503, 2070712, 465109, 177807, 177805, 8644866, 8487132, 7898702, 7898699, 6929301, 6929298, 6371839, 5786863, 5614623, 5614622, 5614621, 4085753, 1679028, 7142994, 3511795, 7125987, 3511789, 8052620, 8821498, 8821496, 8487138, 8487136], 962179: [8689054, 5773189, 8689057, 8689056, 5427070, 5427063, 4309122, 5886688, 5773184, 5653652, 5427064, 4606389, 2929469, 2929465, 1006860, 2632688, 4511504, 4511501, 6675257, 1015976, 1645080, 336116, 8785370, 8785368, 8032264, 6904865, 6898292, 6898290, 5427065, 5320368, 4606390, 4511498, 4511497, 4257873, 4209392, 3982060, 3422321, 3422318, 3422317, 3173623, 2131893, 1006868, 1006867, 1006866, 1006859, 302866, 302865, 302861, 4606387, 2329697, 6675262, 7428146, 7428143, 4606388, 4168107, 2978870, 1006865, 1006864, 536178, 181089, 763924, 6904863, 6904859, 6898295, 6898294, 6675265, 6675261, 6675258, 6604973, 6575567, 6575560, 6522533, 5919341, 5919338, 5653657, 5653655, 5645943, 5642481, 5642480, 5642479, 5642478, 5427072, 5427066, 4717426, 4717424, 4209397, 4209394, 3661633, 3500988, 2978868, 2925975, 2925974, 2697160, 2329699, 2329693, 2329692, 2017003, 2017001, 1645087, 1645086], 1117099: [1798612, 4131489, 2715359, 2715363, 1798620, 8093931, 4131491, 4441325, 1174584, 3960678, 7576537, 5912487, 4458512, 8714082, 5643723, 5286540, 7576540, 7053183, 7576538, 6034184, 6122720, 5286539, 5286538, 5699286, 1986002, 6034186, 1181847, 8714087, 7868161, 6993942, 4458506, 334615, 7576535, 7576534, 6034192, 5912491, 3019333, 2892181, 6122723, 5319158, 4775947, 8709223, 7748653, 5912486, 4631857, 3477822, 3412239, 8093932, 4131492, 6034185, 3125343, 2456199, 1212767, 3214921, 8714085, 8446504, 7407593, 2398223, 8327300, 8301073, 7747228, 7458061, 7317441, 7278716, 6984849, 6622237, 6622233, 6502652, 6485264, 6448010, 6343209, 5912483, 5912482, 5731110, 5699291, 5398345, 4631858, 4528335, 4434370, 4131487, 3833630, 3457476, 3375846, 3125344, 3125337, 3087616, 3087615, 3011278, 2926750, 2892186, 2892180, 2867224, 2456196, 1854339, 1709521, 1632948, 1212762, 892364, 445466, 230589], 744366: [8318774, 8318773, 8318772, 8597234, 8597232, 8318779, 8318777, 8318776, 6238696, 6214375, 2110903, 1286409, 1230895, 1230894, 1230893, 1230892, 1230890, 760507, 7941958, 7935097, 7915963, 7611780, 7611779, 7437225, 7358499, 7311992, 7219563, 7219555, 7135493, 7135039, 7135033, 7043347, 6887572, 6748631, 6214370, 6214367, 6214366, 6175094, 6136476, 5820360, 5755383, 5705737, 5528370, 5394312, 5358160, 5335826, 5335825, 5335821, 5335819, 5334690, 5301974, 5194339, 5194336, 5194335, 4810979, 4643653, 4447213, 4402424, 4115140, 4102031, 4086437, 3915716, 3915713, 3903373, 3903372, 3823373, 3823369, 3709782, 3615519, 3559227, 3456280, 3410315, 3410313, 3410311, 3226680, 3152828, 3089980, 3072253, 3030727, 2666970, 2533180, 2488080, 2341034, 2337500, 2119500, 2110902, 2110901, 2110896, 1933405, 1933403, 1913644, 1577953, 1485843, 1485842, 1485836, 1485835, 1439561, 1410327, 1383748, 1230897], 277780: [4840387, 6018365, 6207446, 8013188, 4840391, 3730468, 7197373, 4840389, 4840386, 4840388, 917777, 6616820, 2529668, 803921, 803915, 3791295, 1162122, 6616823, 552785, 7545717, 5342822, 8272505, 6410051, 2300745, 6790286, 5912313, 5507433, 6398678, 4397893, 4404302, 6531773, 8238471, 5540893, 2361018, 3730469, 5072847, 3983028, 4474587, 6548249, 552790, 8382140, 5787223, 4341774, 1253450, 6531768, 8521326, 7413507, 3798149, 4131748, 6548937, 1853981, 1253444, 6600967, 6596360, 5697527, 3665133, 3582168, 6149870, 6584554, 6312968, 6312967, 6312962, 7302657, 8431548, 8356669, 7417835, 3461392, 328771, 8042974, 8013189, 5852844, 1095048, 7378265, 4251012, 776238, 4534989, 6207445, 6949464, 1694706, 8503078, 7302656, 6531766, 3825096, 302366, 3714487, 2361017, 7675941, 6468648, 4109618, 3620534, 1176710, 3354933, 8227388, 5299301, 1586343, 7880141, 3056689, 681115, 4517857, 8317673], 1114563: [8118044, 8118042, 8118045, 8118049, 8118043, 6867488, 8118047, 8118048, 6961178, 6739268, 2134056, 8118046, 8118041, 7764799, 6875690, 6867493, 6867491, 6867490, 6867489, 6739271, 3147463, 2980153, 452445, 7233221, 3114031, 7373350, 6248597, 8354373, 924689, 8290276, 5113085, 3220711, 1126820, 8118050, 6739267, 26950, 5075441, 4609343, 2858268, 1183928, 1111210, 343392, 8302503, 7808614, 6957203, 5675008, 3116846, 2332885, 2090969, 1088168, 8785986, 8214655, 7991857, 7488460, 7444702, 7373348, 7373347, 7161501, 6956251, 6854288, 6716281, 6634223, 6250319, 6180705, 6146082, 6030562, 5148093, 5111014, 5111013, 4985658, 4676530, 4020117, 3762290, 2237177, 2237176, 1864288, 1595264, 574997, 7101, 7991855, 7991854, 7627985, 7563627, 7410649, 6210245, 5746532, 5717571, 5489495, 5175967, 4440781, 3992795, 3761993, 3429153, 2993512, 2980010, 2875785, 2675758, 2326605, 2126373, 1848955], 1014126: [7754005, 8407171, 2998575, 7652173, 4145286, 8153051, 1094854, 883546, 6546818, 2707791, 4386354, 3808623, 6473656, 3725136, 8802300, 8202031, 5404297, 4750858, 6028962, 8202028, 6812045, 2999701, 566147, 8552817, 4114244, 4392694, 2197889, 5059922, 5896207, 2832878, 37943, 3896148, 6675269, 5134405, 3581450, 5896204, 2804919, 7664996, 6965523, 6679239, 3896149, 3340640, 7955179, 7939951, 4326876, 8309807, 2999462, 2665738, 2707790, 2849278, 1466595, 6951007, 1687790, 6919890, 3581448, 5404301, 2572034, 6201437, 3743643, 7336497, 2810943, 8407170, 4189307, 8096437, 6825168, 1000290, 8604281, 8589069, 8568087, 7643804, 7263495, 3122735, 2424464, 6567116, 4930227, 4392696, 8386121, 8530851, 5921198, 4923809, 2409041, 7955181, 5678314, 5612760, 2810944, 751726, 7556552, 4970796, 4605185, 1833684, 7175325, 6393019, 4297300, 2889265, 2434214, 1094858, 253982, 6888266, 4803617, 2379306], 1117346: [8091627, 8091629, 8091632, 8091625, 8091628, 1518915, 2208585, 3311039, 5651390, 8047654, 8091626, 2019156, 6437126, 2207570, 6539851, 2612435, 3251776, 2299910, 8517839, 2372097, 2207948, 8651233, 1409465, 7537974, 2818970, 3251773, 1771126, 3626460, 2128735, 2393386, 6568812, 6072209, 1552665, 6073980, 7251660, 6553405, 3539472, 2612434, 2372513, 1083474, 3372102, 3122704, 2206333, 1374566, 703100, 3871795, 3871790, 2206334, 1409469, 1882, 8378170, 6072204, 3344982, 2211218, 2207945, 929642, 3774456, 2372095, 1552669, 8091630, 8091624, 8193411, 5651391, 4876043, 2206112, 8622681, 8193610, 7034567, 6637776, 6617284, 6072208, 3251775, 2019157, 815680, 3111526, 3535720, 4669052, 3686205, 1409472, 5465038, 4876041, 1552666, 1009793, 3814084, 1083477, 6073979, 4876044, 3170549, 2612436, 1979789, 1498200, 815675, 702129, 602649, 7299489, 6908839, 5155155, 4372941, 3854316, 1771124], 148538: [615405, 8181574, 4607267, 985491, 4185812, 5844625, 2419541, 3353304, 3353303, 1950976, 1950983, 7529434, 2368187, 820304, 3918785, 1950979, 1950977, 1384446, 1950974, 8080460, 2368185, 820313, 615401, 6158223, 3138645, 820312, 615406, 6894608, 5305311, 6460963, 6438297, 6425028, 6314330, 6017975, 5843047, 5693666, 2805681, 1950978, 615404, 6222119, 5679985, 8283527, 5077707, 5020788, 7069705, 5844627, 2368184, 1969520, 7696387, 6567031, 6006382, 4607261, 2368189, 2368186, 1449795, 844360, 748726, 332404, 208318, 4264129, 2915327, 1985491, 8610396, 7387872, 5588137, 5588133, 4959637, 4959634, 4447659, 2564821, 1384448, 844359, 615402, 615400, 190794, 7407803, 4539657, 3819528, 7696389, 5334387, 4607262, 4539660, 1950980, 2308906, 5533652, 1969519, 5679984, 231453, 6377909, 6037734, 6017974, 5809605, 5693670, 5679983, 5606202, 5389199, 4959633, 4607263, 4185809, 3353306], 451602: [3090666, 4345752, 2922145, 6286981, 1277289, 6286974, 3090663, 6286977, 4874640, 3177691, 96224, 5913111, 3177692, 5475308, 3090670, 2922141, 6972743, 2244882, 5179251, 6286982, 6225558, 3090668, 2482418, 2329889, 2176455, 6972742, 2176453, 2176450, 8033474, 7864188, 6242935, 4487185, 3090672, 2922147, 2922142, 1640289, 1277290, 1078134, 8540468, 8485132, 7859334, 6994774, 5371416, 4176454, 4377526, 8621779, 8076937, 5538936, 705851, 8025740, 7800959, 6250347, 5053853, 4453608, 3090667, 2486937, 2099352, 1314128, 1277293, 8033473, 7804169, 7792099, 7403454, 7326276, 7315074, 6171396, 6164536, 5538940, 5538938, 4488693, 3347274, 3090671, 2329890, 2154597, 1277287, 8383461, 8214452, 5534586, 1626653, 1277288, 5942592, 6989319, 5053850, 2154598, 8621776, 7232292, 6994768, 6775287, 6286979, 6286976, 6286973, 5022455, 4874641, 4852600, 3177700, 3090664, 2942560, 1314129, 1078139, 851269], 474735: [3501858, 230357, 7962379, 1756202, 625071, 6403354, 8012147, 3501855, 1740069, 6588151, 6959173, 8619467, 8160762, 1565529, 7853587, 3407759, 1039490, 1565526, 2968243, 5136004, 7671440, 1936166, 325503, 1908936, 6354711, 5086558, 7151790, 7104059, 540116, 3501854, 7087147, 5836885, 6883166, 2873858, 1047602, 8128333, 7618581, 4138544, 3379265, 7919016, 540118, 8580454, 8371382, 7012899, 1817584, 7471638, 7861392, 4948586, 8686110, 1465743, 340480, 755080, 5902485, 1935503, 8824633, 7896851, 7573448, 7224300, 5606239, 2191378, 1817278, 1611371, 7437211, 469604, 423911, 852335, 7588185, 705873, 3379266, 951071, 1895272, 6976992, 4708014, 4533248, 1547354, 514824, 7892565, 5086556, 1936162, 8784037, 8142536, 8100203, 8053974, 8020582, 7926295, 7618577, 7606141, 7493297, 7163623, 7118367, 7087388, 6900754, 5231372, 5051695, 4564053, 2637293, 2433405, 1994716, 1908930, 854688], 359349: [68647, 68648, 3223833, 2826510, 576629, 576628, 68653, 68649, 943229, 457673, 2293820, 3176541, 6108721, 4013723, 3176542, 3223831, 2259899, 6113313, 5773719, 15804, 15803, 15802, 3176548, 7857632, 4474872, 4013719, 2964479, 5773718, 5615181, 3900185, 4013724, 5773714, 5773713, 15799, 4020479, 4020478, 4020472, 4020471, 576635, 7857636, 6113314, 4551557, 4551556, 2826513, 3193824, 8058867, 2259901, 2259896, 1935183, 15807, 15808, 15800, 6834174, 6113316, 4551560, 2849692, 2293821, 2229871, 2229870, 943230, 607027, 4020476, 68650, 5615187, 4344100, 4087265, 4013725, 4013720, 607024, 8811558, 7857634, 5151802, 5773717, 5773715, 15806, 15801, 7904813, 7857631, 7062670, 6834180, 6834178, 6440030, 5773716, 5615180, 4463574, 4087260, 4052246, 4013721, 4013718, 3999259, 3900184, 3900183, 2849694, 2259900, 2229869, 1979830, 1830516, 1830512, 1394087, 576630], 903469: [6313453, 6726106, 3365634, 3046421, 953881, 6227860, 838157, 8381660, 6340623, 590625, 8728569, 1420768, 1305778, 200789, 8323930, 1305779, 973650, 1782131, 1559189, 141205, 120174, 813861, 5872498, 8506931, 5901500, 5352891, 2423425, 1305776, 838151, 813860, 8278910, 7347711, 6389255, 6186892, 4470389, 973652, 720097, 84174, 6200051, 4923173, 3499591, 4979948, 4072733, 283441, 7888359, 7547138, 6552542, 6210605, 6133861, 5678392, 5332233, 5327671, 4032232, 3374451, 3280579, 1253495, 1253494, 1181833, 1120183, 1065154, 813855, 111326, 7986395, 2287593, 1241187, 5189962, 8453330, 8067318, 7726605, 6196351, 3585452, 3491290, 2312098, 1672649, 959231, 593827, 246102, 4470383, 933409, 7546707, 7312356, 5972295, 4032237, 3838380, 3326349, 2793351, 2670478, 6206382, 6155961, 6091872, 5901504, 5901499, 5836817, 5772940, 5507360, 5348551, 5223604, 4590329, 3913852, 3901617], 1115776: [8106323, 600966, 8106318, 8106321, 8106324, 4314171, 4314175, 8345724, 3680291, 3081626, 1826911, 7618006, 6747926, 6616844, 6251729, 6246928, 5555296, 2230480, 1440035, 6614876, 5605160, 7945139, 7148875, 2729808, 2054817, 5605159, 8106320, 4314178, 4314172, 8030542, 8108818, 8108815, 7840022, 7618008, 7493008, 6616842, 6246927, 5555294, 5232955, 4984390, 3899305, 3899304, 3366472, 3366469, 2337363, 2337362, 2230483, 2230477, 2230476, 2230475, 2017909, 2017908, 1809769, 1809762, 1540838, 1328463, 1328460, 580737, 257268, 143334, 6287121, 8078185, 6000898, 4140566, 1548673, 5121261, 3927245, 3469363, 2305736, 1022883, 414967, 4314169, 8706771, 8172087, 6934015, 6354957, 6287122, 4051141, 3958242, 1593008, 1593007, 1333526, 8447122, 8054247, 7654716, 6838047, 6737071, 6356421, 6005645, 4591599, 3927242, 3575871, 2649448, 371426, 8388343, 8355028, 8108814, 8046348, 7615794, 7442432], 1104492: [8213728, 3569072, 6250598, 1357196, 7203126, 5511300, 1591272, 5511301, 8213723, 144542, 6095748, 4933008, 5341146, 3023067, 4617667, 1118676, 5633571, 7448697, 934328, 5082965, 1532790, 3786871, 2551925, 1256584, 1851527, 6525547, 5082970, 1029643, 560685, 3023071, 8516254, 5043263, 266579, 6763105, 6286070, 392677, 93615, 2624784, 5082967, 680013, 1887597, 5633568, 2081563, 8626306, 2142865, 2076547, 5043259, 934327, 8012479, 8337677, 1234556, 217701, 2901810, 5341141, 5698207, 8598340, 6915352, 1256586, 8395936, 8395934, 144547, 2926068, 5778535, 5359966, 4578484, 5270502, 4795571, 99147, 8395937, 5934341, 7052564, 6180229, 5886387, 1454327, 1302202, 8313190, 2236608, 3815681, 7066858, 6247391, 3023069, 8504912, 1187653, 2555253, 7511710, 4472828, 7683339, 8532780, 1591273, 5633564, 5633566, 1703744, 507257, 6950884, 8609521, 6266452, 7784467, 4936304, 8491981, 4819964], 315637: [1716589, 1716588, 1716590, 1716587, 893621, 2004049, 4095989, 4749626, 4095988, 6374274, 479198, 4155314, 7565407, 893625, 3049864, 5507992, 8295683, 4155313, 6158852, 8260527, 2107434, 6361702, 1003636, 1716586, 6158851, 1716593, 5702655, 7535951, 8158147, 286306, 4980709, 693302, 2822274, 2236741, 6374275, 479197, 815246, 7091165, 1909753, 1658572, 861428, 6374277, 2564748, 4711237, 2107438, 560557, 7565413, 3878787, 2061892, 4155315, 8295682, 5727909, 5727908, 211461, 643945, 643942, 4711234, 6663760, 8813792, 6385398, 211462, 4859456, 5823649, 4155320, 6411882, 6554246, 4991428, 837849, 6858562, 6858559, 4685861, 1716592, 1658571, 319283, 1764503, 2004544, 5110713, 6336904, 3187944, 6385397, 3169822, 1572368, 8158155, 4155317, 6985192, 1704485, 4711233, 8756817, 4593900, 2628073, 1662008, 861423, 3296244, 6349676, 6028818, 2004545, 3164811, 5758484, 6373744, 4951793], 1112341: [6740558, 2096429, 5497171, 2735215, 8139256, 1373648, 550571, 2780681, 1998332, 3291151, 8139258, 1267520, 6947370, 6747882, 6303186, 5497172, 5497169, 3399889, 5702667, 2830103, 6726346, 4538538, 2596431, 7194372, 6740555, 4913848, 3408234, 6164791, 6227257, 8223035, 1288918, 8554267, 7880073, 7880070, 7194370, 7194366, 6303183, 6257536, 6227261, 5769790, 5769789, 5497168, 1998337, 1707318, 1707316, 943113, 943110, 629787, 7579820, 7579818, 8139255, 4977768, 3291146, 2735219, 2694636, 6903063, 6233740, 439512, 2118405, 8555308, 7747884, 2096427, 400582, 8441852, 8326583, 8109657, 7635724, 7194374, 7194369, 6325840, 5769786, 5693853, 4775528, 4595999, 4595993, 4390803, 4179670, 4161487, 4139225, 3399884, 3399881, 3274670, 3274669, 3015435, 2830429, 2780688, 2780684, 2096424, 1998330, 1707317, 1373647, 1364360, 1307744, 1253949, 999693, 943108, 886383, 883227, 629786, 508019], 588587: [7608895, 5913312, 751934, 6211952, 6244255, 6364578, 1020014, 5913310, 7995135, 5493916, 3499746, 235248, 8548226, 889946, 7728002, 3404524, 1943106, 172563, 637031, 805188, 6211958, 3951332, 6327366, 1761636, 4450870, 3023284, 8004364, 6237579, 6315701, 8548223, 8288497, 1960651, 6178285, 7216271, 2934181, 1907498, 4099577, 8278909, 1208700, 609852, 3401386, 1407575, 554638, 1943104, 6210601, 1865040, 3573055, 7904684, 8325909, 646701, 1120183, 501621, 4561989, 6725550, 3975255, 3439255, 2096076, 2096075, 3494602, 729422, 172566, 6725557, 8735858, 6736723, 5498412, 8048227, 5477160, 1678642, 5247420, 7194310, 7295296, 234025, 5459682, 6282849, 4486053, 3439249, 2397165, 2284555, 6716483, 6364577, 2283485, 3494599, 6782322, 6118033, 6118032, 8248267, 7295292, 1740348, 6362043, 2620554, 6121538, 7284989, 4414578, 5953132, 275294, 6266863, 4269118, 1741582, 1490167, 504722], 706080: [1589041, 4177012, 3697342, 724522, 8186136, 3968938, 2811044, 1589047, 1128295, 1355842, 5149501, 1589044, 8433709, 8207883, 8603066, 3895089, 6460006, 6285096, 1589049, 3697341, 3136459, 7807905, 4226162, 844702, 724524, 3697339, 5164758, 1305610, 8433710, 6845356, 3697334, 3136458, 2410836, 8433704, 1767366, 1432129, 1432123, 1386052, 793295, 2082751, 6816906, 8418705, 5794468, 8138589, 2082757, 1589042, 7685226, 7684661, 6904467, 6424246, 97888, 5794464, 6460004, 6285097, 3697337, 3239150, 1563737, 8603067, 8433708, 5930400, 5783110, 2633022, 331034, 270523, 3697340, 6668799, 6460002, 3697343, 3239149, 2385958, 641465, 8433707, 6583272, 5510467, 7350640, 7320821, 6716120, 5928623, 5210425, 2074405, 1866383, 1305613, 844709, 724530, 567290, 347679, 331033, 8345089, 7352437, 6305813, 724527, 8603071, 8418707, 6428543, 5794465, 2296857, 844705, 2082756, 2060921, 8433705], 117831: [3930689, 6319387, 5862253, 5521759, 6319389, 3326588, 7530376, 6319386, 6270416, 3930688, 3930687, 75850, 8194326, 6319384, 5114039, 4603044, 1004729, 7530377, 7530368, 6319385, 6319383, 6270414, 6270413, 6270412, 5521765, 4901260, 2663740, 2584933, 2212730, 1593570, 1367941, 983981, 75847, 6450206, 7781758, 5538265, 3809073, 3679027, 3679026, 6634258, 6321279, 6319388, 6270411, 6270410, 6039588, 5862247, 5826944, 5730864, 5673502, 5639400, 5638720, 5618603, 5545936, 5538262, 5521763, 5521762, 5521760, 5406957, 5165292, 5115596, 4904444, 4857320, 4608064, 4603048, 4603047, 4603041, 4483447, 4317547, 4250956, 4130778, 4117161, 3942111, 3930685, 3903480, 3537941, 3499052, 3044750, 2681949, 2669384, 2569715, 2407303, 2407300, 2388713, 2388707, 2306344, 1748873, 1610823, 1538717, 1399822, 1372636, 1284155, 906655, 702498, 382191, 382190, 364393, 237667, 174013, 143841, 75851], 1120868: [8057920, 1852164, 8057916, 8057914, 8057912, 6859287, 6859285, 1779320, 1852162, 8500879, 6859289, 719409, 4739532, 3458826, 1852161, 148391, 8412153, 4200047, 7744199, 719408, 3959711, 1481758, 5162500, 6078836, 7583073, 8519758, 3959715, 3477962, 8519760, 8519759, 7487133, 7487127, 5874222, 5874219, 5454591, 4939061, 4939058, 4779643, 1852166, 825718, 148396, 1779321, 1779318, 1779316, 5490044, 7426975, 8396543, 6633574, 7005438, 6731195, 6323564, 6415001, 5878879, 882583, 6709391, 8519762, 7731226, 6809386, 5596060, 5223089, 1866945, 7426978, 5717296, 5619331, 1034176, 8057913, 7163264, 6806993, 6558898, 3879420, 2313505, 5695898, 6078832, 882582, 8178726, 8178725, 2807792, 2556266, 1242188, 22602, 8137044, 6268876, 4314730, 949761, 881755, 50351, 7588001, 8673363, 8673357, 8150524, 8150513, 8032241, 7917078, 7744200, 7426972, 6798371, 6081971, 5995640, 5986294, 5619324], 1111906: [8143530, 5275764, 8143536, 8143535, 8143528, 8143534, 8143532, 8143527, 8143533, 8143529, 948872, 8143531, 5275763, 948875, 3457810, 1051816, 3448634, 8708566, 6773661, 2090153, 7983655, 3327079, 3327074, 1855120, 447440, 8083536, 3237183, 1939479, 8083538, 6941751, 5500801, 3792167, 3237182, 2440483, 996265, 412582, 8597487, 7663816, 6044609, 5759750, 5335278, 3327076, 3327073, 2879188, 2841645, 2156780, 1855121, 1855119, 1123341, 1051819, 1051818, 520975, 447448, 447447, 447445, 254027, 8136045, 7124470, 7115117, 7115116, 6880176, 6695380, 6695374, 6402953, 6342599, 6229057, 6153476, 6060234, 6060232, 5851687, 5791780, 4442870, 4232484, 3734450, 3562930, 3327072, 3308704, 3238639, 3238636, 3238633, 2841652, 2841649, 2841648, 2841646, 2724401, 2678979, 2090161, 2090160, 1855122, 1855118, 1751206, 1688474, 1688469, 1519499, 1519495, 1519491, 1519490, 1218611, 1056663, 1015784], 523270: [4859930, 8372982, 8372977, 2292971, 4859929, 8372979, 7821242, 7696363, 5752993, 5765852, 2292969, 1376654, 1300609, 1300606, 7696361, 6618496, 5765850, 4893265, 2292976, 1119553, 413639, 5922225, 7540621, 3010424, 1300605, 5765846, 1119549, 8372976, 8433125, 5966288, 5966287, 1465672, 413016, 8718319, 4893263, 4100221, 3940166, 1419111, 2726812, 1046093, 8227852, 7020821, 7893046, 7096316, 6777741, 5323332, 1337589, 1300612, 457154, 3027224, 8718316, 8464552, 8433130, 7696364, 4893267, 1419104, 368937, 8433129, 5966289, 4469454, 1465677, 8372978, 8542262, 5752990, 3010428, 566909, 1494171, 224334, 7696359, 4893266, 4100220, 3080022, 8372981, 8433124, 7755181, 7096321, 7096317, 6185190, 4893268, 4210680, 4210675, 4210674, 3507957, 3507956, 3507954, 3345508, 3171774, 2760135, 2695060, 2137928, 2098238, 1665731, 1324900, 958853, 958851, 2657168, 3826802, 7436536, 6618491, 6185188], 133358: [2465303, 8494376, 1907695, 6881855, 6881854, 8494373, 2624787, 8494371, 2705743, 5707173, 3372158, 8494372, 5739285, 2624786, 7822666, 8104531, 4203705, 4343310, 6517115, 6128504, 5303227, 8494374, 2624780, 8494375, 7197737, 6314592, 3195018, 2705739, 2222170, 6657943, 4857792, 6049995, 3372159, 1193276, 3548181, 2930698, 838764, 6128511, 340042, 159636, 6497785, 6090417, 1176064, 5872258, 4564997, 2436210, 8472472, 5964996, 4256079, 3548187, 6517112, 8494379, 6651702, 6128505, 6095299, 3104171, 2973126, 475510, 8494378, 7701882, 6128508, 5921955, 5739289, 4697369, 4155970, 3372156, 2844444, 2614857, 2411064, 8068557, 4972859, 4972856, 1178978, 719155, 7094914, 6043975, 5340938, 5303411, 4204551, 1187788, 6881859, 6881856, 6763368, 6758103, 2624262, 8830685, 8179429, 7605933, 7260156, 6763998, 6573702, 2222169, 1977765, 504898, 7101355, 5716327, 4332178, 2222091, 4432668, 6319360], 67262: [8326580, 8326584, 8326581, 8326585, 8326583, 8326586, 6973594, 8326589, 8326582, 6973593, 6973592, 6973590, 8326587, 8700907, 8326588, 2406985, 8700911, 8700908, 6203502, 5491788, 8700905, 4828362, 2386657, 2663364, 2663356, 7257184, 4856238, 4416076, 3795895, 3070252, 3070244, 3070243, 1330280, 1267519, 1035068, 545689, 6459594, 6973597, 6881555, 3787176, 7028335, 8552958, 6710096, 6369732, 6369731, 4630841, 2490873, 7677346, 7447080, 6227257, 6164795, 5209405, 5199135, 4644720, 3988638, 3863708, 3566419, 3566415, 3326708, 3070251, 3070248, 2624440, 1854876, 1330278, 1267518, 1035064, 887520, 666221, 4646317, 2663365, 6257534, 6227258, 5281897, 5005352, 4872125, 4515545, 4416078, 4416071, 4385338, 4332412, 3988644, 3863707, 3795892, 3795889, 3788183, 3670756, 3667793, 3408232, 3326711, 3025455, 2663361, 2663358, 2468291, 2386652, 2190759, 1998334, 1707313, 1330279, 1242389, 1165502], 1121166: [8378301, 4008362, 8054925, 3720789, 8378299, 6439529, 8378303, 8054920, 8625228, 4265479, 2608473, 6186701, 3249452, 3249451, 1933180, 3722100, 8378307, 4008367, 8099784, 1999760, 1483821, 4265476, 3773868, 6333516, 7150558, 8625229, 8625226, 8625225, 8625223, 6156920, 5271678, 4265477, 3720796, 3249449, 6911527, 4981513, 3294688, 4453801, 2823196, 2373880, 686027, 8690614, 4767948, 4453797, 77036, 5045685, 8054922, 1933182, 8378308, 6186703, 1438877, 2532661, 3249448, 6291044, 3294680, 8104379, 3117324, 6911531, 5987625, 4767950, 3563158, 3249450, 1933181, 77039, 77034, 8164170, 7778074, 6911529, 6156921, 4453796, 1933178, 8104383, 3112789, 8104385, 8099785, 8609200, 8054924, 4767947, 3852124, 3817584, 1327975, 8099788, 8636774, 7200361, 1577097, 77766, 3666481, 2288297, 8358215, 8054919, 1933184, 8625224, 8164171, 7959272, 7778075, 6911530, 5963619, 5963617, 4767949, 3872801], 805321: [424954, 5767642, 3731060, 8694709, 649015, 29930, 7113253, 5068464, 7469799, 8257710, 6226740, 1418871, 6814129, 8836061, 4940913, 7090103, 5697981, 1007720, 649016, 1649930, 8653605, 3731056, 2382816, 8694706, 1007722, 7090102, 3035821, 1649931, 204668, 8694714, 6085447, 7469797, 5130453, 7717368, 7090106, 3959874, 7471562, 879521, 5767638, 2013335, 4316218, 5630654, 3445570, 7215303, 1007727, 6814131, 1947302, 7215302, 3711490, 8840712, 7471560, 4940921, 1007721, 2605639, 2389543, 3445571, 3425955, 3204503, 7415617, 1871369, 2416489, 1493331, 1090841, 2908799, 1687554, 8694715, 4597599, 4315758, 8053480, 834682, 3959867, 5500762, 3689864, 4232887, 5396491, 891171, 717505, 8694710, 5504785, 4130513, 29927, 3055339, 2605642, 1723887, 6814124, 7048808, 2292158, 2694355, 4422604, 1807773, 4757974, 8049906, 4744513, 2309454, 1090846, 2153484, 546339, 5022360, 1243361, 546330], 1129828: [8535892, 8535894, 8535899, 6510350, 4532860, 8535898, 7791249, 4389977, 5862738, 4033770, 8137137, 4033771, 2688923, 6250492, 6155724, 3789991, 8439823, 6948766, 6274690, 6055436, 4300109, 4033773, 4033772, 3754697, 5224855, 4389606, 6499998, 6154438, 5119162, 5119161, 4389981, 4019069, 3589248, 3564335, 516356, 122124, 4116263, 1530090, 7072556, 3805606, 8393135, 8137135, 8135450, 7601088, 6742990, 5663317, 5242931, 4655385, 4389985, 4198614, 4033774, 3904684, 2870680, 2164637, 2045113, 1413785, 530804, 8254977, 6499997, 4655561, 8535901, 8535900, 5987850, 5328449, 2782053, 2779689, 1648869, 1272621, 5862743, 2444716, 1240433, 3070877, 6025473, 8056681, 7119529, 6746613, 6742985, 6742984, 6055438, 5968862, 5694948, 5496410, 5119158, 4389984, 4389982, 4033778, 3703555, 3564331, 3448380, 3012637, 2964053, 2831333, 2819860, 2819855, 2247041, 2096691, 2096684, 2045122, 1985922, 1626439], 131843: [8305152, 8305158, 8305156, 985994, 8305153, 3841396, 8710813, 985995, 4254836, 8085708, 3400903, 3400902, 8710814, 8710812, 8710810, 8305155, 8305154, 8305151, 8102602, 7707868, 2683747, 2041693, 985992, 985991, 985990, 985989, 985988, 14055, 6249757, 3299960, 8519713, 8318153, 7073518, 6248852, 3884881, 8146334, 8024309, 7678189, 7589014, 6820615, 6782345, 6718494, 5000167, 1267422, 788586, 542347, 491120, 97739, 8780616, 8117361, 8073461, 7987888, 7451207, 7451206, 7078434, 7073516, 6497852, 6341833, 5038538, 4911365, 4682759, 4013724, 3930069, 2669218, 2495625, 1993076, 1941266, 1849304, 1073193, 387427, 45696, 6694981, 6604053, 6546266, 6350715, 6349699, 6187405, 6187402, 6187399, 6087979, 5858902, 5680352, 5630800, 5484838, 5430008, 5371380, 5227680, 5121126, 4843649, 4840263, 4737360, 4659772, 4335375, 4262451, 4165838, 3983276, 3363729, 3219547, 3159911, 3152904], 104861: [459676, 6658615, 6351571, 459675, 5864693, 5688415, 5150431, 5248340, 8259116, 146178, 7204477, 6653676, 409268, 7506026, 2600385, 8495099, 8546162, 2158194, 5864689, 5703401, 4936223, 5150438, 1995989, 6156641, 4717134, 7666364, 6704672, 5801822, 6360441, 7453590, 6200737, 409275, 5379458, 2471336, 7506028, 3925933, 2958131, 5101716, 5101714, 2158191, 6241793, 4961345, 1313691, 1811410, 1304632, 8546159, 629278, 5598961, 7653496, 4563275, 8260035, 5703400, 6518057, 5688420, 1313687, 6275841, 8307049, 8141081, 6585554, 2611064, 715676, 5755759, 4197096, 1767224, 1424216, 6202527, 5667474, 5652263, 2916636, 629274, 841998, 5248341, 5110656, 3925934, 8546158, 3915516, 5670527, 3928196, 7462393, 6653674, 5688417, 1675509, 1046334, 6899292, 7490597, 6530767, 5755760, 737353, 6436838, 6426100, 125332, 5755762, 1017092, 3228914, 6427377, 1186242, 8307052, 5837428, 4583548, 6187055], 833860: [6230229, 6230227, 6230226, 3437288, 1900582, 1900578, 6230222, 6230220, 1900581, 1900579, 6297606, 1900583, 2192806, 8344031, 6230221, 4779494, 4565141, 8683095, 1524402, 6406715, 7508041, 5804546, 2386361, 2702357, 2192805, 115142, 5595071, 5260172, 2326314, 8742336, 1969741, 8400009, 4565137, 8400012, 7410123, 7125486, 6773137, 6577519, 6013727, 6013723, 6012471, 5804547, 5595063, 5167517, 4345197, 3156994, 1642152, 1004966, 993470, 993463, 6829804, 541470, 2206197, 7184644, 6277473, 1524644, 7973006, 6610436, 5178289, 3767859, 3107242, 3107240, 1900577, 1721757, 1524406, 1400521, 1198424, 561233, 7548089, 7153349, 5967462, 2829180, 2488236, 2036934, 1448548, 2041644, 4460820, 5167513, 7410119, 7193653, 6012476, 5867806, 5867802, 5715590, 5595072, 5595069, 5595067, 5595065, 5260170, 5255468, 5167512, 5097132, 5082852, 4166209, 3351467, 2889099, 2698525, 2648239, 2206193, 1707380], 207786: [2998723, 1085406, 8273763, 6309220, 4660025, 5804666, 8273755, 8185063, 1085404, 8273759, 4660023, 673361, 8185064, 4754012, 8265334, 5388266, 3931757, 2763917, 6309217, 280082, 4978407, 673356, 3103885, 7941579, 4580648, 4893654, 6736451, 5990374, 4672265, 8273754, 7668314, 4257473, 1085402, 1117972, 4580650, 2658602, 673365, 5624828, 3855672, 493419, 6309223, 4660028, 4660027, 4978408, 3931759, 13259, 7780967, 5388259, 5175113, 4754014, 3931763, 3352521, 7523018, 4580651, 3632495, 3103879, 1474370, 5751567, 1081015, 5388267, 5035045, 4577246, 4181538, 4156741, 3593202, 2998721, 688349, 398228, 8273758, 5388261, 5114969, 3522830, 3384589, 1432530, 197297, 8273757, 2998726, 8597886, 8278466, 8278465, 6763412, 6527625, 6283457, 5170140, 4613063, 4181530, 4137924, 4021890, 2249320, 795760, 795753, 8622993, 8367880, 7016165, 2723794, 1081010, 8273760, 1931368, 7796119, 6031630], 691330: [8490462, 8490460, 8490463, 807723, 443527, 807730, 8490461, 8197717, 8197722, 443525, 807727, 7004347, 807732, 6757446, 6757443, 3346773, 1257015, 443524, 7626873, 3692150, 807724, 727756, 5425396, 443523, 7340503, 4211863, 3692153, 8490459, 8490458, 2751554, 2212945, 1257011, 3416118, 8197714, 8812873, 5425399, 3692152, 807728, 445461, 4385036, 2700251, 2589860, 8698906, 443528, 1949509, 4897028, 7783909, 4999593, 4645788, 1949514, 8812869, 7732036, 6185853, 5188341, 4385029, 3793504, 3161602, 3151199, 1279358, 3692154, 5110819, 3692148, 2751562, 2423983, 1802934, 1257016, 1257013, 807729, 7480163, 8812868, 2751558, 443526, 8197716, 7852265, 7732037, 7133739, 6664736, 6537604, 5796821, 5460452, 4999589, 4385030, 3840754, 3347712, 3161600, 2700250, 1949513, 1847843, 1488754, 1279360, 1226069, 366214, 270087, 5311538, 5311536, 5263692, 4871850, 2700258, 2639309, 1949516], 1103528: [2758788, 8223067, 2758780, 2758787, 2758782, 8728328, 8728323, 8223071, 8223069, 8223068, 8223065, 2758784, 2758779, 8223070, 2758786, 2758785, 2758783, 2758781, 1050825], 1132213: [2965979, 1030078, 1616866, 2965980, 7304815, 7131650, 1656015, 8618742, 6940535, 141077, 7670188, 3101716, 3832506, 1986277, 6454500, 2883858, 2879508, 2422564, 6940534, 1030076, 7670187, 1986281, 8618737, 6940530, 5636438, 4756596, 8335034, 7247657, 6717618, 6425291, 8334475, 6940532, 6513394, 3446803, 5645087, 7998251, 5636434, 600444, 5483345, 4584289, 3367515, 5830971, 3291904, 844338, 1878237, 1656019, 7530308, 5895183, 5032435, 1885412, 758969, 8165924, 7923710, 4450031, 3632744, 2777688, 4433555, 1986278, 147574, 5491567, 1986279, 8335031, 6283053, 5141323, 4745393, 3367512, 1746809, 1180887, 1616859, 1030070, 8605525, 8013685, 7668749, 6571751, 5636437, 5345878, 5173398, 5032437, 2629861, 2023818, 1833860, 1359682, 603122, 577622, 577619, 141070, 130976, 8809051, 8335030, 7229137, 4767910, 4260397, 3588660, 6493452, 5484987, 1986283, 141073, 1030077, 7684871, 567998], 335594: [4864090, 4864091, 2406068, 3291967, 780021, 7899635, 6001032, 5109214, 2412515, 2412512, 936635, 7899639, 7734598, 6280310, 3291972, 2406063, 68725, 68724, 8457431, 7734605, 6280311, 6001039, 5791332, 5791326, 5704363, 4722776, 4166076, 4166074, 4166072, 4166068, 4129232, 3489000, 3319021, 3319017, 3291970, 3291969, 3135742, 2406070, 2406065, 1583791, 1583785, 780025, 780022, 68723, 68718, 8515794, 6751755, 6280308, 6001035, 5588114, 5588113, 5109219, 4722772, 4125231, 3420791, 3319024, 3319018, 3319016, 2412514, 68717, 4754365, 4754364, 4754361, 4722770, 4559972, 4441864, 4421252, 4418760, 4370404, 4166075, 4166073, 4166067, 4077772, 3546688, 3546686, 3546682, 3546681, 3488994, 3420798, 3420796, 3420790, 3319025, 3291973, 3291968, 3291966, 3135746, 3135744, 3135743, 2812493, 2812487, 2494504, 2494501, 2412513, 2412511, 1923401, 1637676, 1583790, 1583789, 1583783, 1239899], 1134138: [7433465, 5741023, 7364561, 6038722, 5643109, 4403387, 4367547, 1311432, 1311431, 8523858, 4846986, 5840543, 6649907, 5741024, 4367541, 3578461, 1555414, 4403385, 2031458, 7181039, 5207778, 8168202, 3547579, 6953365, 6649905, 6038725, 1525967, 8022039, 8752481, 7433459, 3578462, 6893432, 5793827, 189428, 4382495, 2587046, 303332, 8415157, 8168194, 7530213, 4852895, 1521618, 8288547, 1705850, 1434733, 8347792, 7433461, 5921504, 4669438, 6005190, 3086758, 2587041, 1521621, 1311959, 663707, 7598586, 7598585, 7077882, 6862206, 6281633, 5900259, 1804853, 1454189, 1454188, 7449715, 6121401, 4382489, 2827985, 7264261, 7422521, 7776347, 7224863, 7181042, 7181035, 7145033, 6896195, 6870845, 6490621, 6415692, 6122070, 6100665, 5483306, 5483299, 5362676, 4382493, 3866332, 2527213, 1521625, 1521623, 1521619, 174296, 7593985, 7131124, 7083751, 7063570, 6182103, 6157512, 6038198, 4537049, 2101635], 138632: [6350715, 1345752, 4173095, 4173094, 136054, 2966699, 5415910, 4217237, 136058, 7719411, 6956942, 7583020, 6509186, 136063, 2997002, 569256, 7630355, 8294370, 7728428, 4499947, 1999976, 7021346, 6545283, 5603617, 4929313, 4765704, 4098623, 3928406, 3200573, 3114921, 2272898, 1303036, 136056, 119098, 8113743, 7630353, 7126508, 5937966, 5843597, 5152933, 4765705, 4000461, 2996995, 1345756, 597878, 569253, 569252, 36730, 8741211, 7044454, 5913736, 5289649, 4879158, 2857318, 1643837, 1108967, 544254, 439391, 7719414, 7682380, 7304201, 7021351, 7021345, 6597065, 6509190, 6476029, 5617047, 5603619, 5487502, 5415914, 5415909, 4765706, 4217235, 3114922, 3114918, 2734525, 2272899, 1693157, 1108976, 816970, 569259, 569255, 136060, 136059, 8109448, 7938757, 7691610, 6509191, 6509189, 6370300, 5943664, 5941616, 5239649, 5074458, 5074454, 4765707, 1999971, 1693165, 408485, 3103806], 671071: [8632276, 8632272, 5535987, 5092539, 5535989, 5092543, 5092547, 5092540, 7542614, 8333107, 8333103, 8333109, 8333104, 3416709, 6225481, 6225480, 2403502, 14622, 7689449, 8632278, 4958936, 6000827, 8009765, 791573, 8632270, 8333106, 7321708, 7321706, 4638546, 1258814, 8009762, 5513368, 4638538, 8632274, 8333111, 7377287, 1492836, 5535984, 77580, 7689454, 6000829, 5498351, 8632271, 4638537, 5754235, 2559410, 8452013, 8333112, 4629248, 8302976, 6737909, 6180704, 1585073, 8428629, 4958937, 4167142, 8512585, 4958939, 2698465, 7615582, 7615575, 7615574, 6172684, 8428631, 4167140, 8424872, 8261074, 3349944, 3593480, 6384415, 4638539, 3957589, 8302975, 594160, 7425040, 8302980, 8009761, 1692928, 5535988, 7395000, 3593483, 634211, 5946884, 6737901, 5640716, 7321707, 7909079, 7542611, 2953905, 7542616, 8428634, 7542615, 568145, 7398474, 2812540, 3049333, 6235730, 6152040, 6172691, 1034585], 705609: [4136242, 193594, 6193291, 4607416, 1382899, 6776269, 6299592, 4484222, 1598854, 5870734, 3231626, 7868828, 4832217, 4136240, 7856692, 5871712, 485054, 322222, 1840719, 6920152, 2850662, 8706312, 6193289, 1870485, 644799, 6615196, 5609869, 4581768, 317358, 6920153, 7718041, 7572898, 6927629, 1881843, 1840712, 1382900, 967987, 794322, 8371679, 6710712, 6536380, 4918558, 2490258, 2222044, 2092610, 772287, 691822, 8381808, 6671302, 6234416, 5942439, 3582063, 1414521, 432995, 5494595, 4101074, 2060219, 8574818, 8434755, 8172694, 6603912, 5605737, 5337247, 4777363, 2634692, 2142115, 2142114, 1414524, 1382905, 1316224, 8592635, 6551706, 6358825, 3543255, 672852, 177845, 123040, 42322, 7343176, 7303357, 6920146, 6763725, 6714344, 6699171, 6493835, 6246513, 5581224, 4835933, 4085353, 3745268, 3582068, 3489890, 3439679, 2279629, 2211679, 1931409, 1870918, 1870917, 1851135, 1414516], 1114819: [785027, 8022279, 6941478, 1724520, 8115706, 8088109, 785028, 8115440, 8088111, 8022277, 1724528, 5718417, 5628952, 8022280, 4890560, 3781418, 1419798, 7132894, 1419801, 5521373, 1315998, 988373, 2590453, 3906952, 8508255, 8754404, 8022281, 771719, 1315993, 6900773, 6900767, 7156443, 5019832, 5165249, 8344261, 3353671, 8754398, 8579830, 8480574, 8336232, 8115439, 8115435, 8096824, 7803429, 5363582, 2831393, 988370, 6900769, 988378, 694735, 8625086, 2590455, 8115703, 8024894, 3256329, 1852066, 1851540, 1735443, 8754397, 3906954, 1816958, 1738242, 1315994, 344350, 8579832, 8336223, 8115434, 5156171, 3781419, 3256328, 1009500, 255279, 5019838, 1625836, 8754403, 8754400, 8336231, 8321012, 7786795, 7786792, 7786790, 7425397, 6900774, 5891743, 5649421, 5649419, 5019830, 4627531, 4064011, 2383828, 2383827, 2312859, 2192058, 988375, 988369, 862869, 750446, 344357, 126884, 344353], 855434: [6991862, 5597217, 6210425, 6208592, 6208600, 5934171, 440062, 4018038, 4018037, 6967333, 6208593, 1990296, 5640136, 1990297, 4059063, 4018036, 4018035, 5018492, 6182855, 1542537, 3051169, 226563, 6210418, 2305192, 8597055, 5109030, 7144908, 5881151, 1251190, 4377014, 6208779, 1350799, 7062931, 5663076, 2082697, 6160175, 1017764, 6135090, 8286219, 7837668, 5927609, 5663069, 2804537, 1768441, 6457428, 1635632, 6405045, 8597056, 2364465, 5961050, 1976652, 8531134, 7138129, 6260942, 3244591, 1768442, 8353648, 6208597, 4280448, 1647698, 1008328, 2976005, 1350806, 1669064, 6160172, 6053309, 5663068, 4594547, 4625881, 2448387, 1829194, 7064181, 6949136, 6283106, 6208599, 2002531, 7167668, 6991086, 4739992, 3957341, 318126, 2356223, 8419765, 8531129, 6147469, 5927614, 5018487, 3617280, 3051167, 2082699, 644603, 8693463, 7506271, 3617275, 797602, 8269435, 6208772, 2448383, 8576418, 6673741], 1134463: [1040028, 8138506, 8138507, 6469512, 5557757, 5626882, 6835507, 8577979, 8030653, 5739152, 3413218, 2826663, 1586421, 1040034, 1040032, 1040031, 1040029, 1040026, 1040035, 2165757, 1928289, 395176, 8779210, 8138502, 8138499, 1043598, 6074487, 3164811, 123946, 3117437, 1921396, 8138503, 6950229, 6351940, 5683796, 4814900, 2754385, 2165755, 5130047, 7343163, 7504845, 6032295, 5848349, 2165756, 1938173, 1895549, 694419, 6124173, 7504848, 6805739, 6325658, 6251941, 6237348, 6237346, 4900376, 1938176, 1833557, 1605966, 1605964, 1322772, 5821641, 5549496, 123953, 7035272, 5525387, 4204887, 3277206, 6805738, 3932832, 1895550, 6950226, 6854062, 4604081, 1975887, 1889695, 6549966, 6494962, 6387526, 6279238, 5724994, 5620989, 4807692, 4155315, 4005518, 3560416, 3277201, 2754382, 2173710, 686221, 187079, 6651523, 6351941, 6124172, 5683795, 5549491, 4814903, 4602088, 2754386, 7035267, 6551098], 747511: [8429262, 8490786, 8458173, 8458172, 8429265, 8429264, 8429261, 7730891, 7218432, 7173480, 4777991, 4127317, 4127316, 4102922, 2703318, 1958870, 1958865, 1958863, 1634144, 1634142], 502261: [8420334, 6675269, 2918739, 1018259, 8420330, 8661003, 8001870, 7991871, 6043242, 5521109, 1125719, 8661006, 8591211, 7991864, 6683758, 6216986, 4819259, 3740844, 3481136, 1639380, 1124803, 855268, 7008210, 5899354, 7565830, 1587591, 1363478, 4769235, 8015336, 7557181, 3100041, 940772, 380755, 8367191, 6775440, 8405059, 8359331, 8142297, 7801712, 7586515, 7036457, 5919422, 5863365, 5834406, 5634022, 5521117, 4060775, 2168645, 852291, 809931, 767232, 8151308, 7954249, 7283069, 6914726, 5678317, 1117585, 155858, 1125600, 8420332, 5678318, 2176463, 416540, 8637126, 8460636, 8359335, 7717052, 7555443, 7477714, 7365609, 7066812, 7012566, 7010712, 6647433, 6532584, 6181781, 6133888, 5917411, 5899351, 5863360, 5834407, 5634021, 5435209, 5078656, 4662935, 4662254, 4432993, 2324954, 1936233, 978398, 809932, 767234, 744812, 739828, 674679, 196446, 6802345, 7365747, 155853, 4835334], 183378: [4803850, 4803856, 4493915, 3093215, 324178, 7677975, 4493916, 2639939, 2493332, 327908, 5040199, 8779628, 8570260, 8570257, 8570256, 4803847, 4493920, 4493913, 3662782, 1289495, 8794302, 324175, 1603312, 324177, 8570261, 8570258, 8507877, 5534711, 5534708, 5534707, 5534703, 4835769, 4803855, 4803853, 4803851, 4803848, 4727418, 4716324, 4493922, 4493921, 4493919, 4493914, 2499865, 2352716, 1886705, 1773959, 1289497, 1289496, 828108, 749548, 749540, 5657854, 5105265, 2533260, 5887828, 1603314, 37778, 4856305, 3035547, 1729199, 7420058, 3773463, 2635068, 324184, 8794303, 8643931, 8575895, 8570255, 8488214, 8191188, 8121377, 7449751, 7449750, 7449748, 6880045, 6653851, 6548235, 5798333, 5391353, 4862063, 4727417, 4727412, 3605404, 3389580, 3389579, 3093218, 3093217, 3093214, 2533256, 2352713, 2234245, 1662564, 1289489, 1095330, 1087366, 749542, 376576, 8794308, 8577215, 229739], 654723: [2124250, 8036318, 158712, 2379823, 8476203, 8476202, 4331145, 7780411, 8728630, 3837207, 8545840, 8476206, 8010888, 7956243, 7780407, 7751376, 7751372, 5660222, 4365222, 4202678, 3880065, 3837205, 2886077, 2402224, 2379826, 2134690, 2124247, 1528983, 1403921, 4891963, 901289, 8669851, 8669844, 8545842, 8545841, 8476209, 8369846, 8369843, 8066791, 7780412, 7780406, 7751375, 7751371, 7751370, 7751367, 7310025, 7288161, 7035700, 7035694, 6396305, 6286897, 6141770, 3498746, 3287120, 3073527, 3073526, 3021939, 2886079, 2886072, 2098993, 1528984, 1037589, 7040513, 3263915, 1564608, 8315140, 7144882, 6247596, 6247594, 4323429, 330189, 330187, 330186, 8761331, 6368507, 5953071, 5547915, 4791129, 3860008, 3619682, 1564605, 1554536, 330188, 7981819, 7545793, 7412937, 6979159, 6368505, 6231107, 6202013, 6201791, 4417081, 4373981, 846754, 7751369, 7463821, 7340253, 7126771, 7126770, 7126767], 1117387: [8091236, 5744592, 3033235, 8601196, 8494302, 7170935, 3784537, 1410151, 3784542, 3784541, 3784538, 8601194, 7170937, 7170936, 7170934, 7170933, 7170932, 5897422, 511889, 261161, 261160, 261158, 261156, 261154, 5744595, 8091232, 3784535, 2934326, 3384901, 3384902, 8091233, 3784540, 3784539, 2958809, 5744601, 3784536, 7634995, 7216701, 2934329, 7322779, 5744600, 663643, 7216700, 6709880, 8473552, 296121, 8601198, 8494301, 8091230, 7170938, 7170931, 6830199, 6830198, 6541354, 6541348, 6349706, 5897423, 5897420, 4247531, 3784544, 3784543, 3779722, 3139133, 2939570, 1472111, 1132240, 1074740, 372097, 192350, 5177519, 766756, 7438804, 6620938, 3800811, 2440155, 5901757, 6838713, 2238921, 1378179, 6881055, 6821938, 2934333, 8091238, 2440160, 891141, 7986011, 7986010, 7792818, 7351013, 7322780, 5744597, 2238920, 1365473, 588925, 89402, 7863660, 7423855, 7423854, 6988445, 3363347], 479871: [8440974, 8440981, 1018393, 1360646, 8811622, 6263495, 1484949, 7504299, 8811619, 5615234, 4712479, 4655984, 2817597, 1484943, 1116535, 7504298, 5447202, 1567396, 1434376, 8030851, 6764071, 6240386, 3810789, 1830483, 1830482, 844936, 844935, 835868, 582181, 560008, 7976208, 7501050, 7142021, 6263494, 5970919, 5176626, 3922887, 3754938, 3708118, 3169928, 3050346, 1998008, 1828361, 1296972, 1121997, 8543029, 8014093, 7582347, 6551433, 5914816, 5728175, 5447206, 3895600, 2941344, 1830484, 1165667, 402863, 8440980, 6886216, 6886210, 8827487, 8613731, 8103605, 7504297, 7482168, 7135418, 6953464, 6595041, 6551431, 6545193, 6356337, 5041428, 4699953, 3904341, 3902072, 3894494, 3848797, 3766360, 2796241, 2287453, 1965435, 1760576, 1567391, 1471168, 955815, 702930, 402856, 5755533, 5638923, 5615235, 5615233, 5592876, 5524996, 5442793, 5122718, 5083000, 5004304, 4972818, 4786253, 4546860], 541571: [4196991, 1867074, 3314259, 6766868, 1867075, 138818, 7062028, 6030773, 3494697, 6242581, 5147608, 3494698, 3314257, 8379619, 4803264, 3494699, 3261904, 2976813, 2959730, 2132445, 1762896, 1688499, 1688496, 1412645, 8085464, 6186623, 6166021, 4750924, 3740113, 2976815, 1688497, 1688495, 197434, 8154220, 6766870, 6306245, 6140331, 5831071, 3566492, 2430791, 2430788, 1867077, 1867076, 1327105, 1272885, 1261068, 878989, 647138, 138814, 8669639, 8336122, 7768150, 6787579, 6787578, 6717585, 5147615, 4861033, 4803270, 3726389, 3494696, 3345673, 3314255, 3314253, 3261902, 3138296, 3085495, 3012743, 2319983, 1762892, 1762891, 1688501, 1622498, 1319811, 1109225, 1109217, 898026, 464268, 425726, 197430, 37722, 3775592, 3726391, 3261907, 3261901, 3236487, 3163508, 3138298, 2995405, 2995400, 2959736, 2959733, 2959731, 2879298, 2575942, 2562193, 2382743, 2319988, 2319984, 2319981, 2078492], 1106007: [6126194, 6209484, 7685384, 6126197, 8204463, 7638713, 4120343, 2777113, 2165342, 2384069, 8204457, 7638720, 7638716, 7638715, 4173709, 4004166, 2464377, 2384065, 1918089, 1334328, 8649212, 8649208, 8348781, 8214507, 8204464, 8204461, 8199521, 8141089, 7685383, 7638719, 7638714, 7148689, 6492973, 6297179, 6282113, 6282110, 6282108, 6281743, 6255354, 6209481, 6135712, 6059869, 5993697, 5974974, 5971071, 5952125, 5913575, 5913574, 5407269, 5279699, 5228015, 4953437, 4753821, 4753818, 4747656, 4606749, 4255223, 4255221, 4222109, 4000699, 3773412, 3612716, 3612712, 3263361, 3096334, 3064640, 2960561, 2866628, 2798884, 2777112, 2623990, 2621981, 2621974, 2513610, 2513608, 2464381, 2464378, 2294712, 2201159, 2201152, 1334336, 1269093, 765658, 701609, 701607, 600704, 548434, 13564, 13561, 13560, 7726655, 7045935, 5836920, 5228016, 5174765, 3537614, 2143418, 1530299, 1334335, 765663], 60235: [8612380, 3231721, 3620536, 5857163, 3620537, 1787104, 3620540, 8310902, 4289596, 6658316, 3231717, 5857162, 5857161, 6107034, 3231713, 6373390, 6014619, 3231714, 3231720, 1702868, 2021479, 831910, 4292611, 1787100, 485095, 8310900, 7389159, 485093, 5857159, 1803403, 5787218, 5414466, 7647373, 4291626, 2433126, 2747390, 6979205, 6026728, 3870419, 85624, 956400, 6371218, 2563468, 8303772, 6026731, 7781978, 4007851, 1312851, 196163, 8712527, 3231719, 6026733, 6658080, 1928431, 5574266, 4818222, 1250062, 2762698, 6658324, 1573120, 6346188, 4565155, 2832282, 6821165, 2563465, 8797180, 2335779, 1639449, 6248270, 953191, 5787217, 2489614, 8038227, 3919736, 180414, 6447025, 1527093, 6597500, 6027186, 5464235, 831905, 6026734, 6979208, 2528919, 2021478, 1614148, 29788, 5541307, 4608342, 4289597, 1771395, 7286028, 806158, 5787220, 180412, 3714487, 5900792, 5620015, 2260271, 6570997], 180442: [5474738, 2784247, 6315345, 6746842, 1776679, 7327659, 5139589, 5226376, 2610966, 7396871, 6073870, 6034884, 1813236, 6206700, 2870135, 7125034, 3847920, 1773773, 7327661, 5902308, 2784241, 5909191, 5909190, 1429740, 147379, 2784245, 4082088, 5139593, 2801838, 1845401, 1087900, 876459, 240346, 240345, 6073871, 5043508, 4889363, 4177178, 3998531, 3542298, 3038399, 399780, 8590616, 524298, 7991015, 6366105, 6230401, 5043509, 4345795, 4345794, 2780977, 6206698, 6896919, 8590613, 8466413, 1056549, 122846, 94163, 5139595, 8067539, 7901728, 7655299, 6230397, 5043516, 3998779, 3730315, 3702809, 3252035, 2536375, 1813231, 1079979, 1079978, 481747, 7124760, 3469306, 321849, 321845, 7028640, 6848687, 112715, 5683880, 3878049, 3469305, 6818813, 6337069, 6337065, 3316088, 8590614, 6896916, 5218683, 5136946, 550949, 6467623, 1695332, 1581730, 5139590, 3878046, 7275899, 5117963, 4066452], 710347: [6264170, 6742354, 1011074, 1011075, 1837260, 6264174, 2022387, 1439113, 1837259, 4327099, 3440208, 2372365, 1640444, 6264171, 3440209, 2372368, 1011077, 6573124, 6264169, 5722267, 4553943, 8426220, 6742355, 4553948, 6484516, 4327100, 4185615, 3564912, 2372367, 1837264, 1640448, 1439120, 1439119, 1439112, 244450, 6264172, 6996113, 6484511, 6264175, 6264168, 5826808, 5342053, 4553947, 4185619, 3456234, 3456232, 3440204, 2372369, 1886547, 1837263, 1674498, 1640452, 1640449, 1212650, 1212649, 1011082, 797548, 224523, 2343617, 7419568, 5722268, 5215003, 4617730, 4327102, 2530822, 2022385, 2022384, 1976092, 1483231, 952255, 952248, 455362, 224526, 6972110, 6742363, 6719744, 6719739, 6181240, 6046672, 6046671, 6046669, 5897012, 5833880, 5621644, 4215080, 4128786, 4085316, 4085314, 3990147, 3456233, 3456231, 3440202, 3440201, 3440200, 3204335, 3027371, 1976089, 1723206, 1674500, 1439117], 1124210: [2258595, 8026740, 2258598, 2258596, 2258591, 2258597, 6541866, 2258594, 2258592, 8492305, 4648414, 2494577, 8026737, 6541864, 1689639, 8026735, 6541868, 5587711, 3162331, 2461683, 7715335, 7695217, 7443586, 6720368, 6636931, 6507996, 6255796, 5664148, 5098941, 4002456, 3466956, 3263727, 3225197, 2728448, 2650269, 2258599, 2258593, 943794, 931165, 931162, 522219, 181177, 7942807, 5587709, 4648417, 2825130, 2294008, 8355483, 8087702, 8026743, 6737729, 6737727, 5098936, 4942992, 4303129, 4002454, 2859501, 3470183, 8416219, 206149, 4759926, 5295894, 875765, 8176434, 5371411, 7146478, 7146473, 6891518, 6891517, 6737733, 6737728, 6636936, 6620551, 6507991, 6498977, 6472110, 6233255, 6181091, 6146809, 5941717, 5587710, 5032711, 4777681, 4648416, 4618354, 4616435, 4535489, 4174699, 4090499, 3517427, 3466959, 3289568, 3263731, 3242763, 3242758, 3228226, 3225189, 2958020, 2806527, 2753148], 287683: [8299551, 6915200, 7410738, 3162039, 6550734, 6550727, 6550726, 3162040, 2418642, 5225375, 6550731, 8259002, 3023962, 3395117, 6293510, 6915201, 6550728, 7496643, 3720660, 2432416, 6550730, 3162044, 3023966, 3023964, 6100394, 6246638, 6915202, 6550735, 2418643, 6000664, 8299548, 6915198, 782484, 2500104, 3162041, 7496640, 2402182, 2116587, 6293511, 5872258, 251713, 8259001, 7118864, 6077384, 4688614, 4688610, 8036708, 662955, 7036002, 4884446, 5066969, 6853289, 7496641, 7416375, 5087297, 4040900, 1352353, 4306587, 1245314, 8201649, 8409366, 8259006, 7043446, 6549994, 8081194, 7984227, 7738277, 5080355, 4085158, 1924338, 6915204, 3162046, 3023963, 8677810, 3781322, 3781321, 1431871, 4164218, 8530771, 5207799, 3660575, 558571, 8436001, 7416369, 7236783, 5383805, 4285479, 4179595, 4040908, 3458747, 652306, 652302, 5548076, 6915205, 1516518, 5144844, 5094939, 8036713, 227963, 3848638], 490595: [3572695, 1929910, 7839904, 3572702, 2507917, 5612095, 4737065, 4737060, 3572698, 3572701, 1620438, 4737064, 5612099, 3937200, 1288943, 4842897, 1288938, 4842896, 8485139, 4604269, 3833413, 5612094, 4737067, 4737059, 5112294, 2197786, 1530274, 3403268, 4737066, 2850740, 3833409, 3937204, 1288946, 549465, 6976961, 4737063, 4737061, 3937197, 7839910, 6742119, 6206562, 4292443, 6412650, 5359212, 4842891, 4763070, 4737068, 3833408, 2788470, 5359213, 1929911, 549466, 7839907, 2031793, 1194060, 2586069, 7698193, 7598980, 5248000, 5247999, 4842894, 4842889, 2507922, 1894656, 1894653, 1894652, 1391477, 1288940, 1194055, 829387, 805051, 805046, 7045860, 6485221, 4082324, 4082319, 3497872, 2586071, 2586068, 2433508, 1707411, 7045863, 6976960, 5633631, 526093, 3403266, 2143553, 7839906, 7040854, 5633627, 4763066, 3595606, 3572694, 1652460, 1473259, 1391479, 1160847, 3845163, 3833410, 3403265], 291865: [3635182, 1617274, 772298, 3454457, 5289235, 3588265, 3588264, 8679765, 8204654, 6341778, 351334, 6769969, 3308318, 6135198, 6135196, 3308326, 2493295, 5775199, 3665621, 3357934, 2310985, 3308324, 8090177, 7242812, 6971341, 6274927, 706878, 351328, 3308319, 683071, 8719980, 7644029, 8021111, 6649694, 4573518, 4059306, 4059304, 3588259, 3308325, 3295902, 3295900, 1968391, 1923711, 351333, 351330, 6007502, 6007499, 5289238, 772295, 772294, 5933264, 2493291, 5204250, 1212060, 2218077, 3868163, 351013, 7240334, 7398803, 7223661, 6649696, 6132808, 5413609, 5378552, 5227863, 4573516, 4401071, 4104952, 3588260, 3309125, 3070779, 2418343, 1923715, 1923712, 1662680, 1662679, 716787, 702434, 352566, 309732, 223250, 173641, 6240071, 8212393, 6858126, 6858125, 6858120, 6007504, 5909719, 5418781, 4789121, 4664217, 4219899, 4070590, 3588261, 351018, 231157, 4009366, 4009365, 4573519], 794725: [8771939, 8771934, 8771942, 8771940, 8771941, 8771937, 5925952], 1103812: [955560, 3672744, 4401695, 3591094, 8224183, 5974240, 4824834, 8220085, 1659850, 1659852, 3672738, 5974245, 3543021, 3672742, 4795938, 8224181, 4566583, 3486832, 1736597, 2379408, 3843267, 4824831, 2250580, 1785498, 3591090, 3564771, 3591091, 8220089, 7507311, 3843263, 3684048, 1059165, 864598, 239599, 6103245, 3978768, 7551186, 2703111, 6289840, 5201199, 3564774, 6097232, 8792133, 2379406, 2379409, 6927987, 3591095, 2072279, 5201198, 3684042, 2750961, 5976811, 2884935, 7242599, 7206366, 5372067, 5976809, 8841477, 2566125, 2110023, 475286, 4726838, 5276579, 4031942, 3425644, 5570112, 5201200, 4191304, 2878679, 6619490, 5974242, 6239698, 5000627, 4726841, 2566825, 5950137, 8224175, 7844921, 5538868, 3591092, 3182028, 5564936, 5974243, 2609436, 7885773, 7672950, 3591098, 3223944, 1039002, 1583317, 6054716, 4455026, 1785493, 3122424, 4905650, 4905647, 4586998, 8097008, 5190505, 6927985], 436600: [2498264, 2267986, 8473863, 2498267, 3943290, 43980, 2538721, 6306245, 2498263, 2267981, 3498519, 2267984, 2925061, 7990247, 2498269, 2267989, 43988, 43983, 3015576, 4013203, 2267985, 6140978, 2267987, 7990249, 4450189, 3621571, 3498516, 2216106, 1662519, 43984, 3498524, 4675582, 4541820, 6768410, 2267980, 486133, 3507289, 174334, 8154225, 43982, 7990254, 3813285, 5874827, 7473126, 7473125, 6306247, 4450190, 5390898, 3015584, 2705664, 2705658, 1352207, 7990251, 7267823, 7267818, 5474032, 4435279, 4143562, 3498522, 3053771, 2787130, 2705665, 2705663, 2705662, 2366559, 2267982, 1230273, 1230272, 1230271, 1020699, 253554, 253552, 174339, 4065325, 767479, 199575, 5006180, 3498525, 8473867, 7505882, 7484815, 6194269, 4013209, 3943291, 2895676, 2255510, 1867075, 2418848, 1204443, 4857615, 8473865, 6098390, 4154634, 2102027, 1352206, 174341, 8624039, 6883837, 2788632, 1896121], 1047259: [2516631, 8272104, 8272102, 73659, 3430141, 900397, 73663, 3430142, 8272097, 8272095, 3430144, 1960977, 73665, 73662, 6936163, 6936162, 6936160, 6936158, 6936157, 3430136, 73658, 3042615, 8715869, 8715867, 4887857, 3534449, 3534454, 2939075, 2753185, 7208555, 4180287, 3136841, 900401, 7744020, 6388392, 3447366, 3447362, 1960976, 8563479, 8475866, 8272103, 8272101, 8272100, 8272099, 8272098, 8272096, 8199935, 7792749, 7258838, 5128918, 5097979, 5097978, 5097976, 5097975, 5097973, 4887855, 4675273, 4606170, 3534456, 3534453, 3434873, 3430140, 3430139, 3430138, 3430137, 3239543, 3239539, 3087033, 2974858, 2648999, 2614332, 2610520, 2516630, 2516629, 2516628, 2516627, 2313589, 1984559, 1984557, 1960978, 1960970, 1468938, 1468937, 1468936, 1468935, 1468934, 1060426, 900405, 900404, 900403, 900400, 102371, 73664, 73661, 73660, 73657, 73656, 25321, 3288978, 1960972], 964223: [4368607, 4268633, 4569464, 2874598, 5198566, 1186638, 8693529, 7583485, 6102706, 74637, 4569468, 8484204, 7257075, 2822990, 7742833, 4150688, 6466478, 4835293, 3164036, 3038807, 2372278, 194195, 8693528, 3811563, 4988700, 6435231, 1780456, 3164038, 8732174, 6413736, 2479052, 2479049, 7088184, 2621131, 5194579, 31759, 3425616, 2617393, 7853361, 7575875, 4368615, 3729093, 2514714, 2900159, 7214602, 4334883, 2663652, 2384554, 1711456, 6905732, 6103530, 6102704, 2372274, 1301072, 1301069, 3164040, 2066545, 7830507, 4334882, 2731286, 7257073, 6701074, 3321783, 74638, 7742839, 4926298, 3811562, 1186639, 2514712, 2372275, 6905730, 2508219, 104423, 2245892, 4895306, 3174774, 491284, 5804183, 2507564, 2438493, 2438492, 2345090, 2289693, 1206464, 2623033, 7742835, 7742832, 5194578, 4577019, 4521102, 3719920, 2345087, 1491827, 1087953, 723062, 8484201, 3258597, 2607297, 1383636, 7680018], 564054: [1437408, 1437413, 3957332, 3079077, 104503, 3957330, 3079075, 1437412, 1437416, 4766785, 4260077, 3957331, 1437410, 541162, 4260080, 7241395, 7140224, 5089066, 4484647, 3658522, 1437409, 541161, 104507, 4260081, 8544645, 6661849, 3255505, 8670566, 8834295, 3255502, 1131875, 8670564, 4766784, 4260082, 541054, 362994, 132548, 7525616, 7241392, 3255506, 8759161, 3583935, 3255500, 3079078, 1131876, 3079080, 4260079, 1437411, 8834294, 8759164, 7241398, 6661846, 3255501, 3079076, 3013336, 964874, 3957328, 3957327, 8670567, 5182256, 4766786, 4260076, 2815944, 104509, 104501, 104500, 8759160, 7241396, 7018690, 4766783, 4304570, 3937227, 3937226, 3255504, 8670565, 6448414, 6448412, 4657638, 8670562, 7241399, 5182259, 2703421, 1437417, 1437414, 8670563, 5182258, 3957333, 2815945, 1455725, 541053, 7241394, 6697139, 5089068, 3957329, 3664036, 3314036, 1783613, 1455723, 104502, 7649584], 87181: [2986227, 7666831, 5197135, 8614360, 8614359, 8332546, 6521366, 6484578, 1902826, 47212, 47207, 4632251, 6484575, 5197130, 8151921, 4689525, 47210, 47211, 8332547, 6262331, 1179100, 8534135, 8332555, 5197138, 1902827, 123547, 8183982, 8183981, 8683181, 8151919, 6521360, 2556144, 2763490, 1692902, 3817259, 1961300, 8332551, 8183977, 8082516, 2530252, 8165403, 8165398, 7666828, 6928212, 935164, 123548, 6774305, 5197133, 5103079, 5103077, 8246410, 47206, 47203, 2556150, 4786305, 47205, 48083, 5197136, 2556146, 47208, 481035, 7005612, 8664069, 4689524, 2024860, 5753301, 4760525, 8738512, 3986072, 3423884, 5288974, 8683185, 8565420, 6195582, 8522403, 7139898, 7057928, 4632256, 2307979, 1856241, 1700168, 2986234, 2986231, 7945418, 8602858, 5809693, 2374850, 7274369, 1294924, 1825926, 5482974, 5297950, 4423956, 8032053, 5787636, 8101514, 178777, 5103083, 5103082, 3914970], 1116052: [6185151, 3528118, 1308164, 6894932, 2502027, 2502026, 2061140, 8103712, 1779348, 1779347, 22814, 8103711, 8625663, 3528114, 5135562, 46806, 8704154, 4041274, 8103709, 8050665, 7266924, 5135564, 331012, 287289, 8103713, 6894933, 6193004, 5135565, 3350800, 2115732, 2061137, 331021, 289470, 138615, 1360646, 8704153, 7472391, 7162210, 7162208, 6894940, 5135569, 4530060, 3834857, 2173874, 2158040, 2158037, 2158033, 1595079, 1404428, 1404423, 182109, 7504299, 8641806, 8490079, 7472392, 7469271, 7068428, 6894934, 6841049, 6672865, 6299610, 6222233, 5856744, 5118096, 4595416, 4595409, 3841895, 3841893, 3127566, 2824686, 2744123, 2665040, 2613112, 2502031, 2452608, 2165340, 2165339, 2158032, 1779345, 1652857, 1592242, 1592241, 1308165, 613431, 344214, 331014, 138620, 6102126, 6102125, 3528109, 1809257, 7504298, 5447202, 1567396, 1434376, 2359658, 2283115, 2283110, 2215872, 2215864], 554515: [8345484, 8345486, 8345483, 2943193, 7336358, 8345480, 7582216, 6416206, 934509, 7582215, 4423589, 2943195, 8345477, 165131, 3872136, 5416478, 1736622, 388800, 8345482, 3512200, 934508, 8577723, 2421342, 2943201, 2421344, 2943197, 4591314, 2049751, 1182634, 2943200, 2047110, 1102561, 165128, 5056407, 4591318, 1182630, 6416199, 6416198, 4591319, 8772162, 8465374, 8345481, 7200815, 2357051, 1182635, 2943196, 5056412, 4630870, 4630867, 4630865, 190326, 7981826, 5056414, 5056413, 1675155, 5275011, 7636487, 7147810, 6855546, 5475757, 190330, 8345485, 8345478, 6543245, 6152240, 6152238, 2834427, 5593737, 4007815, 4007814, 2387301, 8186986, 7500451, 7300636, 6918980, 6632220, 6575848, 6485763, 6326390, 6124394, 6120852, 5881664, 5521803, 5332962, 4919004, 4896009, 4411515, 3412409, 3108658, 3021259, 2980259, 2495720, 2432435, 1872449, 1344146, 1080313, 997816, 825111, 825110, 741183], 443396: [456708, 5048840, 8079046, 3648921, 8079039, 4792650, 4792649, 8769489, 4792655, 4452727, 3867852, 3222557, 2976739, 1091609, 7242384, 2038000, 1367154, 1367150, 1367149, 7743270, 8536118, 8769481, 6943327, 5048842, 4526744, 4511531, 2976744, 2976741, 2976740, 2976737, 1091611, 456710, 456706, 8079040, 535677, 6288864, 5465480, 2223989, 5706400, 1537322, 241407, 7415321, 4804309, 6171345, 5285667, 3314939, 6912573, 5598378, 3605500, 2037999, 1469068, 5300718, 1826142, 8741523, 208011, 8401527, 6939093, 6414671, 5198150, 4643887, 1826139, 1014568, 480398, 4804310, 1784490, 8608876, 8031298, 7240117, 6249492, 2511629, 2223984, 2000144, 1538717, 279294, 6951341, 3382855, 2863313, 8727979, 8727978, 8204777, 7415320, 6907967, 6452945, 6196981, 6171341, 6067509, 3501795, 2483330, 1381378, 1371893, 535676, 419392, 153603, 1242552, 545397, 356307, 8769490, 8769487, 8416862, 8362595], 1123581: [5053261, 5829977, 651039, 1780585, 651044, 877117, 7064021, 815295, 8033027, 6441272, 6352664, 922274, 4291712, 1854795, 1303678, 8509692, 4291711, 8194015, 1763821, 5548572, 597948, 8410944, 658636, 877113, 5153296, 8327760, 4121605, 4291714, 7030646, 877120, 5619089, 4672482, 7064018, 764158, 7279701, 8307520, 2541493, 3041771, 1226672, 7942374, 6040617, 7108739, 1911961, 5972353, 5806932, 5972350, 4908184, 4659497, 6624788, 344965, 5704208, 5581797, 165384, 4645466, 2249353, 8327761, 8197160, 8194018, 8071526, 6217446, 5959124, 5739586, 5163944, 4074934, 5529551, 4017962, 6650052, 6497164, 5760553, 8514276, 8298404, 5579250, 658639, 658637, 279233, 4121607, 1822059, 2020352, 1797543, 7086667, 5619095, 6940869, 4648207, 5726641, 764164, 6985364, 1915068, 4927712, 6352663, 5316012, 8514271, 7934232, 8240508, 877116, 4279660, 4799240, 6497163, 6650055, 5096755, 2220055], 714453: [4220022, 2973412, 7162698, 3226963, 3271692, 4355673, 8537066, 1871460, 841715, 2890245, 7581591, 2991383, 6235283, 6640053, 8537063, 8394290, 5087833, 8645518, 5087828, 3279856, 3226960, 6235278, 1262820, 7555875, 5585825, 6235279, 1965759, 1262817, 6235281, 7370345, 2042525, 5087832, 2890247, 6331992, 7401084, 2973411, 6366457, 4415338, 917670, 840575, 6235275, 631444, 5087824, 4794254, 5912909, 1164002, 3271701, 1716072, 7162697, 631445, 7667978, 8477520, 8430462, 7162695, 2626736, 338836, 4652875, 525367, 6514874, 7422335, 869014, 6235277, 3271697, 8837368, 7633198, 5924526, 1965760, 1262824, 1355935, 1965757, 869022, 8292315, 3226956, 3170444, 1990239, 3206847, 2437772, 1871459, 1987925, 7401088, 5756961, 3271696, 7667972, 4704065, 2771893, 6976642, 4406280, 841713, 8369881, 1262823, 5087831, 5924522, 5283594, 3226957, 3226954, 6514877, 1871456, 8537058, 7981530, 7667975], 972007: [5937971, 1125878, 6210252, 4335551, 3751298, 8704416, 98092, 108101, 7258403, 7258397, 1125881, 8704419, 7258400, 6484210, 4335544, 2181493, 4646626, 6497816, 555, 5631818, 6055142, 4382254, 2356276, 1027578, 7258398, 3409257, 3751292, 5937973, 4991280, 488466, 8119173, 8011988, 8011980, 5269896, 2356268, 6103575, 5986266, 3318404, 8186625, 5986268, 2356274, 5986262, 2463408, 7109739, 4506820, 4335548, 4076511, 1125880, 1125877, 4382257, 5000052, 7923161, 1910344, 8704423, 8704422, 8704421, 5349495, 1958708, 2128541, 4610334, 8011981, 7773175, 7258399, 6210250, 4688412, 4469302, 4469301, 4469296, 4076509, 3874441, 3275654, 1958701, 1125883, 558, 554, 3366171, 1230599, 921663, 6103568, 7258396, 550, 7682633, 3367560, 3672201, 3091095, 5352802, 3507876, 3507875, 3507874, 395004, 395002, 7664476, 4221455, 1152364, 8427971, 7254467, 5254841, 4221449, 3730594, 2965960], 929033: [6314115, 4548811, 4548815, 2465141, 2237411, 7812251, 4822352, 2465138, 2465137, 26408, 5139631, 4548810, 6235869, 7868136, 7812255, 7277387, 6314119, 6314114, 6314113, 5139627, 4947865, 4822346, 4598246, 4305062, 2585992, 6314116, 5947957, 4548813, 6314112, 6314111, 4822350, 4598238, 4548808, 4304537, 3897216, 3434184, 2820466, 2585989, 2585988, 1400768, 26416, 26413, 26409, 8837981, 8837976, 8660592, 8199696, 7812253, 7812252, 7704783, 7664734, 7276708, 6314117, 6096158, 5920694, 5374426, 5299999, 5139626, 4838707, 4822349, 4740716, 4570554, 4305056, 4304536, 3989620, 3097088, 3097079, 2585994, 2585993, 2465140, 2465139, 2465134, 2237412, 2237408, 1926258, 1926254, 1484270, 1400771, 232970, 26412, 8198746, 7633901, 7243370, 6096161, 5139632, 4548812, 4548807, 2779075, 1130621, 7812254, 555530, 6984456, 5920700, 5429595, 5365223, 3897217, 2879893, 2585995, 2285070, 2237405], 433234: [5000064, 4729896, 3628939, 4729895, 978389, 3628940, 5053320, 8326919, 5367328, 3212354, 2617399, 1652303, 5656934, 3852599, 3685014, 8413022, 7270231, 5756101, 5011350, 3536646, 3285277, 5656935, 4435728, 1652308, 4873517, 3852597, 7259218, 5529852, 4943717, 4426683, 3661541, 3619763, 1372157, 5367320, 5165777, 2652646, 1652306, 1652305, 7259211, 4873523, 6407069, 5749442, 3765725, 6176182, 1391439, 850312, 693051, 693050, 693049, 1940894, 1652302, 7003637, 4651676, 1194898, 6613447, 5994128, 2284497, 1621270, 1204531, 1027471, 8579459, 6982641, 4016423, 2177986, 2002465, 115538, 7040746, 6156679, 8837381, 2870580, 5017341, 5416400, 648596, 7648210, 7533071, 2161135, 1768795, 6275643, 5857260, 5688464, 5406396, 3726273, 1642592, 1332645, 651564, 6752707, 6208862, 2822686, 6545390, 3867545, 3511872, 2914012, 2044147, 1204533, 7971933, 4580757, 4149437, 3713651, 2870583, 870123], 1121709: [4836900, 1643334, 4861638, 8327576, 6212343, 747368, 2199727, 1243178, 1243176, 2964602, 4902695, 5530626, 3869997, 7849690, 7744250, 3957191, 3901771, 2851223, 3742653, 1077264, 7370525, 5915729, 1112487, 8676550, 6477374, 6326960, 4580133, 4580131, 4576677, 3381112, 2615981, 2432508, 2089382, 950984, 8104382, 8304005, 6690192, 5915725, 2874652, 28830, 6033569, 5053483, 4142726, 1643331, 1630774, 8832601, 8283424, 8156376, 7209949, 6801493, 5346543, 5216297, 4519393, 3901767, 3507448, 3177952, 2984179, 2517708, 2172208, 1894287, 1806880, 1114387, 9348, 8630783, 438529, 7375534, 6505378, 5726645, 1602031, 1602030, 863620, 747361, 274996, 7796652, 438530, 7796536, 7436383, 6532882, 2289622, 1596222, 6101688, 6091251, 6071941, 6033565, 5984748, 5902148, 5879625, 5846659, 5840159, 5797320, 5632237, 5608621, 5533296, 5217432, 5192606, 5016414, 4630201, 4440220, 4410461, 4341002], 88073: [4646923, 7177888, 1732916, 4181978, 6306613, 4181971, 3439665, 6275364, 6275363, 6275361, 1934524, 4181977, 624918, 6651382, 6306620, 6275365, 5569144, 266554, 5137418, 2248436, 1269980, 7177886, 4950976, 4181975, 1795727, 6651381, 6306617, 6306616, 6306615, 2023874, 7555330, 6688347, 6236704, 5959601, 3558468, 2567195, 2567194, 2490266, 1192057, 72309, 698, 5716049, 444380, 8720919, 2057582, 7890566, 6711102, 3761356, 2791323, 2791322, 2490262, 5137413, 4899029, 4355187, 3558464, 1874830, 1578367, 41138, 7702887, 519564, 2248433, 1974138, 7552584, 4148361, 3115826, 1390178, 1269978, 8170834, 1638951, 1581721, 1301798, 8726574, 8726573, 7766151, 2222049, 2222048, 1735692, 5171883, 5137415, 5072289, 4038041, 2929950, 1917365, 1261764, 1053924, 7890575, 7890570, 7890569, 6655635, 6588987, 6396692, 5861674, 5190698, 5072295, 4901742, 3761360, 3761358, 3761354, 41133, 8385759], 87452: [4248450, 6018163, 8496921, 8436571, 4502603, 7897960, 2026777, 6018169, 8819116, 8819111, 8333919, 186939, 1185292, 7965004, 5836705, 5746165, 7588883, 5694214, 5052034, 4496461, 8607555, 7897962, 6931702, 6679974, 6679972, 7897959, 7354953, 2571223, 3540111, 3347348, 3347347, 1971830, 5296736, 7843984, 6018168, 6018160, 8819115, 5694209, 4496459, 6018161, 5286924, 7499676, 6042747, 5836706, 5338945, 4312660, 1118401, 8363122, 7897963, 6096580, 2571221, 2571220, 7588880, 7499674, 7499672, 7133123, 6679977, 5694210, 5116022, 5052039, 5048394, 4248452, 3732895, 2026775, 1176095, 6999830, 4866240, 506999, 7965011, 4872055, 3732121, 4541811, 4541810, 5694217, 5219890, 8572877, 8496922, 8055172, 8055167, 7499678, 4157764, 3809017, 3809016, 2740334, 119522, 8363115, 7115848, 6163833, 6163042, 5728407, 5694211, 5219896, 5052038, 4328255, 4248446, 4248445, 352901, 8594768, 6357396, 6159694], 1005165: [2095593, 4439056, 6226570, 5980175, 4650256, 5343908, 8565565, 8470102, 2095586, 5343916, 5980173, 5663886, 5465085, 5980176, 8211327, 2448108, 8211325, 2363889, 4650255, 2095589, 2363888, 8722220, 2095590, 5938849, 6226567, 6683096, 4650253, 7272764, 897617, 2363886, 5337886, 4719713, 8211282, 5343912, 4949629, 3334946, 2448101, 2363890, 2095585, 3552097, 2448103, 4449638, 3314283, 2515922, 5465086, 8428897, 4650258, 5980174, 5343915, 5343910, 5337887, 4650259, 2515807, 2363884, 2095591, 2657979, 4174254, 5465079, 6279037, 6279036, 5337888, 2448100, 4449640, 8211328, 4650254, 4449642, 8835991, 8213528, 7272768, 6298076, 5285626, 2657980, 1714067, 897619, 643663, 8211280, 6423027, 2448107, 2095587, 2516023, 4449645, 4949634, 4174258, 2643832, 1168446, 5465080, 5343909, 6330358, 4449646, 6298077, 4174256, 3474953, 2515809, 2095594, 4439059, 3552102, 4956769, 5503494, 4518774, 5503490], 1133249: [3019343, 4788248, 519994, 5174818, 1578398, 712642, 508717, 8573563, 1522297, 7566545, 161359, 3952643, 7167894, 6823509, 5580399, 4942899, 3019349, 1074202, 6299312, 1543828, 8825905, 8346356, 7369330, 6262341, 5367981, 3026633, 2930257, 2706889, 2655365, 2080933, 524750, 262099, 7462411, 6220923, 5197537, 3686113, 2667385, 2283890, 1522301, 5124324, 4668004, 4401448, 3784067, 2898966, 8603217, 7226761, 6790846, 6665064, 5371451, 5243841, 5174819, 4420062, 4389940, 3433412, 3027161, 3019345, 2749281, 1274675, 7378797, 5152319, 4005458, 3614269, 3436974, 3027158, 2706892, 758452, 8295963, 4431774, 7672492, 7011333, 6745058, 6665068, 6289210, 6190649, 5963072, 5705063, 5705062, 5174825, 4299001, 4157173, 4015847, 3881022, 3776928, 3617434, 3204409, 3052863, 2898961, 2706891, 2706886, 2656326, 1578397, 540550, 524756, 524754, 308343, 6963502, 5832135, 4916606, 4261854, 3587652], 953067: [6251817, 6251809, 6251808, 5332276, 7109632, 7060025, 8748784, 5332283, 1252243, 3646159, 6251813, 6251811, 671236, 2766309, 6655996, 5332281, 7532163, 5332279, 3646162, 421708, 5332282, 6457237, 7109639, 7109636, 6656001, 6655993, 3098564, 7109633, 717491, 8748785, 2546085, 2439542, 1620992, 3324703, 7109637, 6251814, 5332284, 4788726, 6656000, 6655995, 5332278, 559134, 183895, 3324702, 717495, 717489, 4505249, 6649955, 6649954, 5332280, 3646161, 5332277, 843433, 7532165, 6457238, 2477494, 717488, 8745011, 8748783, 8748782, 8332494, 3276503, 2180906, 6405694, 1137582, 5564945, 3261691, 5739565, 6891369, 6283517, 4756775, 3324705, 4229194, 843437, 311709, 2684908, 6382447, 4271537, 1022460, 8827637, 8364495, 6891367, 7182847, 2702448, 8748788, 8605213, 6655997, 6251816, 6251815, 5332285, 7531594, 6790234, 6503816, 6283510, 5833803, 5381227, 4788735, 3203093, 2637923, 1443732], 101169: [2194351, 2802877, 6243304, 8408327, 4535875, 2194348, 6277755, 2802879, 1165440, 2194347, 6441333, 3333209, 2527316, 2527313, 4743111, 4194379, 4941249, 4050740, 4074846, 2802880, 8030623, 6441329, 1002426, 1165442, 1961313, 8315840, 6441336, 4194383, 4535868, 8263692, 1165447, 1165446, 5878883, 2802881, 2802876, 1601976, 1648334, 5878878, 4743118, 4074847, 2277816, 1909118, 3161733, 2053516, 1165441, 6277760, 4050736, 2802878, 5496036, 4682997, 4194382, 6017534, 1648336, 3333203, 8621279, 2053513, 6441334, 5878881, 5496037, 4188428, 8621280, 2774710, 3353296, 5749077, 2527317, 4124358, 2802884, 2121298, 4600453, 4360875, 2527315, 5670264, 4682998, 3423265, 1663153, 1165444, 920641, 660585, 4194386, 2802883, 2802882, 1165443, 6751533, 2820704, 7324467, 6277758, 6277753, 2527738, 1287387, 6264551, 5110296, 3355202, 4577683, 5762442, 5685758, 6243302, 6277757, 6277754, 5110300, 5110299], 855410: [8651775, 8651771, 8651776, 8651772, 8651770, 4064847, 6819752, 6640300, 6472574, 4717076, 4192323, 3393198, 1002892, 6564493, 6299186, 3381629, 2773637, 2218224, 1841907, 8158962, 7549087, 7467861, 7322095, 6922242, 6560129, 6194980, 5903426, 5122984, 4734708, 4427850, 86565, 8539647, 8389413, 8187103, 8159284, 8139699, 8100455, 8045684, 7247043, 7239697, 7001976, 7001975, 6973642, 6952058, 6922241, 6922238, 6859787, 6730966, 6564494, 6299187, 6088601, 6009374, 6009371, 5787687, 5727354, 5434375, 5299316, 5288154, 5280395, 5265114, 4799528, 4590905, 4373367, 3720988, 3686163, 3236545, 2915087, 2492734, 2359742, 1219329, 1171539, 866072, 860049, 794086, 769722, 769721, 769720, 769719, 4819159, 4753976, 4740980, 4729473, 4669520, 4634936, 4472317, 4430168, 4306711, 4286580, 4168815, 4032698, 4000142, 3946415, 3861430, 3861424, 3837035, 3802960, 3780287, 3699020, 3543883, 3516657], 1121276: [8053899, 8053893, 8547889, 8055664, 7640263, 8053891, 3519772, 3786696, 516362, 465857, 8055298, 119866, 8463867, 5271643, 4892419, 7368243, 6218895, 5271640, 3229243, 6700546, 4861401, 7701889, 1569705, 7701890, 4720097, 8673208, 4186970, 2084114, 6537759, 5363421, 7466121, 7701895, 4861400, 8055660, 7318349, 5494370, 8536503, 1333434, 6711261, 4956930, 2196027, 922157, 922155, 7363665, 5594668, 376918, 8055322, 5494371, 1578172, 8229028, 4782540, 5575331, 888422, 2374408, 1679579, 1679576, 922152, 7604573, 7468632, 7062232, 516359, 6378952, 6205260, 1653213, 1468787, 405802, 82579, 1078346, 7423851, 8053898, 1569707, 8463865, 2889337, 2211572, 7644767, 7701896, 5494374, 1660162, 1660161, 1660157, 1548310, 1548307, 1548303, 1360877, 8593118, 7866079, 4979357, 4525679, 3786698, 2374404, 465854, 7628748, 5967222, 3683615, 2566552, 1556878, 1333431, 1333430, 839847, 148623], 1114646: [8117094, 8117087, 2343617, 8117093, 8117092, 7196961, 6711103, 6704401, 6704400, 5959593, 5417954, 5417953, 5417952, 4697603, 771368, 4656405, 4656404, 8651755, 5306933, 4877500, 4207930, 3721191, 2343620, 2343618, 8651758, 8640143, 8074924, 7629821, 6157426, 6157422, 6020625, 5586378, 5519904, 4875928, 3463514, 3324411, 400354, 295518, 203382, 6020628, 6012751, 5927881, 5813451, 5809331, 5765798, 5708666, 5689128, 5565698, 5457626, 5295029, 5264278, 5179162, 5162747, 5122800, 5081495, 5079383, 4690893, 4675561, 4605454, 4548482, 4522595, 4438502, 4414861, 4411220, 4411216, 4411215, 4270203, 4151568, 3792880, 3671535, 3609631, 3360647, 3315144, 3297784, 3292874, 3141935, 2884111, 2845871, 2505776, 2343621, 2343615, 2343614, 2139675, 2025301, 1786995, 1784598, 1703791, 1394136, 1310629, 1231963, 1183671, 1019705, 879182, 785028, 698968, 590265, 580623, 580241, 517672, 468341], 19335: [129764, 8412687, 8412684, 3497214, 691498, 7298833, 5454283, 4540809, 4349928, 3175478, 7267248, 3175481, 1568085, 691497, 4540816, 6999135, 6214701, 4835655, 527695, 8525221, 7692043, 7455730, 7367407, 6179484, 6179483, 6179481, 5629119, 5454280, 4540808, 4463187, 4310695, 4310687, 3653053, 3445058, 3175485, 2978577, 1837110, 1568088, 1568084, 1359917, 901329, 712806, 691492, 8412683, 8412681, 8412682, 3175484, 1729, 1726, 8798990, 8754859, 8218756, 7526138, 7526137, 7298840, 7276206, 6419394, 6179487, 6179485, 6109206, 4349926, 4275617, 3175483, 2943087, 2046341, 1796647, 1725697, 1705525, 1568086, 1568083, 1555319, 1359914, 920919, 901321, 712805, 712802, 691494, 342432, 129762, 1730, 1722, 7367402, 6999143, 6109209, 2046505, 527698, 527694, 527689, 7298837, 6452949, 5843332, 5843331, 5629115, 8823009, 5078867, 5454278, 5285252, 5034337, 4835653, 4835651], 789700: [7301424, 6939905, 6939903, 6834593, 8197220, 6939899, 6939898, 6834599, 6834597, 6834596, 6834590, 4273589, 4273580, 1590507, 1260652, 8829258, 8829257, 8598565, 8302630, 8299302, 7639308, 6939904, 6939902, 6939901, 6834598, 6834595, 6834594, 6834592, 6834591, 5471744, 4492312, 4273588, 4273587, 4273585, 4273584, 4273583, 4273582, 3272322, 1698200, 1590503, 1563909, 1563907, 1533753, 1437501, 1260650, 1142252, 768317, 698486, 338319, 302463], 47923: [8348762, 5032362, 1868437, 5417582, 6643066, 1681334, 5417580, 5147527, 5586331, 8641107, 8418681, 4523464, 6210760, 2838662, 1681336, 1827449, 8619130, 7774318, 7071695, 1681332, 1868438, 4523463, 1488916, 3883233, 5147526, 7774316, 2699737, 2699736, 4297620, 7137895, 1161940, 8284608, 6626705, 1565060, 3348834, 6241153, 1681331, 7071694, 5417584, 5417583, 5147528, 2402776, 8619129, 3785497, 2508230, 525511, 473809, 4257345, 4257346, 4916881, 7227881, 7038128, 4991357, 291226, 6492198, 3348838, 4523462, 1681337, 6241147, 5940153, 2101908, 3883232, 6935784, 6626703, 6213242, 4684895, 4684893, 4587558, 3703415, 1506786, 1488919, 1488918, 99926, 8418683, 6696631, 1496426, 2704000, 5032364, 6213244, 3196227, 291225, 2135499, 8641106, 2044900, 6191, 8418680, 4321228, 5147529, 3850579, 611271, 291219, 284591, 3853976, 8619128, 7890942, 6241150, 4652799, 618556, 472111, 4257344], 301524: [5585190, 5585186, 6391534, 3664991, 1825974, 5633393, 8793170, 5498039, 5703889, 5794158, 3664995, 7524164, 959280, 749268, 118582, 3115772, 1825966, 6391535, 539346, 7499912, 7499907, 5585187, 5585184, 1825969, 8652475, 8525035, 5794161, 7499913, 7499908, 5831797, 8575086, 8793168, 8793167, 5703888, 5254972, 4516227, 4317694, 3000555, 7815612, 7959061, 7597806, 6010944, 3069475, 7594955, 3369398, 535497, 289131, 5656649, 5822828, 5234277, 2542456, 959279, 5342573, 5498037, 8679045, 2542551, 7905740, 6653795, 1062207, 6944248, 6810386, 4478796, 3964624, 2444107, 6412966, 3467404, 1054582, 6818526, 6689968, 5822826, 5822824, 5794160, 8364524, 8364522, 6702878, 5967589, 982597, 7843243, 3664994, 1006655, 8665817, 7928642, 7825901, 6056497, 4938572, 8614035, 4750663, 4317699, 2175698, 1990524, 8745829, 4402123, 6523265, 4104753, 8312845, 5715270, 5596289, 3069472, 2743165, 1633284], 405717: [2365660, 7447941, 8433858, 5638740, 6654655, 2702419, 28368, 7589975, 931517, 7170626, 8433852, 3033900, 2365659, 7896212, 2747484, 4704975, 28372, 8156519, 758581, 6786304, 1849743, 5668741, 4704978, 7170630, 2747485, 758582, 2747489, 5857562, 4828118, 7896211, 7288996, 8433854, 7728831, 6419725, 5079482, 6442862, 5079486, 702386, 619037, 2125644, 7201361, 7447942, 2702423, 2365661, 4987955, 4776926, 5638733, 4489666, 3986309, 3986308, 3986307, 3986305, 3986303, 5690238, 5428445, 7458371, 7442735, 4489661, 5638738, 3514259, 2747486, 2642838, 758586, 6924359, 4432155, 4326699, 2768521, 1589738, 2514108, 2365663, 576346, 5690240, 2726812, 5690237, 5690234, 5690233, 4704973, 4577231, 702383, 234955, 8610271, 7170625, 4776928, 7965240, 3274918, 3274915, 3033904, 2747491, 1619423, 846414, 1111372, 1111371, 8433860, 6427241, 3033903, 6632360, 6741364, 7201359, 7447943, 5274649], 165633: [8342625, 6378161, 6160628, 5689373, 6160623, 5689372, 404254, 3619874, 3214680, 5689381, 2802183, 1929750, 6160624, 404252, 2802186, 2324443, 2262665, 4870562, 6228229, 3487776, 2168770, 6450705, 8627336, 1281767, 1052687, 5689378, 5684442, 764171, 638195, 8329314, 6073042, 4215354, 1520935, 8537774, 8537768, 7174634, 6905300, 6405228, 4951677, 6450703, 5689374, 2172297, 2091042, 2091039, 1054893, 675168, 404248, 8537771, 7692600, 7646256, 7405346, 6719097, 6719090, 5435598, 4940955, 4870557, 4215348, 3023319, 2802184, 2599018, 1442829, 715100, 6844662, 5689375, 3720076, 3720075, 3720074, 3487779, 2831878, 2512101, 1895107, 677216, 526011, 404251, 404250, 404249, 6271513, 6266751, 6160625, 5789035, 5689379, 4626635, 3720078, 2831887, 2006568, 675163, 5929918, 8342630, 4078178, 3023313, 8754414, 8649475, 8546070, 8537772, 8537767, 8371434, 7920012, 7920008, 7846340, 7692598], 952774: [332230, 5174767, 383713, 332228, 1898870, 278696, 5174769, 945175, 332222, 6452044, 6452038, 2307509, 2280292, 299531, 8715238, 7820863, 7108703, 6452043, 6390597, 4706211, 3952953, 3470168, 2811936, 945181, 115402, 8765812, 8631452, 8205799, 8197888, 8084549, 7995378, 7995376, 7995374, 7070207, 7070205, 7070204, 6641210, 6390598, 5708772, 5613647, 5563441, 5297854, 5174773, 5174770, 5023314, 4616592, 4573402, 4528336, 3952957, 3716513, 3716512, 3449417, 2911255, 2480749, 2307506, 1878909, 1814440, 945178, 890016, 847510, 818559, 430162, 333152, 264141, 222306, 157974, 93438, 6570202, 6452040, 6452039, 6452037, 6390595, 6390594, 6390591, 6304505, 6137385, 5735052, 5689265, 5463100, 5327939, 5181687, 5174776, 5174775, 5174774, 4916400, 4651459, 4557559, 4557262, 4528334, 4519735, 4449935, 4198814, 4153023, 3952954, 3732632, 3732627, 3641342, 3154381, 2682282, 2637440], 766511: [4177139, 1686104, 8479075, 5678236, 6620365, 73996, 8479074, 6368776, 5365546, 5364049, 3952207, 3375154, 3192263, 3081708, 2653079, 2629950, 284665, 73995, 4752820, 3193381, 1740418, 250703, 8305396, 4709101, 3541566, 1990518, 981838, 818744, 7813351, 7561885, 6444373, 6269965, 6096661, 6029081, 5732219, 4619503, 4121030, 3017102, 2259509, 2217990, 1936433, 1764764, 1463641, 1243183, 264592, 4965891, 73989, 8619119, 8312385, 7620215, 7342799, 7227873, 7215129, 6269964, 5911169, 5732220, 5732218, 5332523, 5273381, 5213659, 5107335, 4752819, 4586878, 4586874, 3488515, 3226963, 2846585, 2436212, 2421133, 2286616, 1964265, 1582878, 1355935, 940741, 714984, 314045, 250699, 76224, 27105, 6038882, 6029086, 5955407, 5732213, 5356310, 5200500, 5200499, 5050274, 4737563, 4709094, 4586877, 4220022, 3957704, 3891660, 3541565, 3403824, 3350208, 3349992, 2193625, 1823728, 1782445], 1106293: [2332862, 8196725, 2309385, 7260308, 7260300, 8199430, 8199433, 7260335, 7255459, 2309384, 2332967, 2332963, 2332752, 2332751, 2332638, 2309383, 8199429, 2332966, 8199431, 8199428, 2332964, 2332861, 7260334, 7260298, 2332863, 2332756, 2332755, 2332749, 2332509, 7260312, 4417049, 2622854, 2332965, 2332514, 2332860, 7260301, 7260305, 2309382, 4681346, 7849205, 7255458, 4582051, 3249346, 1301696, 1569783, 5942272, 7260304, 7260299, 6101864, 5424509, 5997644, 2431595, 7260309, 2332754, 2332643, 4417051, 2333201, 2333199, 2332637, 8817834, 4528416, 5695551, 4815014, 4797496, 1784482, 1194111, 4582049, 4417047, 8780804, 8391150, 7849203, 7849200, 7437973, 7255454, 5591316, 5270223, 4681351, 4681345, 4681343, 4417048, 4232610, 4228247, 3430782, 3129127, 3129125, 2711189, 2622849, 2397462, 2332517, 2266405, 1648864, 8494408, 7873114, 6930751, 6529231, 4661646, 2912530, 1867605, 1566361, 1194108], 452431: [3399113, 996347, 1036665, 4889897, 489111, 4889896, 8720583, 4643486, 5121285, 5450907, 3021638, 3466597, 1036667, 7056952, 1512773, 4915381, 2004960, 710860, 2765214, 6281528, 2644506, 2220518, 7519416, 4915373, 7520147, 5450900, 4942889, 4942882, 3399114, 1466204, 470914, 1466203, 8653158, 3793444, 8824850, 129265, 3507969, 8438344, 6709585, 8802016, 8836185, 3168072, 1046416, 4556044, 938099, 7821335, 6281529, 7374796, 5450905, 4889902, 3627601, 2069991, 6069847, 8312542, 3685146, 1466201, 1036664, 8508031, 4915382, 129271, 8312549, 630502, 5642853, 1036671, 938092, 8147865, 2617282, 6216471, 6216476, 6178017, 4942886, 154488, 8409454, 6079815, 5917624, 5642858, 4769350, 2610526, 323699, 182808, 129268, 823822, 153567, 973432, 958513, 1193055, 5642856, 6050442, 2543005, 6972386, 6281525, 1452873, 7043119, 2644510, 1898634, 8483695, 6281522, 5450908, 4176155, 4769355], 1109818: [8164357, 8164356, 5410840, 2015912, 2888009, 6830034, 3561841, 3229195, 2109404, 1967048, 1575273, 8164362, 8164358, 8164355, 1175892, 8795484, 8554064, 8510625, 8487401, 8330211, 8201782, 8164361, 8164360, 8164353, 8043025, 7968887, 7888569, 7682148, 7658873, 7603617, 7504738, 7430074, 7279104, 6975835, 6743822, 6656339, 6581683, 6517858, 6478739, 6288252, 6188731, 6065032, 6065029, 6065027, 6030574, 6011639, 6011638, 5645925, 5553855, 5410839, 5378973, 5236775, 4855713, 4813682, 4763842, 4517902, 4463975, 4397867, 4373947, 4355665, 4328146, 4168770, 4073583, 3868255, 3786960, 3668154, 3668145, 3626143, 3617966, 3617961, 3617960, 3561839, 3541944, 3208458, 3173286, 2647857, 2560481, 2558558, 2344485, 2318990, 2172336, 1967049, 1905232, 1787949, 1745299, 1348473, 1228861, 1228859, 1222625, 700340, 523179, 226320, 340604, 340599, 8088850, 7697674, 3293803, 1914317, 6293679, 2656894], 1047902: [5931023, 8216249, 8216248, 4458875, 7615767, 6211610, 6211611, 8216256, 8216255, 4983548, 4793518, 4458881, 4458876, 4887380, 4793519, 5321210, 8216252, 8216250, 7575513, 6200609, 4793515, 4209850, 3969860, 3861721, 3724600, 3578814, 2961955, 2322183, 2322180, 2129916, 819368, 8226808, 7930252, 7885728, 6211613, 5931022, 4147898, 4147897, 1381808, 819372, 5321215, 4907903, 4841983, 3870188, 1381815, 7520995, 6211608, 6211607, 5386542, 5081169, 4907900, 4793513, 3809165, 3791461, 3724604, 3473751, 2819943, 2819938, 7899838, 7718304, 5321217, 4907907, 426719, 8829163, 8829164, 3578820, 3809163, 6200615, 6154863, 5931017, 5439176, 5264188, 5264185, 5032008, 4983540, 4956715, 4907904, 4887379, 4887377, 4824537, 4793521, 4793520, 4793516, 4458877, 4273196, 4273191, 4061528, 4061526, 3937186, 3843651, 3724603, 3724599, 3659825, 3251328, 3251325, 3251323, 3251322, 3178337, 3178336, 2937910], 306076: [6414937, 6414933, 539515, 4143927, 6414938, 3169822, 211461, 211462, 6414936, 4143929, 6161443, 6744101, 6385398, 6385397, 2874001, 5966396, 4143928, 6152152, 6894608, 3497470, 6152153, 6351780, 1663914, 4078388, 3497471, 3032339, 5608292, 6549966, 795542, 4143926, 3738277, 6152154, 8746585, 6351784, 6150716, 378151, 2435867, 888703, 5441359, 6549964, 7734899, 5785591, 5606996, 5606196, 2335737, 2912503, 4985545, 539523, 3169818, 3169816, 6150715, 378149, 8555755, 2335733, 5862205, 3032337, 6152151, 6161447, 130843, 3432676, 1975882, 7599541, 2146382, 5606193, 6241431, 8555752, 539522, 4041551, 1674399, 2030101, 4985549, 5966393, 6249206, 5840100, 2510815, 6406907, 6065627, 6161450, 6152148, 6161445, 310090, 6205136, 6161448, 7387869, 3032336, 7815200, 326832, 124110, 1857399, 6391891, 4143930, 283695, 25449, 2654273, 4985542, 4709252, 2831094, 6687308, 6385399, 3497465], 551040: [5809996, 7930522, 224179, 8486072, 5930515, 5809988, 3597841, 501417, 6251934, 5107712, 1247060, 8274762, 224177, 192247, 8817309, 3213815, 2108751, 7775206, 7112386, 6666807, 6429126, 5384722, 6251928, 5542814, 2842953, 1802735, 5988195, 5305532, 2857174, 6251932, 3609743, 8486070, 224175, 501415, 501414, 7700371, 7560119, 6209392, 2108745, 7261684, 2723626, 7707946, 6801364, 3213822, 3149269, 7775213, 7775211, 7775210, 2562587, 1802732, 8451527, 5090886, 6388411, 2033488, 2033481, 713814, 2842944, 3213817, 6477040, 6477038, 5542815, 6263020, 6019830, 3213821, 2878714, 2033486, 8265043, 6214786, 1234253, 7661327, 4283636, 205685, 986445, 5501364, 4512525, 1104971, 6014054, 5542813, 8703387, 8486075, 5887479, 4881239, 1247052, 1061216, 8312746, 8129738, 6781490, 2108750, 1234255, 570327, 501422, 8147204, 2272174, 4593450, 1515283, 6666809, 2878712, 2878709, 224176, 7709607], 1059231: [2813725, 4605023, 3556864, 2998052, 7052526, 4638367, 4576224, 6314985, 4441004, 4193031, 5209988, 2625279, 5209990, 3703507, 3174075, 3174074, 3174073, 4736647, 2651334, 7515679, 6292436, 1710233, 5247521, 3533427, 2998048, 2723493, 8709966, 3255838, 8787483, 8732472, 5110002, 8732468, 7743650, 6210092, 4566032, 3602584, 2996389, 2939391, 2791790, 5522687, 7468167, 72558, 8027324, 3710903, 3270353, 4091431, 1159963, 8371445, 8371443, 8371441, 5062380, 4499732, 4441414, 4215155, 3447188, 8795510, 4465662, 4287637, 3408312, 2876683, 7009977, 3479052, 1710234, 1710230, 8513978, 2801143, 3448529, 3423426, 2588384, 973875, 2791795, 8328704, 7910792, 2306794, 7301298, 7301297, 7301296, 7009976, 3043845, 6150900, 4996047, 1159960, 1159959, 8799461, 8771882, 6989605, 6215520, 2845499, 1648860, 8804155, 8778628, 8773307, 8719959, 8693766, 7850497, 7173222, 6274724, 5444310, 4991376, 4817202], 182539: [57443, 7371262, 3883077, 57444, 57447, 3760957, 8757181, 57448, 7371255, 8757178, 7579350, 2909960, 8299659, 1307235, 3883081, 3760964, 8299665, 6037973, 1638690, 6816572, 57450, 7579346, 8757179, 1307232, 6282909, 1924233, 1924234, 4518547, 7583024, 4518543, 7579349, 7579347, 6816579, 6816577, 1638694, 171653, 8757182, 8515182, 7371261, 7371259, 7371257, 6816573, 6816571, 738025, 2619755, 7088372, 1924235, 1924238, 7579351, 1638691, 6207835, 8475002, 7747231, 7037504, 5578624, 8299668, 5567732, 4730803, 2840563, 2840559, 8811479, 1774262, 7427811, 4318409, 637449, 8738234, 6223621, 4356628, 7504334, 1774261, 5513753, 411300, 6915964, 6807901, 6804469, 6804468, 6524924, 6300179, 5994650, 3025028, 7004677, 8299661, 1638687, 1307234, 6366089, 1924236, 7037502, 6892935, 6807900, 3693769, 2034789, 1609905, 1016580, 815344, 563693, 6201542, 6201541, 8454708, 8645860, 696519], 1115569: [8108289, 4559331, 110286, 7710346, 4314326, 8512108, 4303203, 110285, 7190448, 6656419, 6439196, 6439194, 6439193, 5570632, 4820010, 2944028, 2585053, 2585052, 1743111, 1743110, 1706003, 1706001, 110283, 8836874, 8678427, 8108287, 8008463, 7306397, 7190451, 7190450, 7190449, 7190447, 7190443, 6521694, 6439195, 6317009, 5807723, 5255029, 5050869, 4820006, 4385794, 3414891, 3222796, 3188923, 3075950, 2944024, 2585047, 1780107, 1706002, 1705999, 1307765, 383474, 256722, 256716, 7041363, 1627668, 1360548, 7065610, 3831432, 8836877, 8574541, 8512105, 8389601, 8192877, 7862624, 7606305, 7384046, 6656414, 6530403, 6129260, 5727625, 5342009, 5044434, 4911607, 4680603, 4667814, 4456281, 4385791, 4151161, 3714151, 3547219, 3547217, 3222801, 3188929, 3188924, 3069644, 2944030, 2844946, 2805117, 2756086, 2697914, 2585046, 2585045, 2540704, 1883223, 1745486, 1307766, 318944, 318941, 318936], 351697: [8303857, 2857066, 2156039, 77199, 6349381, 4952192, 7650317, 5585295, 6712600, 118054, 77194, 5297453, 5297449, 5909110, 937531, 3110306, 6483678, 5620044, 118052, 7824272, 4376461, 8614963, 5153746, 7513165, 5332911, 709424, 77196, 3106880, 6325825, 5525028, 7842854, 8679804, 3234904, 1451025, 802042, 8304407, 3248959, 2808120, 5519658, 6325823, 2385871, 1451021, 3217561, 6960860, 5876033, 8433498, 5519654, 5519653, 5519651, 6804478, 2823801, 4952194, 6598454, 5809458, 6393995, 5519657, 1659410, 14273, 259819, 5332912, 5519655, 1104174, 4734273, 6522643, 2144452, 5153755, 7686759, 2993680, 6205153, 2386122, 8302271, 5519650, 3106879, 3106875, 727465, 5962755, 2568103, 540303, 6205154, 8142126, 8303855, 4388617, 3120314, 416770, 4788468, 99884, 8573982, 8260174, 8073783, 1166926, 967787, 967785, 1716516, 6483677, 6236261, 6451491, 3106876, 7809111, 809290, 6294266], 904965: [8731390, 3883762, 8731387, 155522, 155518, 8103584, 155523, 2590192, 664904, 8731389, 6562492, 7267087, 5634114, 1207824, 664905, 4922362, 4922361, 8731393, 7500221, 7500220, 2590187, 5234842, 6562485, 6315923, 5944326, 3883769, 3883764, 3883761, 8731396, 529677, 664906, 3883765, 4302832, 7973344, 6407161, 918688, 6315927, 6067046, 4876605, 8652077, 5912746, 5910441, 5910436, 5578889, 5452766, 1973451, 664907, 5400969, 8731394, 3883766, 8731392, 8155316, 8120993, 8120989, 8037218, 8036381, 8035716, 8035122, 7215807, 7094514, 7092138, 7090754, 6925630, 6405586, 6269068, 6111058, 5973186, 5908567, 5868880, 5634109, 5621437, 5621436, 5621434, 5146828, 4492493, 4204915, 4066160, 2832153, 2590186, 8235133, 7293321, 4352727, 2836119, 5944325, 7990715, 6097446, 6067052, 5910442, 5910437, 5910434, 5578890, 5578881, 4045455, 3424507, 3002841, 2808378, 2484236, 7266113, 7227761, 7213278], 292906: [8298540, 5622635, 8738071, 2768675, 4450367, 3973269, 8552996, 5041348, 3313434, 3405923, 3837032, 4452123, 4450366, 2756366, 889155, 3902143, 6010551, 795684, 5622636, 8167580, 6706575, 4299730, 6706573, 1520645, 8634904, 3118851, 6706576, 6975505, 1520641, 6392389, 8307530, 8307529, 6757032, 4711705, 5644179, 1834951, 1769939, 1769937, 3185181, 6447803, 6010544, 132566, 3815876, 5825223, 6105360, 3429655, 3429654, 531184, 5796606, 6447804, 5489869, 2364626, 6414571, 6490693, 7715363, 5801706, 5462889, 5502795, 6706574, 5566040, 3924278, 8823842, 1984669, 769495, 6388785, 6975502, 4916274, 5230808, 3313428, 7062992, 6186656, 8441233, 4479878, 3007467, 1062771, 4672574, 7460346, 3509974, 5333578, 391484, 6867515, 5752472, 7715364, 5674237, 4698066, 3454104, 5823336, 3405916, 8307533, 6905414, 8738070, 1102678, 3322921, 603547, 3620278, 2904918, 6621910, 1884102, 2906986, 983218], 662372: [8610897, 1418377, 8322043, 4629249, 3593475, 1140781, 5765671, 4629253, 4629247, 8632278, 3939482, 5765673, 3416712, 4638540, 8537229, 6348241, 6235729, 8632274, 5765668, 7425043, 136052, 4178061, 5601179, 3557815, 4909905, 8610896, 6631383, 5687921, 8243037, 3557820, 7425048, 6631390, 3102595, 4792044, 5601172, 1720745, 5516936, 4792040, 6412121, 5601173, 8333110, 3628896, 7569434, 6235728, 4271347, 2169749, 568145, 246518, 3557821, 5556969, 6870167, 4629252, 2981576, 2274269, 7835159, 5183231, 6412119, 4148989, 6394125, 6136339, 2946802, 1140788, 7425040, 6870165, 6870164, 8537223, 7542614, 8049290, 4328425, 6235727, 2673170, 6412125, 8275904, 7976900, 4442962, 3547189, 7483707, 6412123, 8610898, 7973268, 6870171, 767799, 4629245, 8702993, 4167141, 5662962, 3593474, 4792039, 7340045, 8101971, 1935781, 4328423, 4131922, 3593480, 1720742, 1054034, 7689455, 7542618, 3655218, 2169745], 364142: [7804823, 7353036, 7353035, 2654727, 3219832, 8652173, 6208879, 734269, 1211754, 6598627, 2921860, 6308350, 42049, 2171777, 4993676, 2171779, 8800197, 6534426, 6311749, 6162372, 3457323, 2171781, 1706891, 8652171, 6914910, 4536609, 42041, 1822196, 7196579, 3280467, 8652170, 7345330, 1211750, 425876, 425874, 7177860, 6279455, 7506533, 1211753, 7766151, 5920529, 1886074, 2921863, 6395000, 5442886, 4759280, 1211758, 4264163, 8274599, 6311752, 5836032, 6032513, 3327679, 195543, 2258240, 1897488, 5803760, 2171785, 6064186, 6208872, 3457327, 3457321, 120167, 7551711, 2831843, 2654729, 908168, 908167, 908165, 8010350, 6624449, 5967224, 5967222, 5967221, 3674890, 2733553, 2572989, 2566554, 2566552, 1903094, 1556878, 1092000, 6927557, 5153280, 4098964, 2968054, 2733552, 2053808, 1348439, 810314, 6489636, 6311747, 6311746, 3389245, 3335997, 2118491, 908166, 7196576, 3457325, 2130960], 20455: [8188843, 6921271, 1301188, 151258, 1914317, 7310659, 981072, 7689804, 4051877, 6645948, 1607429, 1414754, 160655, 8378556, 2941561, 8667947, 8167859, 168352, 1006634, 7605008, 7580035, 7418819, 6967590, 6925473, 6010108, 5874333, 4934750, 2036372, 1170657, 427422, 3014063, 1650043, 8667944, 7689808, 6167000, 4449518, 1257678, 8188847, 5799895, 5799889, 3693270, 2034937, 1686722, 1408434, 821625, 3293950, 2809509, 1795457, 2857056, 8087468, 6964784, 3489294, 3208515, 775432, 6362312, 8667942, 8188846, 7990543, 7985672, 7605011, 7605010, 7605007, 7267893, 7231061, 7165108, 7082429, 6886792, 6188082, 6010109, 4963739, 4925567, 4652584, 4006216, 3717531, 3422711, 2684592, 2684589, 1794469, 1782334, 1686726, 1257671, 534361, 307937, 6202299, 6202296, 1902081, 1734053, 4153474, 8766901, 7012761, 6202292, 5803264, 4469786, 2809510, 6202300, 3843620, 3557395, 2809516, 2809514, 2809511], 1119058: [7372489, 7372491, 5577012, 8736780, 2807179, 7741430, 6816799, 6666138, 6816805, 6713010, 2189798, 2807185, 6666134, 4522893, 6816804, 3129105, 8027788, 3730802, 7923863, 5195212, 569780, 4522897, 4036212, 2328456, 380288, 6113013, 6310753, 5138642, 3113684, 2571620, 2136562, 1973364, 8288054, 3764709, 7406299, 8288052, 5439772, 1838355, 7388932, 7372483, 6666135, 3730808, 3508155, 821325, 7741427, 6228089, 6228088, 4525493, 3449641, 3129109, 112464, 8730929, 8587872, 8075207, 4525494, 3449646, 252540, 2871356, 8405465, 7372492, 6713017, 6626056, 6494382, 6228090, 6228087, 6217031, 6217023, 5150411, 4556124, 4396344, 4070409, 3727526, 424231, 1489530, 1048504, 6713014, 6713009, 6666141, 6335745, 4556118, 2733275, 1814314, 5377424, 6816798, 5587425, 5519298, 1807223, 7797767, 6160841, 8587874, 6433918, 5503598, 3446865, 2879999, 2632579, 6703933, 5797829, 6626058, 5431938, 4556125], 203318: [8340382, 8340387, 8340381, 7566775, 6746282, 4187023, 8307087, 253950, 5245086, 4152728, 6947714, 1349755, 4876273, 4997790, 3083622, 8340379, 5245079, 5245078, 4850848, 8307091, 1263225, 1133449, 8240261, 3083624, 8340385, 5245081, 8720477, 8252980, 8252977, 7566777, 959427, 5245080, 3495775, 959431, 8240264, 2782081, 6355261, 8240260, 5746917, 5746911, 4850847, 977453, 4997789, 1221516, 73286, 8340378, 5460237, 2522629, 8307085, 6878746, 6878739, 6376674, 3330105, 5796071, 8240263, 4175999, 73288, 73284, 1158514, 8340383, 8613022, 2319203, 6659768, 4363283, 557736, 7214901, 7039165, 6646651, 7923630, 367849, 8748107, 4997797, 4175996, 4175995, 2342464, 2222567, 2001428, 1510007, 418784, 208356, 7811779, 6976698, 5726610, 4571271, 2262622, 7154758, 5717616, 5717615, 2319205, 2019556, 582409, 8817701, 3256331, 5431407, 1110423, 3019862, 5753812, 3703866, 6438679, 6947720], 1126813: [8783942, 2724424, 8783939, 8382024, 1121119, 1912151, 351814, 2735550, 4066404, 109054, 351811, 7622796, 5924438, 3499602, 2724423, 1121123, 7322203, 661922, 402809, 6578004, 5173107, 661923, 8807765, 8386994, 7726699, 7472486, 6139292, 5550265, 3706536, 3582817, 2498514, 1320302, 813092, 8778525, 7683235, 7477666, 7322199, 6738068, 6315585, 6288837, 6261428, 6251074, 6099638, 6099637, 5910421, 5790737, 4991805, 4356818, 3582813, 3307817, 3121209, 3039711, 2693161, 2693158, 1509278, 1208583, 573828, 282629, 7322200, 7270073, 7201407, 6994518, 6994517, 6980415, 6738064, 6683448, 6627268, 6622359, 6578007, 6451465, 6251071, 6208102, 5910425, 5814334, 5790739, 5720391, 5681650, 5507103, 5436661, 4629743, 4562877, 3971059, 3706535, 3582818, 3537559, 3463243, 3420740, 3380792, 3147663, 3147659, 3147658, 2955686, 2917173, 2869524, 2807768, 2678576, 2582151, 2453693, 2453689, 2386382], 240053: [2652005, 2139360, 5492716, 7844755, 7844754, 4790299, 5853963, 2960570, 363467, 7135892, 1698161, 6963592, 3692254, 4084170, 5654851, 1698168, 6298577, 635361, 2139361, 363459, 6244367, 2363688, 5853959, 1698164, 1885683, 363460, 8661775, 3857660, 7074579, 4973382, 3271225, 5617191, 6514138, 7338683, 6621437, 1981071, 5286091, 2967058, 7191093, 6963596, 3418791, 8643301, 2652012, 4694135, 7160691, 7032844, 4807541, 8753839, 5427400, 5427395, 2026447, 2652008, 8308551, 1215752, 1338103, 1026388, 6067556, 5896190, 5286089, 5021807, 2205263, 1698162, 5716934, 3741315, 8353074, 8353073, 5695019, 4973384, 4318432, 4318430, 5045741, 7549268, 7511712, 6616381, 1959226, 6721662, 1977164, 6490607, 4359363, 2216426, 2020023, 7644819, 4029326, 2652013, 1857044, 5248605, 4646133, 1202165, 5363679, 7301967, 5248608, 8566859, 6368325, 2031672, 3983695, 1959228, 1784977, 8244619, 588675, 8244614], 1115392: [8110046, 8838196, 8713469, 8207894, 8110047, 8110044, 8110043, 8110041, 8069293, 7086975, 7081654, 5632415, 5212698, 5212694, 5060782, 4068049, 3913375, 3517211, 3093361, 3093360, 3093358, 2653628, 2557675, 2518508, 1829918, 1829917, 1679429, 1325713, 344436], 1113437: [5188746, 5188745, 3518298, 2354940, 313542, 7385216, 5546289, 1280572, 742044, 6284746, 8128794, 8128790, 6302495, 6021898, 436902, 8162984, 8128793, 5938419, 4016934, 1454812, 657405, 4981632, 520325, 7385217, 7277236, 6017945, 5938426, 5545723, 4498871, 4498864, 4016930, 3518300, 3049194, 3049193, 2354941, 1287014, 1280244, 4615569, 8128798, 1066532, 7618564, 436903, 7497491, 7377277, 6992968, 6597538, 5649864, 5546288, 4498873, 4016939, 3990056, 3518297, 2110583, 1768734, 742037, 213009, 213006, 6215772, 3436902, 3436901, 7959719, 7890535, 7890531, 7497495, 7497492, 7385215, 7377272, 7263162, 6992975, 6601849, 6511446, 6314214, 6174329, 6148219, 6059154, 6017938, 5649868, 5591644, 5591642, 5545722, 5514589, 5386684, 5362612, 5088110, 4783292, 4216336, 4064657, 4016938, 4016937, 4016933, 3405850, 3125154, 3089474, 3049199, 2628419, 1768732, 1768729, 1768728, 1681785, 631945], 1122461: [8042587, 8042589, 1988903, 5820098, 3977514, 1311038, 8042581, 6282124, 48062, 247423, 4182585, 6765639, 8042588, 6719658, 3704866, 1363928, 3977522, 3638170, 670134, 2259127, 2043708, 8611619, 3392475, 2091693, 2091686, 8791290, 7241509, 5755369, 5310974, 5090435, 4976284, 4235625, 2947053, 6264056, 3039599, 1987072, 8721077, 7129660, 6623218, 6214494, 4452742, 3704862, 2531794, 7241508, 8611621, 7039916, 6820390, 6307690, 6307686, 5242905, 4624762, 3575140, 2091692, 2091685, 1987073, 1600376, 6697487, 4671929, 2486924, 293221, 5361454, 2067397, 6959998, 6460391, 6307691, 6307687, 5979935, 5597898, 5597895, 4189285, 3489631, 3392482, 3039601, 3039597, 2311979, 2091689, 1988896, 1600367, 1016653, 625416, 8238271, 8143619, 8042582, 7927076, 7511487, 7241504, 7241502, 7129662, 6051487, 5126003, 4989566, 4556347, 4452747, 3985224, 3902119, 3704861, 3042118, 2422740, 1746623, 853800], 1116341: [8100866, 473175, 5312646, 2160425, 501471, 3718310, 2139304, 5661462, 8252851, 3718303, 2139305, 6778072, 8100865, 8100864, 1926334, 6093191, 5470946, 501475, 3718305, 7966975, 5733809, 5247750, 473176, 7739970, 2511218, 2989461, 2989460, 2758938, 4603373, 6721930, 7720593, 6666424, 3718309, 2160424, 6350803, 2139310, 1075159, 5247384, 1359473, 6778070, 6184584, 5444240, 4894111, 1011584, 7739973, 6217428, 8738358, 8524627, 6550914, 5599024, 4151581, 3837810, 2771605, 2511223, 1403777, 6894650, 6461024, 6276671, 6197558, 4554394, 4352974, 192210, 7139400, 4556638, 4337062, 1695337, 8100869, 2901461, 4151583, 6723487, 2201137, 2549487, 7046405, 3238411, 8100861, 6169811, 5615141, 8312318, 8263766, 6465569, 6249637, 4166611, 1425238, 2989462, 1480967, 1109359, 379305, 5146316, 5707901, 8472951, 7308077, 4581637, 7068336, 6845020, 6845019, 4107329, 2549489, 1872276, 6187504, 426744], 1129237: [2697752, 3905806, 128984, 8682824, 6080460, 7688471, 4233385, 4233383, 1779228, 1721142, 7688465, 3905057, 1325030, 1974039, 3683096, 6386977, 3826659, 3279719, 1779233, 7072552, 6194648, 4233382, 5122274, 8596871, 1460451, 6194643, 6246432, 4922579, 7401705, 6521880, 5249039, 2837792, 302210, 262492, 162127, 5916672, 818342, 4182088, 4904404, 2528830, 1779226, 392579, 718424, 3705875, 6225977, 6166230, 4982588, 4982587, 4915547, 2384636, 2364443, 1779229, 1526193, 1779231, 460182, 6343521, 5906130, 4425405, 998751, 818340, 4773351, 7318640, 5410304, 8357400, 4486834, 3679529, 2976015, 2577609, 8710041, 3826656, 3826653, 2971621, 2351491, 6585295, 4162487, 3826651, 1239397, 4565944, 7551664, 7552583, 6194645, 4425397, 3731786, 275589, 6601990, 2755127, 8446714, 7812954, 6981252, 5893722, 2697746, 8498937, 5168243, 732724, 710733, 3226982, 2015115, 7911557, 8633911, 6343520], 912070: [2303994, 4213886, 3838685, 7549670, 4547349, 3996436, 2303998, 6826389, 6193959, 3946692, 6826387, 4929215, 7549663, 7549668, 3996433, 2303991, 2303990, 6228375, 4929214, 1987570, 1202008, 3008572, 1229925, 4339243, 4213882, 3838683, 2303995, 1237854, 7611797, 4213885, 3008576, 2970191, 1202000, 4945453, 4213888, 7611800, 4615448, 4222934, 2504565, 6218122, 904924, 796102, 8719556, 7549671, 6826391, 6228380, 5900620, 4929216, 4156807, 3996438, 3996430, 3104938, 2507643, 1624313, 1229923, 2005845, 4027103, 1594671, 2150851, 3996429, 8352738, 7549664, 6218120, 3263565, 2005848, 1010400, 2877137, 2507646, 2377759, 8680535, 6826386, 4698025, 3996432, 3946687, 3838681, 2584671, 1237852, 4622643, 4437740, 7224610, 4945458, 3008575, 2970197, 2970195, 2183599, 1229922, 904930, 904927, 7982885, 5170334, 5162629, 5162628, 2483288, 1202003, 590671, 4159331, 6687745, 6230245, 6230242, 6230241], 278813: [3390550, 4555317, 4724472, 5190918, 3583856, 3195751, 4662834, 8466368, 5967631, 6265642, 5190917, 4688509, 4555314, 8037780, 2450147, 3574105, 5358273, 6504583, 6425469, 7354996, 132566, 3574106, 3377160, 7354990, 5044118, 4725529, 200782, 8270761, 5722813, 2893705, 595965, 3195750, 3583858, 3618614, 2914659, 5504499, 6504584, 615185, 5348549, 5853137, 200786, 441314, 6933862, 4130070, 7337004, 7661107, 5554114, 4631489, 5174810, 3408151, 3177931, 6445236, 2375200, 1961288, 4514037, 4131024, 334446, 5864898, 5358265, 3574109, 8003170, 3618615, 6152412, 5655203, 7506414, 6867405, 1714810, 2219053, 4854723, 4474812, 4844639, 6025338, 8470450, 6837998, 6333895, 6867406, 140328, 5124197, 3186463, 5349367, 2617018, 6078297, 6418816, 503513, 6845324, 1590228, 5676096, 6271399, 7733350, 2800071, 7857220, 6256317, 8034895, 7391039, 1435561, 4075396, 6661780, 8332335, 3156248, 3377152], 423273: [1693721, 4884249, 6163267, 5192053, 1443813, 6163265, 6348935, 2216493, 7811681, 6668015, 8547995, 8113253, 8154252, 8339679, 3321495, 3321491, 4884257, 2197926, 6596031, 4261306, 5172597, 921003, 2391848, 7139461, 41950, 4366823, 7919741, 6595120, 3094518, 7326594, 2784922, 747868, 4631881, 1211997, 103655, 6235510, 7919742, 5807210, 1015991, 5431120, 6160397, 4202416, 2391850, 8274997, 6509013, 4884248, 2879041, 7771129, 4424367, 8316997, 2027164, 1867311, 1840060, 6275449, 3165885, 1335367, 7811686, 1840058, 1735466, 4144538, 6791871, 5192059, 4454422, 1443811, 6265381, 5590620, 7920868, 6252720, 6252716, 5192060, 3165886, 2277442, 193368, 6163263, 2519755, 1797268, 8713090, 6631702, 5691962, 8237692, 6048608, 8237693, 8237690, 3860562, 3860561, 8545200, 7818161, 6330246, 6235508, 2277441, 2004244, 7901772, 6172390, 939809, 1752016, 1752013, 8339673, 6252715, 2185867, 1851379], 507445: [8572129, 8031812, 7976517, 8572123, 8572124, 4054303, 4054296, 7976518, 8572128, 8572125, 5889638, 3858434, 6692439, 8407104, 4054295, 7976514, 6955382, 1814335, 8606648, 6751241, 3990765, 1431175, 1785551, 7976519, 2795572, 186220, 8407105, 7355272, 481473, 7958886, 5749619, 6101883, 8211614, 1932881, 2795575, 974513, 8490667, 2630628, 4902214, 1479754, 464196, 138394, 6268023, 2630631, 2630629, 7422887, 2255059, 8761464, 6534390, 8722482, 7059658, 3255418, 6362537, 1839012, 1303847, 6816628, 250223, 8374943, 8374940, 6362539, 888638, 8407107, 5039371, 8077209, 6333352, 6168772, 570034, 1592444, 379000, 8077212, 6496993, 1790230, 6828030, 5303826, 7422886, 6292846, 2908426, 2908425, 370100, 7744056, 6266170, 3792542, 1813396, 5978762, 2795571, 758657, 5722868, 974521, 8372683, 2225031, 5026308, 1929110, 370108, 3190535, 5186791, 2175724, 3847914, 1534445, 3689208, 1814327], 25129: [7263713, 8816558, 4675557, 1823407, 968820, 968822, 113908, 113911, 1363116, 5031195, 8776499, 7462870, 525630, 224517, 6659834, 3229351, 2258265, 7447687, 612834, 8816564, 6876107, 4882896, 3683470, 4408402, 113906, 5605793, 8017531, 7447696, 5833423, 1775212, 3806622, 113913, 3806623, 1363117, 3457604, 7263707, 4391908, 7447694, 3156624, 6659829, 2207241, 8017525, 1804728, 4798634, 3683466, 2739347, 5180770, 7751610, 6876111, 5971410, 2960593, 8017526, 6117441, 3261536, 2408165, 1492496, 525623, 3950697, 612830, 5812164, 5812160, 832199, 6659835, 4798635, 4798632, 1915718, 1915716, 344281, 3059825, 7447691, 5833421, 2865203, 2405437, 6251730, 4509761, 7734044, 6212943, 3156620, 1775217, 8600592, 6212944, 6212938, 3950700, 1212207, 578707, 7197174, 8650755, 6314451, 4977506, 4781200, 4651571, 4481740, 3650726, 2053409, 868272, 5056218, 4033963, 837290, 5056219, 3683467], 146187: [8434623, 8434619, 8434618, 8434626, 744165, 8434622, 5548651, 744167, 6241267, 3963185, 2226093, 8434625, 4921741, 1028971, 6430260, 8361899, 8042971, 8042967, 4921740, 1246346, 76348, 2040185, 8481818, 7956019, 4216894, 1043683, 7095976, 4216895, 8434624, 8434620, 4777144, 4216899, 1841192, 8664004, 4216902, 3963189, 2257806, 2087678, 8280781, 8042966, 4992658, 8795494, 8042974, 8042972, 7307399, 5332231, 5332230, 4908916, 4111407, 5889120, 1043679, 7772762, 7189856, 7093331, 6868897, 3869711, 3860555, 5590506, 315525, 7704677, 7405002, 76344, 3063771, 6658185, 6430258, 5929430, 3531644, 1972078, 3063770, 2759245, 2026963, 7018356, 7008850, 6573190, 6066654, 4992657, 4921743, 3963184, 3869716, 3523044, 3354935, 3044346, 2708533, 2218221, 1937158, 1367173, 1367167, 1230564, 1193830, 1028966, 594649, 32195, 32188, 6167049, 5050456, 7960939, 8792967, 6483701, 4178942, 3241340], 634428: [240900, 8437062, 2889295, 3846891, 2227418, 70998, 8356959, 7210652, 4796678, 2889292, 418917, 266426, 8734391, 8534871, 8361033, 8356961, 8356960, 8356958, 8155586, 7158143, 7141348, 7067905, 6470178, 5613055, 5277688, 5185668, 5082091, 5082085, 4796685, 4754143, 4730039, 4697789, 4697786, 3667384, 3667381, 3398832, 3000705, 2656901, 2398877, 2051784, 1761859, 1700969, 1670955, 1617402, 1225115, 635322, 266430, 266428, 266424, 209402, 70917, 4266425, 3360030, 7011279, 4266426, 2276453, 4266423, 7355494, 4475285, 4393455, 2642502, 8356954, 7845219, 7355490, 7137907, 6007537, 5101469, 4655285, 7888073, 7888072, 4266427, 3112254, 2642511, 2276457, 1479767, 990172, 435910, 113375, 7141724, 6149852, 6043654, 4655287, 4381079, 4290381, 4290378, 4266430, 4148897, 3224720, 2642503, 2252998, 2192919, 2173025, 2122842, 2095812, 1479768, 1413356, 1388015, 819499, 316878, 211206], 1121986: [5186612, 7577743, 2978982, 4447541, 4771483, 2764642, 564965, 943538, 644926, 5384054, 7182456, 943539, 1024820, 5070867, 4771485, 2249663, 8657656, 4583465, 1120687, 759445, 184023, 4771487, 7642042, 7836187, 3247905, 1719989, 184020, 919117, 4771486, 1200660, 5198257, 8046995, 4771489, 2577381, 1272159, 1112069, 817043, 439886, 131202, 4185047, 6255312, 6053847, 5803447, 5186607, 4384679, 919118, 6731836, 745596, 7112301, 454883, 5553671, 5553667, 5186605, 4185050, 1118581, 983255, 5647918, 6122752, 2683297, 1112072, 184021, 7346644, 5553672, 4121924, 4121920, 4121919, 943534, 7518992, 2028569, 8004929, 6179395, 2223580, 817049, 496432, 8808754, 5760960, 2887573, 759440, 440223, 7275235, 184024, 5700493, 6735012, 3247898, 1427998, 1118580, 2764645, 53176, 4262123, 454884, 1427997, 6179398, 8000324, 1796939, 7784554, 5506747, 4771488, 3125537, 7602288, 7863170], 321441: [7780747, 5493499, 7780744, 7500109, 8652411, 5531324, 7921339, 5682948, 5682947, 799957, 3252460, 7766899, 696452, 3206188, 7482344, 4509332, 2224959, 1129676, 8000273, 5274487, 6586737, 6497701, 7766897, 512872, 547051, 2841981, 6614491, 1531631, 1290438, 6109903, 4798143, 6625702, 4179927, 8263705, 3298753, 6767428, 3390308, 8198195, 7780743, 2939929, 8408877, 5531007, 5531006, 6614496, 7312852, 5794936, 5596192, 1325890, 1657889, 6802111, 361427, 1548179, 2236285, 7551652, 1129677, 1167351, 1434502, 7594073, 1657887, 799954, 3358095, 1005552, 6802109, 7482345, 7354313, 2979998, 1099044, 2845319, 3900506, 5274490, 6122757, 4300863, 4330323, 3390309, 8255432, 337551, 7918792, 5920250, 386270, 6791605, 8239537, 5691382, 8416224, 4791606, 3931182, 2224961, 361431, 749728, 5397412, 932353, 1812033, 6544063, 7354317, 2959495, 842091, 7766898, 6877054, 2020287, 5113698, 8438728], 532603: [2215319, 8522774, 4866634, 6392461, 5346281, 2195904, 2195902, 1204838, 6766615, 4363033, 3920188, 6964808, 1168062, 5384676, 8522781, 3464482, 6316290, 1346306, 8522777, 7474474, 6392459, 6392455, 6137535, 5043072, 4615845, 4363040, 3065217, 3065213, 3052732, 2215314, 1738440, 1496440, 460264, 4256468, 7647156, 7077286, 5363373, 3282513, 4928242, 8522780, 6481265, 6481263, 5947719, 7548800, 1453001, 8384140, 8383299, 7986673, 7844483, 7842046, 7634967, 7587599, 7498066, 7117928, 7059952, 7007994, 6912333, 6839380, 6229682, 6172243, 5897686, 5394797, 5225941, 5188836, 4966880, 4888071, 4866631, 4866630, 4735488, 4502367, 4458763, 4269572, 4234437, 4137109, 4117386, 4086978, 4006977, 3724814, 3722771, 3622362, 3622357, 3622356, 3337021, 3265679, 3229491, 3164875, 3036114, 3023112, 2965422, 2773390, 2759656, 2718044, 2574449, 2384619, 1745529, 1741361, 1634377, 1444367, 1255783, 1177908]}\n"
     ]
    }
   ],
   "source": [
    "#print(results)"
   ]
  },
  {
   "cell_type": "code",
   "execution_count": null,
   "metadata": {},
   "outputs": [
    {
     "name": "stdout",
     "output_type": "stream",
     "text": [
      "[3652655, 2068541, 3647358, 5553584, 4502510, 3130232, 6707713, 6185573, 4928535, 5553585, 5840050, 4744533, 8596285, 6225297, 6166456, 3357552, 3899060, 1397503, 7919347, 7152561, 698106, 699259, 5471907, 141310, 8661642, 242056, 6388957, 6388955, 4772091, 4390191, 6980266, 6758075, 3985446, 3502557, 3357548, 631424, 753531, 3150726, 5807716, 1511466, 2251472, 371765, 8596283, 5163856, 2010859, 4049530, 4172981, 3745976, 6681205, 1979870, 6179026, 2011059, 1842680, 1027732, 457000, 456998, 456997, 6564869, 6715236, 8596284, 3097883, 1889170, 1851519, 6868009, 6041119, 935161, 8209350, 6521245, 5118561, 8256786, 6204916, 414222, 8363174, 5579740, 2834919, 7777453, 6969425, 5668417, 4772094, 3209267, 2918196, 2875828, 1640379, 582753, 8172843, 7844766, 7844765, 3865302, 3009955, 2115313, 917895, 610121, 8611344, 6959553, 6859965, 5992241, 5194301, 4612632, 4320195, 4034250]\n"
     ]
    }
   ],
   "source": [
    "#print(results[1108939])"
   ]
  },
  {
   "cell_type": "code",
   "execution_count": 26,
   "metadata": {
    "ExecuteTime": {
     "end_time": "2024-11-19T17:27:50.675517Z",
     "start_time": "2024-11-19T17:27:50.633093Z"
    }
   },
   "outputs": [
    {
     "data": {
      "text/plain": [
       "\"for t in T:\\n    # print results[t]\\n    # print A[t]\\n    print(results[t])\\n    print(A[t]) \\n\\nprint(f'Topic {t}: F1 = {f1_score(results[t], A[t])}')\\n    \\nfor t in T:\\n    print(f'Topic {t}: P = {precision(results[t], A[t])}')\""
      ]
     },
     "execution_count": 26,
     "metadata": {},
     "output_type": "execute_result"
    }
   ],
   "source": [
    "'''def precision(results, qrels): # i qrels sono i relevance assesment files\n",
    "    retrieved = len(results)\n",
    "    retrieved_relevant = sum([qrels[d] for d in results])\n",
    "    return retrieved_relevant/retrieved # effettivamente torna\n",
    "\n",
    "def recall(results, qrels):\n",
    "    relevant = sum(qrels)\n",
    "    retrieved_relevant = sum([qrels[d] for d in results])\n",
    "    return retrieved_relevant/relevant\n",
    "\n",
    "def f1_score(results, qrels):\n",
    "    P = precision(results, qrels)\n",
    "    R = recall(results, qrels)\n",
    "    return 2*R*P/(R+P)\n",
    "    ''''''# TODO : rimuovi perchè non esiste che sia zero\n",
    "    if P + R == 0:\n",
    "        return 0'''\n",
    "    \n",
    "    \n",
    "'''for t in T:\n",
    "    # print results[t]\n",
    "    # print A[t]\n",
    "    print(results[t])\n",
    "    print(A[t]) \n",
    "\n",
    "print(f'Topic {t}: F1 = {f1_score(results[t], A[t])}')\n",
    "    \n",
    "for t in T:\n",
    "    print(f'Topic {t}: P = {precision(results[t], A[t])}')'''"
   ]
  },
  {
   "cell_type": "code",
   "execution_count": 27,
   "metadata": {
    "ExecuteTime": {
     "end_time": "2024-11-19T17:27:50.863772Z",
     "start_time": "2024-11-19T17:27:50.786679Z"
    }
   },
   "outputs": [
    {
     "data": {
      "text/plain": [
       "\"import numpy as np\\n\\ndef precision_at_k(results, qrels, k):\\n    return precision(results[:k], qrels) # prende i primi k risultati e calcola la precisione su questi\\n\\nfor k in [1, 3, 5, 10, 20]:\\n    print(f'P@{k} = {np.mean([precision_at_k(results[t], A[t], k) for t in T])}') # media delle precisioni per ogni topic\\n\\n\\ndef recall_at_k(results, qrels, k):\\n    return recall(results[:k], qrels)\\n\\nfor k in [1, 3, 5, 10, 20]:\\n    print(f'R@{k} = {np.mean([recall_at_k(results[t], A[t], k) for t in T])}') # stessa cosa di prima ma per recall\""
      ]
     },
     "execution_count": 27,
     "metadata": {},
     "output_type": "execute_result"
    }
   ],
   "source": [
    "'''import numpy as np\n",
    "\n",
    "def precision_at_k(results, qrels, k):\n",
    "    return precision(results[:k], qrels) # prende i primi k risultati e calcola la precisione su questi\n",
    "\n",
    "for k in [1, 3, 5, 10, 20]:\n",
    "    print(f'P@{k} = {np.mean([precision_at_k(results[t], A[t], k) for t in T])}') # media delle precisioni per ogni topic\n",
    "\n",
    "\n",
    "def recall_at_k(results, qrels, k):\n",
    "    return recall(results[:k], qrels)\n",
    "\n",
    "for k in [1, 3, 5, 10, 20]:\n",
    "    print(f'R@{k} = {np.mean([recall_at_k(results[t], A[t], k) for t in T])}') # stessa cosa di prima ma per recall'''"
   ]
  },
  {
   "cell_type": "markdown",
   "metadata": {},
   "source": [
    "# IR Measures"
   ]
  },
  {
   "cell_type": "code",
   "execution_count": 64,
   "metadata": {},
   "outputs": [],
   "source": [
    "import ir_measures\n",
    "from ir_measures import *\n",
    "\n",
    "chosen_collection = \"msmarco\"\n",
    "\n",
    "# Load the qrels\n",
    "qrels = pd.read_csv('./collection/'+chosen_collection+'/'+chosen_collection+'-qrels.txt', sep=' ', header=None)\n",
    "qrels.columns = ['query_id', 'Q0', 'doc_id', 'relevance']\n",
    "qrels['query_id'] = qrels['query_id'].apply(str)\n",
    "qrels['doc_id'] = qrels['doc_id'].apply(str)\n",
    "qrels['relevance'] = qrels['relevance'].apply(int)\n",
    "# Load the run\n",
    "run_file = list(ir_measures.read_trec_run(f'./results/{chosen_collection}.run'))"
   ]
  },
  {
   "cell_type": "code",
   "execution_count": 56,
   "metadata": {},
   "outputs": [
    {
     "name": "stdout",
     "output_type": "stream",
     "text": [
      "{SetP: 0.26418604651162786}\n",
      "{SetR: 0.34199089792047155}\n"
     ]
    }
   ],
   "source": [
    "# The Set Precision (SetP); i.e., the number of relevant docs divided by the total number retrieved\n",
    "print(ir_measures.calc_aggregate([SetP], qrels, run_file))\n",
    "\n",
    "# The Set Recall (SetR); i.e., the number of relevant docs divided by the total number of relevant documents\n",
    "print(ir_measures.calc_aggregate([SetR], qrels, run_file))"
   ]
  },
  {
   "cell_type": "code",
   "execution_count": null,
   "metadata": {},
   "outputs": [
    {
     "name": "stdout",
     "output_type": "stream",
     "text": [
      "{P@5: 0.5581395348837209}\n",
      "{P@5: 0.5581395348837209}\n",
      "{P(rel=2)@5: 0.39534883720930225}\n",
      "{P(rel=3)@5: 0.17209302325581394}\n",
      "{P@5: 0.5581395348837209}\n",
      "{P(rel=2,judged_only=True)@5: 0.4372093023255814}\n",
      "{P(rel=3,judged_only=True)@5: 0.19069767441860466}\n"
     ]
    }
   ],
   "source": [
    "# PRECISION at k\n",
    "\n",
    "print(ir_measures.calc_aggregate([P@5], qrels, run_file))\n",
    "print(ir_measures.calc_aggregate([P(rel=1)@5], qrels, run_file))\t# default is rel=1\n",
    "print(ir_measures.calc_aggregate([P(rel=2)@5], qrels, run_file))\n",
    "print(ir_measures.calc_aggregate([P(rel=3)@5], qrels, run_file))\n",
    "\n",
    "print(ir_measures.calc_aggregate([P(rel=1, judged_only=True)@5], qrels, run_file))\t# default is judged_only=False\n",
    "print(ir_measures.calc_aggregate([P(rel=2, judged_only=True)@5], qrels, run_file))\n",
    "print(ir_measures.calc_aggregate([P(rel=3, judged_only=True)@5], qrels, run_file))"
   ]
  },
  {
   "cell_type": "code",
   "execution_count": 58,
   "metadata": {},
   "outputs": [
    {
     "name": "stdout",
     "output_type": "stream",
     "text": [
      "{R@100: 0.34199089792047155}\n",
      "{R@5: 0.06886452820043387}\n",
      "{R(rel=2)@5: 0.09394562802992476}\n",
      "{R(rel=3)@5: 0.09221170124734597}\n",
      "{R(judged_only=True)@5: 0.0747698051731351}\n",
      "{R(rel=2,judged_only=True)@5: 0.09949099373829699}\n",
      "{R(rel=3,judged_only=True)@5: 0.09811780399852398}\n"
     ]
    }
   ],
   "source": [
    "# RECALL at k\n",
    "\n",
    "print(ir_measures.calc_aggregate([R@100], qrels, run_file))\n",
    "print(ir_measures.calc_aggregate([R(rel=1)@5], qrels, run_file))\t# default is rel=1\n",
    "print(ir_measures.calc_aggregate([R(rel=2)@5], qrels, run_file))\n",
    "print(ir_measures.calc_aggregate([R(rel=3)@5], qrels, run_file))\n",
    "\n",
    "print(ir_measures.calc_aggregate([R(rel=1, judged_only=True)@5], qrels, run_file))\t# default is judged_only=False\n",
    "print(ir_measures.calc_aggregate([R(rel=2, judged_only=True)@5], qrels, run_file))\n",
    "print(ir_measures.calc_aggregate([R(rel=3, judged_only=True)@5], qrels, run_file))"
   ]
  },
  {
   "cell_type": "code",
   "execution_count": 57,
   "metadata": {},
   "outputs": [
    {
     "name": "stdout",
     "output_type": "stream",
     "text": [
      "{P(rel=2)@5: 0.39534883720930225, AP(rel=2): 0.1855357022003192, Judged@10: 0.7581395348837208, Bpref: 0.28740518536791293, AP: 0.20267250123025782, P@5: 0.5581395348837209, nDCG@10: 0.41352178810945667, Bpref(rel=2): 0.2345261473754138}\n"
     ]
    }
   ],
   "source": [
    "print(ir_measures.calc_aggregate([P@5, P(rel=2)@5, nDCG@10, AP, AP(rel=2), Bpref, Bpref(rel=2), Judged@10], qrels, run_file))"
   ]
  },
  {
   "cell_type": "code",
   "execution_count": null,
   "metadata": {
    "ExecuteTime": {
     "end_time": "2024-11-19T17:27:51.114391Z",
     "start_time": "2024-11-19T17:27:51.039101Z"
    }
   },
   "outputs": [],
   "source": [
    "# TODO : da rivedere\n",
    "\n",
    "count = 0\n",
    "for metric in ir_measures.iter_calc([P@5, P(rel=2)@5, nDCG@10, AP, AP(rel=2), Bpref, Bpref(rel=2), Judged@10], qrels, run_file):\n",
    "  print(metric)\n",
    "  count += 1\n",
    "  if count >= 10: break # only show top 10 items\n",
    "\n",
    "run_file_p_rel2_5 = {m.query_id: m.value for m in ir_measures.iter_calc([Bpref(rel=2)], qrels, run_file)}\n",
    "\n",
    "from scipy.stats import ttest_rel\n",
    "qids = list(run_file_p_rel2_5.keys())\n",
    "#ttest_rel([run_file_p_rel2_5[v] for v in qids])\n"
   ]
  },
  {
   "cell_type": "markdown",
   "metadata": {},
   "source": [
    "---"
   ]
  },
  {
   "cell_type": "markdown",
   "metadata": {},
   "source": [
    "# Trying it out"
   ]
  },
  {
   "cell_type": "code",
   "execution_count": null,
   "metadata": {
    "ExecuteTime": {
     "end_time": "2024-11-19T17:27:51.223580Z",
     "start_time": "2024-11-19T17:27:51.165387Z"
    }
   },
   "outputs": [],
   "source": [
    "import ipywidgets as widgets\n",
    "from IPython.display import display, clear_output\n",
    "import time\n",
    "\n",
    "\n",
    "# UI elements\n",
    "search_bar = widgets.Text(\n",
    "    placeholder='Type in a query...',\n",
    "    description='Search:',\n",
    "    layout=widgets.Layout(width='80%')\n",
    ")\n",
    "search_button = widgets.Button(\n",
    "    description='Search',\n",
    "    button_style='success',\n",
    "    tooltip='Execute the query',\n",
    "    icon='search'\n",
    ")\n",
    "\n",
    "score_function_rbtn = widgets.RadioButtons(options=['TF-IDF', 'BM25'], description='Scoring function:', disabled=False)\n",
    "algo_rbtn = widgets.RadioButtons(options=['TAAT', 'DAAT'], description='Algorithm:', disabled=False)\n",
    "_style = widgets.HTML(\n",
    "    \"<style>.widget-radio-box {flex-direction: row !important;}.widget-radio-box\"\n",
    "    \" label{margin:2px !important;width: 100px !important;}</style>\",\n",
    "    layout=widgets.Layout(display=\"none\"),\n",
    ")\n",
    "\n",
    "output_area = widgets.Output()\n",
    "\n",
    "\n",
    "def on_search_click(b):\n",
    "    with output_area:\n",
    "        clear_output()  # clean previous output\n",
    "        query = search_bar.value\n",
    "        if not query.strip():\n",
    "            print(\"Please, type in a query.\")\n",
    "            return\n",
    "        \n",
    "        selected_scoring_function = score_function_rbtn.value\n",
    "        print(f\"Selected scoring function: {selected_scoring_function}\")\n",
    "        # TODO : implement the selected scoring function\n",
    "\n",
    "        selected_algorithm = algo_rbtn.value\n",
    "        print(f\"Selected Algorithm: {selected_algorithm}\")\n",
    "        \n",
    "        start_time = time.time()\n",
    "        # --- QUERY EXECUTION ---\n",
    "        processed_query = preprocess(query)\n",
    "        termids = inv_index.get_termids(processed_query)\n",
    "        postings = inv_index.get_postings(termids)\n",
    "        \n",
    "        if selected_algorithm == 'TAAT':\n",
    "            results = taat(postings)\n",
    "        else:\n",
    "            results = daat(postings)\n",
    "        # ------------------------\n",
    "        elapsed_time = (time.time() - start_time) * 1000 # convert in ms\n",
    "\n",
    "        # finally show the results\n",
    "        print(f\"Found: {len(results)} documents\\n\")\n",
    "        for res in results:\n",
    "            res = (round(res[0], 4), res[1]) # TODO : si potrebbe spostare direttamente nella score function\n",
    "            print(f\" - {res}\")\n",
    "        print(f\"\\nExecution time: {elapsed_time:.2f} ms\")\n",
    "\n",
    "search_button.on_click(on_search_click)\n",
    "# link search button to the enter key\n",
    "search_bar.continuous_update = False\n",
    "search_bar.observe(on_search_click, names='value')\n",
    "\n",
    "top_row = widgets.HBox([score_function_rbtn,_style])\n",
    "middle_row = widgets.HBox([algo_rbtn,_style])\n",
    "bottom_row = widgets.HBox([search_bar, search_button])\n",
    "\n",
    "# finally display the UI\n",
    "display(widgets.VBox([top_row,middle_row, bottom_row]))\n",
    "display(output_area)\n"
   ]
  },
  {
   "cell_type": "markdown",
   "metadata": {},
   "source": [
    "# PyTerrier and Evaluation"
   ]
  },
  {
   "cell_type": "code",
   "execution_count": 59,
   "metadata": {
    "ExecuteTime": {
     "end_time": "2024-11-19T18:00:25.080832Z",
     "start_time": "2024-11-19T18:00:16.846453Z"
    }
   },
   "outputs": [
    {
     "name": "stderr",
     "output_type": "stream",
     "text": [
      "Java started and loaded: pyterrier.java, pyterrier.terrier.java [version=5.10 (build: craigm 2024-08-22 17:33), helper_version=0.0.8]\n"
     ]
    }
   ],
   "source": [
    "import pyterrier as pt\n",
    "import pandas as pd\n",
    "\n",
    "# note that pt.started() and pt.init() are deprecated\n",
    "\n",
    "if not pt.java.started():\n",
    "    pt.java.init()"
   ]
  },
  {
   "cell_type": "code",
   "execution_count": null,
   "metadata": {
    "ExecuteTime": {
     "end_time": "2024-11-19T18:31:51.495278Z",
     "start_time": "2024-11-19T18:31:51.383429Z"
    }
   },
   "outputs": [],
   "source": [
    "'''# Load the pickled inverted index\n",
    "df = pd.read_csv(\"collection/vaswani/vaswani.tsv\", sep=\"\\t\")\n",
    "\n",
    "# assign columns\n",
    "df.columns = [\"docno\", \"text\"]\n",
    "\n",
    "# Convert columns to strings\n",
    "df[\"docno\"] = df[\"docno\"].astype(str)\n",
    "df[\"text\"] = df[\"text\"].astype(str)\n",
    "\n",
    "# Display the DataFrame to verify\n",
    "print(df.head())'''"
   ]
  },
  {
   "cell_type": "code",
   "execution_count": null,
   "metadata": {
    "ExecuteTime": {
     "end_time": "2024-11-20T16:12:33.562549Z",
     "start_time": "2024-11-20T16:12:30.199027Z"
    }
   },
   "outputs": [],
   "source": [
    "'''indexer = pt.DFIndexer(\"./index_3docs\", overwrite=True)\n",
    "#indexer = pt.IterDictIndexer(\"./index_3docs\")\n",
    "indexref = indexer.index(df[\"text\"], df[\"docno\"])\n",
    "indexref.toString()'''"
   ]
  },
  {
   "cell_type": "code",
   "execution_count": 61,
   "metadata": {},
   "outputs": [
    {
     "name": "stdout",
     "output_type": "stream",
     "text": [
      "Number of documents: 8841822\n",
      "Number of terms: 1170682\n",
      "Number of postings: 215238431\n",
      "Number of fields: 1\n",
      "Number of tokens: 288759502\n",
      "Field names: [text]\n",
      "Positions:   false\n",
      "\n"
     ]
    }
   ],
   "source": [
    "indexref = pt.IndexRef.of(os.path.abspath(\"index_3docs/data.properties\"))\n",
    "index = pt.IndexFactory.of(indexref)\n",
    "print(index.getCollectionStatistics())"
   ]
  },
  {
   "cell_type": "code",
   "execution_count": 62,
   "metadata": {},
   "outputs": [],
   "source": [
    "import pandas as pd\n",
    "import re\n",
    "import string\n",
    "\n",
    "\n",
    "# File path for the input file\n",
    "file_path = \"collection/msmarco/msmarco-queries.tsv\"  # Replace with your file path\n",
    "# Read the input file\n",
    "queries = pd.read_csv(file_path, sep=\"\\t\", header=None, names=[\"qid\", \"query\"])\n",
    "\n",
    "# Apply preprocessing to each query\n",
    "queries[\"processed_query\"] = queries[\"query\"].apply(preprocess)\n",
    "\n",
    "# Save the processed queries to a new file\n",
    "output_path = \"processed_queries.txt\"\n",
    "queries[[\"qid\", \"processed_query\"]].to_csv(output_path, sep=\"\\t\", index=False)\n",
    "\n",
    "# Read the processed file with the correct column names\n",
    "processed_queries = pd.read_csv(output_path, sep=\"\\t\", names=[\"qid\", \"query\"], skiprows=1)"
   ]
  },
  {
   "cell_type": "code",
   "execution_count": 70,
   "metadata": {},
   "outputs": [
    {
     "name": "stdout",
     "output_type": "stream",
     "text": [
      "File processato salvato in: final_processed_queries.txt\n",
      "       qid                  query\n",
      "0  1108939        slow flow blood\n",
      "1  1112389  counti grand rapid mn\n",
      "2   792752                 ruclip\n",
      "3  1119729           noseble nose\n",
      "4  1105095  sugar lake lodg locat\n"
     ]
    }
   ],
   "source": [
    "import ast\n",
    "\n",
    "def concatenate_list(query):\n",
    "    \"\"\"\n",
    "    Funzione per concatenare gli elementi di una lista di termini in una stringa.\n",
    "    \"\"\"\n",
    "    try:\n",
    "        query_list = ast.literal_eval(query)  # Converte la stringa in lista\n",
    "        return \" \".join(query_list)  # Concatena gli elementi della lista con uno spazio\n",
    "    except (ValueError, SyntaxError):\n",
    "        return query  # Restituisci il valore originale se non è una lista valida\n",
    "\n",
    "\n",
    "# Step 1: Leggi il file delle query originali\n",
    "file_path = \"collection/msmarco/msmarco-queries.tsv\"  # Sostituisci con il percorso del file\n",
    "queries = pd.read_csv(file_path, sep=\"\\t\", header=None, names=[\"qid\", \"query\"])\n",
    "\n",
    "# Step 2: Applica la funzione preprocess a tutte le query\n",
    "queries[\"processed_query\"] = queries[\"query\"].apply(preprocess)\n",
    "\n",
    "# Step 3: Salva le query preprocessate in un file temporaneo\n",
    "temp_output_path = \"processed_queries_temp.txt\"\n",
    "queries[[\"qid\", \"processed_query\"]].to_csv(temp_output_path, sep=\"\\t\", index=False)\n",
    "\n",
    "# Step 4: Rileggi il file temporaneo per applicare concatenate_list\n",
    "processed_queries = pd.read_csv(temp_output_path, sep=\"\\t\")\n",
    "\n",
    "# Applica concatenate_list alla colonna 'processed_query'\n",
    "processed_queries[\"qid\"] = processed_queries[\"qid\"].astype(str)\n",
    "processed_queries[\"query\"] = processed_queries[\"processed_query\"].apply(concatenate_list)\n",
    "processed_queries = processed_queries[[\"qid\", \"query\"]]\n",
    "# Step 5: Salva il file finale con le colonne 'qid' e 'query'\n",
    "final_output_path = \"final_processed_queries.txt\"\n",
    "processed_queries[[\"qid\", \"query\"]].to_csv(final_output_path, sep=\"\\t\", index=False)\n",
    "\n",
    "# Output per conferma\n",
    "print(f\"File processato salvato in: {final_output_path}\")\n",
    "print(processed_queries.head())\n",
    "\n",
    "processed_queries[\"qid\"] = processed_queries[\"qid\"].astype(str)\n",
    "\n",
    "\n",
    "qrels = pd.read_csv('./collection/'+chosen_collection+'/'+chosen_collection+'-qrels.txt', sep=' ', header=None)\n",
    "qrels.columns = ['qid', 'Q0', 'docno', 'relevance']\n",
    "qrels['qid'] = qrels['qid'].apply(str)\n",
    "qrels['docno'] = qrels['docno'].apply(str)\n",
    "#qrels['relevance'] = qrels['relevance'].apply(int)"
   ]
  },
  {
   "cell_type": "code",
   "execution_count": 72,
   "metadata": {},
   "outputs": [
    {
     "name": "stdout",
     "output_type": "stream",
     "text": [
      "Numero totale di qid in queries: 200\n",
      "Numero totale di qid in qrels: 43\n",
      "Numero di qid comuni: 43\n",
      "Qid mancanti nei qrels: 157\n",
      "Qid mancanti nelle queries: 0\n"
     ]
    }
   ],
   "source": [
    "queries_qids = set(processed_queries[\"qid\"])\n",
    "qrels_qids = set(qrels[\"qid\"])\n",
    "\n",
    "common_qids = queries_qids & qrels_qids\n",
    "missing_in_qrels = queries_qids - qrels_qids\n",
    "missing_in_queries = qrels_qids - queries_qids\n",
    "\n",
    "# Mostra i risultati\n",
    "print(f\"Numero totale di qid in queries: {len(queries_qids)}\")\n",
    "print(f\"Numero totale di qid in qrels: {len(qrels_qids)}\")\n",
    "print(f\"Numero di qid comuni: {len(common_qids)}\")\n",
    "print(f\"Qid mancanti nei qrels: {len(missing_in_qrels)}\")\n",
    "print(f\"Qid mancanti nelle queries: {len(missing_in_queries)}\")"
   ]
  },
  {
   "cell_type": "code",
   "execution_count": 73,
   "metadata": {},
   "outputs": [
    {
     "name": "stdout",
     "output_type": "stream",
     "text": [
      "File salvato in: filtered_msmarco-qrels.txt\n",
      "Numero di valori univoci nella prima colonna ('qid'): 43\n"
     ]
    },
    {
     "data": {
      "text/plain": [
       "'queries_qids = set(processed_queries[\"qid\"])\\nqrels_qids = set(qrels[\"qid\"])\\n\\ncommon_qids = queries_qids & qrels_qids\\nmissing_in_qrels = queries_qids - qrels_qids\\nmissing_in_queries = qrels_qids - queries_qids\\n\\n# Mostra i risultati\\nprint(f\"Numero totale di qid in queries: {len(queries_qids)}\")\\nprint(f\"Numero totale di qid in qrels: {len(qrels_qids)}\")\\nprint(f\"Numero di qid comuni: {len(common_qids)}\")\\nprint(f\"Qid mancanti nei qrels: {len(missing_in_qrels)}\")\\nprint(f\"Qid mancanti nelle queries: {len(missing_in_queries)}\")'"
      ]
     },
     "execution_count": 73,
     "metadata": {},
     "output_type": "execute_result"
    }
   ],
   "source": [
    "import pandas as pd\n",
    "\n",
    "# Percorso del file da leggere\n",
    "input_file = \"collection/msmarco/msmarco-qrels.txt\"  # Sostituisci con il percorso del tuo file\n",
    "output_file = \"filtered_msmarco-qrels.txt\"  # Nome del file di output\n",
    "\n",
    "# Leggi il file con pandas\n",
    "df = pd.read_csv(input_file, sep=\" \", header=None, names=[\"qid\", \"Q0\", \"docno\", \"relevance\"])\n",
    "\n",
    "# Filtra le righe in cui la colonna 'relevance' è diversa da zero\n",
    "filtered_df = df[df[\"relevance\"] != 0]\n",
    "\n",
    "# Salva il risultato in un nuovo file\n",
    "filtered_df.to_csv(output_file, sep=\" \", index=False, header=False)\n",
    "\n",
    "print(f\"File salvato in: {output_file}\")\n",
    "\n",
    "file_path = \"filtered_msmarco-qrels.txt\"\n",
    "\n",
    "# Leggi il file con pandas\n",
    "df = pd.read_csv(file_path, sep=\" \", header=None, names=[\"qid\", \"Q0\", \"docno\", \"relevance\"])\n",
    "\n",
    "# Conta il numero di valori univoci nella colonna 'qid'\n",
    "unique_values_count = df[\"qid\"].nunique()\n",
    "\n",
    "# Stampa il numero di valori univoci\n",
    "print(f\"Numero di valori univoci nella prima colonna ('qid'): {unique_values_count}\")\n",
    "\n",
    "\"\"\"queries_qids = set(processed_queries[\"qid\"])\n",
    "qrels_qids = set(qrels[\"qid\"])\n",
    "\n",
    "common_qids = queries_qids & qrels_qids\n",
    "missing_in_qrels = queries_qids - qrels_qids\n",
    "missing_in_queries = qrels_qids - queries_qids\n",
    "\n",
    "# Mostra i risultati\n",
    "print(f\"Numero totale di qid in queries: {len(queries_qids)}\")\n",
    "print(f\"Numero totale di qid in qrels: {len(qrels_qids)}\")\n",
    "print(f\"Numero di qid comuni: {len(common_qids)}\")\n",
    "print(f\"Qid mancanti nei qrels: {len(missing_in_qrels)}\")\n",
    "print(f\"Qid mancanti nelle queries: {len(missing_in_queries)}\")\"\"\""
   ]
  },
  {
   "cell_type": "code",
   "execution_count": 74,
   "metadata": {},
   "outputs": [
    {
     "name": "stdout",
     "output_type": "stream",
     "text": [
      "Numero di valori univoci nella prima colonna ('qid'): 43\n"
     ]
    }
   ],
   "source": [
    "file_path = \"collection/msmarco/msmarco-qrels.txt\"\n",
    "\n",
    "df = pd.read_csv(file_path, sep=\" \", header=None, names=[\"qid\", \"Q0\", \"docno\", \"relevance\"])\n",
    "\n",
    "# Conta il numero di valori univoci nella colonna 'qid'\n",
    "unique_values_count = df[\"qid\"].nunique()\n",
    "\n",
    "# Stampa il numero di valori univoci\n",
    "print(f\"Numero di valori univoci nella prima colonna ('qid'): {unique_values_count}\")"
   ]
  },
  {
   "cell_type": "code",
   "execution_count": 75,
   "metadata": {},
   "outputs": [
    {
     "name": "stderr",
     "output_type": "stream",
     "text": [
      "C:\\Users\\jacop\\AppData\\Local\\Temp\\ipykernel_27108\\3385254733.py:2: DeprecationWarning: Call to deprecated class BatchRetrieve. (use pt.terrier.Retriever() instead) -- Deprecated since version 0.11.0.\n",
      "  TF_IDF = pt.BatchRetrieve(index, wmodel=\"TF_IDF\")\n",
      "C:\\Users\\jacop\\AppData\\Local\\Temp\\ipykernel_27108\\3385254733.py:3: DeprecationWarning: Call to deprecated class BatchRetrieve. (use pt.terrier.Retriever() instead) -- Deprecated since version 0.11.0.\n",
      "  BM25 = pt.BatchRetrieve(index, wmodel=\"BM25\")\n",
      "C:\\Users\\jacop\\AppData\\Local\\Temp\\ipykernel_27108\\3385254733.py:4: DeprecationWarning: Call to deprecated class BatchRetrieve. (use pt.terrier.Retriever() instead) -- Deprecated since version 0.11.0.\n",
      "  PL2 = pt.BatchRetrieve(index, wmodel=\"PL2\")\n"
     ]
    },
    {
     "data": {
      "text/html": [
       "<div>\n",
       "<style scoped>\n",
       "    .dataframe tbody tr th:only-of-type {\n",
       "        vertical-align: middle;\n",
       "    }\n",
       "\n",
       "    .dataframe tbody tr th {\n",
       "        vertical-align: top;\n",
       "    }\n",
       "\n",
       "    .dataframe thead th {\n",
       "        text-align: right;\n",
       "    }\n",
       "</style>\n",
       "<table border=\"1\" class=\"dataframe\">\n",
       "  <thead>\n",
       "    <tr style=\"text-align: right;\">\n",
       "      <th></th>\n",
       "      <th>name</th>\n",
       "      <th>map</th>\n",
       "      <th>recip_rank</th>\n",
       "    </tr>\n",
       "  </thead>\n",
       "  <tbody>\n",
       "    <tr>\n",
       "      <th>0</th>\n",
       "      <td>TerrierRetr(TF_IDF)</td>\n",
       "      <td>0.370491</td>\n",
       "      <td>0.774485</td>\n",
       "    </tr>\n",
       "    <tr>\n",
       "      <th>1</th>\n",
       "      <td>TerrierRetr(BM25)</td>\n",
       "      <td>0.370611</td>\n",
       "      <td>0.774485</td>\n",
       "    </tr>\n",
       "    <tr>\n",
       "      <th>2</th>\n",
       "      <td>TerrierRetr(PL2)</td>\n",
       "      <td>0.354771</td>\n",
       "      <td>0.769491</td>\n",
       "    </tr>\n",
       "  </tbody>\n",
       "</table>\n",
       "</div>"
      ],
      "text/plain": [
       "                  name       map  recip_rank\n",
       "0  TerrierRetr(TF_IDF)  0.370491    0.774485\n",
       "1    TerrierRetr(BM25)  0.370611    0.774485\n",
       "2     TerrierRetr(PL2)  0.354771    0.769491"
      ]
     },
     "execution_count": 75,
     "metadata": {},
     "output_type": "execute_result"
    }
   ],
   "source": [
    "# Definizione dei retriever\n",
    "TF_IDF = pt.BatchRetrieve(index, wmodel=\"TF_IDF\")\n",
    "BM25 = pt.BatchRetrieve(index, wmodel=\"BM25\")\n",
    "PL2 = pt.BatchRetrieve(index, wmodel=\"PL2\")\n",
    "\n",
    "# Esegui l'esperimento\n",
    "pt.Experiment(\n",
    "    [TF_IDF, BM25, PL2],\n",
    "    processed_queries,\n",
    "    qrels,\n",
    "    eval_metrics=[\"map\", \"recip_rank\"]\n",
    ")\n"
   ]
  },
  {
   "cell_type": "code",
   "execution_count": 76,
   "metadata": {},
   "outputs": [
    {
     "data": {
      "text/html": [
       "<div>\n",
       "<style scoped>\n",
       "    .dataframe tbody tr th:only-of-type {\n",
       "        vertical-align: middle;\n",
       "    }\n",
       "\n",
       "    .dataframe tbody tr th {\n",
       "        vertical-align: top;\n",
       "    }\n",
       "\n",
       "    .dataframe thead th {\n",
       "        text-align: right;\n",
       "    }\n",
       "</style>\n",
       "<table border=\"1\" class=\"dataframe\">\n",
       "  <thead>\n",
       "    <tr style=\"text-align: right;\">\n",
       "      <th></th>\n",
       "      <th>name</th>\n",
       "      <th>map</th>\n",
       "      <th>map +</th>\n",
       "      <th>map -</th>\n",
       "      <th>map p-value</th>\n",
       "      <th>map reject</th>\n",
       "      <th>map p-value corrected</th>\n",
       "    </tr>\n",
       "  </thead>\n",
       "  <tbody>\n",
       "    <tr>\n",
       "      <th>0</th>\n",
       "      <td>TF-IDF</td>\n",
       "      <td>0.3705</td>\n",
       "      <td>NaN</td>\n",
       "      <td>NaN</td>\n",
       "      <td>NaN</td>\n",
       "      <td>False</td>\n",
       "      <td>NaN</td>\n",
       "    </tr>\n",
       "    <tr>\n",
       "      <th>1</th>\n",
       "      <td>BM25</td>\n",
       "      <td>0.3706</td>\n",
       "      <td>15.0</td>\n",
       "      <td>20.0</td>\n",
       "      <td>0.514755</td>\n",
       "      <td>False</td>\n",
       "      <td>1.000000</td>\n",
       "    </tr>\n",
       "    <tr>\n",
       "      <th>2</th>\n",
       "      <td>PL2</td>\n",
       "      <td>0.3548</td>\n",
       "      <td>6.0</td>\n",
       "      <td>35.0</td>\n",
       "      <td>0.000002</td>\n",
       "      <td>True</td>\n",
       "      <td>0.000004</td>\n",
       "    </tr>\n",
       "  </tbody>\n",
       "</table>\n",
       "</div>"
      ],
      "text/plain": [
       "     name     map  map +  map -  map p-value  map reject  \\\n",
       "0  TF-IDF  0.3705    NaN    NaN          NaN       False   \n",
       "1    BM25  0.3706   15.0   20.0     0.514755       False   \n",
       "2     PL2  0.3548    6.0   35.0     0.000002        True   \n",
       "\n",
       "   map p-value corrected  \n",
       "0                    NaN  \n",
       "1               1.000000  \n",
       "2               0.000004  "
      ]
     },
     "execution_count": 76,
     "metadata": {},
     "output_type": "execute_result"
    }
   ],
   "source": [
    "pt.Experiment(\n",
    "    [TF_IDF, BM25, PL2],\n",
    "    processed_queries,\n",
    "    qrels,\n",
    "    eval_metrics=[\"map\"],\n",
    "    round={\"map\" : 4},\n",
    "    names=['TF-IDF', 'BM25', 'PL2'],\n",
    "    baseline=0,\n",
    "    correction='b'\n",
    ")"
   ]
  },
  {
   "cell_type": "code",
   "execution_count": 77,
   "metadata": {},
   "outputs": [
    {
     "name": "stderr",
     "output_type": "stream",
     "text": [
      "c:\\Users\\jacop\\miniconda3\\envs\\mircv\\lib\\site-packages\\pyterrier\\pipelines.py:130: UserWarning: 157 topic(s) not found in qrels. Scores for these topics are given as NaN and should not contribute to averages.\n",
      "  warn(f'{backfill_count} topic(s) not found in qrels. Scores for these topics are given as NaN and should not contribute to averages.')\n",
      "c:\\Users\\jacop\\miniconda3\\envs\\mircv\\lib\\site-packages\\pyterrier\\pipelines.py:130: UserWarning: 157 topic(s) not found in qrels. Scores for these topics are given as NaN and should not contribute to averages.\n",
      "  warn(f'{backfill_count} topic(s) not found in qrels. Scores for these topics are given as NaN and should not contribute to averages.')\n",
      "c:\\Users\\jacop\\miniconda3\\envs\\mircv\\lib\\site-packages\\pyterrier\\pipelines.py:130: UserWarning: 157 topic(s) not found in qrels. Scores for these topics are given as NaN and should not contribute to averages.\n",
      "  warn(f'{backfill_count} topic(s) not found in qrels. Scores for these topics are given as NaN and should not contribute to averages.')\n"
     ]
    },
    {
     "data": {
      "text/html": [
       "<div>\n",
       "<style scoped>\n",
       "    .dataframe tbody tr th:only-of-type {\n",
       "        vertical-align: middle;\n",
       "    }\n",
       "\n",
       "    .dataframe tbody tr th {\n",
       "        vertical-align: top;\n",
       "    }\n",
       "\n",
       "    .dataframe thead th {\n",
       "        text-align: right;\n",
       "    }\n",
       "</style>\n",
       "<table border=\"1\" class=\"dataframe\">\n",
       "  <thead>\n",
       "    <tr style=\"text-align: right;\">\n",
       "      <th></th>\n",
       "      <th>name</th>\n",
       "      <th>qid</th>\n",
       "      <th>measure</th>\n",
       "      <th>value</th>\n",
       "    </tr>\n",
       "  </thead>\n",
       "  <tbody>\n",
       "    <tr>\n",
       "      <th>360</th>\n",
       "      <td>TerrierRetr(BM25)</td>\n",
       "      <td>1005165</td>\n",
       "      <td>map</td>\n",
       "      <td>NaN</td>\n",
       "    </tr>\n",
       "    <tr>\n",
       "      <th>288</th>\n",
       "      <td>TerrierRetr(BM25)</td>\n",
       "      <td>100983</td>\n",
       "      <td>map</td>\n",
       "      <td>NaN</td>\n",
       "    </tr>\n",
       "    <tr>\n",
       "      <th>363</th>\n",
       "      <td>TerrierRetr(BM25)</td>\n",
       "      <td>101169</td>\n",
       "      <td>map</td>\n",
       "      <td>NaN</td>\n",
       "    </tr>\n",
       "    <tr>\n",
       "      <th>280</th>\n",
       "      <td>TerrierRetr(BM25)</td>\n",
       "      <td>1012021</td>\n",
       "      <td>map</td>\n",
       "      <td>NaN</td>\n",
       "    </tr>\n",
       "    <tr>\n",
       "      <th>309</th>\n",
       "      <td>TerrierRetr(BM25)</td>\n",
       "      <td>1014126</td>\n",
       "      <td>map</td>\n",
       "      <td>NaN</td>\n",
       "    </tr>\n",
       "    <tr>\n",
       "      <th>...</th>\n",
       "      <td>...</td>\n",
       "      <td>...</td>\n",
       "      <td>...</td>\n",
       "      <td>...</td>\n",
       "    </tr>\n",
       "    <tr>\n",
       "      <th>162</th>\n",
       "      <td>TerrierRetr(TF_IDF)</td>\n",
       "      <td>953067</td>\n",
       "      <td>map</td>\n",
       "      <td>NaN</td>\n",
       "    </tr>\n",
       "    <tr>\n",
       "      <th>13</th>\n",
       "      <td>TerrierRetr(TF_IDF)</td>\n",
       "      <td>962179</td>\n",
       "      <td>map</td>\n",
       "      <td>0.058898</td>\n",
       "    </tr>\n",
       "    <tr>\n",
       "      <th>150</th>\n",
       "      <td>TerrierRetr(TF_IDF)</td>\n",
       "      <td>964223</td>\n",
       "      <td>map</td>\n",
       "      <td>NaN</td>\n",
       "    </tr>\n",
       "    <tr>\n",
       "      <th>61</th>\n",
       "      <td>TerrierRetr(TF_IDF)</td>\n",
       "      <td>966413</td>\n",
       "      <td>map</td>\n",
       "      <td>NaN</td>\n",
       "    </tr>\n",
       "    <tr>\n",
       "      <th>156</th>\n",
       "      <td>TerrierRetr(TF_IDF)</td>\n",
       "      <td>972007</td>\n",
       "      <td>map</td>\n",
       "      <td>NaN</td>\n",
       "    </tr>\n",
       "  </tbody>\n",
       "</table>\n",
       "<p>600 rows × 4 columns</p>\n",
       "</div>"
      ],
      "text/plain": [
       "                    name      qid measure     value\n",
       "360    TerrierRetr(BM25)  1005165     map       NaN\n",
       "288    TerrierRetr(BM25)   100983     map       NaN\n",
       "363    TerrierRetr(BM25)   101169     map       NaN\n",
       "280    TerrierRetr(BM25)  1012021     map       NaN\n",
       "309    TerrierRetr(BM25)  1014126     map       NaN\n",
       "..                   ...      ...     ...       ...\n",
       "162  TerrierRetr(TF_IDF)   953067     map       NaN\n",
       "13   TerrierRetr(TF_IDF)   962179     map  0.058898\n",
       "150  TerrierRetr(TF_IDF)   964223     map       NaN\n",
       "61   TerrierRetr(TF_IDF)   966413     map       NaN\n",
       "156  TerrierRetr(TF_IDF)   972007     map       NaN\n",
       "\n",
       "[600 rows x 4 columns]"
      ]
     },
     "execution_count": 77,
     "metadata": {},
     "output_type": "execute_result"
    }
   ],
   "source": [
    "pt.Experiment(\n",
    "    [TF_IDF, BM25, PL2],\n",
    "    processed_queries,\n",
    "    qrels,\n",
    "    eval_metrics=[\"map\"],\n",
    "    perquery=True\n",
    ")"
   ]
  },
  {
   "cell_type": "code",
   "execution_count": 78,
   "metadata": {},
   "outputs": [
    {
     "data": {
      "text/html": [
       "<div>\n",
       "<style scoped>\n",
       "    .dataframe tbody tr th:only-of-type {\n",
       "        vertical-align: middle;\n",
       "    }\n",
       "\n",
       "    .dataframe tbody tr th {\n",
       "        vertical-align: top;\n",
       "    }\n",
       "\n",
       "    .dataframe thead th {\n",
       "        text-align: right;\n",
       "    }\n",
       "</style>\n",
       "<table border=\"1\" class=\"dataframe\">\n",
       "  <thead>\n",
       "    <tr style=\"text-align: right;\">\n",
       "      <th></th>\n",
       "      <th>name</th>\n",
       "      <th>map</th>\n",
       "      <th>map +</th>\n",
       "      <th>map -</th>\n",
       "      <th>map p-value</th>\n",
       "      <th>map reject</th>\n",
       "      <th>map p-value corrected</th>\n",
       "    </tr>\n",
       "  </thead>\n",
       "  <tbody>\n",
       "    <tr>\n",
       "      <th>0</th>\n",
       "      <td>TF-IDF</td>\n",
       "      <td>0.3705</td>\n",
       "      <td>NaN</td>\n",
       "      <td>NaN</td>\n",
       "      <td>NaN</td>\n",
       "      <td>False</td>\n",
       "      <td>NaN</td>\n",
       "    </tr>\n",
       "    <tr>\n",
       "      <th>1</th>\n",
       "      <td>BM25</td>\n",
       "      <td>0.3706</td>\n",
       "      <td>15.0</td>\n",
       "      <td>20.0</td>\n",
       "      <td>0.514755</td>\n",
       "      <td>False</td>\n",
       "      <td>1.000000</td>\n",
       "    </tr>\n",
       "    <tr>\n",
       "      <th>2</th>\n",
       "      <td>PL2</td>\n",
       "      <td>0.3548</td>\n",
       "      <td>6.0</td>\n",
       "      <td>35.0</td>\n",
       "      <td>0.000002</td>\n",
       "      <td>True</td>\n",
       "      <td>0.000004</td>\n",
       "    </tr>\n",
       "  </tbody>\n",
       "</table>\n",
       "</div>"
      ],
      "text/plain": [
       "     name     map  map +  map -  map p-value  map reject  \\\n",
       "0  TF-IDF  0.3705    NaN    NaN          NaN       False   \n",
       "1    BM25  0.3706   15.0   20.0     0.514755       False   \n",
       "2     PL2  0.3548    6.0   35.0     0.000002        True   \n",
       "\n",
       "   map p-value corrected  \n",
       "0                    NaN  \n",
       "1               1.000000  \n",
       "2               0.000004  "
      ]
     },
     "execution_count": 78,
     "metadata": {},
     "output_type": "execute_result"
    }
   ],
   "source": [
    "pt.Experiment(\n",
    "    [TF_IDF, BM25, PL2],\n",
    "    processed_queries,\n",
    "    qrels,\n",
    "    eval_metrics=[\"map\"],\n",
    "    round={\"map\" : 4},\n",
    "    names=['TF-IDF', 'BM25', 'PL2'],\n",
    "    baseline=0,\n",
    "    correction='b',\n",
    "    save_dir='./'\n",
    ")"
   ]
  }
 ],
 "metadata": {
  "kernelspec": {
   "display_name": "mircv",
   "language": "python",
   "name": "python3"
  },
  "language_info": {
   "codemirror_mode": {
    "name": "ipython",
    "version": 3
   },
   "file_extension": ".py",
   "mimetype": "text/x-python",
   "name": "python",
   "nbconvert_exporter": "python",
   "pygments_lexer": "ipython3",
   "version": "3.10.12"
  }
 },
 "nbformat": 4,
 "nbformat_minor": 2
}
