{
  "cells": [
    {
      "cell_type": "markdown",
      "metadata": {
        "id": "r-JaHNJ_oxA1"
      },
      "source": [
        "<a href=\"https://colab.research.google.com/github/giuliocapecchi/IR_project/blob/main/documentation_IR_project.ipynb\" target=\"_parent\"><img src=\"https://colab.research.google.com/assets/colab-badge.svg\" alt=\"Open In Colab\"/></a>"
      ]
    },
    {
      "cell_type": "markdown",
      "source": [
        "Agginguere in questa cella il logo di unipi (?)\n",
        "\n"
      ],
      "metadata": {
        "id": "A6AvzDV-rUVc"
      }
    },
    {
      "cell_type": "markdown",
      "source": [],
      "metadata": {
        "id": "mJk8P559G70D"
      }
    },
    {
      "cell_type": "markdown",
      "source": [
        "Project's goal was the development of a **Search Engine**, starting from a chosen collection and providing an effective and efficent way to let the user input a query and retrieve related documents as answer.\n",
        "\n",
        "To do so, following steps were followed: \\\\\n",
        "1. **Collection processing**: chosen collection was explored and processed to have a suitable one for next steps\n",
        "2. **Index construction**: since inverted index, document index and lexicon are main data structure of an Information Retrieval system, is important to build it according to best space and time consumption trade-off\n",
        "3. **Query processing**: related query dataset was explored\n",
        "4. **Performance Evaluation**: section dedicated to exploit measures for IR system evaluation"
      ],
      "metadata": {
        "id": "rc0JWFXlr3SG"
      }
    },
    {
      "cell_type": "markdown",
      "source": [
        "Qua ci metterei i requisiti del nb"
      ],
      "metadata": {
        "id": "X5YTNJl3r2c8"
      }
    },
    {
      "cell_type": "code",
      "execution_count": 1,
      "metadata": {
        "ExecuteTime": {
          "end_time": "2024-11-19T17:27:39.294725Z",
          "start_time": "2024-11-19T17:27:39.283186Z"
        },
        "collapsed": true,
        "id": "avw385rOoxA3"
      },
      "outputs": [],
      "source": [
        "%pip install -q matplotlib nltk tqdm gdown ir_datasets humanize seaborn pystemmer python-terrier --progress-bar off"
      ]
    },
    {
      "cell_type": "markdown",
      "source": [
        "Since relevance assestments were needed for performance evaluation, best choice for a IR system development is use one of well-known collection and for this project MSMARCO (TODO inserire link) was selected."
      ],
      "metadata": {
        "id": "qniEBGLvutfl"
      }
    },
    {
      "cell_type": "markdown",
      "source": [
        "Since effectivness of IR system is already tested using different collections, user can specify the favourite one using `chosen_collection` string field in code cell below\n",
        "\n",
        "| Collection | chosen_collection value | number of documents\n",
        "| :--- | :---| :---\n",
        "MSMARCO | msmarco | 8841823\n",
        "Vaswani | vaswani | 11429\n",
        "\n",
        "* All following results are referred to MSMARCO collection"
      ],
      "metadata": {
        "id": "LFhtKo7HIRR3"
      }
    },
    {
      "cell_type": "code",
      "execution_count": 2,
      "metadata": {
        "ExecuteTime": {
          "end_time": "2024-11-19T17:27:39.388287Z",
          "start_time": "2024-11-19T17:27:39.359476Z"
        },
        "id": "2NTReMZzoxA4"
      },
      "outputs": [],
      "source": [
        "chosen_collection = \"msmarco\"\n",
        "\n",
        "if chosen_collection not in [\"vaswani\", \"msmarco\"]:\n",
        "    raise ValueError(\"chosen_collection must be one of ['vaswani', 'msmarco']\")\n"
      ]
    },
    {
      "cell_type": "markdown",
      "source": [
        "Since IR system is developed and performances already assested, following code can be also run using every .txt or .tsv dataset as input having this structure:"
      ],
      "metadata": {
        "id": "4GXMHd4Y3CP0"
      }
    },
    {
      "cell_type": "markdown",
      "source": [
        "| DocNo or DocId | Passage |\n",
        "| :--- | :---|\n",
        "`0` | The presence of communication amid scientific minds was equally important ..\n",
        "`1` | The Manhattan Project and its atomic bomb helped bring an end to World War II..\n",
        "`2` | Essay on The Manhattan Project - The Manhattan Project The Manhattan Project was to see if making an.."
      ],
      "metadata": {
        "id": "hEbkdVZ96zye"
      }
    },
    {
      "cell_type": "markdown",
      "source": [
        "A decorator is a design pattern in Python that allows a user to add new functionality to an existing object without modifying its structure. In this project `profile(f)` decorator is used for time processing information"
      ],
      "metadata": {
        "id": "bkKEIeGT78OT"
      }
    },
    {
      "cell_type": "code",
      "execution_count": 3,
      "metadata": {
        "ExecuteTime": {
          "end_time": "2024-11-19T17:27:39.717258Z",
          "start_time": "2024-11-19T17:27:39.705731Z"
        },
        "id": "sPUfE-AUoxA5"
      },
      "outputs": [],
      "source": [
        "import time\n",
        "\n",
        "# Utility function -> Decorator for time monitoring\n",
        "def profile(f):\n",
        "    def f_timer(*args, **kwargs):\n",
        "        start = time.time()\n",
        "        result = f(*args, **kwargs)\n",
        "        end = time.time()\n",
        "        ms = (end - start) * 1000\n",
        "        print(f\"{f.__name__} ({ms:.3f} ms)\")\n",
        "        return result\n",
        "    return f_timer"
      ]
    },
    {
      "cell_type": "markdown",
      "metadata": {
        "id": "cG7sjhS5oxA4"
      },
      "source": [
        "# 1. Collection processing\n"
      ]
    },
    {
      "cell_type": "code",
      "execution_count": 4,
      "metadata": {
        "ExecuteTime": {
          "end_time": "2024-11-19T17:27:39.561923Z",
          "start_time": "2024-11-19T17:27:39.454360Z"
        },
        "id": "AgwnmlaToxA4",
        "colab": {
          "base_uri": "https://localhost:8080/"
        },
        "outputId": "2ca0f86e-dbc8-4ecf-c796-2537b7817626"
      },
      "outputs": [
        {
          "output_type": "stream",
          "name": "stderr",
          "text": [
            "Downloading...\n",
            "From (original): https://drive.google.com/uc?id=1_wXJjiwdgc9Kpt7o7atP8oWe-U4Z56hn\n",
            "From (redirected): https://drive.google.com/uc?id=1_wXJjiwdgc9Kpt7o7atP8oWe-U4Z56hn&confirm=t&uuid=18797ae5-3884-44bc-8471-c9a2fc4161c5\n",
            "To: /content/collection/msmarco/msmarco.tsv\n",
            "100%|██████████| 3.06G/3.06G [00:46<00:00, 66.0MB/s]\n",
            "/usr/local/lib/python3.10/dist-packages/gdown/parse_url.py:48: UserWarning: You specified a Google Drive link that is not the correct link to download a file. You might want to try `--fuzzy` option or the following url: https://drive.google.com/uc?id=1B7JfelV-YAfI3Wm9Qq8EwhfnWTbGn_Hy\n",
            "  warnings.warn(\n",
            "Downloading...\n",
            "From: https://drive.google.com/file/d/1B7JfelV-YAfI3Wm9Qq8EwhfnWTbGn_Hy/view?usp=drive_link\n",
            "To: /content/pickles/stats.pkl\n",
            "91.7kB [00:00, 27.5MB/s]\n",
            "/usr/local/lib/python3.10/dist-packages/gdown/parse_url.py:48: UserWarning: You specified a Google Drive link that is not the correct link to download a file. You might want to try `--fuzzy` option or the following url: https://drive.google.com/uc?id=1clxoj8EY3ALAC2lEs76EIYZg32KFufec\n",
            "  warnings.warn(\n",
            "Downloading...\n",
            "From: https://drive.google.com/file/d/1clxoj8EY3ALAC2lEs76EIYZg32KFufec/view?usp=drive_link\n",
            "To: /content/pickles/lex.pkl\n",
            "91.5kB [00:00, 17.4MB/s]\n",
            "/usr/local/lib/python3.10/dist-packages/gdown/parse_url.py:48: UserWarning: You specified a Google Drive link that is not the correct link to download a file. You might want to try `--fuzzy` option or the following url: https://drive.google.com/uc?id=1y0mDnlTLknZLo7qJT92zXdaUjA81hhIa\n",
            "  warnings.warn(\n",
            "Downloading...\n",
            "From: https://drive.google.com/file/d/1y0mDnlTLknZLo7qJT92zXdaUjA81hhIa/view?usp=drive_link\n",
            "To: /content/pickles/inv.pkl\n",
            "91.4kB [00:00, 37.2MB/s]\n",
            "/usr/local/lib/python3.10/dist-packages/gdown/parse_url.py:48: UserWarning: You specified a Google Drive link that is not the correct link to download a file. You might want to try `--fuzzy` option or the following url: https://drive.google.com/uc?id=1GqThR1MvJoJIwq9HiN4Hii0PosSkLTGc\n",
            "  warnings.warn(\n",
            "Downloading...\n",
            "From: https://drive.google.com/file/d/1GqThR1MvJoJIwq9HiN4Hii0PosSkLTGc/view?usp=drive_link\n",
            "To: /content/pickles/doc.pkl\n",
            "91.7kB [00:00, 15.5MB/s]\n"
          ]
        }
      ],
      "source": [
        "import gdown\n",
        "import ir_datasets\n",
        "import pandas as pd\n",
        "import os\n",
        "\n",
        "if chosen_collection == \"msmarco\":\n",
        "    # folder in which download would be stored\n",
        "    os.makedirs('./collection/msmarco', exist_ok=True)\n",
        "    # url dataset hosting for download\n",
        "    url_collection = 'https://drive.google.com/uc?id=1_wXJjiwdgc9Kpt7o7atP8oWe-U4Z56hn'\n",
        "    url_stats = \"https://drive.google.com/file/d/1B7JfelV-YAfI3Wm9Qq8EwhfnWTbGn_Hy/view?usp=drive_link\"\n",
        "    url_lex = \"https://drive.google.com/file/d/1clxoj8EY3ALAC2lEs76EIYZg32KFufec/view?usp=drive_link\"\n",
        "    url_inv = \"https://drive.google.com/file/d/1y0mDnlTLknZLo7qJT92zXdaUjA81hhIa/view?usp=drive_link\"\n",
        "    url_doc = \"https://drive.google.com/file/d/1GqThR1MvJoJIwq9HiN4Hii0PosSkLTGc/view?usp=drive_link\"\n",
        "    if not os.path.exists('./collection/msmarco/msmarco.tsv'):\n",
        "        gdown.download(url_collection, './collection/msmarco/msmarco.tsv', quiet=False)\n",
        "    # to avoid download if already exist\n",
        "    os.makedirs('./pickles', exist_ok=True)\n",
        "    if not os.path.exists('./pickles/stats.pkl'):\n",
        "        gdown.download(url_stats, './pickles/stats.pkl', quiet=False)\n",
        "    if not os.path.exists('./pickles/lex.pkl'):\n",
        "        gdown.download(url_lex, './pickles/lex.pkl', quiet=False)\n",
        "    if not os.path.exists('./pickles/inv.pkl'):\n",
        "        gdown.download(url_inv, './pickles/inv.pkl', quiet=False)\n",
        "    if not os.path.exists('./pickles/doc.pkl'):\n",
        "        gdown.download(url_doc, './pickles/doc.pkl', quiet=False)\n",
        "\n",
        "elif chosen_collection == \"vaswani\":\n",
        "    os.makedirs('./collection/vaswani', exist_ok=True)\n",
        "    vaswani_dataset = ir_datasets.load(chosen_collection)\n",
        "    docs = list(vaswani_dataset.docs_iter())\n",
        "    df = pd.DataFrame(docs)\n",
        "    df['doc_id'] = (df['doc_id'].astype(int) - 1).astype(str)\n",
        "    df['text'] = df['text'].str.replace('\\n', ' ')\n",
        "    if not os.path.exists('./collection/vaswani/vaswani.tsv'):\n",
        "        df.to_csv('./collection/vaswani/vaswani.tsv', sep='\\t', header=False, index=False)"
      ]
    },
    {
      "cell_type": "markdown",
      "source": [
        "This section is for document dataset processing, starting from collection download and consisting in following steps ordinally executed:  \n",
        "1. **Tokenisation**: split text into words is computed considering a general purpose text, so lowercasing is needed and numbers are left, special chars and punctation are removed with particular attention fro acronyms\n",
        "\n",
        "2. **Stopwords removal**: common words are removed since carry low information about the meaning of a phrase, a list of engish ones is provided by `nltk` library\n",
        "\n",
        "3. **Stemming**: remove suffixes to combine words with similar meanings together under their common stem"
      ],
      "metadata": {
        "id": "MSw2O86JR28H"
      }
    },
    {
      "cell_type": "markdown",
      "source": [
        "Two of the most popular stemming algorithms are the **Porter** and **Snowball** stemmers and according to table below decision was **Snowball by `PyStemmer`** according to best speed and precision trade-off"
      ],
      "metadata": {
        "id": "G_abIn49B5E_"
      }
    },
    {
      "cell_type": "markdown",
      "source": [
        "| **Features**       | **Snowball (Pystemmer)**                | **PorterStemmer (NLTK)**            |\n",
        "| :------------------------ | :-------------------------------------- | :---------------------------------- |\n",
        "| **Language support**       | More languages                    | English only                       |\n",
        "| **Output tokens**           | Higher (C)                       | Lower (Python)            |\n",
        "| **Time performance**           | Higher (C)                       | Lower (Python)            |\n",
        "\n",
        "* All results must be referred to MSMARCO collection"
      ],
      "metadata": {
        "id": "44yr8lNeBJz_"
      }
    },
    {
      "cell_type": "code",
      "execution_count": 5,
      "metadata": {
        "ExecuteTime": {
          "end_time": "2024-11-19T17:27:39.671041Z",
          "start_time": "2024-11-19T17:27:39.649947Z"
        },
        "id": "PCGYza3KoxA5"
      },
      "outputs": [],
      "source": [
        "import Stemmer\n",
        "import nltk\n",
        "import re\n",
        "import string\n",
        "\n",
        "# Stopword download\n",
        "nltk.download(\"stopwords\", quiet=True)\n",
        "STOPWORDS = set(nltk.corpus.stopwords.words(\"english\"))\n",
        "STEMMER = Stemmer.Stemmer('english')\n",
        "#Stemming alternative using PyStemmer, much slower\n",
        "# stemmer = nltk.stem.PorterStemmer().stem\n",
        "\n",
        "# Preprocessing function\n",
        "def preprocess(s):\n",
        "    # lowercasing\n",
        "    s = s.lower()\n",
        "    # replace special chars and ampersand (&)\n",
        "    s = re.sub(r\"[‘’´“”–-]\", \"'\", s.replace(\"&\", \" and \")) # this replaces & with 'and' and normalises quotes\n",
        "    # remove dots that are not part of an acronym\n",
        "    s = re.sub(r\"\\.(?!(\\S[^. ])|\\d)\", \"\", s)\n",
        "    # remove punctuation\n",
        "    s = s.translate(str.maketrans(string.punctuation, \" \" * len(string.punctuation)))\n",
        "    # strip whitespaces\n",
        "    s = re.sub(r\"\\s+\", \" \", s).strip()\n",
        "    # tokenisation\n",
        "    tokens = [t for t in s.split() if t not in STOPWORDS]\n",
        "    # stemming\n",
        "    return STEMMER.stemWords(tokens)"
      ]
    },
    {
      "cell_type": "markdown",
      "source": [
        "# 2. Index construction"
      ],
      "metadata": {
        "id": "ftg1gGA7DqLH"
      }
    },
    {
      "cell_type": "markdown",
      "source": [
        "![index_image.png](data:image/png;base64,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)"
      ],
      "metadata": {
        "id": "4esOP_fLF1ds"
      }
    },
    {
      "cell_type": "markdown",
      "source": [
        "The complete **Index** data structure requires 4 main elements:\n",
        "* **Lexicon**: maps each index term to its termid, the length of the associated posting list, the total number of occurrences of the term in the whole collection, etc.\n",
        "* **Document index**: maps each docid to the corresponding documents, if necessary with some additional information on the document\n",
        "* **Inverted Index**: maps each termid to its posting list.\n",
        "* **Properties** file, containing statistics about the collection as a whole, such as the total number of documents, of terms, etc.\n"
      ],
      "metadata": {
        "id": "leRYL8zlPCVu"
      }
    },
    {
      "cell_type": "markdown",
      "source": [
        "Data structures implementation\n",
        "* the lexicon will be a `dict` from the term as string to a dataclass composed by\n",
        "\n",
        "| Feature| Type |\n",
        "| :-- | :-- |\n",
        "| term id | integer number |\n",
        "| document frequency | integer number\n",
        "| collection term frequency| integer number\n",
        "\n",
        "* the document index will be a dict from the docid as int to the document name, or **docno**, as string\n",
        "\n",
        "* the inverted file will be composed by two maps:\n",
        "  * a map (dict) from a termid as int and a posting list of docids, as ints;\n",
        "  * a map (dict) from a termid as int and a posting list of (in document) term frequencies, as ints;"
      ],
      "metadata": {
        "id": "m10diQ8xVOQK"
      }
    },
    {
      "cell_type": "markdown",
      "source": [
        "Simplest way to store objects on disk is use Python `pickle` module, which implements binary protocols for serializing and de-serializing a Python object structure. “Pickling” is the process whereby a Python object hierarchy is converted into a byte stream, and “unpickling” is the inverse operation, whereby a byte stream (from a binary file or bytes-like object) is converted back into an object hierarchy. Pickling (and unpickling) is alternatively known as “serialization”, “marshalling,” or “flattening”."
      ],
      "metadata": {
        "id": "MaShRgwhOUrl"
      }
    },
    {
      "cell_type": "code",
      "source": [
        "from array import array\n",
        "from tqdm import tqdm\n",
        "from tqdm.auto import tqdm\n",
        "import pickle\n",
        "import humanize\n",
        "\n",
        "# utility function for print pickle size of input file\n",
        "def print_pickled_size(var_name, var):\n",
        "    os.makedirs('./tmp', exist_ok=True)\n",
        "    with open(f\"./tmp/{var_name}.pickle\", 'wb') as f:\n",
        "        pickle.dump(var, f)\n",
        "    print(f'{var_name} requires {humanize.naturalsize(os.path.getsize(f\"./tmp/{var_name}.pickle\"))}')\n",
        "    os.remove(f\"./tmp/{var_name}.pickle\")\n",
        "    os.removedirs('./tmp')"
      ],
      "metadata": {
        "id": "nlkCG84CLnVj"
      },
      "execution_count": 6,
      "outputs": []
    },
    {
      "cell_type": "markdown",
      "source": [
        "## 2.1 Compression\n"
      ],
      "metadata": {
        "id": "kMz3mG3JQzLQ"
      }
    },
    {
      "cell_type": "markdown",
      "source": [
        "TODO\n",
        "\n",
        "Qui volevo fargli vedere Hip e Zipf laws ma mi satura la ram e non funziona su colab\n",
        "\n",
        "Al massimo possiamo farla vedere con Vaswani o prendendo quelle delle slide"
      ],
      "metadata": {
        "id": "Bo_mxb22NSlX"
      }
    },
    {
      "cell_type": "markdown",
      "source": [
        "Data structures for large collections require lot of space so is reasonable to find a way for storing space reduction and since most of space is required by posting list focus can be on **integer compression**.\n",
        "\n",
        "Even compression theory show two different posting list compression techniques, **Binary Code** and **Variable-Byte code**, only the latter can be implemented using Python since the programming language is *not oriented to bit manipulation*"
      ],
      "metadata": {
        "id": "NKhLP3XCLlSB"
      }
    },
    {
      "cell_type": "markdown",
      "source": [
        "### Variable-Byte Code\n",
        "\n",
        "Variable-Byte code was implemented even work with byte-aligned codewords favours implementation simplicity and decoding speed instead of compression effectiveness.\n",
        "\n",
        "* The **variable-byte code** $VB(x)$ computes the binary representation $bin(x)$ of $x$, that is then splitted into a suitable sequence of bytes.\n",
        "* For each byte:\n",
        "    * 7 bits, called **data bits**, are allocated for the representation of $x$;\n",
        "    * 1 bit, called **control bit** is used to signal the continuation/end of the stream of bytes.\n",
        "\n",
        "**Encoding** `vbyte_encode`\n",
        "\n",
        "Input: number, e.g. x=300\n",
        "\n",
        "1. Compute binary representation of x, $bin(x)$ = `100101100`\n",
        "2. Split $bin(x)$ into 7 bit chunk\n",
        "\n",
        "chunk1 = `001100` (rightmost 6 bits) chunk2 = `1001011` (remaining bits)\n",
        "\n",
        "3. Add data bit to each chunk, where control bit is 1 for last chunk and 0 for all the others resulting in\n",
        "\n",
        "byte1 = `10001100` byte2 = `10011011`\n",
        "\n",
        "Output: [`10001100`, `10011011`]\n",
        "\n"
      ],
      "metadata": {
        "id": "QSlAJrlXTQx2"
      }
    },
    {
      "cell_type": "markdown",
      "source": [
        "**Decoding** `decode_concatenated_vbyte`\n",
        "\n",
        "Input: Sequence of bytes, e.g. x=[`10001100`, `10011011`]\n",
        "\n",
        "1. Find and remove data bit\n",
        "\n",
        "byte1 = `1001011` byte2 = `001100`\n",
        "\n",
        "2. Combine byte in `100101100`\n",
        "3. Convert from binary to decimal\n",
        "\n",
        "Output: 300"
      ],
      "metadata": {
        "id": "SQeGkw5XN_xh"
      }
    },
    {
      "cell_type": "markdown",
      "source": [
        "`tqdm` library allows progress bar visualisation"
      ],
      "metadata": {
        "id": "TinO8jd1Yr6R"
      }
    },
    {
      "cell_type": "code",
      "execution_count": 7,
      "metadata": {
        "ExecuteTime": {
          "end_time": "2024-11-19T17:27:39.810568Z",
          "start_time": "2024-11-19T17:27:39.782650Z"
        },
        "id": "BrukgY90oxA5"
      },
      "outputs": [],
      "source": [
        "# TODO rivedere commenti\n",
        "\n",
        "# N.B.: PRINT ONLY FUNCTION, NOT ACTUALLY USEFULL\n",
        "def print_VBEncode(n):\n",
        "    byte = []\n",
        "    while True:\n",
        "        byte.append(n % 128) # Append 7 bits with most significant bit (control bit) set to 0\n",
        "        if n < 128:\n",
        "            break\n",
        "        n //= 128\n",
        "    byte[0] += 128 # Set the most significant bit (control bit) set to 1\n",
        "    return byte[::-1] # We provide the resulting list in reverse order\n",
        "\n",
        "# N.B.: PRINT ONLY FUNCTION, NOT ACTUALLY USEFULL\n",
        "def VBEncodeList(n_list):\n",
        "    b = []\n",
        "    for n in n_list:\n",
        "        b.extend(print_VBEncode(n))\n",
        "    return b\n",
        "\n",
        "# N.B.: PRINT ONLY FUNCTION, NOT ACTUALLY USEFULL\n",
        "def print_VBDecode(byte_list):\n",
        "    n_list = []\n",
        "    n = 0\n",
        "    for b in byte_list:\n",
        "        if b < 128:\n",
        "            n = 128 * n + b\n",
        "        else:\n",
        "            n = 128 * n + b - 128\n",
        "            n_list.append(n)\n",
        "            n = 0\n",
        "    return n_list\n",
        "\n",
        "def vbyte_encode(number):\n",
        "    bytes_list = array('B')\n",
        "    while True:\n",
        "        byte = number & 0x7F\n",
        "        number >>= 7\n",
        "        if number:\n",
        "            bytes_list.append(byte)\n",
        "        else:\n",
        "            bytes_list.append(0x80 | byte)\n",
        "            break\n",
        "    return bytes(bytes_list)\n",
        "\n",
        "\n",
        "def delta_vbyte_encode(numbers):\n",
        "    \"\"\"\n",
        "    Codifica una lista di numeri con delta encoding e VByte.\n",
        "    \"\"\"\n",
        "    result = array('B')\n",
        "    prev_docid = 0\n",
        "    for docid in numbers:\n",
        "        delta = docid - prev_docid\n",
        "        result.extend(vbyte_encode(delta))\n",
        "        prev_docid = docid\n",
        "    return bytes(result)\n",
        "\n",
        "\n",
        "def batch_vbyte_encode(numbers):\n",
        "    \"\"\"\n",
        "    Codifica una lista di numeri con VByte in batch.\n",
        "    \"\"\"\n",
        "    result = array('B')\n",
        "    for number in numbers:\n",
        "        result.extend(vbyte_encode(number))\n",
        "    return bytes(result)\n",
        "\n",
        "# Decode\n",
        "def decode_concatenated_vbyte(encoded_bytes):\n",
        "    decoded_numbers = []\n",
        "    current_number = 0\n",
        "    shift_amount = 0\n",
        "\n",
        "    for byte in encoded_bytes:\n",
        "        if byte & 0x80:  # Data bit found, end of number\n",
        "            current_number |= (byte & 0x7F) << shift_amount\n",
        "            decoded_numbers.append(current_number)\n",
        "            current_number = 0\n",
        "            shift_amount = 0\n",
        "        else:  # Continue\n",
        "            current_number |= (byte & 0x7F) << shift_amount\n",
        "            shift_amount += 7\n",
        "\n",
        "    return decoded_numbers\n",
        "\n",
        "\n",
        "def decode_vbyte_with_delta(encoded_bytes):\n",
        "    \"\"\"\n",
        "    Decodifica una lista concatenata di numeri codificati con vbyte\n",
        "    e ricostruisce i valori originali applicando la delta decoding.\n",
        "    \"\"\"\n",
        "    deltas = decode_concatenated_vbyte(encoded_bytes)  # Ottieni i delta\n",
        "    docids = []\n",
        "    prev_docid = 0\n",
        "\n",
        "    for delta in deltas:\n",
        "        docid = prev_docid + delta  # Ricostruisci il valore originale\n",
        "        docids.append(docid)\n",
        "        prev_docid = docid  # Aggiorna l'ultimo docid\n",
        "\n",
        "    return docids\n",
        "\n",
        "\n",
        "def compress_index(lexicon, inv_d, inv_f):\n",
        "    \"\"\"\n",
        "    Comprimi gli indici invertiti dei documenti e delle frequenze usando la codifica VByte con delta.\n",
        "    \"\"\"\n",
        "    compressed_inv_d = {}\n",
        "    compressed_inv_f = {}\n",
        "\n",
        "    for term, (termid, df, _) in tqdm(lexicon.items(), desc=\"Compressing lists\", unit=\"term\"):\n",
        "        docids = inv_d[termid]\n",
        "        freqs = inv_f[termid]\n",
        "\n",
        "        # Delta encoding per i docids\n",
        "        compressed_inv_d[termid] = delta_vbyte_encode(docids)\n",
        "        assert decode_vbyte_with_delta(compressed_inv_d[termid]) == docids\n",
        "\n",
        "        # Compressione standard per le frequenze\n",
        "        compressed_inv_f[termid] = batch_vbyte_encode(freqs)\n",
        "        assert decode_concatenated_vbyte(compressed_inv_f[termid]) == freqs\n",
        "\n",
        "    return compressed_inv_d, compressed_inv_f"
      ]
    },
    {
      "cell_type": "markdown",
      "metadata": {
        "id": "vFPqmoTAoxA6"
      },
      "source": [
        "TODO Qui mettiamo tipo un test per far vedere che le funzioni di compressione funzionano come devono"
      ]
    },
    {
      "cell_type": "markdown",
      "metadata": {
        "id": "FMcmVsGpoxA6"
      },
      "source": [
        "## 2.2 Building the inverted index"
      ]
    },
    {
      "cell_type": "markdown",
      "source": [
        "`build_index` function:\n",
        "\n",
        "input: `filepath` = path of file we want process and `batch_size` = 10000\n",
        "\n",
        "output: inverted index, document index, lexicon and collection statistics"
      ],
      "metadata": {
        "id": "STbgkPTCRxso"
      }
    },
    {
      "cell_type": "code",
      "execution_count": 8,
      "metadata": {
        "ExecuteTime": {
          "end_time": "2024-11-19T17:27:39.889433Z",
          "start_time": "2024-11-19T17:27:39.848182Z"
        },
        "id": "2iVA0V2toxA6"
      },
      "outputs": [],
      "source": [
        "import pandas as pd\n",
        "from tqdm.auto import tqdm\n",
        "from collections import Counter\n",
        "\n",
        "def build_index(filepath, batch_size=10000):\n",
        "    # input file is divided in batches time consunming optimization\n",
        "    # total_documents is total number of documents used for progress bar construction\n",
        "    total_documents = sum(1 for _ in open(filepath)) # get total number of documents\n",
        "    # Data structures inizialisation\n",
        "    lexicon = {} # lexicon, dict of {term_id, df, tf}\n",
        "    inv_d = {} # {map from term_id to doc_id}\n",
        "    inv_f = {} # {map from term_id to term}\n",
        "    doc_index = [] # document info\n",
        "    total_dl = 0 # sum of all document lengths\n",
        "    num_docs = 0 # number of document processed in the collection\n",
        "    termid = 0\n",
        "\n",
        "    with open(filepath, 'r') as file:\n",
        "        batch = []\n",
        "        # progress bar setup\n",
        "        with tqdm(total=total_documents, desc=\"Processing documents\", unit=\"doc\") as pbar:\n",
        "            for line in file: # for every document\n",
        "                # batch creation\n",
        "                batch.append(line.strip())\n",
        "                # when the batch is full, we process it\n",
        "                if len(batch) >= batch_size:\n",
        "                    for line in batch:\n",
        "                        # get doc and doc_id\n",
        "                        doc_id, text = line.split('\\t', 1) # '1' specifies the number of splits\n",
        "                        doc_id = int(doc_id) # usful if is docNo instead of docid\n",
        "                        # apply preprocess function to the document\n",
        "                        tokens = preprocess(text)\n",
        "                        # count term frequency for every term in the document\n",
        "                        token_tf = Counter(tokens)\n",
        "                        # Data structures update\n",
        "                        for token, tf in token_tf.items():\n",
        "                            if token not in lexicon:\n",
        "                                # New term adding\n",
        "                                lexicon[token] = [termid, 0, 0] # termid, df, tf\n",
        "                                inv_d[termid], inv_f[termid] = [], [] # docids, freqs\n",
        "                                termid += 1\n",
        "                            token_id = lexicon[token][0]  # get termid\n",
        "                            inv_d[token_id].append(doc_id)  # add doc_id to the list of documents containing the term\n",
        "                            inv_f[token_id].append(tf)  # add term frequency for this doc\n",
        "                            # update exsisting one\n",
        "                            lexicon[token][1] += 1  # increment document frequency (df)\n",
        "                            lexicon[token][2] += tf  # increment total term frequency (tf)\n",
        "\n",
        "                        doclen = len(tokens)\n",
        "                        doc_index.append((str(doc_id), doclen))\n",
        "                        total_dl += doclen\n",
        "                        num_docs += 1\n",
        "                    # update progress bar for each processed document\n",
        "                    pbar.update(len(batch))\n",
        "                    batch = []\n",
        "\n",
        "            # process the remaining documents in the last batch\n",
        "            if batch:\n",
        "                for line in batch:\n",
        "                    doc_id, text = line.split('\\t', 1)\n",
        "                    doc_id = int(doc_id)\n",
        "                    tokens = preprocess(text)\n",
        "                    token_tf = Counter(tokens)\n",
        "\n",
        "                    for token, tf in token_tf.items():\n",
        "                        if token not in lexicon:\n",
        "                            lexicon[token] = [termid, 0, 0]\n",
        "                            inv_d[termid], inv_f[termid] = [], []\n",
        "                            termid += 1\n",
        "                        token_id = lexicon[token][0]  # get termid\n",
        "                        inv_d[token_id].append(doc_id)  # get doc_id to the list of documents containing the term\n",
        "                        inv_f[token_id].append(tf)  # get term frequency for this doc\n",
        "                        lexicon[token][1] += 1  # increment document frequency (df)\n",
        "                        lexicon[token][2] += tf  # increment total term frequency (tf)\n",
        "\n",
        "                    doclen = len(tokens)\n",
        "                    doc_index.append((str(doc_id), doclen))\n",
        "                    total_dl += doclen\n",
        "                    num_docs += 1\n",
        "                    pbar.update(1)\n",
        "\n",
        "    # compute average document length (avdl)\n",
        "    avdl = total_dl / num_docs if num_docs > 0 else 0\n",
        "\n",
        "    stats = {\n",
        "        'num_docs': num_docs,\n",
        "        'num_terms': len(lexicon),\n",
        "        'num_tokens': total_dl,\n",
        "        'avdl': avdl  # Add avdl to stats\n",
        "    }\n",
        "    return lexicon, {'docids': inv_d, 'freqs': inv_f}, doc_index, stats"
      ]
    },
    {
      "cell_type": "markdown",
      "source": [
        "**Lexicon** is a dictonary which maps every term to an array composed by three numbers representing id of the term, document frequency (how many times term t appears in document d) and term frequency (how many times term t appears in overall collection)\n",
        "\n",
        "```\n",
        "lexicon  = {\n",
        "  \"term\": [termid, df, tf],\n",
        "}\n",
        "```\n",
        "\n",
        "\n"
      ],
      "metadata": {
        "id": "EEmUshwxdHHQ"
      }
    },
    {
      "cell_type": "markdown",
      "source": [
        "**Inverted Index** is composed by\n",
        "`{'docids': inv_d, 'freqs': inv_f}`, where:\n",
        "\n",
        "```\n",
        "inv_d = {\n",
        "  termid: [docid1, docid2, ...],\n",
        "   ..}\n",
        "      = {\n",
        "    0: [1, 2, 3],  \n",
        "    1: [1],\n",
        "    2: [1,2,1]\n",
        "   ..}\n",
        "\n",
        "```\n",
        "\n",
        "and\n",
        "\n",
        "\n",
        "\n",
        "```\n",
        "inv_f = {\n",
        "  termid: [df1, df2, ...],\n",
        "  ..}\n",
        "      = {\n",
        "    0: [1, 1, 1],\n",
        "    1: [1],\n",
        "    2: [1,4,2],\n",
        "}\n",
        "```\n",
        "\n",
        "\n",
        "\n",
        "\n"
      ],
      "metadata": {
        "id": "_d2z_GWWftr3"
      }
    },
    {
      "cell_type": "markdown",
      "source": [
        "**Document Index** `doc_index` is a list of tuples in which every docid is associated to its document length\n",
        "\n",
        "```\n",
        "doc_index = [(doc_id, doclen), ...]\n",
        "          = [(1,15), (2,8), ..]\n",
        "```\n",
        "meaning that document with `docid=1` has 15 tokens in it, document with `docid=2` has 8 tokens in it and so on\n",
        "\n"
      ],
      "metadata": {
        "id": "M7cZVhOAho-3"
      }
    },
    {
      "cell_type": "markdown",
      "source": [
        "Stats object contains all the usefull elements for the properties file of the collection discussed above\n",
        "\n",
        "\n",
        "\n",
        "```\n",
        "stats = {\n",
        "    'num_docs': num_docs # total number of documents in the collection,\n",
        "    'num_terms': len(lexicon) # total number of unique terms in the collection\n",
        "    'num_tokens': total_dl, # total number of tokens\n",
        "    'avdl': avdl # average document length\n",
        "}\n",
        "```\n",
        "\n"
      ],
      "metadata": {
        "id": "j7Yk5IHri_WQ"
      }
    },
    {
      "cell_type": "markdown",
      "source": [
        "# 2.3 Discorso sulla cache TODO"
      ],
      "metadata": {
        "id": "mvVNrOvkYThZ"
      }
    },
    {
      "cell_type": "markdown",
      "source": [
        "# 2.4 `InvertedIndex` class and score computation\n",
        "\n",
        "This class defines overall Index data structures, composed by `PostingListIterator` objects and related function `score` for score computation"
      ],
      "metadata": {
        "id": "YfGE_Jol0eBX"
      }
    },
    {
      "cell_type": "markdown",
      "source": [
        "# `score_tfidf`\n",
        "\n",
        "**Term frequency** weight:\n",
        "\n",
        "\\begin{aligned}\n",
        "w_{t,d} =\n",
        "\\begin{cases}\n",
        "1 + \\log(t_{f,t,d}) & \\text{if } tf_{t,d} > 0 \\\\\n",
        "0 & \\text{otherwise}\n",
        "\\end{cases}\n",
        "\\end{aligned}\n",
        "\n",
        "where $tf_{t,d}$ = Term Frequency, number of times the term $t$ appears in the document $d$\n",
        "\n",
        "**Inverse Term frequency** weight:\n",
        "\n",
        "\\begin{aligned}\n",
        "idf_{t} = log(\\frac{N}{df_{t}})\n",
        "\\end{aligned}\n",
        "\n",
        "where $N$= total number of documents in the collection and $d_{f}$=total number of documents in which term $t$ appears\n",
        "\n",
        "**TF-IDF** term weight:\n",
        "\n",
        "\\begin{aligned}\n",
        "w_{t,d} =\n",
        "\\begin{cases}\n",
        "(1 + \\log(t_{f,t,d}))*log(\\frac{N}{df_{t}}) & \\text{if } tf_{t,d} > 0 \\\\\n",
        "0 & \\text{otherwise}\n",
        "\\end{cases}\n",
        "\\end{aligned}\n",
        "\n",
        "Score for a document-query pair is sum over all terms $t in both query $q$ and document $d$\n",
        "\n",
        "$$s(q,d) = ∑_{t \\in q \\cup d} w_{t,d}$$\n",
        "\n",
        "This is the formula we used in our first approach, however comparing the results among our system and a benchmark, we detect a significant difference in the performance as we will discuss in the following pharagraphs. We conducted reasearches in order to undertand the reasons of this difference and decided to adopt the TF-IDF version implemented by Terrier (https://github.com/terrier-org/terrier-core/blob/5.x/modules/core/src/main/java/org/terrier/matching/models/TF_IDF.java).\n",
        "\n",
        "\n",
        "The formula for the TF-IDF score used in Terrier is:\n",
        "\n",
        "$$\n",
        "\\text{TF-IDF} = \\text{Robertson's TF} \\cdot \\text{Sparck Jones' IDF}\n",
        "$$\n",
        "\n",
        "Where:\n",
        "\n",
        "$$\n",
        "\\text{Robertson's TF} = \\frac{k_1 \\cdot tf}{tf + k_1 \\cdot \\left((1 - b) + b \\cdot \\frac{\\text{dl(d)}}{\\text{avdl}}\\right)}\n",
        "$$\n",
        "\n",
        "$$\n",
        "\\text{Sparck Jones' IDF} = \\log\\left(\\frac{N}{df} + 1\\right)\n",
        "$$\n",
        "\n",
        "- $k_1$ = constant $ \\in [1.2 , 2.0]$ which *normalizes* over frequency. The higher the value, the higher is the relevance of term frequency\n",
        "- $b$ = constant $\\in [0, 1]$ which normalizes over length. The higher the value, the lower is the length relevance\n",
        "- $dl(d)$ = document length\n",
        "- $avdl$ = average document length in the collection\n",
        "- $N$: Total number of documents in the collection.\n",
        "- $df$: Document frequency of the term.\n",
        "\n"
      ],
      "metadata": {
        "id": "YOVwPUkt0j2R"
      }
    },
    {
      "cell_type": "markdown",
      "source": [
        "# `score_bm25`\n",
        "\n",
        "Althought there are many different versions of BM25 formula implementation, we implemented Okapi BM25 one\n",
        "\n",
        "$$s(q,d) = \\sum_{t_i \\in q} \\frac{tf_i (d)}{k_1 ( (1-b) + b\\frac{dl(d)}{avdl}) + tf_i(d)}$$\n",
        "\n",
        "Where\n",
        "\n",
        "* $k_1$ = constant $ \\in [1.2 , 2.0]$ which *normalizes* over frequency. The higher the value, the higher is the relevance of term frequency\n",
        "* $b$ = constant $\\in [0, 1]$ which normalizes over length. The higher the value, the lower is the length relevance\n",
        "* $dl(d)$ = document length\n",
        "* $avdl$ = average document length in the collection\n",
        "\n"
      ],
      "metadata": {
        "id": "rsW0k3gnHsAu"
      }
    },
    {
      "cell_type": "markdown",
      "source": [
        "`PostingListIterator` class is an utility class which helps iteration over posting lists, also including some utility functions and scoring function (described above).\n",
        "\n",
        "One important method is `get_posting(termid)` which gives as output a posting list iterator object for a specific termid.\n",
        "\n",
        "`math.inf` is used to represent end of posting lisg"
      ],
      "metadata": {
        "id": "YrGyAMMGnPYY"
      }
    },
    {
      "cell_type": "code",
      "execution_count": 9,
      "metadata": {
        "ExecuteTime": {
          "end_time": "2024-11-19T17:27:39.982267Z",
          "start_time": "2024-11-19T17:27:39.948216Z"
        },
        "id": "iy7aHCLRoxA6"
      },
      "outputs": [],
      "source": [
        "import math\n",
        "import bisect\n",
        "from functools import lru_cache\n",
        "\n",
        "\n",
        "class InvertedIndex:\n",
        "\n",
        "    class PostingListIterator:\n",
        "        def __init__(self, docids, freqs, doc, avdl):\n",
        "            self.docids = docids\n",
        "            self.freqs = freqs\n",
        "            self.pos = 0\n",
        "            self.doc = doc\n",
        "            self.total_docs_number = len(doc)\n",
        "            self.avdl = avdl\n",
        "\n",
        "        def docid(self):\n",
        "            if self.is_end_list():\n",
        "                return math.inf\n",
        "            return self.docids[self.pos]\n",
        "\n",
        "        def score(self, method='tfidf'):\n",
        "            if method == 'tfidf':\n",
        "                return self.score_tfidf()\n",
        "            elif method == 'bm25':\n",
        "                return self.score_bm25()\n",
        "            else:\n",
        "                raise ValueError(\"Invalid scoring method\")\n",
        "\n",
        "        ###################################################################################\n",
        "        def old_score_tfidf(self): # TODO : check if correct, this is TF-IDF score\n",
        "            \"\"\"\n",
        "            Calculate TF-IDF score of the current document in the posting list.\n",
        "            \"\"\"\n",
        "            if self.is_end_list():\n",
        "                return math.inf\n",
        "\n",
        "            tf = self.freqs[self.pos]\n",
        "\n",
        "            if tf > 0:\n",
        "                wtd = 1 + math.log(tf)\n",
        "            else:\n",
        "                wtd = 0 # avoid log(0)\n",
        "\n",
        "            df = self.len()  # document frequency\n",
        "            if df > 0:\n",
        "                idf = math.log(self.total_docs_number / df)\n",
        "            else:\n",
        "                idf = 0  # avoid log(0)\n",
        "\n",
        "            # finally calculate tf-idf score\n",
        "            tfidf = wtd * idf\n",
        "\n",
        "            return tfidf\n",
        "\n",
        "        ###################################################################################\n",
        "        @lru_cache(maxsize=512)\n",
        "        def inner_score_tfidf(self, docid, tf, dl, avdl, total_docs, df): # Robertson's TF, Sparck Jones' idf\n",
        "\n",
        "            \"\"\"\n",
        "            Calculate TF-IDF score of the current document in the posting list.\n",
        "            \"\"\"\n",
        "            if self.is_end_list():\n",
        "                return math.inf\n",
        "\n",
        "            # TF-IDF parameters\n",
        "            b = 0.75\n",
        "            k_1 = 1.2\n",
        "\n",
        "            tf = self.freqs[self.pos]\n",
        "\n",
        "            robertson_tf = k_1 * tf / (tf + k_1 * ((1 - b) + b * (self.doc[self.docid()][1] / self.avdl)))\n",
        "\n",
        "            sparck_jones_idf = math.log(self.total_docs_number / self.len() + 1)\n",
        "\n",
        "            # finally calculate tf-idf score\n",
        "            tfidf = robertson_tf * sparck_jones_idf\n",
        "\n",
        "            return tfidf\n",
        "\n",
        "        def score_tfidf(self):\n",
        "\n",
        "            docid = self.docid()\n",
        "            tf = self.freqs[self.pos]\n",
        "            dl = self.doc[docid][1]\n",
        "            avdl = self.avdl\n",
        "            total_docs = self.total_docs_number\n",
        "            df = self.len()  # Document frequency\n",
        "\n",
        "            return self.inner_score_tfidf(docid, tf, dl, avdl, total_docs, df)\n",
        "\n",
        "        ###################################################################################\n",
        "        # new score_bm25 function\n",
        "\n",
        "        @lru_cache(maxsize=512)\n",
        "        def inner_score_bm25(self, docid, tf, dl, avdl, total_docs, df):\n",
        "\n",
        "            if self.is_end_list():\n",
        "                return math.inf\n",
        "            else:\n",
        "                # Standard BM25 parameters\n",
        "                b = 0.75\n",
        "                k_1 = 1.5\n",
        "\n",
        "                # Length of the current document\n",
        "                dl = self.doc[self.docid()][1]\n",
        "\n",
        "                # Term frequency in the current document\n",
        "                tf = self.freqs[self.pos]\n",
        "\n",
        "                # Total number of documents in the collection\n",
        "                N = self.total_docs_number\n",
        "\n",
        "                # Number of documents containing the term\n",
        "                n = self.len()  # document frequency\n",
        "\n",
        "                # Calculate document length normalization component (B_j)\n",
        "                B_j = (1 - b) + b * (dl / self.avdl)\n",
        "\n",
        "                # Calculate the IDF component\n",
        "                idf = math.log(N / n)\n",
        "\n",
        "                # Calculate the BM25 score\n",
        "                rsv_bm25 = ((tf) / (tf + k_1 * B_j)) * idf\n",
        "\n",
        "                return rsv_bm25\n",
        "\n",
        "\n",
        "        def score_bm25(self): # Modified to match the BM25 formula from the slides\n",
        "\n",
        "            docid = self.docid()\n",
        "            tf = self.freqs[self.pos]\n",
        "            dl = self.doc[docid][1]\n",
        "            avdl = self.avdl\n",
        "            total_docs = self.total_docs_number\n",
        "            df = self.len()  # Document frequency\n",
        "\n",
        "            return self.inner_score_bm25(docid, tf, dl, avdl, total_docs, df)\n",
        "\n",
        "            ###################################################################################\n",
        "\n",
        "        def next(self, target=None):\n",
        "            if not target:\n",
        "                if not self.is_end_list():\n",
        "                    self.pos += 1\n",
        "            else:\n",
        "                if target > self.docid():\n",
        "                    self.pos = bisect.bisect_left(self.docids, target, self.pos)\n",
        "\n",
        "        def is_end_list(self):\n",
        "            return self.pos == len(self.docids)\n",
        "\n",
        "\n",
        "        def len(self):\n",
        "            return len(self.docids)\n",
        "\n",
        "\n",
        "    def __init__(self, lex, inv, doc, stats):\n",
        "        self.lexicon = lex\n",
        "        self.inv = inv\n",
        "        self.doc = doc\n",
        "        self.stats = stats\n",
        "\n",
        "    def num_docs(self):\n",
        "        return self.stats['num_docs']\n",
        "\n",
        "    def avdl(self):\n",
        "        return self.stats['avdl']\n",
        "\n",
        "    def get_posting(self, termid):\n",
        "        # decompress the posting list and return an iterator\n",
        "        return InvertedIndex.PostingListIterator(decode_vbyte_with_delta(self.inv['docids'][termid]), decode_concatenated_vbyte(self.inv['freqs'][termid]), self.doc, self.stats['avdl'])\n",
        "        #return InvertedIndex.PostingListIterator(self.inv['docids'][termid], self.inv['freqs'][termid], self.doc, self.stats['avdl'])\n",
        "\n",
        "\n",
        "    def get_termids(self, tokens):\n",
        "        return [self.lexicon[token][0] for token in tokens if token in self.lexicon]\n",
        "\n",
        "    def get_postings(self, termids):\n",
        "        return [self.get_posting(termid) for termid in termids]\n",
        ""
      ]
    },
    {
      "cell_type": "markdown",
      "metadata": {
        "id": "TNzuRpggoxA7"
      },
      "source": [
        "## Building the index for the chosen collection\n"
      ]
    },
    {
      "cell_type": "code",
      "execution_count": null,
      "metadata": {
        "ExecuteTime": {
          "end_time": "2024-11-19T17:27:41.514455Z",
          "start_time": "2024-11-19T17:27:40.142154Z"
        },
        "colab": {
          "base_uri": "https://localhost:8080/",
          "height": 66,
          "referenced_widgets": [
            "1c684ae8fd674f33a63e9b1c99360416",
            "5c6efb8c1cd04f11a876d6a40b3ab96b",
            "59db9c58387e418d953abb722feb3fa1",
            "b5de8c140a9749eebdab6d5a4541eb29",
            "2c5112fb97e14832850a2eeb9fc44363",
            "8f98bd7f14144a2da90e5a7745e41c69",
            "2042446a489e4de0ad8a339a50593d76",
            "5039b632088145f3afe25f53a0e4ad34",
            "e1c6091b15804aaab9551540e37b56c5",
            "d8069b0055f243e383cca27904334e51",
            "34cacaa38e374440ab2b5c965337a685"
          ]
        },
        "id": "7lPrSb_eoxA7",
        "outputId": "a2b6dde5-75b2-4619-b330-c1b13b3692f0",
        "collapsed": true
      },
      "outputs": [
        {
          "output_type": "stream",
          "name": "stdout",
          "text": [
            "Inverted index not found, building it...\n"
          ]
        },
        {
          "output_type": "display_data",
          "data": {
            "text/plain": [
              "Processing documents:   0%|          | 0/8841823 [00:00<?, ?doc/s]"
            ],
            "application/vnd.jupyter.widget-view+json": {
              "version_major": 2,
              "version_minor": 0,
              "model_id": "1c684ae8fd674f33a63e9b1c99360416"
            }
          },
          "metadata": {}
        }
      ],
      "source": [
        "import os\n",
        "import pickle\n",
        "\n",
        "# If the 'pickles' directory does not exist, we first create it\n",
        "os.makedirs('./pickles', exist_ok=True)\n",
        "\n",
        "def save_pickles(lex, inv, doc, stats, inv_index):\n",
        "    # Save the lexicon, inverted lists, and document index to disk\n",
        "    with open('./pickles/lex.pkl', 'wb') as f:\n",
        "        pickle.dump(lex, f)\n",
        "    with open('./pickles/inv.pkl', 'wb') as f:\n",
        "        pickle.dump(inv, f)\n",
        "    with open('./pickles/doc.pkl', 'wb') as f:\n",
        "        pickle.dump(doc, f)\n",
        "    with open('./pickles/stats.pkl', 'wb') as f:\n",
        "        pickle.dump(stats, f)\n",
        "    # Save the inverted index\n",
        "    with open('./pickles/inv_index.pkl', 'wb') as f:\n",
        "        pickle.dump(inv_index, f)\n",
        "\n",
        "\n",
        "if chosen_collection == \"msmarco\":\n",
        "    try:\n",
        "        # Try to open the pickled files, else build the index\n",
        "        with open('./pickles/inv_index.pkl', 'rb') as f:\n",
        "            inv_index = pickle.load(f)\n",
        "            print(\"Inverted index loaded from pickles\")\n",
        "    except FileNotFoundError:\n",
        "        print(\"Inverted index not found, building it...\")\n",
        "        lex, inv, doc, stats = build_index('./collection/'+chosen_collection + '/'+chosen_collection+'.tsv')\n",
        "        # Compress the inverted lists (approximately 7/10 minutes)\n",
        "        print_pickled_size('Initial \\'inv\\' structure', inv)\n",
        "        inv['docids'], inv['freqs'] = compress_index(lex, inv['docids'], inv['freqs'])\n",
        "        print_pickled_size('Compressed \\'inv\\' structure', inv)\n",
        "        inv_index = InvertedIndex(lex, inv, doc, stats)\n",
        "        save_pickles(lex, inv, doc, stats, inv_index)\n",
        "elif chosen_collection == \"vaswani\":\n",
        "    # simply build the index each time, as it is very fast\n",
        "    lex, inv, doc, stats = build_index('./collection/'+chosen_collection + '/'+chosen_collection+'.tsv')\n",
        "    # Compress the inverted lists\n",
        "    print_pickled_size('Initial \\'inv[\\'docids\\'var=]\\' structure', inv['docids'])\n",
        "    print_pickled_size('Initial \\'inv[\\'freqs\\']\\' structure', inv['freqs'])\n",
        "    inv['docids'], inv['freqs'] = compress_index(lex, inv['docids'], inv['freqs'])\n",
        "    print_pickled_size('Compressed \\'inv[\\'docids\\'var=]\\' structure', inv['docids'])\n",
        "    print_pickled_size('Compressed \\'inv[\\'freqs\\']\\' structure', inv['freqs'])\n",
        "    inv_index = InvertedIndex(lex, inv, doc, stats)\n",
        "    print_pickled_size('Inverted Index', inv)\n",
        "    # don't save pickles for vaswani, as it is very fast to build the index each time\n",
        "\n",
        "print(f\"Number of documents in the inverted index: {inv_index.num_docs()}\")"
      ]
    },
    {
      "cell_type": "markdown",
      "metadata": {
        "id": "WTSJWWA9oxA7"
      },
      "source": [
        "todo : scrivere anche i tempi, che la preprocess era la parte pesante, che abbiam studiato tutto con cProfile e abbiam visto che era colpa dello stemmer principalmente, ..."
      ]
    },
    {
      "cell_type": "markdown",
      "source": [
        "First run of the building index code required insual huge amount of time, so we tried to find out most time-hungry functions using `cProfile.run(function(parameters), output_file)` which measures time  required by function given as input and gives output stats"
      ],
      "metadata": {
        "id": "xPzWGNaWUg42"
      }
    },
    {
      "cell_type": "code",
      "source": [
        "# TODO remove?\n",
        "# CHIMATA 1 VECCHIO STEMMER\n",
        "import cProfile\n",
        "import pstats\n",
        "import re\n",
        "\n",
        "cProfile.run(\"build_index('collection/msmarco/msmarco.tsv')\", \"output.prof\")\n",
        "p = pstats.Stats(\"output.prof\")\n",
        "p.sort_stats(\"cumtime\").print_stats(10)\n",
        "os.remove(\"output.prof\")"
      ],
      "metadata": {
        "id": "gorUqCVJWfNV"
      },
      "execution_count": null,
      "outputs": []
    },
    {
      "cell_type": "markdown",
      "source": [
        "TODO Inserire i tempi richiesti dalla funzione chiamata con lo stemmer di tonnellotto"
      ],
      "metadata": {
        "id": "4_Q8N6nvVW-c"
      }
    },
    {
      "cell_type": "markdown",
      "source": [
        "According to table above, `preprocess(text)` function required most of time, expecially due to the stemmer function called in it.\n",
        "\n",
        "One possibile solution to reduce time required is to implement trade off described above and use Snowball stemmer instead of `nltk` one with related time required change:"
      ],
      "metadata": {
        "id": "y3sIBm5YVmbT"
      }
    },
    {
      "cell_type": "markdown",
      "source": [
        "TODO Inserire i tempi richiesti dalla funzione chiamata con lo stemmer nuovo"
      ],
      "metadata": {
        "id": "6VVM8o2gWUoS"
      }
    },
    {
      "cell_type": "markdown",
      "source": [
        "# Collection stats (?)"
      ],
      "metadata": {
        "id": "jC_N-T1SW5Hj"
      }
    },
    {
      "cell_type": "code",
      "execution_count": null,
      "metadata": {
        "ExecuteTime": {
          "end_time": "2024-11-19T17:27:41.577071Z",
          "start_time": "2024-11-19T17:27:41.566029Z"
        },
        "id": "9qXTF-cWoxA8",
        "outputId": "5e06e4d0-5ea9-4f64-c6d4-a774908d2dbe"
      },
      "outputs": [
        {
          "name": "stdout",
          "output_type": "stream",
          "text": [
            "average document length: 34.687022122021666\n"
          ]
        }
      ],
      "source": [
        "print(f\"average document length: {inv_index.avdl()}\")"
      ]
    },
    {
      "cell_type": "code",
      "execution_count": null,
      "metadata": {
        "ExecuteTime": {
          "end_time": "2024-11-19T17:27:41.718244Z",
          "start_time": "2024-11-19T17:27:41.709662Z"
        },
        "id": "H8yPhrCYoxA8",
        "outputId": "0d430954-3103-4b5b-81ac-cd149d66fed0"
      },
      "outputs": [
        {
          "name": "stdout",
          "output_type": "stream",
          "text": [
            "inv_index requires 750.6 MB\n"
          ]
        }
      ],
      "source": [
        "print_pickled_size('inv_index', inv_index)"
      ]
    },
    {
      "cell_type": "markdown",
      "metadata": {
        "id": "lQCvywG-oxA9"
      },
      "source": [
        "# 3. Queries processing"
      ]
    },
    {
      "cell_type": "markdown",
      "source": [
        "Once necessary document collection data structures are ready, focus is on query processing step in which we download queries dataset, preprocess every element and then prepare code for different way to process them\n",
        "\n",
        "TODO **Inserire link download queries msmarco**"
      ],
      "metadata": {
        "id": "oSOgrYpdXk1S"
      }
    },
    {
      "cell_type": "markdown",
      "source": [
        "At the moment, following code can handle every query's dataset made of\n",
        "\n",
        "| qid | query\n",
        "| :--- | :---\n",
        "1108939 |\twhat slows down the flow of blood\n",
        "1112389\t| what is the county for grand rapids, mn\n",
        "1128373 | iur definition\n",
        "1127622\t| meaning of heat capacity\n",
        "\n",
        "Where\n",
        "* `qid` = query id\n",
        "* `query` = query text\n",
        "\n",
        "Preprocess of each query is needed since dataset provides *human-authored text*"
      ],
      "metadata": {
        "id": "rHhG0kuaY9Wy"
      }
    },
    {
      "cell_type": "markdown",
      "source": [
        "Main distinction in query processing can be made over:\n",
        "\n",
        "| Type | Corresponding Logic Operator | Output\n",
        "| :--- | :--- | :---\n",
        "**Conjunctive** |\tAND | All documents containing ALL terms of the query\n",
        "**Disjunctive** | OR | All documents containing AT LEAST ONE term of the query"
      ],
      "metadata": {
        "id": "8WyOe6904jxB"
      }
    },
    {
      "cell_type": "markdown",
      "source": [
        "There are two possible way of document retrieval:\n",
        "\n",
        "1. **Boolean Retrieval**:\n",
        "\n",
        "* Return all document having same terms of the queries\n",
        "* Suitable for small collections\n",
        "* Returns all documents matching the query\n",
        "\n",
        "2. **Ranked Retrieval**:\n",
        "\n",
        "* Returns only top-k documents based on scoring functions (discussed below)\n",
        "* Suitable for large collections"
      ],
      "metadata": {
        "id": "M9gMyppx2VCg"
      }
    },
    {
      "cell_type": "markdown",
      "source": [
        "When processing a query in **conjunctive mode** in **ranked retrieval**, no special differences arise with respect to the boolean retrieval: final results list is computed by intersecting the posting lists, they are scored one by one, then a sorted list of the top $K$ documents is returned.\n",
        "\n",
        "When a query is processed in **disjunctive mode**, the **boolean retrieval** algorithm must take into account the management of the scores of the processed documents as well as the identification of the top $K$ documents with the highest scores.\n",
        "\n",
        "To do so, we implement a simple `TopQueue` class, which stores the top $K$ (score, docid) tuples, using an heap, i.e., a binary tree for which every parent node has a value less than or equal to any of its children, whose implementation is provided as functions in the `heapq` module.\n",
        "\n",
        "For just explained reasons and since we're handling a large collection, boolean retrieval was not considered suitable for this project."
      ],
      "metadata": {
        "id": "vWobGzBkuV_p"
      }
    },
    {
      "cell_type": "code",
      "execution_count": null,
      "metadata": {
        "ExecuteTime": {
          "end_time": "2024-11-19T17:27:41.796711Z",
          "start_time": "2024-11-19T17:27:41.768982Z"
        },
        "id": "SZmWTaOloxA9",
        "outputId": "cbb507bf-ee55-428d-fa81-d112e7035b3a"
      },
      "outputs": [
        {
          "name": "stdout",
          "output_type": "stream",
          "text": [
            "Number of queries:  200\n",
            "Number of relevance judgments:  9260\n"
          ]
        }
      ],
      "source": [
        "import gzip\n",
        "\n",
        "# In realta il fatto che chosen collection sia vaswani o msmarco dovrebbe essere controllato sopra\n",
        "if chosen_collection not in [\"vaswani\", \"msmarco\"]:\n",
        "    raise ValueError(\"chosen_collection must be one of ['vaswani', 'msmarco']\")\n",
        "\n",
        "if chosen_collection == \"msmarco\":\n",
        "    # Download and extract queries\n",
        "    if not os.path.exists('./collection/msmarco/msmarco-queries.tsv'):\n",
        "        url = 'https://msmarco.z22.web.core.windows.net/msmarcoranking/msmarco-test2019-queries.tsv.gz'\n",
        "        gdown.download(url, './collection/msmarco/msmarco-test2019-queries.tsv.gz', quiet=False)\n",
        "        with gzip.open('./collection/msmarco/msmarco-test2019-queries.tsv.gz', 'rt') as f_in:\n",
        "            with open('./collection/msmarco/msmarco-queries.tsv', 'w') as f_out:\n",
        "                f_out.write(f_in.read())\n",
        "        os.remove('./collection/msmarco/msmarco-test2019-queries.tsv.gz') # delete the compressed file\n",
        "    queries = pd.read_csv('./collection/msmarco/msmarco-queries.tsv', sep='\\t', header=None)\n",
        "    queries.columns = ['qid', 'query']\n",
        "    print(\"Number of queries: \",len(queries))\n",
        "\n",
        "    if not os.path.exists('./collection/msmarco/msmarco-qrels.txt'):\n",
        "        url = 'https://trec.nist.gov/data/deep/2019qrels-pass.txt'\n",
        "        gdown.download(url, './collection/msmarco/msmarco-qrels.txt', quiet=False)\n",
        "    qrels = pd.read_csv('./collection/msmarco/msmarco-qrels.txt', sep=' ', header=None)\n",
        "    qrels.columns = ['qid', 'Q0', 'docid', 'rating']\n",
        "    print(\"Number of relevance judgments: \",len(qrels))\n",
        "\n",
        "\n",
        "elif chosen_collection == \"vaswani\":\n",
        "    queries = pd.DataFrame(vaswani_dataset.queries_iter())\n",
        "    queries.columns = ['qid', 'query']\n",
        "    print(\"Number of queries: \",len(list(vaswani_dataset.queries_iter())))\n",
        "    if not os.path.exists('./collection/vaswani/vaswani-queries.tsv'):\n",
        "        queries.to_csv('./collection/vaswani/vaswani-queries.tsv', sep='\\t', header=False, index=False)\n",
        "    qrels = pd.DataFrame(vaswani_dataset.qrels_iter())\n",
        "    qrels.columns = ['qid', 'docid', 'relevance', 'iteration']\n",
        "    qrels['docid'] = (qrels['docid'].astype(int) - 1).astype(str) # convert to 0-based indexing\n",
        "\n",
        "    if not os.path.exists('./collection/vaswani/vaswani-qrels.txt'):\n",
        "        qrels.to_csv('./collection/vaswani/vaswani-qrels.txt', sep='\\t', header=False, index=False)\n",
        "    print(\"Number of relevance judgments: \",len(list(vaswani_dataset.qrels_iter())))"
      ]
    },
    {
      "cell_type": "markdown",
      "source": [
        "`QueriesDataset` is a class for query dataset manipulation and utility functions providing\n",
        "\n",
        "| Function | Meaning\n",
        "| :--- | :---\n",
        "`__init__(self, dataframe)` | inizialisation: starting from input dataframe creates list of `Query` object  (`namedtuple`)\n",
        "`queries_iter(self)` | output an iterator over a list of queries\n",
        "`queries_count(self)` | output total number of queries\n",
        "`get_query(self, query_id)` | output specific query for given input id\n",
        "\n",
        "Every `Query` is an object composed by\n",
        "\n",
        "| Field | Meaning\n",
        "| :--- | :---\n",
        "`query_id` | query id\n",
        "`text` | query text\n",
        "\n",
        "\n",
        "`queries.columns = ['query_id', 'text']` renames columns fields"
      ],
      "metadata": {
        "id": "m7eo4DsIiOIX"
      }
    },
    {
      "cell_type": "code",
      "execution_count": null,
      "metadata": {
        "ExecuteTime": {
          "end_time": "2024-11-19T17:27:41.859156Z",
          "start_time": "2024-11-19T17:27:41.848111Z"
        },
        "id": "pN4gGClKoxA9",
        "outputId": "778c9c52-45cd-4a04-b194-aa41b142b354"
      },
      "outputs": [
        {
          "name": "stdout",
          "output_type": "stream",
          "text": [
            "The number of queries is:  200\n"
          ]
        }
      ],
      "source": [
        "from collections import namedtuple\n",
        "\n",
        "class QueriesDataset:\n",
        "    def __init__(self, df):\n",
        "        self.queries = [Query(row.query_id, row.text) for row in df.itertuples()]\n",
        "\n",
        "    def queries_iter(self):\n",
        "        return iter(self.queries)\n",
        "\n",
        "    def queries_count(self):\n",
        "        return len(self.queries)\n",
        "\n",
        "    def get_query(self, query_id):\n",
        "        return self.queries[query_id]\n",
        "\n",
        "\n",
        "Query = namedtuple('Query', ['query_id', 'text'])\n",
        "queries.columns = ['query_id', 'text']\n",
        "queries_dataset = QueriesDataset(queries)\n",
        "print(\"The number of queries is: \", queries_dataset.queries_count())"
      ]
    },
    {
      "cell_type": "markdown",
      "metadata": {
        "id": "jDNcMzTboxA9"
      },
      "source": [
        "First, we need a `TopQueue` class, which stores the top-K  (score, docid) tuples, using an heap"
      ]
    },
    {
      "cell_type": "markdown",
      "source": [
        "`TopQueue` class has following input parameters:\n",
        "\n",
        "| Parameter | Object | Meaning\n",
        "| :--- | :--- | :---\n",
        "`k` | number | Top-k queue's length\n",
        "`threshold` | number | Minimum score to let the query enter the queue\n",
        "\n",
        "and is made of:\n",
        "\n",
        "| Parameter | Object | Meaning\n",
        "| :--- | :--- | :---\n",
        "`self.queue` | list | Top-k queue\n",
        "`self.k` | number | Top-k queue's length\n",
        "`self.threshold` | number | Minimum score to let the query enter the queue"
      ],
      "metadata": {
        "id": "xFwny-XOibmN"
      }
    },
    {
      "cell_type": "code",
      "execution_count": null,
      "metadata": {
        "ExecuteTime": {
          "end_time": "2024-11-19T17:27:41.954190Z",
          "start_time": "2024-11-19T17:27:41.931158Z"
        },
        "id": "vHhixfVSoxA9"
      },
      "outputs": [],
      "source": [
        "import heapq\n",
        "\n",
        "class TopQueue:\n",
        "    def __init__(self, k=10, threshold=0.0):\n",
        "        self.queue = []\n",
        "        self.k = k\n",
        "        self.threshold = threshold\n",
        "\n",
        "    def size(self):\n",
        "        return len(self.queue)\n",
        "\n",
        "    def would_enter(self, score):\n",
        "        return score > self.threshold\n",
        "\n",
        "    def clear(self, new_threshold=None):\n",
        "        self.queue = []\n",
        "        if new_threshold:\n",
        "            self.threshold = new_threshold\n",
        "\n",
        "    def __repr__(self):\n",
        "        return f'<{self.size()} items, th={self.threshold} {self.queue}'\n",
        "\n",
        "    def insert(self, docid, score):\n",
        "        if score > self.threshold:\n",
        "            if self.size() >= self.k:\n",
        "                heapq.heapreplace(self.queue, (score, docid))\n",
        "            else:\n",
        "                heapq.heappush(self.queue, (score, docid))\n",
        "            if self.size() >= self.k:\n",
        "                self.threshold = max(self.threshold, self.queue[0][0])\n",
        "            return True\n",
        "        return False\n",
        "\n",
        "#print(sorted(topq.queue, reverse=True)) # print the queue sorted by score"
      ]
    },
    {
      "cell_type": "markdown",
      "source": [
        "Two main algorithms for **ranked disjunctive** query processing were implemented, **TAAT** and **DAAT**, where the first process posting list one term at a time so compute the score for $t_1$, then for $t_2$ and so on untill no terms are left summing the partial score into accumulator data structure `A = defaultdict(float)` which is simple but memory expensive, and the latter process multiple terms simultaneously looking at one docid at a time only.\n",
        "\n",
        "| Algorithm | Posting list processing | Pros | Cons\n",
        "| :--- | :--- | :--- | :---\n",
        "`taat` | One Term At A Time | Simple and cache friendly | Memory-hungry\n",
        "`daat` | One Document At A Time | Smaller memory footprint | Lesser cache-friendly\n"
      ],
      "metadata": {
        "id": "GomXwYqHmXM-"
      }
    },
    {
      "cell_type": "markdown",
      "metadata": {
        "id": "MpuczS0soxA-"
      },
      "source": [
        "### TAAT"
      ]
    },
    {
      "cell_type": "markdown",
      "source": [
        "Example of **TAAT** runs\n",
        "\n",
        "**Posting lists**\n",
        "\n",
        "| Termid | Posting list [docid, score]|\n",
        "|---|---|\n",
        "| $t_1$ | [4, 11], [7, 1], [10, 5] |\n",
        "| $t_2$ | [7, 13], [9, 3] |\n",
        "\n",
        "**Step 0**: Accumulator inizialisation\n",
        "\n",
        "**Step 1**: Result of processing first term $t1$\n",
        "\n",
        "| Rank | Docid | Score |\n",
        "|---|---|---|\n",
        "| 1 | 4 | 11 |\n",
        "| 2 | 10 | 5 |\n",
        "| 3 | 7 | 1 |\n",
        "\n",
        "**Step 2**: Result of processing first term $t2$\n",
        "\n",
        "| Rank | Docid | Score |\n",
        "|---|---|---|\n",
        "| 1 | 7 | 14 |\n",
        "| 2 | 4 | 11 |\n",
        "| 3 | 10 | 5 |\n",
        "| 4 | 9 | 3 |"
      ],
      "metadata": {
        "id": "4nSAZMz4-gQw"
      }
    },
    {
      "cell_type": "markdown",
      "source": [
        "| input parameter | type | function |\n",
        "|---|---|---|\n",
        "| `postings` | List of posting lists | Considering a query a sum of term, for each one there's a posting list and all must be processed |\n",
        "| `k` | Integer | Represents dimension of top-k queue\n",
        "| `method` | String | Can be bm25 or tfidf, based on chosen value the method by which score is computed changes\n",
        "\n",
        "Accumulator `A` is the table in which partial scores are stored.\n",
        "\n",
        "For every posting list `posting` from list of posting lists `postings` we compute the score using `posting.score()`, untill `currenct_docid == math.inf` which means that even last posting list element has been processed."
      ],
      "metadata": {
        "id": "xwQ-h_-xfLlh"
      }
    },
    {
      "cell_type": "code",
      "execution_count": null,
      "metadata": {
        "ExecuteTime": {
          "end_time": "2024-11-19T17:27:42.016394Z",
          "start_time": "2024-11-19T17:27:42.004032Z"
        },
        "id": "AWIzZhPuoxA-"
      },
      "outputs": [],
      "source": [
        "from collections import defaultdict\n",
        "\n",
        "def taat(postings, k=10, method='bm25'):\n",
        "    # A = Accumulator inizialization\n",
        "    A = defaultdict(float)\n",
        "    # for posting list posting related to a single term\n",
        "    for posting in postings:\n",
        "        current_docid = posting.docid()\n",
        "        while current_docid != math.inf:\n",
        "            # Store the score in the accumulator\n",
        "            A[current_docid] += posting.score(method)\n",
        "            # move to next element of the posting list\n",
        "            posting.next()\n",
        "            current_docid = posting.docid()\n",
        "    top = TopQueue(k)\n",
        "    # try to insert scores into top-k\n",
        "    for docid, score in A.items():\n",
        "        top.insert(docid, score)\n",
        "    # return only top k\n",
        "    return sorted(top.queue, reverse=True)"
      ]
    },
    {
      "cell_type": "markdown",
      "source": [
        "query_process function process an input query `query` using an input index `index.\n",
        "\n",
        "| Code | Meaning |\n",
        "|---|---|\n",
        "| `qtokens = set(preprocess(query))` | call preprocess function and return a set of tokens for a given input query |\n",
        "| `qtermids = index.get_termids(qtokens)` | list of term ids corresponding to the tokens contained in the query |\n",
        "| `postings = index.get_postings(qtermids)`  | list of posting lists corresponding to the input termids |"
      ],
      "metadata": {
        "id": "OJIwZ9Q3jf-J"
      }
    },
    {
      "cell_type": "code",
      "source": [
        "def query_process(query, index):\n",
        "    qtokens = set(preprocess(query))\n",
        "    qtermids = index.get_termids(qtokens)\n",
        "    postings = index.get_postings(qtermids)\n",
        "    return taat(postings)"
      ],
      "metadata": {
        "id": "NhPMpK1Fjh7H"
      },
      "execution_count": null,
      "outputs": []
    },
    {
      "cell_type": "markdown",
      "metadata": {
        "id": "z_BLXIRyoxA-"
      },
      "source": [
        "### DAAT"
      ]
    },
    {
      "cell_type": "markdown",
      "source": [
        "Example of **DAAT** runs\n",
        "\n",
        "Posting lists\n",
        "\n",
        "| Termid | Posting list [docid, score]|\n",
        "|---|---|\n",
        "| $t_1$ | [4, 11], [7, 1], [10, 5] |\n",
        "| $t_2$ | [7, 13], [9, 3] |\n",
        "\n",
        "**Step 0**: Accumulator inizialisation\n",
        "\n",
        "**Step 1**: Result of processing docid=4\n",
        "\n",
        "| Rank | Docid | Score |\n",
        "|---|---|---|\n",
        "| 1 | 4 | 11 |\n",
        "\n",
        "**Step 2**: Result of processing docid=7\n",
        "\n",
        "| Rank | Docid | Score |\n",
        "|---|---|---|\n",
        "| 1 | 7 | 14 |\n",
        "| 2 | 4 | 11 |\n",
        "\n",
        " After a docid is completely scored, it is immediately stored in the top K priority queue, sorted in decreasing order of score, and the algorithm proceeds to evaluate the next docid."
      ],
      "metadata": {
        "id": "LpyuCinvBWvS"
      }
    },
    {
      "cell_type": "markdown",
      "source": [
        "Since there are no differences in score results but in time processing only and most commercial search engines are reported to use a variant of DAAT, we decided to process queries one document at a time, even TAAT is available too."
      ],
      "metadata": {
        "id": "QFQHCVGSB46-"
      }
    },
    {
      "cell_type": "markdown",
      "source": [
        " In order to traverse the posting lists, the algorithm maintains a state `current` as it proceeds, where the smallest docid yet to be processed appearing in the posting lists is maintained by the `min_doc` helper function.\n",
        "\n",
        " `min_docid(postings)` takes as input a list of posting lists and returns minimum document id `min_docid` from the ones in the posting list. It is used to process posting lists simultaneously in correct order"
      ],
      "metadata": {
        "id": "w9NY_waks_Nl"
      }
    },
    {
      "cell_type": "code",
      "execution_count": null,
      "metadata": {
        "ExecuteTime": {
          "end_time": "2024-11-19T17:27:42.080146Z",
          "start_time": "2024-11-19T17:27:42.068274Z"
        },
        "id": "OQ4trsQYoxA-"
      },
      "outputs": [],
      "source": [
        "import math\n",
        "\n",
        "def min_docid(postings):\n",
        "    min_docid = math.inf\n",
        "    for p in postings:\n",
        "        if not p.is_end_list():\n",
        "            min_docid = min(p.docid(), min_docid)\n",
        "    return min_docid\n",
        "\n",
        "def daat(postings, k=10, method='bm25'):\n",
        "    top = TopQueue(k)\n",
        "    current_docid = min_docid(postings)\n",
        "    while current_docid != math.inf:\n",
        "        score = 0\n",
        "        next_docid = math.inf\n",
        "        for posting in postings:\n",
        "            if posting.docid() == current_docid:\n",
        "                score += posting.score(method)\n",
        "                posting.next()\n",
        "            if not posting.is_end_list():\n",
        "                next_docid = posting.docid()\n",
        "        top.insert(current_docid, score)\n",
        "        current_docid = next_docid\n",
        "    return sorted(top.queue, reverse=True)\n",
        "\n",
        "def query_process(query, index):\n",
        "    qtokens = set(preprocess(query))\n",
        "    qtermids = index.get_termids(qtokens)\n",
        "    postings = index.get_postings(qtermids)\n",
        "    return daat(postings)"
      ]
    },
    {
      "cell_type": "code",
      "execution_count": null,
      "metadata": {
        "ExecuteTime": {
          "end_time": "2024-11-19T17:27:42.158183Z",
          "start_time": "2024-11-19T17:27:42.146647Z"
        },
        "id": "e_cnHAiBoxA-"
      },
      "outputs": [],
      "source": [
        "# from tqdm import tqdm\n",
        "# import cProfile\n",
        "# import pstats\n",
        "\n",
        "# @profile\n",
        "# def query_processing(queries_iter, fn):\n",
        "#     for q in tqdm(queries_iter, desc=\"Processing queries\", total=queries_dataset.queries_count(), unit=\"query\"):\n",
        "#         query = preprocess(q.text)\n",
        "#         termids = inv_index.get_termids(query)\n",
        "#         postings = inv_index.get_postings(termids)\n",
        "#         res = fn(postings)\n",
        "\n",
        "\n",
        "# cProfile.run(\"query_processing(queries_dataset.queries_iter(), taat)\", \"./perfm/result.prof\")\n",
        "# p = pstats.Stats(\"./perfm/result.prof\")\n",
        "# p.sort_stats(\"cumtime\").print_stats(25)"
      ]
    },
    {
      "cell_type": "markdown",
      "metadata": {
        "id": "-aobkMhJoxA-"
      },
      "source": [
        "---"
      ]
    },
    {
      "cell_type": "markdown",
      "metadata": {
        "id": "IZxX5suSoxA-"
      },
      "source": [
        "# 3. Evaluation"
      ]
    },
    {
      "cell_type": "markdown",
      "source": [
        "Information Retrieval (IR) system performance can be evaluated in terms of\n",
        "\n",
        "* **Efficiency**: algorithmic costs of IR systems in terms of space and time consumption\n",
        "* **Effectiveness**: ability of the system to retrieve and properly rank relevant documents and to suppress retrieval of non relevant ones to satisfy as much as possible user's need\n",
        "\n",
        "Since Efficency was already assesed measuring time and space processing, evaluation of IR system's effectiveness can be done as:\n",
        "\n",
        "* **Offline evaluation**: no user interaction is required, we assume to have assessors that already told us what is relevant and what is not.\n",
        "* **Online evaluation**: the IR system is evaluated while interacting with the user, telling us what is relevant and what is not.\n",
        "\n",
        "This project exploit **offline evaluation** using a Query Relevance Assestment Dataset."
      ],
      "metadata": {
        "id": "g8ChycO1vbQC"
      }
    },
    {
      "cell_type": "markdown",
      "source": [
        "According to **Cranfield paradigm** we have used an experimental collection **$\\mathcal{C} = (D,T,A)$**  where:\n",
        "* $D$ = **corpus** (MSMARCO collection) of documents in the domain of interest;\n",
        "* $T$ is a set of **topics** (MSMARCO queries) representing the user information needs;\n",
        "* $A$ is a list of human-made **relevance assessments** representing the *correct answers*, or **ground-truth**, for each topic $t \\in T$, the relevant documents in $d \\in D$, i.e., they are triplets $(t, d, p)$, where $p$ is the binary or graded **relevance judgement** of $d$ w.r.t. $t$."
      ],
      "metadata": {
        "id": "KhlTobWFwwMQ"
      }
    },
    {
      "cell_type": "markdown",
      "source": [
        "As discussed at the beginning of the project, a **qrels** dataset was also needed for following Performance Evaluation section.\n",
        "\n",
        "Qrels dataset contains the rank (be mind: order is important!) of relevant document ids for each query considered, so the docid stands for the document must be returned in ideally (forse si dice optimal) run.\n",
        "\n",
        "**Inserire link download qrels msmarco**\n"
      ],
      "metadata": {
        "id": "_2EwkyEtaTPc"
      }
    },
    {
      "cell_type": "markdown",
      "metadata": {
        "id": "hCaVBXRdoxA-"
      },
      "source": [
        "A **relevance assessment** (called `qrel` in `ir_datasets`) is composed by:\n",
        "* a **topic id** (called *query_id* in `ir_datasets`) as in a topic,\n",
        "* a **docno** (called *doc_id* in `ir_datasets`) as in a document,\n",
        "* a **judgement** (called *relevance* in `ir_datasets`) as a binary or graded relevance judgment/label, and\n",
        "* an **iteration**, **UNUSED** and always equal to the string `'0'`."
      ]
    },
    {
      "cell_type": "markdown",
      "source": [
        "At the moment, following code can handle a query's dataset made of\n",
        "\n",
        "| qid | Q0 | docid | rating\n",
        "| :--- | :--- | :--- | :---\n",
        "19335 | Q0 | 1017759 | 0\n",
        "19335 | Q0 | 1082489 | 0\n",
        "19335 | Q0 | 109063 | 0\n",
        ".. | .. | .. | ..\n",
        "19335 | Q0 | 901325 | 0\n",
        "19335 | Q0 | 901329 | 0\n",
        "47923 | Q0 | 1200258 | 2\n",
        "47923 | Q0 | 1236611 | 0\n",
        "47923 | Q0 | 1296110 | 1\n",
        ".. | .. | .. | ..\n",
        "\n",
        "Where\n",
        "\n",
        "* `qid` = query id\n",
        "* `Q0` = TREC specific field, not used in this notebook\n",
        "* `docid` = document id\n",
        "* `rating` = int from 0 to 3 expressing relevance of the document w.r.t. query"
      ],
      "metadata": {
        "id": "3jgwwV1gsTXu"
      }
    },
    {
      "cell_type": "code",
      "execution_count": null,
      "metadata": {
        "ExecuteTime": {
          "end_time": "2024-11-19T17:27:48.428545Z",
          "start_time": "2024-11-19T17:27:48.400834Z"
        },
        "id": "_3H5MT8WoxA_",
        "outputId": "d836cd4d-282e-4923-b6a1-6c6eaa4047a0"
      },
      "outputs": [
        {
          "name": "stdout",
          "output_type": "stream",
          "text": [
            "Number of relevance judgments:  9260\n"
          ]
        }
      ],
      "source": [
        "# get the qrels for the chosen collection\n",
        "if chosen_collection == \"vaswani\":\n",
        "    sep = '\\t'\n",
        "else:\n",
        "    sep = ' '\n",
        "\n",
        "qrels = pd.read_csv('./collection/'+chosen_collection+'/'+chosen_collection+'-qrels.txt', sep=sep, header=None)\n",
        "\n",
        "if chosen_collection == \"vaswani\":\n",
        "    qrels.columns = ['query_id', 'doc_id', 'relevance', 'iteration']\n",
        "\n",
        "else:\n",
        "    qrels.columns = ['query_id', 'Q0', 'doc_id', 'relevance']\n",
        "\n",
        "\n",
        "qrels['query_id'] = qrels['query_id'].apply(str)\n",
        "qrels['doc_id'] = qrels['doc_id'].apply(str)\n",
        "qrels['relevance'] = qrels['relevance'].apply(int)\n",
        "\n",
        "print(\"Number of relevance judgments: \",len(qrels))"
      ]
    },
    {
      "cell_type": "markdown",
      "source": [
        "# 3.1 Offline Evaluation"
      ],
      "metadata": {
        "id": "8Qech2RPyBd8"
      }
    },
    {
      "cell_type": "markdown",
      "source": [
        "For each topic $t \\in T$, the IR system under test uses it as input to search the corpus of documents $D$ and to  produces a *ranked list* of documents $d_1,d_2,d_3,\\ldots$ where the higher the document in the ranking the higher is the estimate of its relevance by the IR system. This ranked list, i.e., the output of the IR system, is called **run file**."
      ],
      "metadata": {
        "id": "b-j9x_MAx_m5"
      }
    },
    {
      "cell_type": "markdown",
      "source": [
        "A **run file** is a textual file which all mandatory following fields are separated by a tab or a space character:\n",
        "\n",
        "| Feature | Description\n",
        "| :--- | :--- |\n",
        "*topic id* | the topic id as in $T$  \n",
        "*Q0* | fixed, unused and always  \n",
        "*docno* | document number as in $D$  \n",
        "*rank* | the position of the document in the ranked list for the topic\n",
        "*score* | the score given by the IR system to the document for the topic (a real number), and\n",
        "*run id* | an identifier, equal for all the lines in the run, of the IR system search."
      ],
      "metadata": {
        "id": "gFBS97C7yNXg"
      }
    },
    {
      "cell_type": "markdown",
      "source": [
        "Example of run file:\n",
        "\n",
        "```\n",
        "41 Q0 LA050394-0237 1 0.6342 updrun\n",
        "41 Q0 LA091294-0164 2 0.4278 updrun\n",
        "41 Q0 LA040594-0187 3 0.4278 updrun\n",
        "41 Q0 LA041694-0248 4 0.3197 updrun\n",
        "41 Q0 LA102394-0113 5 0.3005 updrun\n",
        "...\n",
        "42 Q0 LA081794-0171 1 0.7687 updrun\n",
        "42 Q0 LA031694-0235 2 0.7011 updrun\n",
        "42 Q0 LA031694-0234 3 0.6950 updrun\n",
        "```"
      ],
      "metadata": {
        "id": "QdRJxjOTdLuA"
      }
    },
    {
      "cell_type": "markdown",
      "source": [
        "Following code cell implements `create_run_file` function, which takes as input:\n",
        "\n",
        "| Feature | Type | Description\n",
        "| :--- | :--- | :--- |\n",
        "`queries_dataset` | Queries Dataset object | Already described above\n",
        "`fn` | function | Can be daat or taat and is the function to implement posting list processing\n",
        "`k` | integer | Top-k queue length   \n",
        "`method` | string | String which describes scoring function, can be 'bm25' or 'tfidf'  \n",
        "`run_id` | string | Run identificator   \n",
        "`output_file` | string | Path in which store output file\n",
        "\n",
        "and process every query computing related score to write results over the runfile\n",
        "\n",
        "\n",
        "\n",
        "```\n",
        "for q in tqdm(queries_dataset.queries_iter(), desc=\"Processing queries\", total=queries_dataset.queries_count(), unit=\"query\"):\n",
        "            topic_id = q.query_id\n",
        "            query = preprocess(q.text)\n",
        "            termids = inv_index.get_termids(query)\n",
        "            postings = inv_index.get_postings(termids)\n",
        "            results = fn(postings, k=k, method=method)\n",
        "```"
      ],
      "metadata": {
        "id": "CliG1BOrdfTd"
      }
    },
    {
      "cell_type": "code",
      "execution_count": null,
      "metadata": {
        "ExecuteTime": {
          "end_time": "2024-11-19T17:27:48.522665Z",
          "start_time": "2024-11-19T17:27:48.509131Z"
        },
        "id": "61Xupu6hoxA_"
      },
      "outputs": [],
      "source": [
        "import os\n",
        "\n",
        "\n",
        "def create_run_file(queries_dataset, fn, k, method, run_id, output_file):\n",
        "    \"\"\"\n",
        "    Preprocess the queries and write the results to a run file.\n",
        "    :param queries_dataset: queries dataset object\n",
        "    :param fn: Function to process the postings and return the results in the format (score, docid)\n",
        "    :param run_id: Name identifier for the run\n",
        "    :param output_file: Output run file\n",
        "    \"\"\"\n",
        "    if not os.path.exists('./results'):\n",
        "        os.makedirs('./results')\n",
        "    with open(f\"./results/{output_file}\", \"w\") as f:\n",
        "        for q in tqdm(queries_dataset.queries_iter(), desc=\"Processing queries\", total=queries_dataset.queries_count(), unit=\"query\"):\n",
        "            topic_id = q.query_id\n",
        "            query = preprocess(q.text)\n",
        "            termids = inv_index.get_termids(query)\n",
        "            postings = inv_index.get_postings(termids)\n",
        "            results = fn(postings, k=k, method=method)\n",
        "\n",
        "            if results:\n",
        "                # Write results to the run file\n",
        "                for rank, (score, docno) in enumerate(results, start=1):\n",
        "                    line = f\"{topic_id}\\tQ0\\t{docno}\\t{rank}\\t{score:.6f}\\t{run_id}\\n\"\n",
        "                    f.write(line)\n",
        "            else:\n",
        "                # Annotate that no results were found for this query\n",
        "                line = f\"{topic_id}\\tQ0\\tNO_RESULTS\\t0\\t0.0\\t{run_id}\\n\"\n",
        "                f.write(line)\n",
        "\n",
        "    print(f\"Run file {output_file} produced successfully.\")"
      ]
    },
    {
      "cell_type": "code",
      "execution_count": null,
      "metadata": {
        "ExecuteTime": {
          "end_time": "2024-11-19T17:27:49.927949Z",
          "start_time": "2024-11-19T17:27:48.573038Z"
        },
        "colab": {
          "referenced_widgets": [
            "aef92f931af9461eb324236bb2cc9e92",
            "b762b5484bf84ddaa1e2693aceaa5648"
          ]
        },
        "id": "pO-GiKCeoxA_",
        "outputId": "744ef89c-bbe4-4809-fdae-4745588c6d8a"
      },
      "outputs": [
        {
          "data": {
            "application/vnd.jupyter.widget-view+json": {
              "model_id": "aef92f931af9461eb324236bb2cc9e92",
              "version_major": 2,
              "version_minor": 0
            },
            "text/plain": [
              "Processing queries:   0%|          | 0/200 [00:00<?, ?query/s]"
            ]
          },
          "metadata": {},
          "output_type": "display_data"
        },
        {
          "name": "stdout",
          "output_type": "stream",
          "text": [
            "Run file msmarco_tfidf.run produced successfully.\n"
          ]
        },
        {
          "data": {
            "application/vnd.jupyter.widget-view+json": {
              "model_id": "b762b5484bf84ddaa1e2693aceaa5648",
              "version_major": 2,
              "version_minor": 0
            },
            "text/plain": [
              "Processing queries:   0%|          | 0/200 [00:00<?, ?query/s]"
            ]
          },
          "metadata": {},
          "output_type": "display_data"
        },
        {
          "name": "stdout",
          "output_type": "stream",
          "text": [
            "Run file msmarco_bm25.run produced successfully.\n"
          ]
        }
      ],
      "source": [
        "# if the folder already exists, delete it\n",
        "from shutil import rmtree\n",
        "if os.path.exists('./results'):\n",
        "    rmtree('./results')\n",
        "\n",
        "os.makedirs('./results')\n",
        "create_run_file(queries_dataset, taat, 1000, 'tfidf', \"run_tfidf\", f\"{chosen_collection}_tfidf.run\")\n",
        "create_run_file(queries_dataset, taat, 1000, 'bm25', \"run_bm25\", f\"{chosen_collection}_bm25.run\")"
      ]
    },
    {
      "cell_type": "code",
      "execution_count": null,
      "metadata": {
        "id": "d_mV_HFWoxA_",
        "outputId": "1fa08d4b-80ec-47b1-f161-a9d2c33c3ecf"
      },
      "outputs": [
        {
          "name": "stdout",
          "output_type": "stream",
          "text": [
            "8841823\n"
          ]
        }
      ],
      "source": [
        "print(inv_index.num_docs())"
      ]
    },
    {
      "cell_type": "markdown",
      "source": [
        "Once runfile is obtained we can now use information just stored in it to actually asses performance with some well-know metrics"
      ],
      "metadata": {
        "id": "xZ7Z2uJsgcx1"
      }
    },
    {
      "cell_type": "markdown",
      "metadata": {
        "id": "iH5SM6iloxA_"
      },
      "source": [
        "# 3.2 Measures for IR System"
      ]
    },
    {
      "cell_type": "markdown",
      "source": [
        "# Set-based Metrics\n",
        "\n",
        "IR system is casted as a classification problem where every document is either relevant or not-relevant w.r.t. a query. Common metrics are:\n",
        "* **Precision** $P$: the proportion of **retrieved documents** that are **actually relevant**.\n",
        "* **Recall** $R$: the proportion of **relevant documents** that are **actually retrieved**.\n",
        "* **F-1 score** $= \\frac{2 \\times P \\times R}{P+R}$ consider both Precision and Recall"
      ],
      "metadata": {
        "id": "G_WoKKAR4iYv"
      }
    },
    {
      "cell_type": "markdown",
      "source": [
        "# Rank-based Metrics\n",
        "\n",
        "Consider also position of the correct relevant document in the returned list"
      ],
      "metadata": {
        "id": "JjLPkFHp7gFD"
      }
    },
    {
      "cell_type": "markdown",
      "source": [
        "For this aim we were helped by `ir-measures`, a Python package that interfaces with several IR evaluation tools, including trec_eval, gdeval, trectools, and others.\n",
        "\n",
        "`ir_measures.read_trec_run(run_file_path)` allows trec-formatted file read and subsequently metrics computation, specified by `metrics = [AP(rel=2), nDCG, nDCG@10, Recall(rel=2)@1000, Judged@10]` code line."
      ],
      "metadata": {
        "id": "YJ7ERPwK759d"
      }
    },
    {
      "cell_type": "markdown",
      "source": [
        "Most important measure is **Discounted Cumulative Gain**.\n",
        "\n",
        "\\begin{aligned}\n",
        "DCG@k =\n",
        "\\begin{cases}\n",
        "\\sum_{i=1}^k r_i & k<b \\\\\n",
        "DCG@(k-1) + \\frac{r_k}{log_bk} & \\text{otherwise}\n",
        "\\end{cases}\n",
        "= \\sum_{i=1}^k \\frac{r_i}{max(1, log_b i)}\n",
        "\\end{aligned}\n",
        "\n",
        "Althought, we used Normalized Discoutned Cumulative Gain bounded in [0, 1] computed as:\n",
        "\n",
        "$$nDCG@k = \\frac{DCG@k}{iDCG@k}$$\n",
        "\n",
        "where\n",
        "\n",
        "$iDCG@k$ is $DCG$ is computed for the ideal run, i.e. the relevant documents sorted in descending order of assessed relevance up to rank $k$"
      ],
      "metadata": {
        "id": "BkBBcUdvGQRK"
      }
    },
    {
      "cell_type": "markdown",
      "source": [
        "# Metrics overview\n",
        "\n",
        "| Metric | Metric Name | Description\n",
        "| :--- | :--- | :--- |\n",
        "$P$ | Precision | How many of relevant documents were actually retrieved\n",
        "$R$ | Recall | How many retrieved documents are actually relevant\n",
        "$AP$ | Average Precision | Aritmetich mean of $P$\n",
        "$MAP$ | fixed, unused and always | Mean of AP over a set of topics\n",
        "n$DCG$ | Discounted Cumulative Gain | Multi-graded relevance, not recall based\n",
        "$J$ | Judged | Percentage of results having relevance judgments\n"
      ],
      "metadata": {
        "id": "BmcbFHFA9r-L"
      }
    },
    {
      "cell_type": "markdown",
      "source": [
        "All of metrics shown above can be also computed using a cutoff $k$\n",
        "\n",
        "| Metric | Metric Name | Description\n",
        "| :--- | :--- | :--- |\n",
        "$P@k$ | Precision at cutoff $k$ | How many of relevant documents were actually retrieved at cutoff $k$\n",
        "$R@k$ | Recall at cutoff $k$ | How many retrieved documents are actually relevant at cutoff $k$\n",
        "$AP@k$ | Average Precision | Aritmetich mean of $P@k$\n",
        "$MAP@k$ | fixed, unused and always | Mean of AP over a set of topics at cutoff $k$\n",
        "n$DCG@k$ | Discounted Cumulative Gain | $DCG$ considered at cutoff $k$\n",
        "$J@k$ | Judged | Percentage of results having relevance judgments Equivalent to P@k with a relevance assestment lower than any judgment."
      ],
      "metadata": {
        "id": "XQsxTHz5FCp7"
      }
    },
    {
      "cell_type": "markdown",
      "source": [
        "**Judged@k**\n",
        "\n",
        "Percentage of results in the top k (cutoff) results that have relevance judgments.\n",
        "Equivalent to P@k with a rel lower than any judgment."
      ],
      "metadata": {
        "id": "4s1gQUIqB2bp"
      }
    },
    {
      "cell_type": "code",
      "execution_count": null,
      "metadata": {
        "id": "hV0GAIdToxBE"
      },
      "outputs": [],
      "source": [
        "import ir_measures\n",
        "from ir_measures import *\n",
        "\n",
        "# Load the run\n",
        "run_file_tfidf = list(ir_measures.read_trec_run(f'./results/{chosen_collection}_tfidf.run'))\n",
        "\n",
        "run_file_bm25 = list(ir_measures.read_trec_run(f'./results/{chosen_collection}_bm25.run'))"
      ]
    },
    {
      "cell_type": "code",
      "execution_count": null,
      "metadata": {
        "id": "fFeOloL1oxBE"
      },
      "outputs": [],
      "source": [
        "# List of scoring functions implemented by our IR system\n",
        "scoring_functions = ['TF-IDF', 'BM25']\n",
        "\n",
        "# Number of decimal places to round the results\n",
        "decimals = 3\n",
        "\n",
        "# List of evaluation measures (metrics)\n",
        "metrics = [AP(rel=2), nDCG, nDCG@10, Recall(rel=2)@1000, Judged@10]\n",
        "\n",
        "# Initialize a dictionary to store results from the IR systems\n",
        "system_measures = {func: {} for func in scoring_functions}\n",
        "\n",
        "# Iterate over scoring functions and metrics to gather the results\n",
        "for func in scoring_functions:\n",
        "    # For system measures (e.g., TF-IDF, BM25) using `ir_measures`\n",
        "    for metric in metrics:\n",
        "        if func == 'TF-IDF':\n",
        "            system_measures[func][metric] = ir_measures.calc_aggregate([metric], qrels, run_file_tfidf).get(metric)\n",
        "        elif func == 'BM25':\n",
        "            system_measures[func][metric] = ir_measures.calc_aggregate([metric], qrels, run_file_bm25).get(metric)"
      ]
    },
    {
      "cell_type": "markdown",
      "source": [
        "By now, we have obtained a system_measures dictonary with following structure:\n",
        "\n",
        "\n",
        "\n",
        "```\n",
        "system_measures = {\n",
        "    'score_computation1': {\n",
        "        metric_1: value_1,\n",
        "        metric_2: value_2,\n",
        "        ...\n",
        "    },\n",
        "    'score_computation2': {\n",
        "        metric_1: value_3,\n",
        "        metric_2: value_4,\n",
        "        ...\n",
        "    }\n",
        "}\n",
        "```"
      ],
      "metadata": {
        "id": "M7wn43h5l2YN"
      }
    },
    {
      "cell_type": "markdown",
      "source": [
        "Where:\n",
        "\n",
        "| Feature | Meaning |  \n",
        "| :--- | :--- |\n",
        "score_computation | function for score computation, can be either bm25 or tfidf\n",
        "metric | metric selected\n",
        "value | value of related metric"
      ],
      "metadata": {
        "id": "-qt_XcfnmQ_3"
      }
    },
    {
      "cell_type": "markdown",
      "source": [
        "Example of system_measures output:\n",
        "\n",
        "\n",
        "\n",
        "```\n",
        "system_measures = {\n",
        "    'TF-IDF': {\n",
        "        AP(rel=2): 0.512,\n",
        "        nDCG: 0.740,\n",
        "        nDCG@10: 0.655,\n",
        "        Recall(rel=2)@1000: 0.890,\n",
        "        Judged@10: 0.850\n",
        "    },\n",
        "    'BM25': {\n",
        "        AP(rel=2): 0.625,\n",
        "        nDCG: 0.810,\n",
        "        nDCG@10: 0.720,\n",
        "        Recall(rel=2)@1000: 0.920,\n",
        "        Judged@10: 0.870\n",
        "    }\n",
        "}\n",
        "```\n",
        "\n"
      ],
      "metadata": {
        "id": "qYtchF4ymmZ0"
      }
    },
    {
      "cell_type": "code",
      "execution_count": null,
      "metadata": {
        "id": "JLFCKsj6oxBE"
      },
      "outputs": [],
      "source": [
        "def print_results(measures):\n",
        "\t# put the results in a dataframe\n",
        "\tdf = pd.DataFrame(measures)\n",
        "\tdf = df.transpose()\n",
        "\tdf = df.round(decimals)\n",
        "\t# Print the results\n",
        "\tprint(df)"
      ]
    },
    {
      "cell_type": "code",
      "execution_count": null,
      "metadata": {
        "id": "qm1V4wFEoxBE",
        "outputId": "a76ec25b-962b-4beb-9afa-551cc2f3d9fb"
      },
      "outputs": [
        {
          "name": "stdout",
          "output_type": "stream",
          "text": [
            "        AP(rel=2)  nDCG  nDCG@10  R(rel=2)@1000  Judged@10\n",
            "TF-IDF      0.263  0.55    0.437          0.711        0.7\n",
            "BM25        0.263  0.55    0.437          0.710        0.7\n"
          ]
        }
      ],
      "source": [
        "print_results(system_measures)"
      ]
    },
    {
      "cell_type": "markdown",
      "metadata": {
        "id": "_eqnOxoNoxBE"
      },
      "source": [
        "Questa cella c'era gia prima ma non la metterei, tutto quello che ce qui dentro è gia in altre celle\n",
        "\n",
        "##### The [Mean] Average Precision ([M]AP).\n",
        "The average precision of a single query is the mean of the precision scores at each relevant item returned in a search results list.\n",
        "\n",
        "##### The normalized Discounted Cumulative Gain (nDCG).\n",
        "Uses graded labels - systems that put the highest graded documents at the top of the ranking.\n",
        "It is normalized wrt. the Ideal NDCG, i.e. documents ranked in descending order of graded label.\n",
        "\n",
        "##### Recall@k\n",
        "The fraction of relevant documents for a query that have been retrieved by rank k.\n",
        "\n",
        "##### Judged@k\n",
        "Percentage of results in the top k (cutoff) results that have relevance judgments.\n",
        "Equivalent to P@k with a rel lower than any judgment."
      ]
    },
    {
      "cell_type": "markdown",
      "metadata": {
        "id": "g6xh9lP7oxBE"
      },
      "source": [
        "---"
      ]
    },
    {
      "cell_type": "markdown",
      "metadata": {
        "id": "wKScCBUooxBF"
      },
      "source": [
        "# 3.3 PyTerrier\n",
        "\n",
        "PyTerrier is a Python framework, which uses the underlying [Terrier.org information retrieval toolkit](http://terrier.org) implementation for many indexing and retrieval operations, making easier to perform IR experiments in Python with mature Terrier platform for the expensive indexing and retrieval operations."
      ]
    },
    {
      "cell_type": "markdown",
      "source": [
        "Since PyTerrier itself provides a simple way to asses search engine performance using well-known dataset and metrics, we decided to provide a comparison between our IR system results and PyTerrier results, since the usage of a famous benchmark can confirm if our work was both effective and efficent."
      ],
      "metadata": {
        "id": "mARGClJ1nWX6"
      }
    },
    {
      "cell_type": "markdown",
      "source": [
        "PyTerrier inizialisation is performed with `init()` method since PyTerrier must download Terrier's jar file and start the JVM. Checking with `started()` prevent multiple `init()` calls."
      ],
      "metadata": {
        "id": "ctsqy0aqSY0j"
      }
    },
    {
      "cell_type": "code",
      "source": [
        "!pip install pyterrier"
      ],
      "metadata": {
        "colab": {
          "base_uri": "https://localhost:8080/"
        },
        "collapsed": true,
        "id": "MElS_LoEV9yO",
        "outputId": "84de5494-55e7-43b0-a272-f30daa9cf2f4"
      },
      "execution_count": null,
      "outputs": [
        {
          "output_type": "stream",
          "name": "stdout",
          "text": [
            "Collecting pyterrier\n",
            "  Downloading pyterrier-0.1.5-py2.py3-none-any.whl.metadata (9.3 kB)\n",
            "Requirement already satisfied: Click>=6.0 in /usr/local/lib/python3.10/dist-packages (from pyterrier) (8.1.7)\n",
            "Requirement already satisfied: jinja2>=2.10 in /usr/local/lib/python3.10/dist-packages (from pyterrier) (3.1.4)\n",
            "Requirement already satisfied: MarkupSafe>=2.0 in /usr/local/lib/python3.10/dist-packages (from jinja2>=2.10->pyterrier) (3.0.2)\n",
            "Downloading pyterrier-0.1.5-py2.py3-none-any.whl (22 kB)\n",
            "Installing collected packages: pyterrier\n",
            "Successfully installed pyterrier-0.1.5\n"
          ]
        }
      ]
    },
    {
      "cell_type": "code",
      "execution_count": null,
      "metadata": {
        "ExecuteTime": {
          "end_time": "2024-11-19T18:00:25.080832Z",
          "start_time": "2024-11-19T18:00:16.846453Z"
        },
        "id": "_Ru4bNQPoxBF",
        "outputId": "ac6b678e-31bd-497e-d296-cc76b4feea6f",
        "colab": {
          "base_uri": "https://localhost:8080/",
          "height": 211
        }
      },
      "outputs": [
        {
          "output_type": "error",
          "ename": "AttributeError",
          "evalue": "module 'pyterrier' has no attribute 'started'",
          "traceback": [
            "\u001b[0;31m---------------------------------------------------------------------------\u001b[0m",
            "\u001b[0;31mAttributeError\u001b[0m                            Traceback (most recent call last)",
            "\u001b[0;32m<ipython-input-6-32e0d88c1c24>\u001b[0m in \u001b[0;36m<cell line: 5>\u001b[0;34m()\u001b[0m\n\u001b[1;32m      3\u001b[0m \u001b[0;31m# note that pt.started() and pt.init() are deprecated\u001b[0m\u001b[0;34m\u001b[0m\u001b[0;34m\u001b[0m\u001b[0m\n\u001b[1;32m      4\u001b[0m \u001b[0;34m\u001b[0m\u001b[0m\n\u001b[0;32m----> 5\u001b[0;31m \u001b[0;32mif\u001b[0m \u001b[0;32mnot\u001b[0m \u001b[0mpt\u001b[0m\u001b[0;34m.\u001b[0m\u001b[0mstarted\u001b[0m\u001b[0;34m(\u001b[0m\u001b[0;34m)\u001b[0m\u001b[0;34m:\u001b[0m\u001b[0;34m\u001b[0m\u001b[0;34m\u001b[0m\u001b[0m\n\u001b[0m\u001b[1;32m      6\u001b[0m     \u001b[0;31m# windows only option\u001b[0m\u001b[0;34m\u001b[0m\u001b[0;34m\u001b[0m\u001b[0m\n\u001b[1;32m      7\u001b[0m     \u001b[0;31m#pt.java.add_option('-Dtrec.encoding=UTF-8')\u001b[0m\u001b[0;34m\u001b[0m\u001b[0;34m\u001b[0m\u001b[0m\n",
            "\u001b[0;31mAttributeError\u001b[0m: module 'pyterrier' has no attribute 'started'"
          ]
        }
      ],
      "source": [
        "import pyterrier as pt\n",
        "\n",
        "# note that pt.started() and pt.init() are deprecated\n",
        "\n",
        "if not pt.java.started():\n",
        "    # windows only option\n",
        "    #pt.java.add_option('-Dtrec.encoding=UTF-8')\n",
        "    pt.java.init()"
      ]
    },
    {
      "cell_type": "markdown",
      "source": [
        "Once we have started, we used `pt.datasets.get_datsets(dataset_name)` to return **MSMARCO passages dataset** ( see `pt.datasets.get_list_dataset()` for available ones), composed by\n",
        "\n",
        "| Feature | Feature Description |  \n",
        "| :--- | :--- |\n",
        "qid | query id\n",
        "query | query text\n",
        "\n",
        "Related queries\n",
        "\n",
        "| Feature | Feature Description |  \n",
        "| :--- | :--- |\n",
        "qid | query id\n",
        "query | query text\n",
        "\n",
        "Related qrels\n",
        "\n",
        "| Feature | Feature Description |  \n",
        "| :--- | :--- |\n",
        "qid | query id\n",
        "docno | document id\n",
        "label | relevance"
      ],
      "metadata": {
        "id": "lKR9vbvuS4RT"
      }
    },
    {
      "cell_type": "code",
      "execution_count": null,
      "metadata": {
        "id": "qKWd-1WPoxBF",
        "outputId": "66e16b0d-b89d-43bf-96f7-30c1b2a28f91"
      },
      "outputs": [
        {
          "name": "stdout",
          "output_type": "stream",
          "text": [
            "       qid                                              query\n",
            "0  1108939                  what slows down the flow of blood\n",
            "1  1112389             what is the county for grand rapids mn\n",
            "2   792752                                     what is ruclip\n",
            "3  1119729  what do you do when you have a nosebleed from ...\n",
            "4  1105095                  where is sugar lake lodge located\n",
            "     qid    docno  label\n",
            "0  19335  1017759      0\n",
            "1  19335  1082489      0\n",
            "2  19335   109063      0\n",
            "3  19335  1160863      0\n",
            "4  19335  1160871      0\n"
          ]
        }
      ],
      "source": [
        "dataset = pt.get_dataset(\"msmarco_passage\")\n",
        "\n",
        "print(dataset.get_topics(\"test-2019\").head())\n",
        "print(dataset.get_qrels(\"test-2019\").head())"
      ]
    },
    {
      "cell_type": "code",
      "execution_count": null,
      "metadata": {
        "id": "uLBmuRRwoxBF",
        "outputId": "28e4e376-46da-4006-e8c0-22b31fdf0ac0"
      },
      "outputs": [
        {
          "name": "stdout",
          "output_type": "stream",
          "text": [
            "200\n",
            "9260\n",
            "43\n"
          ]
        }
      ],
      "source": [
        "# print the number of queries\n",
        "print(len(dataset.get_topics(\"test-2019\")))\n",
        "\n",
        "# print the number of relevance judgments\n",
        "print(len(dataset.get_qrels(\"test-2019\")))\n",
        "\n",
        "# print the number of unique queries ids in the qrels\n",
        "print(len(dataset.get_qrels(\"test-2019\")[\"qid\"].unique()))"
      ]
    },
    {
      "cell_type": "markdown",
      "source": [
        "`IndexFactory` is a PyTerrier class providing methods to both create or retrieve already existing indexes and `pt.IndexFactory.of(path)` function upload the related path index, the MSMARCO passage terrier stemmed (`variant=terrier_stemmed`) one in this case"
      ],
      "metadata": {
        "id": "NiLUsywVqaXo"
      }
    },
    {
      "cell_type": "code",
      "execution_count": null,
      "metadata": {
        "id": "-F-4gA7FoxBF",
        "outputId": "8c2c8643-b7ee-4c6b-b7b4-2dec3e3f1be9"
      },
      "outputs": [
        {
          "name": "stdout",
          "output_type": "stream",
          "text": [
            "Number of documents: 8841823\n",
            "Number of terms: 1170682\n",
            "Number of postings: 215238456\n",
            "Number of fields: 1\n",
            "Number of tokens: 288759529\n",
            "Field names: [text]\n",
            "Positions:   false\n",
            "\n"
          ]
        }
      ],
      "source": [
        "# print getCollectionStatistics\n",
        "index = pt.IndexFactory.of(dataset.get_index(variant='terrier_stemmed'))\n",
        "print(index.getCollectionStatistics())"
      ]
    },
    {
      "cell_type": "markdown",
      "source": [
        "`index` object contains now a PyTerrier index instance which can be used to run queries"
      ],
      "metadata": {
        "id": "d-U4Dqx1s7YC"
      }
    },
    {
      "cell_type": "code",
      "execution_count": null,
      "metadata": {
        "id": "pckB8qCUoxBF",
        "outputId": "87137462-6662-4c66-a4b4-81a043f76463"
      },
      "outputs": [
        {
          "name": "stdout",
          "output_type": "stream",
          "text": [
            "       qid                                              query\n",
            "0  1108939                  what slows down the flow of blood\n",
            "1  1112389             what is the county for grand rapids mn\n",
            "2   792752                                     what is ruclip\n",
            "3  1119729  what do you do when you have a nosebleed from ...\n",
            "4  1105095                  where is sugar lake lodge located\n",
            "     qid    docno  label\n",
            "0  19335  1017759      0\n",
            "1  19335  1082489      0\n",
            "2  19335   109063      0\n",
            "3  19335  1160863      0\n",
            "4  19335  1160871      0\n"
          ]
        }
      ],
      "source": [
        "from pyterrier.measures import *\n",
        "\n",
        "queries_pt = dataset.get_topics(\"test-2019\")\n",
        "qrels_pt = dataset.get_qrels(\"test-2019\")\n",
        "\n",
        "print(queries_pt.head())\n",
        "print(qrels_pt.head())"
      ]
    },
    {
      "cell_type": "code",
      "execution_count": null,
      "metadata": {
        "id": "HJoqM2EnoxBF",
        "outputId": "b2d8270a-e3e2-4162-c3a1-12380e8c7e4c"
      },
      "outputs": [
        {
          "name": "stdout",
          "output_type": "stream",
          "text": [
            "Numero totale di qid in queries: 200\n",
            "Numero totale di qid in qrels: 43\n",
            "Numero di qid comuni: 43\n",
            "Qid mancanti nei qrels: 157\n",
            "Qid mancanti nelle queries: 0\n",
            "Numero di valori univoci nella prima colonna ('qid') di qrels: 43\n"
          ]
        }
      ],
      "source": [
        "queries_qids = set(queries_pt[\"qid\"])\n",
        "qrels_qids = set(qrels_pt[\"qid\"])\n",
        "\n",
        "# count the number of unique qids in qrels\n",
        "unique_values_count = qrels_pt[\"qid\"].nunique()\n",
        "\n",
        "common_qids = queries_qids & qrels_qids\n",
        "missing_in_qrels = queries_qids - qrels_qids\n",
        "missing_in_queries = qrels_qids - queries_qids\n",
        "\n",
        "# Mostra i risultati\n",
        "print(f\"Numero totale di qid in queries: {len(queries_qids)}\")\n",
        "print(f\"Numero totale di qid in qrels: {len(qrels_qids)}\")\n",
        "print(f\"Numero di qid comuni: {len(common_qids)}\")\n",
        "print(f\"Qid mancanti nei qrels: {len(missing_in_qrels)}\")\n",
        "print(f\"Qid mancanti nelle queries: {len(missing_in_queries)}\")\n",
        "print(f\"Numero di valori univoci nella prima colonna ('qid') di qrels: {unique_values_count}\")\n",
        "\n",
        "# VERSIONE INGLESE SCRITTA DA ANDRE\n",
        "print(f\"Total number of qid in queries: {len(queries_qids)}\")\n",
        "print(f\"Total number of qid in qrels: {len(qrels_qids)}\")\n",
        "print(f\"Total number of SAME qid in both queries and qrels: {len(common_qids)}\")\n",
        "print(f\"Missing qid in qrels: {len(missing_in_qrels)}\")\n",
        "print(f\"Missing qid in queries: {len(missing_in_queries)}\")\n",
        "print(f\"Unique values in first column ('qid') of qrels: {unique_values_count}\")\n"
      ]
    },
    {
      "cell_type": "markdown",
      "source": [
        "Our way into search in PyTerrier is called `Retriever`, which is configured by specifying an index and a weighting model."
      ],
      "metadata": {
        "id": "DbU4-3a2tcJ1"
      }
    },
    {
      "cell_type": "markdown",
      "source": [
        "We now need two Retriever instances, one for TF-IDF score computation and the other for BM25, they both takes queries as input, compute score based on specified scoring function and return list of retrieved document based on score (exactly as our system does described before)"
      ],
      "metadata": {
        "id": "IFuC-6uqtxFq"
      }
    },
    {
      "cell_type": "code",
      "execution_count": null,
      "metadata": {
        "id": "oVbvowA3oxBG"
      },
      "outputs": [],
      "source": [
        "# Definizione dei retriever\n",
        "TF_IDF = pt.terrier.Retriever.from_dataset('msmarco_passage', 'terrier_stemmed', wmodel='TF_IDF')\n",
        "BM25 = pt.terrier.Retriever.from_dataset('msmarco_passage', 'terrier_stemmed', wmodel='BM25')"
      ]
    },
    {
      "cell_type": "markdown",
      "source": [
        "Following code cell describes input parameters for test phase:\n",
        "\n",
        "| Parameter | Description |  \n",
        "| :--- | :--- |\n",
        "scoring_functions | scoring functions allowed used for experiments\n",
        "decimals | number of decimal digits allowed\n",
        "metrics | metrics we are interested in (described above)\n",
        "\n",
        "`pyterrier_measures` is a dictionary for results storing, while `pt.Experiment` allow a pipeline implementation for experiment step"
      ],
      "metadata": {
        "id": "QdcAqs2xuk-Q"
      }
    },
    {
      "cell_type": "code",
      "execution_count": null,
      "metadata": {
        "id": "xg6OqcwVoxBG"
      },
      "outputs": [],
      "source": [
        "# List of scoring functions (IR systems)\n",
        "scoring_functions = ['TF-IDF', 'BM25']\n",
        "\n",
        "# Number of decimal places to round the results\n",
        "decimals = 3\n",
        "\n",
        "# List of evaluation measures (metrics)\n",
        "metrics = [AP(rel=2), nDCG, nDCG@10, Recall(rel=2)@1000, Judged@10]\n",
        "\n",
        "pyterrier_measures = {func: {} for func in scoring_functions}\n",
        "\n",
        "\n",
        "# Iterate over scoring functions and metrics to gather the results\n",
        "for func in scoring_functions:\n",
        "\n",
        "    # For PyTerrier results (e.g., TF-IDF, BM25)\n",
        "    experiment_results = pt.Experiment(\n",
        "        [TF_IDF, BM25],\n",
        "        queries_pt,\n",
        "        qrels_pt,\n",
        "        eval_metrics=[metric for metric in metrics],\n",
        "        names=scoring_functions\n",
        "    )\n",
        "\n",
        "    # Extract results for each metric in the experiment and store in pyterrier_measures\n",
        "    for metric in metrics:\n",
        "        pyterrier_measures[func][metric] = experiment_results.loc[experiment_results['name'] == func, str(metric)].values[0]\n"
      ]
    },
    {
      "cell_type": "code",
      "execution_count": null,
      "metadata": {
        "id": "L0_1_q7loxBG",
        "outputId": "781673c3-4bee-448b-b812-fa93c3703fa5"
      },
      "outputs": [
        {
          "name": "stdout",
          "output_type": "stream",
          "text": [
            "        AP(rel=2)   nDCG  nDCG@10  R(rel=2)@1000  Judged@10\n",
            "TF-IDF      0.286  0.593    0.478          0.755      0.958\n",
            "BM25        0.286  0.593    0.480          0.755      0.958\n"
          ]
        }
      ],
      "source": [
        "# print the results\n",
        "print_results(pyterrier_measures)"
      ]
    },
    {
      "cell_type": "markdown",
      "source": [
        "Results obtained asses that no differences can be appreciated using one of the two scoring functions, at least considering first threee decimal digits.\n",
        "\n",
        "We can consider values obtained a suitable benchamrk for our system testing step."
      ],
      "metadata": {
        "id": "Ru33GcizwbD-"
      }
    },
    {
      "cell_type": "markdown",
      "metadata": {
        "id": "hg3BeqgvoxBG"
      },
      "source": [
        "# 3.4 IR Systems Comparison"
      ]
    },
    {
      "cell_type": "markdown",
      "source": [
        "Following subsection covers expreriment comparison made over both our system and pyterrier library using `comparison` function, taking as input\n",
        "\n",
        "| Feature | Feature Description |  \n",
        "| :--- | :--- |\n",
        "qid | query id\n",
        "query | query text"
      ],
      "metadata": {
        "id": "yDsTkcIfaLVD"
      }
    },
    {
      "cell_type": "markdown",
      "source": [
        "For every metric we compute both our custom system results and PyTerrier results, then we exploit absolute difference between them.\n",
        "\n",
        "All values are saved into a `pandas` dataframe for reliability"
      ],
      "metadata": {
        "id": "543Hzt_xxn8x"
      }
    },
    {
      "cell_type": "code",
      "execution_count": null,
      "metadata": {
        "id": "-RlFBEkZoxBG"
      },
      "outputs": [],
      "source": [
        "# Iterate through each scoring function and create a comparison DataFrame for it\n",
        "def comparison(func, metrics, system_measures, pyterrier_measures, decimals):\n",
        "    # Prepare comparison data for the current scoring function\n",
        "    comparison_data = {\n",
        "        'Metric': metrics,\n",
        "        func + ' System': [system_measures[func].get(m, None) for m in metrics],\n",
        "        func + ' PyTerrier': [pyterrier_measures[func].get(m, None) for m in metrics],\n",
        "        func + ' Difference': [\n",
        "            pyterrier_measures[func].get(m, None) - system_measures[func].get(m, None)\n",
        "            for m in metrics\n",
        "        ]\n",
        "    }\n",
        "\n",
        "    # Convert to DataFrame for better readability\n",
        "    comparison_df = pd.DataFrame(comparison_data)\n",
        "\n",
        "    # reverse columns and rows\n",
        "    comparison_df = comparison_df.transpose()\n",
        "\n",
        "    # adjust column names\n",
        "    comparison_df.columns = comparison_df.iloc[0]\n",
        "\n",
        "    # drop the first row\n",
        "    comparison_df = comparison_df[1:]\n",
        "\n",
        "    # round values for better readability\n",
        "    comparison_df = comparison_df.round(decimals)\n",
        "\n",
        "    # Print the comparison DataFrame for the current scoring function\n",
        "    print(f\"Comparison for {func}:\\n\")\n",
        "    print(comparison_df)\n"
      ]
    },
    {
      "cell_type": "code",
      "execution_count": null,
      "metadata": {
        "id": "Ty333AJcoxBG",
        "outputId": "aff1edc9-15fb-4bcf-837b-d3803c142911"
      },
      "outputs": [
        {
          "name": "stdout",
          "output_type": "stream",
          "text": [
            "Comparison for TF-IDF:\n",
            "\n",
            "Metric            AP(rel=2)      nDCG   nDCG@10 R(rel=2)@1000 Judged@10\n",
            "TF-IDF System      0.262596  0.549637  0.437137      0.711031       0.7\n",
            "TF-IDF PyTerrier   0.286342  0.593198   0.47831      0.754831   0.95814\n",
            "TF-IDF Difference  0.023746  0.043561  0.041173        0.0438   0.25814\n"
          ]
        }
      ],
      "source": [
        "comparison('TF-IDF', metrics, system_measures, pyterrier_measures, decimals)"
      ]
    },
    {
      "cell_type": "code",
      "execution_count": null,
      "metadata": {
        "id": "PYEpEuJRoxBH",
        "outputId": "5294b56c-1c3d-4a7a-d4c2-ae4894910949"
      },
      "outputs": [
        {
          "name": "stdout",
          "output_type": "stream",
          "text": [
            "Comparison for BM25:\n",
            "\n",
            "Metric          AP(rel=2)      nDCG   nDCG@10 R(rel=2)@1000 Judged@10\n",
            "BM25 System       0.26328  0.549911  0.437137      0.710347       0.7\n",
            "BM25 PyTerrier   0.286448  0.593433   0.47954      0.755332   0.95814\n",
            "BM25 Difference  0.023167  0.043522  0.042403      0.044985   0.25814\n"
          ]
        }
      ],
      "source": [
        "comparison('BM25', metrics, system_measures, pyterrier_measures, decimals)"
      ]
    },
    {
      "cell_type": "code",
      "execution_count": null,
      "metadata": {
        "id": "GNoyPVB8oxBH"
      },
      "outputs": [],
      "source": [
        "comparison_data = {\n",
        "    'Metric': metrics,\n",
        "    func + ' System': [system_measures[func].get(m, None) for m in metrics],\n",
        "    func + ' PyTerrier': [pyterrier_measures[func].get(m, None) for m in metrics],\n",
        "    func + ' Difference': [\n",
        "        pyterrier_measures[func].get(m, None) - system_measures[func].get(m, None)\n",
        "        for m in metrics\n",
        "    ],\n",
        "    func + ' Percentage Difference': [\n",
        "        ((pyterrier_measures[func].get(m, None) - system_measures[func].get(m, None)) /\n",
        "         system_measures[func].get(m, None) * 100) if system_measures[func].get(m, None) else None\n",
        "        for m in metrics\n",
        "    ]\n",
        "}"
      ]
    },
    {
      "cell_type": "code",
      "execution_count": null,
      "metadata": {
        "id": "FA6z8IkZoxBH",
        "outputId": "aba490ad-fc9b-4c79-c267-f519146cba87"
      },
      "outputs": [
        {
          "data": {
            "text/plain": [
              "<Figure size 1000x600 with 0 Axes>"
            ]
          },
          "metadata": {},
          "output_type": "display_data"
        },
        {
          "data": {
            "image/png": "[encoded data removed]",
            "text/plain": [
              "<Figure size 640x480 with 1 Axes>"
            ]
          },
          "metadata": {},
          "output_type": "display_data"
        },
        {
          "data": {
            "text/plain": [
              "<Figure size 1000x600 with 0 Axes>"
            ]
          },
          "metadata": {},
          "output_type": "display_data"
        },
        {
          "data": {
            "image/png": "[encoded data removed]",
            "text/plain": [
              "<Figure size 640x480 with 1 Axes>"
            ]
          },
          "metadata": {},
          "output_type": "display_data"
        }
      ],
      "source": [
        "import matplotlib.pyplot as plt\n",
        "\n",
        "#metrics = [AP(rel=2), nDCG, nDCG@10, Recall(rel=2)@1000]\n",
        "\n",
        "# Example for one scoring function (TF-IDF)\n",
        "for func in scoring_functions:\n",
        "    # Prepare data for barplot\n",
        "    comparison_df = pd.DataFrame({\n",
        "        'Metric': metrics,\n",
        "        'System': [system_measures[func].get(m, None) for m in metrics],\n",
        "        'PyTerrier': [pyterrier_measures[func].get(m, None) for m in metrics]\n",
        "    })\n",
        "\n",
        "    # Set plot size and style\n",
        "    plt.figure(figsize=(10, 6))\n",
        "    comparison_df.set_index('Metric').plot(kind='bar', width=0.8, color=['lightblue', 'lightgreen'])\n",
        "\n",
        "    plt.title(f'Comparison of {func} IR Systems')\n",
        "    plt.ylabel('Metric Value')\n",
        "    plt.xlabel('Metric')\n",
        "    plt.xticks(rotation=45)\n",
        "    plt.legend(title='System', labels=['Our System', 'PyTerrier'])\n",
        "    plt.tight_layout()\n",
        "    plt.show()"
      ]
    },
    {
      "cell_type": "markdown",
      "source": [
        "Results obtained are pretty good!\n",
        "\n",
        "Even there are no metrics in which our results are better than PyTerrier ones, we are always very near the benchmark so we can at least asses a good result for both effectiveness and efficency."
      ],
      "metadata": {
        "id": "Z4oYCUu6yQZV"
      }
    },
    {
      "cell_type": "markdown",
      "source": [
        "Only metric with a sensible difference from an IR system to another is *Judged@10*, recall as the percentage of results at the cutoff that have relevance judgments and is equivalent to P@k with a rel lower than any judgment. By the way, this is the least important since we are using an incomplete notation dataset: as just seen above, only 200 queries have relevance assestments so is expected that a non-optimal run (as the one can a custom IR system do) presents also non-judged documents."
      ],
      "metadata": {
        "id": "f-gOgxOvzCGO"
      }
    },
    {
      "cell_type": "markdown",
      "metadata": {
        "id": "7TW3pGQnoxBH"
      },
      "source": [
        "# Evaluating baselines (significance testing, paired $t$-test, 𝑝 < 0.05)"
      ]
    },
    {
      "cell_type": "markdown",
      "source": [
        "Significance testing can be performed by specifying the index of the transformer we want to consider for our baseline using  `baseline` parameter which enables significance testing (paired $t$-test), reporting, for each metric, the $p$-value, as well as showing the number of queries improved and degraded w.r.t. the baseline.\n",
        "\n",
        "For the baseline, values are obviously `NaN`."
      ],
      "metadata": {
        "id": "vPcAXXan2Ept"
      }
    },
    {
      "cell_type": "code",
      "execution_count": null,
      "metadata": {
        "id": "DaQs6Iq5oxBH"
      },
      "outputs": [],
      "source": [
        "from scipy.stats import ttest_rel\n",
        "import numpy as np\n",
        "\n",
        "metrics = [AP(rel=2), nDCG, nDCG@10, Recall(rel=2)@1000]\n",
        "\n",
        "def evaluate_baseline(metric, baseline_index = 0):\n",
        "    # Baseline Index: 0 for TF-IDF, 1 for BM25\n",
        "\n",
        "    # Compute per-topic AP scores for both TFIDF and BM25\n",
        "    tfidf_scores = {}\n",
        "    bm25_scores = {}\n",
        "\n",
        "    for res in ir_measures.iter_calc([metric], qrels, run_file_tfidf):\n",
        "        tfidf_scores[res.query_id] = res.value\n",
        "\n",
        "    for res in ir_measures.iter_calc([metric], qrels, run_file_bm25):\n",
        "        bm25_scores[res.query_id] = res.value\n",
        "\n",
        "    # Ensure we have common queries\n",
        "    common_queries = set(tfidf_scores.keys()).intersection(bm25_scores.keys())\n",
        "\n",
        "    tfidf_list = [tfidf_scores[q] for q in common_queries]\n",
        "    bm25_list = [bm25_scores[q] for q in common_queries]\n",
        "\n",
        "    # Perform paired t-test\n",
        "    t_stat, p_val = ttest_rel(tfidf_list, bm25_list)\n",
        "\n",
        "    # Compute mean AP for each system\n",
        "    mean_tfidf = np.mean(tfidf_list)\n",
        "    mean_bm25 = np.mean(bm25_list)\n",
        "\n",
        "    # Compute additional metrics relative to baseline\n",
        "    if baseline_index == 0:  # TF-IDF is baseline\n",
        "        baseline_name = \"TF-IDF\"\n",
        "        compare_name = \"BM25\"\n",
        "        plus = sum(1 for tf, bm in zip(tfidf_list, bm25_list) if bm > tf)\n",
        "        minus = sum(1 for tf, bm in zip(tfidf_list, bm25_list) if bm < tf)\n",
        "        baseline = mean_tfidf\n",
        "        compare = mean_bm25\n",
        "    else:  # BM25 is baseline\n",
        "        baseline_name = \"BM25\"\n",
        "        compare_name = \"TF-IDF\"\n",
        "        plus = sum(1 for tf, bm in zip(tfidf_list, bm25_list) if tf > bm)\n",
        "        minus = sum(1 for tf, bm in zip(tfidf_list, bm25_list) if tf < bm)\n",
        "        baseline = mean_bm25\n",
        "        compare = mean_tfidf\n",
        "\n",
        "    # Create the DataFrame to match the desired output\n",
        "    df_results = pd.DataFrame({\n",
        "        'name': [baseline_name, compare_name],\n",
        "        str(metric) : [baseline, compare],\n",
        "        str(metric)+' +': [np.nan, plus],  # + only for the non-baseline system\n",
        "        str(metric)+' -': [np.nan, minus],  # - only for the non-baseline system\n",
        "        'p-value': [np.nan, p_val]\n",
        "    })\n",
        "\n",
        "    # Round values for better readability\n",
        "    df_results = df_results.round(decimals)\n",
        "\n",
        "    # Display the output\n",
        "    print(df_results)\n"
      ]
    },
    {
      "cell_type": "code",
      "execution_count": null,
      "metadata": {
        "id": "XdHn5KykoxBH",
        "outputId": "1f42fa77-caa7-4400-85c8-146d0ad2578b"
      },
      "outputs": [
        {
          "name": "stdout",
          "output_type": "stream",
          "text": [
            "     name  AP(rel=2)  AP(rel=2) +  AP(rel=2) -  p-value\n",
            "0  TF-IDF      0.263          NaN          NaN      NaN\n",
            "1    BM25      0.263          1.0          2.0    0.349\n"
          ]
        }
      ],
      "source": [
        "evaluate_baseline(AP(rel=2))"
      ]
    },
    {
      "cell_type": "code",
      "execution_count": null,
      "metadata": {
        "id": "RwFkm2RBoxBH",
        "outputId": "c4399a5a-7c9c-4186-f81a-61fc121bd4b9"
      },
      "outputs": [
        {
          "name": "stdout",
          "output_type": "stream",
          "text": [
            "     name  nDCG  nDCG +  nDCG -  p-value\n",
            "0  TF-IDF  0.55     NaN     NaN      NaN\n",
            "1    BM25  0.55     2.0     1.0    0.655\n"
          ]
        }
      ],
      "source": [
        "evaluate_baseline(nDCG)"
      ]
    },
    {
      "cell_type": "code",
      "execution_count": null,
      "metadata": {
        "id": "JwwcDE-8oxBI",
        "outputId": "41343b43-37cb-45db-8cc2-da722416e3ef"
      },
      "outputs": [
        {
          "name": "stdout",
          "output_type": "stream",
          "text": [
            "     name  nDCG@10  nDCG@10 +  nDCG@10 -  p-value\n",
            "0  TF-IDF    0.437        NaN        NaN      NaN\n",
            "1    BM25    0.437        0.0        0.0      NaN\n"
          ]
        }
      ],
      "source": [
        "evaluate_baseline(nDCG@10)"
      ]
    },
    {
      "cell_type": "code",
      "execution_count": null,
      "metadata": {
        "id": "LWdQqwMMoxBI",
        "outputId": "081138ab-968f-4f83-80a0-26892d71ad36"
      },
      "outputs": [
        {
          "name": "stdout",
          "output_type": "stream",
          "text": [
            "     name  R(rel=2)@1000  R(rel=2)@1000 +  R(rel=2)@1000 -  p-value\n",
            "0  TF-IDF          0.711              NaN              NaN      NaN\n",
            "1    BM25          0.710              0.0              1.0    0.323\n"
          ]
        }
      ],
      "source": [
        "evaluate_baseline(Recall(rel=2)@1000)"
      ]
    },
    {
      "cell_type": "markdown",
      "source": [
        "Results obtained show no significant difference, but there can be differences in terms of values distribution so is kind-of mandatory to investigate errors using a significance test with *p-value*.\n",
        "\n",
        "By the way, neither p-values show differences between scoring functions for our search engine."
      ],
      "metadata": {
        "id": "jgskR_aC22Ro"
      }
    },
    {
      "cell_type": "markdown",
      "metadata": {
        "id": "mbya5ihpoxBI"
      },
      "source": [
        "# PyTerrier evaluating baselines (significance testing, paired $t$-test)"
      ]
    },
    {
      "cell_type": "code",
      "execution_count": null,
      "metadata": {
        "id": "bxrIxEAhoxBI",
        "outputId": "5c09d6f5-3762-49f7-fec6-3873add306d9"
      },
      "outputs": [
        {
          "data": {
            "text/html": [
              "<div>\n",
              "<style scoped>\n",
              "    .dataframe tbody tr th:only-of-type {\n",
              "        vertical-align: middle;\n",
              "    }\n",
              "\n",
              "    .dataframe tbody tr th {\n",
              "        vertical-align: top;\n",
              "    }\n",
              "\n",
              "    .dataframe thead th {\n",
              "        text-align: right;\n",
              "    }\n",
              "</style>\n",
              "<table border=\"1\" class=\"dataframe\">\n",
              "  <thead>\n",
              "    <tr style=\"text-align: right;\">\n",
              "      <th></th>\n",
              "      <th>name</th>\n",
              "      <th>nDCG</th>\n",
              "      <th>nDCG@10</th>\n",
              "      <th>AP(rel=2)</th>\n",
              "      <th>R(rel=2)@1000</th>\n",
              "      <th>nDCG +</th>\n",
              "      <th>nDCG -</th>\n",
              "      <th>nDCG p-value</th>\n",
              "      <th>nDCG@10 +</th>\n",
              "      <th>nDCG@10 -</th>\n",
              "      <th>nDCG@10 p-value</th>\n",
              "      <th>AP(rel=2) +</th>\n",
              "      <th>AP(rel=2) -</th>\n",
              "      <th>AP(rel=2) p-value</th>\n",
              "      <th>R(rel=2)@1000 +</th>\n",
              "      <th>R(rel=2)@1000 -</th>\n",
              "      <th>R(rel=2)@1000 p-value</th>\n",
              "    </tr>\n",
              "  </thead>\n",
              "  <tbody>\n",
              "    <tr>\n",
              "      <th>0</th>\n",
              "      <td>TF-IDF</td>\n",
              "      <td>0.593</td>\n",
              "      <td>0.478</td>\n",
              "      <td>0.286</td>\n",
              "      <td>0.755</td>\n",
              "      <td>NaN</td>\n",
              "      <td>NaN</td>\n",
              "      <td>NaN</td>\n",
              "      <td>NaN</td>\n",
              "      <td>NaN</td>\n",
              "      <td>NaN</td>\n",
              "      <td>NaN</td>\n",
              "      <td>NaN</td>\n",
              "      <td>NaN</td>\n",
              "      <td>NaN</td>\n",
              "      <td>NaN</td>\n",
              "      <td>NaN</td>\n",
              "    </tr>\n",
              "    <tr>\n",
              "      <th>1</th>\n",
              "      <td>BM25</td>\n",
              "      <td>0.593</td>\n",
              "      <td>0.480</td>\n",
              "      <td>0.286</td>\n",
              "      <td>0.755</td>\n",
              "      <td>19.0</td>\n",
              "      <td>18.0</td>\n",
              "      <td>0.460364</td>\n",
              "      <td>2.0</td>\n",
              "      <td>2.0</td>\n",
              "      <td>0.419534</td>\n",
              "      <td>17.0</td>\n",
              "      <td>16.0</td>\n",
              "      <td>0.65963</td>\n",
              "      <td>2.0</td>\n",
              "      <td>0.0</td>\n",
              "      <td>0.169991</td>\n",
              "    </tr>\n",
              "  </tbody>\n",
              "</table>\n",
              "</div>"
            ],
            "text/plain": [
              "     name   nDCG  nDCG@10  AP(rel=2)  R(rel=2)@1000  nDCG +  nDCG -  \\\n",
              "0  TF-IDF  0.593    0.478      0.286          0.755     NaN     NaN   \n",
              "1    BM25  0.593    0.480      0.286          0.755    19.0    18.0   \n",
              "\n",
              "   nDCG p-value  nDCG@10 +  nDCG@10 -  nDCG@10 p-value  AP(rel=2) +  \\\n",
              "0           NaN        NaN        NaN              NaN          NaN   \n",
              "1      0.460364        2.0        2.0         0.419534         17.0   \n",
              "\n",
              "   AP(rel=2) -  AP(rel=2) p-value  R(rel=2)@1000 +  R(rel=2)@1000 -  \\\n",
              "0          NaN                NaN              NaN              NaN   \n",
              "1         16.0            0.65963              2.0              0.0   \n",
              "\n",
              "   R(rel=2)@1000 p-value  \n",
              "0                    NaN  \n",
              "1               0.169991  "
            ]
          },
          "execution_count": 48,
          "metadata": {},
          "output_type": "execute_result"
        }
      ],
      "source": [
        "# comparation among TF-IDF and BM25 using PyTerrier (maybe not useful for our project)\n",
        "\n",
        "pt.Experiment(\n",
        "    [TF_IDF, BM25],\n",
        "    queries_pt,\n",
        "    qrels_pt,\n",
        "    eval_metrics=[metric for metric in metrics],\n",
        "    names=scoring_functions,\n",
        "    round=3,\n",
        "    baseline=0,\n",
        "    save_dir='./',\n",
        "    save_mode=\"overwrite\"\n",
        ")"
      ]
    },
    {
      "cell_type": "markdown",
      "source": [
        "`perquery` option allow the user to see results for each query looking for further specific information"
      ],
      "metadata": {
        "id": "ci9OO7BL3uwu"
      }
    },
    {
      "cell_type": "code",
      "execution_count": null,
      "metadata": {
        "id": "4wi9KpY_oxBI",
        "outputId": "27e27ff3-719b-4a79-b37e-caa32ee9edc0"
      },
      "outputs": [
        {
          "name": "stderr",
          "output_type": "stream",
          "text": [
            "c:\\Users\\giuli\\miniconda3\\envs\\mircv\\lib\\site-packages\\pyterrier\\pipelines.py:133: UserWarning: 157 topic(s) not found in qrels. Scores for these topics are given as NaN and should not contribute to averages.\n",
            "  warn(f'{backfill_count} topic(s) not found in qrels. Scores for these topics are given as NaN and should not contribute to averages.')\n",
            "c:\\Users\\giuli\\miniconda3\\envs\\mircv\\lib\\site-packages\\pyterrier\\pipelines.py:133: UserWarning: 157 topic(s) not found in qrels. Scores for these topics are given as NaN and should not contribute to averages.\n",
            "  warn(f'{backfill_count} topic(s) not found in qrels. Scores for these topics are given as NaN and should not contribute to averages.')\n"
          ]
        }
      ],
      "source": [
        "perquery_results = pt.Experiment(\n",
        "    [TF_IDF, BM25],\n",
        "    queries_pt,\n",
        "    qrels_pt,\n",
        "    eval_metrics=[metric for metric in metrics],\n",
        "    names=scoring_functions,\n",
        "    round=3,\n",
        "    perquery=True\n",
        ")"
      ]
    },
    {
      "cell_type": "code",
      "execution_count": null,
      "metadata": {
        "id": "tKlOPSDQoxBI",
        "outputId": "bbca946d-feec-4345-9fa0-13202d5a1c2f"
      },
      "outputs": [
        {
          "name": "stdout",
          "output_type": "stream",
          "text": [
            "       name      qid        measure  value\n",
            "836    BM25  1037798           nDCG  0.433\n",
            "837    BM25  1037798        nDCG@10  0.153\n",
            "838    BM25  1037798      AP(rel=2)  0.091\n",
            "839    BM25  1037798  R(rel=2)@1000  1.000\n",
            "884    BM25   104861           nDCG  0.731\n",
            "..      ...      ...            ...    ...\n",
            "43   TF-IDF   915593  R(rel=2)@1000  1.000\n",
            "52   TF-IDF   962179           nDCG  0.401\n",
            "53   TF-IDF   962179        nDCG@10  0.000\n",
            "54   TF-IDF   962179      AP(rel=2)  0.050\n",
            "55   TF-IDF   962179  R(rel=2)@1000  1.000\n",
            "\n",
            "[344 rows x 4 columns]\n"
          ]
        }
      ],
      "source": [
        "# print results that have value field not NaN\n",
        "print(perquery_results[perquery_results['value'].notna()])"
      ]
    },
    {
      "cell_type": "markdown",
      "source": [
        "As expected, no differences between *p-values* for PyTerrier system were discovered"
      ],
      "metadata": {
        "id": "v6O_NBzP32sd"
      }
    },
    {
      "cell_type": "markdown",
      "metadata": {
        "id": "yUMqW0_moxBI"
      },
      "source": [
        "# Significance testing, paired $t$-test among our system and PyTerrier"
      ]
    },
    {
      "cell_type": "markdown",
      "source": [
        "This sections shows final experiments for our IR system and PyTerrier results for all metrics, using both scoring functions and considering also *p-values*."
      ],
      "metadata": {
        "id": "S7vzruWi4HlR"
      }
    },
    {
      "cell_type": "code",
      "execution_count": null,
      "metadata": {
        "id": "kMZ4cDMjoxBJ"
      },
      "outputs": [],
      "source": [
        "import pandas as pd\n",
        "from scipy.stats import ttest_rel\n",
        "import numpy as np\n",
        "import ir_measures\n",
        "from ir_measures import AP, nDCG, Recall\n",
        "\n",
        "def compare_systems_detailed(perquery_results, my_system_run, qrels, metrics, scoring_function):\n",
        "    \"\"\"\n",
        "    Compare a scoring function (BM25 or TF-IDF) between your system and PyTerrier using paired t-tests.\n",
        "\n",
        "    Args:\n",
        "        perquery_results (pd.DataFrame): PyTerrier per-query results DataFrame.\n",
        "        my_system_run: Path to your system's run file.\n",
        "        qrels: Ground truth relevance judgments.\n",
        "        metrics (list): List of metrics to evaluate (e.g., [AP(rel=2), nDCG()]).\n",
        "        scoring_function (str): Name of the scoring function (\"BM25\" or \"TF-IDF\").\n",
        "\n",
        "    Returns:\n",
        "        pd.DataFrame: DataFrame with detailed comparison results for all metrics.\n",
        "    \"\"\"\n",
        "    # Filter PyTerrier per-query results for the scoring function\n",
        "    pyterrier_results = perquery_results[perquery_results['name'] == scoring_function]\n",
        "\n",
        "    # Prepare my system's per-query scores\n",
        "    system_scores = {str(metric): {} for metric in metrics}\n",
        "    for metric in metrics:\n",
        "        for res in ir_measures.iter_calc([metric], qrels, my_system_run):\n",
        "            system_scores[str(metric)][res.query_id] = res.value\n",
        "\n",
        "    # Prepare data for detailed output\n",
        "    results = {'name': [f\"PyTerrier {scoring_function}\", f\"OurSystem {scoring_function}\"]}\n",
        "\n",
        "    for metric in metrics:\n",
        "        metric_name = str(metric)\n",
        "\n",
        "        # Extract PyTerrier per-query scores for this metric\n",
        "        pyterrier_metric_scores = pyterrier_results[pyterrier_results['measure'] == metric_name]\n",
        "\n",
        "        # Ensure only queries present in both systems are compared\n",
        "        common_queries = set(pyterrier_metric_scores['qid']).intersection(\n",
        "            system_scores[metric_name].keys()\n",
        "        )\n",
        "\n",
        "        # Extract scores for the common queries\n",
        "        pyterrier_list = [\n",
        "            pyterrier_metric_scores[pyterrier_metric_scores['qid'] == q]['value'].values[0]\n",
        "            for q in common_queries\n",
        "        ]\n",
        "        system_list = [system_scores[metric_name][q] for q in common_queries]\n",
        "\n",
        "        # Calculate paired t-test\n",
        "        t_stat, p_val = ttest_rel(system_list, pyterrier_list)\n",
        "\n",
        "        # Compute mean scores\n",
        "        mean_pyterrier = np.mean(pyterrier_list)\n",
        "        mean_mysystem = np.mean(system_list)\n",
        "\n",
        "        # Additional metrics\n",
        "        plus = sum(1 for m, p in zip(system_list, pyterrier_list) if m > p)\n",
        "        minus = sum(1 for m, p in zip(system_list, pyterrier_list) if m < p)\n",
        "\n",
        "        # Add results for this metric\n",
        "        results[metric_name] = [mean_pyterrier, mean_mysystem]\n",
        "        results[f\"{metric_name} +\"] = [np.nan, plus]\n",
        "        results[f\"{metric_name} -\"] = [np.nan, minus]\n",
        "        results[f\"{metric_name} p-value\"] = [np.nan, p_val]\n",
        "\n",
        "    # Create DataFrame\n",
        "    df_results = pd.DataFrame(results)\n",
        "    df_results = df_results.round(decimals)\n",
        "\n",
        "    return df_results\n"
      ]
    },
    {
      "cell_type": "code",
      "execution_count": null,
      "metadata": {
        "id": "NMsXjXcVoxBJ",
        "outputId": "cd8fca9d-2704-477b-d7db-4ad5c4b63961"
      },
      "outputs": [
        {
          "name": "stdout",
          "output_type": "stream",
          "text": [
            "               name  AP(rel=2)  AP(rel=2) +  AP(rel=2) -  AP(rel=2) p-value  \\\n",
            "0  PyTerrier TF-IDF      0.286          NaN          NaN                NaN   \n",
            "1  OurSystem TF-IDF      0.263         16.0         26.0                0.1   \n",
            "\n",
            "    nDCG  nDCG +  nDCG -  nDCG p-value  nDCG@10  nDCG@10 +  nDCG@10 -  \\\n",
            "0  0.593     NaN     NaN           NaN    0.478        NaN        NaN   \n",
            "1  0.550    16.0    27.0         0.016    0.437       14.0       27.0   \n",
            "\n",
            "   nDCG@10 p-value  R(rel=2)@1000  R(rel=2)@1000 +  R(rel=2)@1000 -  \\\n",
            "0              NaN          0.755              NaN              NaN   \n",
            "1            0.144          0.711             13.0             15.0   \n",
            "\n",
            "   R(rel=2)@1000 p-value  \n",
            "0                    NaN  \n",
            "1                  0.077  \n"
          ]
        }
      ],
      "source": [
        "# Define metrics for evaluation\n",
        "metrics = [AP(rel=2), nDCG(), nDCG@10, Recall(rel=2)@1000]\n",
        "\n",
        "# Call the function to compare systems\n",
        "df_results = compare_systems_detailed(\n",
        "    perquery_results=perquery_results,\n",
        "    my_system_run=run_file_tfidf,\n",
        "    qrels=qrels,\n",
        "    metrics=metrics,\n",
        "    scoring_function=\"TF-IDF\"  # Change to \"TF-IDF\" if needed\n",
        ")\n",
        "\n",
        "# Display the detailed results\n",
        "print(df_results)"
      ]
    },
    {
      "cell_type": "code",
      "execution_count": null,
      "metadata": {
        "id": "er60ufs0oxBJ",
        "outputId": "88ed62d9-02a9-484d-c38f-53deeb792d7d"
      },
      "outputs": [
        {
          "name": "stdout",
          "output_type": "stream",
          "text": [
            "             name  AP(rel=2)  AP(rel=2) +  AP(rel=2) -  AP(rel=2) p-value  \\\n",
            "0  PyTerrier BM25      0.286          NaN          NaN                NaN   \n",
            "1  OurSystem BM25      0.263         16.0         26.0              0.104   \n",
            "\n",
            "    nDCG  nDCG +  nDCG -  nDCG p-value  nDCG@10  nDCG@10 +  nDCG@10 -  \\\n",
            "0  0.593     NaN     NaN           NaN    0.480        NaN        NaN   \n",
            "1  0.550    14.0    29.0         0.016    0.437       14.0       27.0   \n",
            "\n",
            "   nDCG@10 p-value  R(rel=2)@1000  R(rel=2)@1000 +  R(rel=2)@1000 -  \\\n",
            "0              NaN          0.755              NaN              NaN   \n",
            "1            0.133          0.710             13.0             15.0   \n",
            "\n",
            "   R(rel=2)@1000 p-value  \n",
            "0                    NaN  \n",
            "1                  0.071  \n"
          ]
        }
      ],
      "source": [
        "# Define metrics for evaluation\n",
        "metrics = [AP(rel=2), nDCG(), nDCG@10, Recall(rel=2)@1000]\n",
        "\n",
        "# Call the function to compare systems\n",
        "df_results = compare_systems_detailed(\n",
        "    perquery_results=perquery_results,\n",
        "    my_system_run=run_file_bm25,\n",
        "    qrels=qrels,\n",
        "    metrics=metrics,\n",
        "    scoring_function=\"BM25\"  # Change to \"TF-IDF\" if needed\n",
        ")\n",
        "\n",
        "# Display the detailed results\n",
        "print(df_results)"
      ]
    },
    {
      "cell_type": "markdown",
      "source": [
        "All tests just made show no differences between  our system and PyTerrier one taken as benchmark, so we can consider our work suitable for common usage available in following section.\n",
        "\n",
        "However results are not absolutely good but relatively good considering the baseline: if an IR system is needed Python is not the best choice for implementation due to some important limitation (expecially according to compression as discussed before) which decrease performance results compared with the ones obtained with a C++ or Java-based search engine, but considering Python mandatory as language programme we can show up quite satisfying results in both terms of effectiveness and efficency"
      ],
      "metadata": {
        "id": "-tZ2yGs25KaL"
      }
    },
    {
      "cell_type": "markdown",
      "metadata": {
        "id": "AgqRU1xIoxBJ"
      },
      "source": [
        "# Trying it out"
      ]
    },
    {
      "cell_type": "code",
      "execution_count": null,
      "metadata": {
        "id": "1Wz_zEJQoxBJ"
      },
      "outputs": [],
      "source": [
        "import ipywidgets as widgets\n",
        "from IPython.display import display, clear_output\n",
        "import time\n",
        "from cachetools import LFUCache\n",
        "\n",
        "\n",
        "# UI elements\n",
        "search_bar = widgets.Text(\n",
        "    placeholder='Type in a query...',\n",
        "    description='Search:',\n",
        "    layout=widgets.Layout(width='80%')\n",
        ")\n",
        "search_button = widgets.Button(\n",
        "    description='Search',\n",
        "    button_style='success',\n",
        "    tooltip='Execute the query',\n",
        "    icon='search'\n",
        ")\n",
        "\n",
        "score_function_rbtn = widgets.RadioButtons(options=['TF-IDF', 'BM25'], description='Scoring function:', disabled=False)\n",
        "algo_rbtn = widgets.RadioButtons(options=['TAAT', 'DAAT'], description='Algorithm:', disabled=False)\n",
        "_style = widgets.HTML(\n",
        "    \"<style>.widget-radio-box {flex-direction: row !important;}.widget-radio-box\"\n",
        "    \" label{margin:2px !important;width: 100px !important;}</style>\",\n",
        "    layout=widgets.Layout(display=\"none\"),\n",
        ")\n",
        "\n",
        "output_area = widgets.Output()\n",
        "\n",
        "query_cache = LFUCache(maxsize=120)\n",
        "\n",
        "def on_search_click(b):\n",
        "    with output_area:\n",
        "        clear_output()  # clean previous output\n",
        "        query = search_bar.value\n",
        "        if not query.strip():\n",
        "            print(\"Please, type in a query.\")\n",
        "            return\n",
        "\n",
        "        selected_scoring_function = score_function_rbtn.value\n",
        "        print(f\"Selected scoring function: {selected_scoring_function}\")\n",
        "        if selected_scoring_function == 'TF-IDF':\n",
        "            method = 'tfidf'\n",
        "        else:\n",
        "            method = 'bm25'\n",
        "\n",
        "        selected_algorithm = algo_rbtn.value\n",
        "        print(f\"Selected Algorithm: {selected_algorithm}\")\n",
        "\n",
        "        start_time = time.time()\n",
        "        # --- WITH CACHE ---\n",
        "        processed_query = preprocess(query)\n",
        "        print(\"processed_query: \", processed_query)\n",
        "        cache_key = tuple(processed_query)  # Usa la versione preprocessata della query come chiave della cache\n",
        "        # --- QUERY EXECUTION ---\n",
        "        processed_query = preprocess(query)\n",
        "        termids = inv_index.get_termids(processed_query)\n",
        "        postings = inv_index.get_postings(termids)\n",
        "\n",
        "        if selected_algorithm == 'TAAT':\n",
        "            results = taat(postings, method=method)\n",
        "        else:\n",
        "            results = daat(postings, method=method)\n",
        "        # ------------------------\n",
        "        elapsed_time = (time.time() - start_time) * 1000 # convert in ms\n",
        "\n",
        "        # finally show the results\n",
        "        print(f\"Top {len(results)} documents:\\n\")\n",
        "        for res in results:\n",
        "            res = (round(res[0], 4), res[1]) # TODO : si potrebbe spostare direttamente nella score function\n",
        "            print(f\" - {res}\")\n",
        "        print(f\"\\nExecution time: {elapsed_time:.2f} ms\")\n",
        "\n",
        "search_button.on_click(on_search_click)\n",
        "\n",
        "top_row = widgets.HBox([score_function_rbtn,_style])\n",
        "middle_row = widgets.HBox([algo_rbtn,_style])\n",
        "bottom_row = widgets.HBox([search_bar, search_button])\n",
        "\n",
        "# finally display the UI\n",
        "display(widgets.VBox([top_row,middle_row, bottom_row]))\n",
        "display(output_area)"
      ]
    },
    {
      "cell_type": "code",
      "execution_count": null,
      "metadata": {
        "id": "kEXDmW_UoxBJ",
        "outputId": "543a2ab6-1e5d-43bf-f5a3-766288658409"
      },
      "outputs": [
        {
          "name": "stdout",
          "output_type": "stream",
          "text": [
            "         9412559 function calls in 2.047 seconds\n",
            "\n",
            "   Ordered by: cumulative time\n",
            "   List reduced from 74 to 20 due to restriction <20>\n",
            "\n",
            "   ncalls  tottime  percall  cumtime  percall filename:lineno(function)\n",
            "        2    0.000    0.000    2.046    1.023 c:\\Users\\giuli\\miniconda3\\envs\\mircv\\lib\\site-packages\\IPython\\core\\interactiveshell.py:3541(run_code)\n",
            "        2    0.000    0.000    2.046    1.023 {built-in method builtins.exec}\n",
            "        1    0.009    0.009    2.046    2.046 C:\\Users\\giuli\\AppData\\Local\\Temp\\ipykernel_10580\\1336686007.py:3(func)\n",
            "        1    0.758    0.758    1.739    1.739 C:\\Users\\giuli\\AppData\\Local\\Temp\\ipykernel_10580\\993784742.py:3(taat)\n",
            "  1018080    0.233    0.000    0.414    0.000 C:\\Users\\giuli\\AppData\\Local\\Temp\\ipykernel_10580\\1193239800.py:92(next)\n",
            "  1018088    0.191    0.000    0.363    0.000 C:\\Users\\giuli\\AppData\\Local\\Temp\\ipykernel_10580\\1193239800.py:18(docid)\n",
            "  2036172    0.264    0.000    0.353    0.000 C:\\Users\\giuli\\AppData\\Local\\Temp\\ipykernel_10580\\1193239800.py:100(is_end_list)\n",
            "        1    0.000    0.000    0.299    0.299 C:\\Users\\giuli\\AppData\\Local\\Temp\\ipykernel_10580\\1193239800.py:144(get_postings)\n",
            "        1    0.000    0.000    0.299    0.299 C:\\Users\\giuli\\AppData\\Local\\Temp\\ipykernel_10580\\1193239800.py:145(<listcomp>)\n",
            "        4    0.002    0.000    0.299    0.075 C:\\Users\\giuli\\AppData\\Local\\Temp\\ipykernel_10580\\1193239800.py:127(get_posting)\n",
            "        6    0.176    0.029    0.225    0.037 C:\\Users\\giuli\\AppData\\Local\\Temp\\ipykernel_10580\\2402485507.py:55(decode_concatenated_vbyte)\n",
            "        3    0.048    0.016    0.197    0.066 C:\\Users\\giuli\\AppData\\Local\\Temp\\ipykernel_10580\\2402485507.py:76(decode_vbyte_with_delta)\n",
            "  1018080    0.137    0.000    0.137    0.000 C:\\Users\\giuli\\AppData\\Local\\Temp\\ipykernel_10580\\1193239800.py:23(score)\n",
            "  2036301    0.089    0.000    0.089    0.000 {built-in method builtins.len}\n",
            "  1302639    0.073    0.000    0.073    0.000 {method 'append' of 'list' objects}\n",
            "   982792    0.068    0.000    0.068    0.000 C:\\Users\\giuli\\AppData\\Local\\Temp\\ipykernel_10580\\3162871289.py:23(insert)\n",
            "        3    0.000    0.000    0.000    0.000 c:\\Users\\giuli\\miniconda3\\envs\\mircv\\lib\\site-packages\\cachetools\\__init__.py:184(__setitem__)\n",
            "        3    0.000    0.000    0.000    0.000 c:\\Users\\giuli\\miniconda3\\envs\\mircv\\lib\\site-packages\\cachetools\\__init__.py:71(__setitem__)\n",
            "        3    0.000    0.000    0.000    0.000 c:\\Users\\giuli\\miniconda3\\envs\\mircv\\lib\\site-packages\\cachetools\\__init__.py:192(popitem)\n",
            "        1    0.000    0.000    0.000    0.000 C:\\Users\\giuli\\AppData\\Local\\Temp\\ipykernel_10580\\4044608840.py:13(preprocess)\n",
            "\n",
            "\n",
            "\n"
          ]
        }
      ],
      "source": [
        "# CAPE TEST FUNCTION FOR SINGULAR QUERY TIMES\n",
        "\n",
        "def func(query, selected_algorithm, selected_scoring_function):\n",
        "    processed_query = preprocess(query)\n",
        "    termids = inv_index.get_termids(processed_query)\n",
        "    postings = inv_index.get_postings(termids)\n",
        "    if selected_algorithm == 'TAAT':\n",
        "        results = taat(postings, method=selected_scoring_function)\n",
        "    else:\n",
        "        results = daat(postings, method=selected_scoring_function)\n",
        "\n",
        "    return results\n",
        "\n",
        "\n",
        "# facciamone la cProfile\n",
        "import cProfile\n",
        "import pstats\n",
        "import io\n",
        "\n",
        "query = \"who formed the commonwealth of independent states\" if chosen_collection == \"msmarco\" else \"CHARACTERISTICS OF THE SINGLE ELECTRODE DISCHARGE IN THE RARE GASES AT LOW PRESSURES\"\n",
        "\n",
        "pr = cProfile.Profile()\n",
        "pr.enable()\n",
        "func(query, 'TAAT', 'tfidf')\n",
        "pr.disable()\n",
        "s = io.StringIO()\n",
        "sortby = 'cumulative'\n",
        "ps = pstats.Stats(pr, stream=s).sort_stats(sortby)\n",
        "ps.print_stats(20)\n",
        "print(s.getvalue())"
      ]
    }
  ],
  "metadata": {
    "kernelspec": {
      "display_name": "mircv",
      "language": "python",
      "name": "python3"
    },
    "language_info": {
      "codemirror_mode": {
        "name": "ipython",
        "version": 3
      },
      "file_extension": ".py",
      "mimetype": "text/x-python",
      "name": "python",
      "nbconvert_exporter": "python",
      "pygments_lexer": "ipython3",
      "version": "3.10.15"
    },
    "colab": {
      "provenance": []
    },
    "widgets": {
      "application/vnd.jupyter.widget-state+json": {
        "1c684ae8fd674f33a63e9b1c99360416": {
          "model_module": "@jupyter-widgets/controls",
          "model_name": "HBoxModel",
          "model_module_version": "1.5.0",
          "state": {
            "_dom_classes": [],
            "_model_module": "@jupyter-widgets/controls",
            "_model_module_version": "1.5.0",
            "_model_name": "HBoxModel",
            "_view_count": null,
            "_view_module": "@jupyter-widgets/controls",
            "_view_module_version": "1.5.0",
            "_view_name": "HBoxView",
            "box_style": "",
            "children": [
              "IPY_MODEL_5c6efb8c1cd04f11a876d6a40b3ab96b",
              "IPY_MODEL_59db9c58387e418d953abb722feb3fa1",
              "IPY_MODEL_b5de8c140a9749eebdab6d5a4541eb29"
            ],
            "layout": "IPY_MODEL_2c5112fb97e14832850a2eeb9fc44363"
          }
        },
        "5c6efb8c1cd04f11a876d6a40b3ab96b": {
          "model_module": "@jupyter-widgets/controls",
          "model_name": "HTMLModel",
          "model_module_version": "1.5.0",
          "state": {
            "_dom_classes": [],
            "_model_module": "@jupyter-widgets/controls",
            "_model_module_version": "1.5.0",
            "_model_name": "HTMLModel",
            "_view_count": null,
            "_view_module": "@jupyter-widgets/controls",
            "_view_module_version": "1.5.0",
            "_view_name": "HTMLView",
            "description": "",
            "description_tooltip": null,
            "layout": "IPY_MODEL_8f98bd7f14144a2da90e5a7745e41c69",
            "placeholder": "​",
            "style": "IPY_MODEL_2042446a489e4de0ad8a339a50593d76",
            "value": "Processing documents:  23%"
          }
        },
        "59db9c58387e418d953abb722feb3fa1": {
          "model_module": "@jupyter-widgets/controls",
          "model_name": "FloatProgressModel",
          "model_module_version": "1.5.0",
          "state": {
            "_dom_classes": [],
            "_model_module": "@jupyter-widgets/controls",
            "_model_module_version": "1.5.0",
            "_model_name": "FloatProgressModel",
            "_view_count": null,
            "_view_module": "@jupyter-widgets/controls",
            "_view_module_version": "1.5.0",
            "_view_name": "ProgressView",
            "bar_style": "",
            "description": "",
            "description_tooltip": null,
            "layout": "IPY_MODEL_5039b632088145f3afe25f53a0e4ad34",
            "max": 8841823,
            "min": 0,
            "orientation": "horizontal",
            "style": "IPY_MODEL_e1c6091b15804aaab9551540e37b56c5",
            "value": 2030000
          }
        },
        "b5de8c140a9749eebdab6d5a4541eb29": {
          "model_module": "@jupyter-widgets/controls",
          "model_name": "HTMLModel",
          "model_module_version": "1.5.0",
          "state": {
            "_dom_classes": [],
            "_model_module": "@jupyter-widgets/controls",
            "_model_module_version": "1.5.0",
            "_model_name": "HTMLModel",
            "_view_count": null,
            "_view_module": "@jupyter-widgets/controls",
            "_view_module_version": "1.5.0",
            "_view_name": "HTMLView",
            "description": "",
            "description_tooltip": null,
            "layout": "IPY_MODEL_d8069b0055f243e383cca27904334e51",
            "placeholder": "​",
            "style": "IPY_MODEL_34cacaa38e374440ab2b5c965337a685",
            "value": " 2030000/8841823 [06:37&lt;21:09, 5364.52doc/s]"
          }
        },
        "2c5112fb97e14832850a2eeb9fc44363": {
          "model_module": "@jupyter-widgets/base",
          "model_name": "LayoutModel",
          "model_module_version": "1.2.0",
          "state": {
            "_model_module": "@jupyter-widgets/base",
            "_model_module_version": "1.2.0",
            "_model_name": "LayoutModel",
            "_view_count": null,
            "_view_module": "@jupyter-widgets/base",
            "_view_module_version": "1.2.0",
            "_view_name": "LayoutView",
            "align_content": null,
            "align_items": null,
            "align_self": null,
            "border": null,
            "bottom": null,
            "display": null,
            "flex": null,
            "flex_flow": null,
            "grid_area": null,
            "grid_auto_columns": null,
            "grid_auto_flow": null,
            "grid_auto_rows": null,
            "grid_column": null,
            "grid_gap": null,
            "grid_row": null,
            "grid_template_areas": null,
            "grid_template_columns": null,
            "grid_template_rows": null,
            "height": null,
            "justify_content": null,
            "justify_items": null,
            "left": null,
            "margin": null,
            "max_height": null,
            "max_width": null,
            "min_height": null,
            "min_width": null,
            "object_fit": null,
            "object_position": null,
            "order": null,
            "overflow": null,
            "overflow_x": null,
            "overflow_y": null,
            "padding": null,
            "right": null,
            "top": null,
            "visibility": null,
            "width": null
          }
        },
        "8f98bd7f14144a2da90e5a7745e41c69": {
          "model_module": "@jupyter-widgets/base",
          "model_name": "LayoutModel",
          "model_module_version": "1.2.0",
          "state": {
            "_model_module": "@jupyter-widgets/base",
            "_model_module_version": "1.2.0",
            "_model_name": "LayoutModel",
            "_view_count": null,
            "_view_module": "@jupyter-widgets/base",
            "_view_module_version": "1.2.0",
            "_view_name": "LayoutView",
            "align_content": null,
            "align_items": null,
            "align_self": null,
            "border": null,
            "bottom": null,
            "display": null,
            "flex": null,
            "flex_flow": null,
            "grid_area": null,
            "grid_auto_columns": null,
            "grid_auto_flow": null,
            "grid_auto_rows": null,
            "grid_column": null,
            "grid_gap": null,
            "grid_row": null,
            "grid_template_areas": null,
            "grid_template_columns": null,
            "grid_template_rows": null,
            "height": null,
            "justify_content": null,
            "justify_items": null,
            "left": null,
            "margin": null,
            "max_height": null,
            "max_width": null,
            "min_height": null,
            "min_width": null,
            "object_fit": null,
            "object_position": null,
            "order": null,
            "overflow": null,
            "overflow_x": null,
            "overflow_y": null,
            "padding": null,
            "right": null,
            "top": null,
            "visibility": null,
            "width": null
          }
        },
        "2042446a489e4de0ad8a339a50593d76": {
          "model_module": "@jupyter-widgets/controls",
          "model_name": "DescriptionStyleModel",
          "model_module_version": "1.5.0",
          "state": {
            "_model_module": "@jupyter-widgets/controls",
            "_model_module_version": "1.5.0",
            "_model_name": "DescriptionStyleModel",
            "_view_count": null,
            "_view_module": "@jupyter-widgets/base",
            "_view_module_version": "1.2.0",
            "_view_name": "StyleView",
            "description_width": ""
          }
        },
        "5039b632088145f3afe25f53a0e4ad34": {
          "model_module": "@jupyter-widgets/base",
          "model_name": "LayoutModel",
          "model_module_version": "1.2.0",
          "state": {
            "_model_module": "@jupyter-widgets/base",
            "_model_module_version": "1.2.0",
            "_model_name": "LayoutModel",
            "_view_count": null,
            "_view_module": "@jupyter-widgets/base",
            "_view_module_version": "1.2.0",
            "_view_name": "LayoutView",
            "align_content": null,
            "align_items": null,
            "align_self": null,
            "border": null,
            "bottom": null,
            "display": null,
            "flex": null,
            "flex_flow": null,
            "grid_area": null,
            "grid_auto_columns": null,
            "grid_auto_flow": null,
            "grid_auto_rows": null,
            "grid_column": null,
            "grid_gap": null,
            "grid_row": null,
            "grid_template_areas": null,
            "grid_template_columns": null,
            "grid_template_rows": null,
            "height": null,
            "justify_content": null,
            "justify_items": null,
            "left": null,
            "margin": null,
            "max_height": null,
            "max_width": null,
            "min_height": null,
            "min_width": null,
            "object_fit": null,
            "object_position": null,
            "order": null,
            "overflow": null,
            "overflow_x": null,
            "overflow_y": null,
            "padding": null,
            "right": null,
            "top": null,
            "visibility": null,
            "width": null
          }
        },
        "e1c6091b15804aaab9551540e37b56c5": {
          "model_module": "@jupyter-widgets/controls",
          "model_name": "ProgressStyleModel",
          "model_module_version": "1.5.0",
          "state": {
            "_model_module": "@jupyter-widgets/controls",
            "_model_module_version": "1.5.0",
            "_model_name": "ProgressStyleModel",
            "_view_count": null,
            "_view_module": "@jupyter-widgets/base",
            "_view_module_version": "1.2.0",
            "_view_name": "StyleView",
            "bar_color": null,
            "description_width": ""
          }
        },
        "d8069b0055f243e383cca27904334e51": {
          "model_module": "@jupyter-widgets/base",
          "model_name": "LayoutModel",
          "model_module_version": "1.2.0",
          "state": {
            "_model_module": "@jupyter-widgets/base",
            "_model_module_version": "1.2.0",
            "_model_name": "LayoutModel",
            "_view_count": null,
            "_view_module": "@jupyter-widgets/base",
            "_view_module_version": "1.2.0",
            "_view_name": "LayoutView",
            "align_content": null,
            "align_items": null,
            "align_self": null,
            "border": null,
            "bottom": null,
            "display": null,
            "flex": null,
            "flex_flow": null,
            "grid_area": null,
            "grid_auto_columns": null,
            "grid_auto_flow": null,
            "grid_auto_rows": null,
            "grid_column": null,
            "grid_gap": null,
            "grid_row": null,
            "grid_template_areas": null,
            "grid_template_columns": null,
            "grid_template_rows": null,
            "height": null,
            "justify_content": null,
            "justify_items": null,
            "left": null,
            "margin": null,
            "max_height": null,
            "max_width": null,
            "min_height": null,
            "min_width": null,
            "object_fit": null,
            "object_position": null,
            "order": null,
            "overflow": null,
            "overflow_x": null,
            "overflow_y": null,
            "padding": null,
            "right": null,
            "top": null,
            "visibility": null,
            "width": null
          }
        },
        "34cacaa38e374440ab2b5c965337a685": {
          "model_module": "@jupyter-widgets/controls",
          "model_name": "DescriptionStyleModel",
          "model_module_version": "1.5.0",
          "state": {
            "_model_module": "@jupyter-widgets/controls",
            "_model_module_version": "1.5.0",
            "_model_name": "DescriptionStyleModel",
            "_view_count": null,
            "_view_module": "@jupyter-widgets/base",
            "_view_module_version": "1.2.0",
            "_view_name": "StyleView",
            "description_width": ""
          }
        }
      }
    }
  },
  "nbformat": 4,
  "nbformat_minor": 0
}