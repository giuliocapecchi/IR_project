{
 "cells": [
  {
   "cell_type": "markdown",
   "metadata": {},
   "source": [
    "<a href=\"https://colab.research.google.com/github/giuliocapecchi/IR_project/blob/main/IR_project.ipynb\" target=\"_parent\"><img src=\"https://colab.research.google.com/assets/colab-badge.svg\" alt=\"Open In Colab\"/></a>"
   ]
  },
  {
   "cell_type": "code",
   "execution_count": 1,
   "metadata": {
    "ExecuteTime": {
     "end_time": "2024-11-19T17:27:39.294725Z",
     "start_time": "2024-11-19T17:27:39.283186Z"
    }
   },
   "outputs": [],
   "source": [
    "#%pip install matplotlib nltk tqdm gdown ir_datasets humanize seaborn"
   ]
  },
  {
   "cell_type": "markdown",
   "metadata": {},
   "source": [
    "# 1. Download and prepare the collection"
   ]
  },
  {
   "cell_type": "code",
   "execution_count": 2,
   "metadata": {
    "ExecuteTime": {
     "end_time": "2024-11-19T17:27:39.388287Z",
     "start_time": "2024-11-19T17:27:39.359476Z"
    }
   },
   "outputs": [],
   "source": [
    "# chosen_collection can be one of [\"vaswani\", \"msmarco\"]\n",
    "\n",
    "chosen_collection = \"msmarco\""
   ]
  },
  {
   "cell_type": "code",
   "execution_count": 3,
   "metadata": {
    "ExecuteTime": {
     "end_time": "2024-11-19T17:27:39.561923Z",
     "start_time": "2024-11-19T17:27:39.454360Z"
    }
   },
   "outputs": [],
   "source": [
    "import gdown\n",
    "import ir_datasets\n",
    "import pandas as pd\n",
    "import os\n",
    "\n",
    "if chosen_collection not in [\"vaswani\", \"msmarco\"]:\n",
    "    raise ValueError(\"chosen_collection must be one of ['vaswani', 'msmarco']\")\n",
    "\n",
    "if chosen_collection == \"msmarco\":\n",
    "\n",
    "    os.makedirs('./collection/msmarco', exist_ok=True)\n",
    "\n",
    "    url_collection = 'https://drive.google.com/uc?id=1_wXJjiwdgc9Kpt7o7atP8oWe-U4Z56hn'\n",
    "    \n",
    "    if not os.path.exists('./collection/msmarco/msmarco.tsv'):\n",
    "        gdown.download(url_collection, './collection/msmarco/msmarco.tsv', quiet=False)\n",
    "    \n",
    "    \"\"\"os.makedirs('./pickles', exist_ok=True)\n",
    "    if not os.path.exists('./pickles/stats.pkl'):\n",
    "        gdown.download(url_stats, './pickles/stats.pkl', quiet=False)\n",
    "    if not os.path.exists('./pickles/lex.pkl'):\n",
    "        gdown.download(url_lex, './pickles/lex.pkl', quiet=False)\n",
    "    if not os.path.exists('./pickles/inv.pkl'):\n",
    "        gdown.download(url_inv, './pickles/inv.pkl', quiet=False)\n",
    "    if not os.path.exists('./pickles/doc.pkl'):\n",
    "        gdown.download(url_doc, './pickles/doc.pkl', quiet=False)\"\"\"\n",
    "\n",
    "elif chosen_collection == \"vaswani\":\n",
    "    os.makedirs('./collection/vaswani', exist_ok=True)\n",
    "\n",
    "    vaswani_dataset = ir_datasets.load(chosen_collection)\n",
    "    docs = list(vaswani_dataset.docs_iter())\n",
    "    df = pd.DataFrame(docs)\n",
    "    df['doc_id'] = (df['doc_id'].astype(int) - 1).astype(str)\n",
    "    # rimuovi i \\n da ogni documento\n",
    "    df['text'] = df['text'].str.replace('\\n', ' ')\n",
    "    if not os.path.exists('./collection/vaswani/vaswani.tsv'):\n",
    "        df.to_csv('./collection/vaswani/vaswani.tsv', sep='\\t', header=False, index=False)"
   ]
  },
  {
   "cell_type": "markdown",
   "metadata": {},
   "source": [
    "Standard preprocessing but with the usage of the *PyStemmer* library."
   ]
  },
  {
   "cell_type": "code",
   "execution_count": 4,
   "metadata": {
    "ExecuteTime": {
     "end_time": "2024-11-19T17:27:39.671041Z",
     "start_time": "2024-11-19T17:27:39.649947Z"
    }
   },
   "outputs": [],
   "source": [
    "import re\n",
    "import string\n",
    "import nltk\n",
    "import Stemmer # PyStemmer\n",
    "\n",
    "\n",
    "nltk.download(\"stopwords\", quiet=True)\n",
    "STOPWORDS = set(nltk.corpus.stopwords.words(\"english\"))\n",
    "STEMMER = Stemmer.Stemmer('english')\n",
    "# stemmer = nltk.stem.PorterStemmer().stem # much slower than PyStemmer\n",
    "\n",
    "\n",
    "def preprocess(s):\n",
    "    # lowercasing\n",
    "    s = s.lower()\n",
    "    # ampersand and special chars\n",
    "    s = re.sub(r\"[‘’´“”–-]\", \"'\", s.replace(\"&\", \" and \")) # this replaces & with 'and' and normalises quotes\n",
    "    # acronyms\n",
    "    s = re.sub(r\"\\.(?!(\\S[^. ])|\\d)\", \"\", s) # this removes dots that are not part of an acronym\n",
    "    # remove punctuation\n",
    "    s = s.translate(str.maketrans(string.punctuation, \" \" * len(string.punctuation)))\n",
    "    # strip whitespaces\n",
    "    s = re.sub(r\"\\s+\", \" \", s).strip()\n",
    "    # tokenisation\n",
    "    tokens = [t for t in s.split() if t not in STOPWORDS]\n",
    "    # stemming\n",
    "    return STEMMER.stemWords(tokens)"
   ]
  },
  {
   "cell_type": "code",
   "execution_count": 5,
   "metadata": {
    "ExecuteTime": {
     "end_time": "2024-11-19T17:27:39.717258Z",
     "start_time": "2024-11-19T17:27:39.705731Z"
    }
   },
   "outputs": [],
   "source": [
    "import time\n",
    "\n",
    "def profile(f):\n",
    "    def f_timer(*args, **kwargs):\n",
    "        start = time.time()\n",
    "        result = f(*args, **kwargs)\n",
    "        end = time.time()\n",
    "        ms = (end - start) * 1000\n",
    "        print(f\"{f.__name__} ({ms:.3f} ms)\")\n",
    "        return result\n",
    "    return f_timer"
   ]
  },
  {
   "cell_type": "code",
   "execution_count": 6,
   "metadata": {
    "ExecuteTime": {
     "end_time": "2024-11-19T17:27:39.810568Z",
     "start_time": "2024-11-19T17:27:39.782650Z"
    }
   },
   "outputs": [],
   "source": [
    "from array import array\n",
    "from tqdm import tqdm\n",
    "import pickle\n",
    "import humanize\n",
    "\n",
    "\n",
    "def print_pickled_size(var_name, var):\n",
    "    # If the 'tmp' directory does not exist, we first create it\n",
    "    os.makedirs('./tmp', exist_ok=True)\n",
    "    with open(f\"./tmp/{var_name}.pickle\", 'wb') as f:\n",
    "        pickle.dump(var, f)\n",
    "    print(f'{var_name} requires {humanize.naturalsize(os.path.getsize(f\"./tmp/{var_name}.pickle\"))}')\n",
    "    os.remove(f\"./tmp/{var_name}.pickle\")\n",
    "    os.removedirs('./tmp')\n",
    "\n",
    "def vbyte_encode(number):\n",
    "    \"\"\"\n",
    "    Codifica un numero intero in formato VByte.\n",
    "    \"\"\"\n",
    "    bytes_list = array('B')\n",
    "    while True:\n",
    "        byte = number & 0x7F\n",
    "        number >>= 7\n",
    "        if number:\n",
    "            bytes_list.append(byte)\n",
    "        else:\n",
    "            bytes_list.append(0x80 | byte)\n",
    "            break\n",
    "    return bytes(bytes_list)\n",
    "\n",
    "\n",
    "def delta_vbyte_encode(numbers):\n",
    "    \"\"\"\n",
    "    Codifica una lista di numeri con delta encoding e VByte.\n",
    "    \"\"\"\n",
    "    result = array('B')\n",
    "    prev_docid = 0\n",
    "    for docid in numbers:\n",
    "        delta = docid - prev_docid\n",
    "        result.extend(vbyte_encode(delta))\n",
    "        prev_docid = docid\n",
    "    return bytes(result)\n",
    "\n",
    "\n",
    "def batch_vbyte_encode(numbers):\n",
    "    \"\"\"\n",
    "    Codifica una lista di numeri con VByte in batch.\n",
    "    \"\"\"\n",
    "    result = array('B')\n",
    "    for number in numbers:\n",
    "        result.extend(vbyte_encode(number))\n",
    "    return bytes(result)\n",
    "\n",
    "\n",
    "def decode_concatenated_vbyte(encoded_bytes):\n",
    "    \"\"\"\n",
    "    Decodifica una sequenza di numeri codificati con VByte.\n",
    "    \"\"\"\n",
    "    decoded_numbers = []\n",
    "    current_number = 0\n",
    "    shift_amount = 0\n",
    "\n",
    "    for byte in encoded_bytes:\n",
    "        if byte & 0x80:  # Bit di continuazione trovato, fine del numero\n",
    "            current_number |= (byte & 0x7F) << shift_amount\n",
    "            decoded_numbers.append(current_number)\n",
    "            current_number = 0\n",
    "            shift_amount = 0\n",
    "        else:  # Continuo a comporre il numero\n",
    "            current_number |= (byte & 0x7F) << shift_amount\n",
    "            shift_amount += 7\n",
    "\n",
    "    return decoded_numbers\n",
    "\n",
    "\n",
    "def decode_vbyte_with_delta(encoded_bytes):\n",
    "    \"\"\"\n",
    "    Decodifica una lista concatenata di numeri codificati con vbyte\n",
    "    e ricostruisce i valori originali applicando la delta decoding.\n",
    "    \"\"\"\n",
    "    deltas = decode_concatenated_vbyte(encoded_bytes)  # Ottieni i delta\n",
    "    docids = []\n",
    "    prev_docid = 0\n",
    "\n",
    "    for delta in deltas:\n",
    "        docid = prev_docid + delta  # Ricostruisci il valore originale\n",
    "        docids.append(docid)\n",
    "        prev_docid = docid  # Aggiorna l'ultimo docid\n",
    "\n",
    "    return docids\n",
    "\n",
    "\n",
    "def compress_index(lexicon, inv_d, inv_f):\n",
    "    \"\"\"\n",
    "    Comprimi gli indici invertiti dei documenti e delle frequenze usando la codifica VByte con delta.\n",
    "    \"\"\"\n",
    "    compressed_inv_d = {}\n",
    "    compressed_inv_f = {}\n",
    "\n",
    "    for term, (termid, df, _) in tqdm(lexicon.items(), desc=\"Compressing lists\", unit=\"term\"):\n",
    "        docids = inv_d[termid]\n",
    "        freqs = inv_f[termid]\n",
    "\n",
    "        # Delta encoding per i docids\n",
    "        compressed_inv_d[termid] = delta_vbyte_encode(docids)\n",
    "        assert decode_vbyte_with_delta(compressed_inv_d[termid]) == docids\n",
    "\n",
    "        # Compressione standard per le frequenze\n",
    "        compressed_inv_f[termid] = batch_vbyte_encode(freqs)\n",
    "        assert decode_concatenated_vbyte(compressed_inv_f[termid]) == freqs\n",
    "\n",
    "    return compressed_inv_d, compressed_inv_f"
   ]
  },
  {
   "cell_type": "markdown",
   "metadata": {},
   "source": [
    "Qui mettiamo tipo un test per far vedere che le funzioni di compressione funzionano come devono"
   ]
  },
  {
   "cell_type": "code",
   "execution_count": 7,
   "metadata": {},
   "outputs": [],
   "source": [
    "# TODO : metti du print du test du robe"
   ]
  },
  {
   "cell_type": "markdown",
   "metadata": {},
   "source": [
    "## Functions to build the inverted index"
   ]
  },
  {
   "cell_type": "code",
   "execution_count": 8,
   "metadata": {
    "ExecuteTime": {
     "end_time": "2024-11-19T17:27:39.889433Z",
     "start_time": "2024-11-19T17:27:39.848182Z"
    }
   },
   "outputs": [],
   "source": [
    "import pandas as pd\n",
    "from collections import Counter\n",
    "from tqdm.auto import tqdm\n",
    "\n",
    "def build_index(filepath, batch_size=10000):\n",
    "    total_documents = sum(1 for _ in open(filepath)) # get total number of documents\n",
    "\n",
    "    lexicon = {}\n",
    "    inv_d = {}\n",
    "    inv_f = {}\n",
    "    doc_index = []\n",
    "    total_dl = 0\n",
    "    num_docs = 0\n",
    "    termid = 0\n",
    "\n",
    "    with open(filepath, 'r') as file:        \n",
    "        batch = []\n",
    "        \n",
    "        with tqdm(total=total_documents, desc=\"Processing documents\", unit=\"doc\") as pbar:\n",
    "            for line in file:\n",
    "                batch.append(line.strip())\n",
    "                \n",
    "                # when the batch is full, we process it\n",
    "                if len(batch) >= batch_size:\n",
    "                    for line in batch:\n",
    "                        doc_id, text = line.split('\\t', 1) # '1' specifies the number of splits\n",
    "                        doc_id = int(doc_id)\n",
    "                        tokens = preprocess(text)\n",
    "                        token_tf = Counter(tokens)\n",
    "\n",
    "                        for token, tf in token_tf.items():\n",
    "                            if token not in lexicon:\n",
    "                                lexicon[token] = [termid, 0, 0] # termid, df, tf\n",
    "                                inv_d[termid], inv_f[termid] = [], [] # docids, freqs\n",
    "                                termid += 1\n",
    "                            token_id = lexicon[token][0]  # get termid\n",
    "                            inv_d[token_id].append(doc_id)  # add doc_id to the list of documents containing the term\n",
    "                            inv_f[token_id].append(tf)  # add term frequency for this doc\n",
    "                            lexicon[token][1] += 1  # increment document frequency (df)\n",
    "                            lexicon[token][2] += tf  # increment total term frequency (tf)\n",
    "\n",
    "                        doclen = len(tokens)\n",
    "                        doc_index.append((str(doc_id), doclen))\n",
    "                        total_dl += doclen\n",
    "                        num_docs += 1                    \n",
    "                    # update progress bar for each processed document\n",
    "                    pbar.update(len(batch))\n",
    "                    batch = []\n",
    "\n",
    "            # process the remaining documents in the last batch\n",
    "            if batch:\n",
    "                for line in batch:\n",
    "                    doc_id, text = line.split('\\t', 1)\n",
    "                    doc_id = int(doc_id)\n",
    "                    tokens = preprocess(text)\n",
    "                    token_tf = Counter(tokens)\n",
    "\n",
    "                    for token, tf in token_tf.items():\n",
    "                        if token not in lexicon:\n",
    "                            lexicon[token] = [termid, 0, 0]\n",
    "                            inv_d[termid], inv_f[termid] = [], []\n",
    "                            termid += 1\n",
    "                        token_id = lexicon[token][0]  # get termid\n",
    "                        inv_d[token_id].append(doc_id)  # get doc_id to the list of documents containing the term\n",
    "                        inv_f[token_id].append(tf)  # get term frequency for this doc\n",
    "                        lexicon[token][1] += 1  # increment document frequency (df)\n",
    "                        lexicon[token][2] += tf  # increment total term frequency (tf)\n",
    "\n",
    "                    doclen = len(tokens)\n",
    "                    doc_index.append((str(doc_id), doclen))\n",
    "                    total_dl += doclen\n",
    "                    num_docs += 1                    \n",
    "                    pbar.update(1)\n",
    "                    \n",
    "     # Calculate average document length (avdl)\n",
    "    avdl = total_dl / num_docs if num_docs > 0 else 0\n",
    "                    \n",
    "    stats = {\n",
    "        'num_docs': num_docs,\n",
    "        'num_terms': len(lexicon),\n",
    "        'num_tokens': total_dl,\n",
    "        'avdl': avdl  # Add avdl to stats\n",
    "    }\n",
    "    return lexicon, {'docids': inv_d, 'freqs': inv_f}, doc_index, stats"
   ]
  },
  {
   "cell_type": "code",
   "execution_count": 9,
   "metadata": {
    "ExecuteTime": {
     "end_time": "2024-11-19T17:27:39.982267Z",
     "start_time": "2024-11-19T17:27:39.948216Z"
    }
   },
   "outputs": [],
   "source": [
    "import math\n",
    "import bisect\n",
    "from functools import lru_cache\n",
    "from cachetools import LFUCache\n",
    "\n",
    "\n",
    "class InvertedIndex:\n",
    "\n",
    "    class PostingListIterator:\n",
    "        def __init__(self, docids, freqs, doc, avdl):\n",
    "            self.docids = docids\n",
    "            self.freqs = freqs\n",
    "            self.pos = 0\n",
    "            self.doc = doc\n",
    "            self.total_docs_number = len(doc)\n",
    "            self.avdl = avdl\n",
    "\n",
    "        def docid(self):\n",
    "            if self.is_end_list():\n",
    "                return math.inf\n",
    "            return self.docids[self.pos]\n",
    "        \n",
    "        def score(self, method='tfidf'):\n",
    "            if method == 'tfidf':\n",
    "                return self.score_tfidf()\n",
    "            elif method == 'bm25':\n",
    "                return self.score_bm25()\n",
    "            else:\n",
    "                raise ValueError(\"Invalid scoring method\")\n",
    "        \n",
    "        ###################################################################################\n",
    "        @lru_cache(maxsize=512)        \n",
    "        def score_tfidf(self): # Robertson's TF, Sparck Jones' idf\n",
    "            \"\"\"\n",
    "            Calculate TF-IDF score of the current document in the posting list.\n",
    "            \"\"\"\n",
    "            if self.is_end_list():\n",
    "                return math.inf \n",
    "            \n",
    "            # TF-IDF parameters\n",
    "            b = 0.75\n",
    "            k_1 = 1.2\n",
    "            \n",
    "            tf = self.freqs[self.pos]\n",
    "                        \n",
    "            robertson_tf = k_1 * tf / (tf + k_1 * ((1 - b) + b * (self.doc[self.docid()][1] / self.avdl)))\n",
    "            \n",
    "            sparck_jones_idf = math.log(self.total_docs_number / self.len() + 1)\n",
    "            \n",
    "            # finally calculate tf-idf score\n",
    "            tfidf = robertson_tf * sparck_jones_idf\n",
    "\n",
    "            return tfidf\n",
    "\n",
    "        ###################################################################################\n",
    "        # new score_bm25 function\n",
    "        # TODO: check if correct -> OK rivista\n",
    "        @lru_cache(maxsize=512)\n",
    "        def score_bm25(self): # Modified to match the BM25 formula from the slides\n",
    "            if self.is_end_list():\n",
    "                return math.inf\n",
    "            else:\n",
    "                # Standard BM25 parameters\n",
    "                b = 0.75\n",
    "                k_1 = 1.5\n",
    "                \n",
    "                # Length of the current document\n",
    "                dl = self.doc[self.docid()][1]\n",
    "                \n",
    "                # Term frequency in the current document\n",
    "                tf = self.freqs[self.pos]\n",
    "                \n",
    "                # Total number of documents in the collection\n",
    "                N = self.total_docs_number\n",
    "                \n",
    "                # Number of documents containing the term\n",
    "                n = self.len()  # document frequency\n",
    "                \n",
    "                # Calculate document length normalization component (B_j)\n",
    "                B_j = (1 - b) + b * (dl / self.avdl)\n",
    "                \n",
    "                # Calculate the IDF component\n",
    "                idf = math.log(N / n)\n",
    "                \n",
    "                # Calculate the BM25 score\n",
    "                rsv_bm25 = ((tf) / (tf + k_1 * B_j)) * idf\n",
    "                \n",
    "                return rsv_bm25\n",
    "            \n",
    "            ###################################################################################\n",
    "\n",
    "        def next(self, target=None): # TODO : il parametro target può benissimo essere rimosso\n",
    "            if not target:\n",
    "                if not self.is_end_list():\n",
    "                    self.pos += 1\n",
    "            else:\n",
    "                if target > self.docid():\n",
    "                    self.pos = bisect.bisect_left(self.docids, target, self.pos)\n",
    "\n",
    "        def is_end_list(self):\n",
    "            return self.pos >= len(self.docids)\n",
    "\n",
    "\n",
    "        def len(self):\n",
    "            return len(self.docids)\n",
    "        \n",
    "\n",
    "    def __init__(self, lex, inv, doc, stats):\n",
    "        self.lexicon = lex\n",
    "        self.inv = inv\n",
    "        self.doc = doc\n",
    "        self.stats = stats\n",
    "        self.postings_cache = LFUCache(maxsize=120)\n",
    "\n",
    "    def num_docs(self):\n",
    "        return self.stats['num_docs']\n",
    "    \n",
    "    def avdl(self):\n",
    "        return self.stats['avdl']\n",
    "\n",
    "    \n",
    "    # def get_posting(self, termid):\n",
    "    #     # decompress the posting list and return an iterator\n",
    "    #     return InvertedIndex.PostingListIterator(decode_vbyte_with_delta(self.inv['docids'][termid]), decode_concatenated_vbyte(self.inv['freqs'][termid]), self.doc, self.stats['avdl'])\n",
    "    #     #return InvertedIndex.PostingListIterator(self.inv['docids'][termid], self.inv['freqs'][termid], self.doc, self.stats['avdl'])\n",
    "\n",
    "    def get_posting(self, termid): # TODO : controlla , nuova get_postings che usa la cache\n",
    "    # Cache miss: decomprimi e salva i dati grezzi nella cache\n",
    "        if termid not in self.postings_cache:\n",
    "            docids = decode_vbyte_with_delta(self.inv['docids'][termid])\n",
    "            freqs = decode_concatenated_vbyte(self.inv['freqs'][termid])\n",
    "            self.postings_cache[termid] = (docids, freqs)\n",
    "\n",
    "        # Recupera i dati dalla cache \n",
    "        docids, freqs = self.postings_cache[termid]\n",
    "\n",
    "        # Crea un nuovo iteratore per questa chiamata\n",
    "        return InvertedIndex.PostingListIterator(docids, freqs, self.doc, self.stats['avdl'])\n",
    "\n",
    "\n",
    "    def get_termids(self, tokens):\n",
    "        return [self.lexicon[token][0] for token in tokens if token in self.lexicon]\n",
    "\n",
    "    def get_postings(self, termids):\n",
    "        return [self.get_posting(termid) for termid in termids]"
   ]
  },
  {
   "cell_type": "code",
   "execution_count": 10,
   "metadata": {
    "ExecuteTime": {
     "end_time": "2024-11-19T17:27:40.060261Z",
     "start_time": "2024-11-19T17:27:40.033105Z"
    }
   },
   "outputs": [],
   "source": [
    "# TODO remove?\n",
    "# import cProfile\n",
    "# import pstats\n",
    "\n",
    "# cProfile.run(\"build_index('./vaswani.tsv')\", \"output.prof\")\n",
    "# p = pstats.Stats(\"output.prof\")\n",
    "# p.sort_stats(\"cumtime\").print_stats(10)\n",
    "# os.remove(\"output.prof\")"
   ]
  },
  {
   "cell_type": "markdown",
   "metadata": {},
   "source": [
    "## Building the index on the chosen collection \n",
    "\n",
    "Now build up the index for the chosen collection. It is built only if a pickled version of its components doesn't exist already :"
   ]
  },
  {
   "cell_type": "markdown",
   "metadata": {},
   "source": [
    "todo : scrivere anche i tempi, che la preprocess era la parte pesante, che abbiam studiato tutto con cProfile e abbiam visto che era colpa dello stemmer principalmente, ..."
   ]
  },
  {
   "cell_type": "code",
   "execution_count": 11,
   "metadata": {
    "ExecuteTime": {
     "end_time": "2024-11-19T17:27:41.514455Z",
     "start_time": "2024-11-19T17:27:40.142154Z"
    }
   },
   "outputs": [
    {
     "name": "stdout",
     "output_type": "stream",
     "text": [
      "Inverted index loaded from pickles\n",
      "Number of documents in the inverted index: 8841823\n"
     ]
    }
   ],
   "source": [
    "import os\n",
    "import pickle\n",
    "\n",
    "# If the 'pickles' directory does not exist, we first create it\n",
    "os.makedirs('./pickles', exist_ok=True)\n",
    "\n",
    "def save_pickles(lex, inv, doc, stats, inv_index):\n",
    "    # Save the lexicon, inverted lists, and document index to disk\n",
    "    with open('./pickles/lex.pkl', 'wb') as f:\n",
    "        pickle.dump(lex, f)\n",
    "    with open('./pickles/inv.pkl', 'wb') as f:\n",
    "        pickle.dump(inv, f)\n",
    "    with open('./pickles/doc.pkl', 'wb') as f:\n",
    "        pickle.dump(doc, f)\n",
    "    with open('./pickles/stats.pkl', 'wb') as f:\n",
    "        pickle.dump(stats, f)\n",
    "    # Save the inverted index\n",
    "    with open('./pickles/inv_index.pkl', 'wb') as f:\n",
    "        pickle.dump(inv_index, f)\n",
    "\n",
    "\n",
    "if chosen_collection == \"msmarco\":\n",
    "    try:\n",
    "        # Try to open the pickled files, else build the index\n",
    "        with open('./pickles/inv_index.pkl', 'rb') as f:\n",
    "            inv_index = pickle.load(f)\n",
    "            print(\"Inverted index loaded from pickles\")\n",
    "    except FileNotFoundError:\n",
    "        print(\"Inverted index not found, building it...\")\n",
    "        lex, inv, doc, stats = build_index('./collection/'+chosen_collection + '/'+chosen_collection+'.tsv')\n",
    "        # Compress the inverted lists (approximately 7/10 minutes)\n",
    "        print_pickled_size('Initial \\'inv\\' structure', inv)\n",
    "        inv['docids'], inv['freqs'] = compress_index(lex, inv['docids'], inv['freqs'])\n",
    "        print_pickled_size('Compressed \\'inv\\' structure', inv)\n",
    "        inv_index = InvertedIndex(lex, inv, doc, stats)\n",
    "        save_pickles(lex, inv, doc, stats, inv_index)\n",
    "elif chosen_collection == \"vaswani\": \n",
    "    # simply build the index each time, as it is very fast\n",
    "    lex, inv, doc, stats = build_index('./collection/'+chosen_collection + '/'+chosen_collection+'.tsv')\n",
    "    # Compress the inverted lists\n",
    "    print_pickled_size('Initial \\'inv[\\'docids\\'var=]\\' structure', inv['docids'])\n",
    "    print_pickled_size('Initial \\'inv[\\'freqs\\']\\' structure', inv['freqs'])\n",
    "    inv['docids'], inv['freqs'] = compress_index(lex, inv['docids'], inv['freqs'])\n",
    "    print_pickled_size('Compressed \\'inv[\\'docids\\'var=]\\' structure', inv['docids'])\n",
    "    print_pickled_size('Compressed \\'inv[\\'freqs\\']\\' structure', inv['freqs'])\n",
    "    inv_index = InvertedIndex(lex, inv, doc, stats)\n",
    "    print_pickled_size('Inverted Index', inv)\n",
    "    # don't save pickles for vaswani, as it is very fast to build the index each time\n",
    "\n",
    "print(f\"Number of documents in the inverted index: {inv_index.num_docs()}\")"
   ]
  },
  {
   "cell_type": "code",
   "execution_count": 12,
   "metadata": {
    "ExecuteTime": {
     "end_time": "2024-11-19T17:27:41.577071Z",
     "start_time": "2024-11-19T17:27:41.566029Z"
    }
   },
   "outputs": [
    {
     "name": "stdout",
     "output_type": "stream",
     "text": [
      "average document length: 34.687022122021666\n"
     ]
    }
   ],
   "source": [
    "print(f\"average document length: {inv_index.avdl()}\")"
   ]
  },
  {
   "cell_type": "code",
   "execution_count": null,
   "metadata": {
    "ExecuteTime": {
     "end_time": "2024-11-19T17:27:41.718244Z",
     "start_time": "2024-11-19T17:27:41.709662Z"
    }
   },
   "outputs": [],
   "source": [
    "print_pickled_size('inv_index', inv_index)"
   ]
  },
  {
   "cell_type": "markdown",
   "metadata": {},
   "source": [
    "# 2. Download and prepare queries"
   ]
  },
  {
   "cell_type": "code",
   "execution_count": 15,
   "metadata": {
    "ExecuteTime": {
     "end_time": "2024-11-19T17:27:41.796711Z",
     "start_time": "2024-11-19T17:27:41.768982Z"
    }
   },
   "outputs": [
    {
     "name": "stdout",
     "output_type": "stream",
     "text": [
      "Number of queries:  200\n",
      "Number of relevance judgments:  9260\n"
     ]
    }
   ],
   "source": [
    "import gzip\n",
    "\n",
    "if chosen_collection not in [\"vaswani\", \"msmarco\"]:\n",
    "    raise ValueError(\"chosen_collection must be one of ['vaswani', 'msmarco']\")\n",
    "\n",
    "if chosen_collection == \"msmarco\":\n",
    "    if not os.path.exists('./collection/msmarco/msmarco-queries.tsv'):\n",
    "        url = 'https://msmarco.z22.web.core.windows.net/msmarcoranking/msmarco-test2019-queries.tsv.gz'\n",
    "        gdown.download(url, './collection/msmarco/msmarco-test2019-queries.tsv.gz', quiet=False)\n",
    "        with gzip.open('./collection/msmarco/msmarco-test2019-queries.tsv.gz', 'rt') as f_in:\n",
    "            with open('./collection/msmarco/msmarco-queries.tsv', 'w') as f_out:\n",
    "                f_out.write(f_in.read())\n",
    "        os.remove('./collection/msmarco/msmarco-test2019-queries.tsv.gz') # delete the compressed file\n",
    "    queries = pd.read_csv('./collection/msmarco/msmarco-queries.tsv', sep='\\t', header=None)\n",
    "    queries.columns = ['qid', 'query']\n",
    "    print(\"Number of queries: \",len(queries))\n",
    "\n",
    "    if not os.path.exists('./collection/msmarco/msmarco-qrels.txt'):\n",
    "        url = 'https://trec.nist.gov/data/deep/2019qrels-pass.txt'\n",
    "        gdown.download(url, './collection/msmarco/msmarco-qrels.txt', quiet=False)\n",
    "    qrels = pd.read_csv('./collection/msmarco/msmarco-qrels.txt', sep=' ', header=None)\n",
    "    qrels.columns = ['qid', 'Q0', 'docid', 'rating']\n",
    "    print(\"Number of relevance judgments: \",len(qrels))\n",
    "\n",
    "\n",
    "elif chosen_collection == \"vaswani\":\n",
    "    queries = pd.DataFrame(vaswani_dataset.queries_iter())\n",
    "    queries.columns = ['qid', 'query']\n",
    "    print(\"Number of queries: \",len(list(vaswani_dataset.queries_iter()))) \n",
    "    if not os.path.exists('./collection/vaswani/vaswani-queries.tsv'):\n",
    "        queries.to_csv('./collection/vaswani/vaswani-queries.tsv', sep='\\t', header=False, index=False)\n",
    "    qrels = pd.DataFrame(vaswani_dataset.qrels_iter()) \n",
    "    qrels.columns = ['qid', 'docid', 'relevance', 'iteration']\n",
    "    qrels['docid'] = (qrels['docid'].astype(int) - 1).astype(str) # convert to 0-based indexing\n",
    "\n",
    "    if not os.path.exists('./collection/vaswani/vaswani-qrels.txt'):\n",
    "        qrels.to_csv('./collection/vaswani/vaswani-qrels.txt', sep='\\t', header=False, index=False)\n",
    "    print(\"Number of relevance judgments: \",len(list(vaswani_dataset.qrels_iter())))"
   ]
  },
  {
   "cell_type": "code",
   "execution_count": 16,
   "metadata": {
    "ExecuteTime": {
     "end_time": "2024-11-19T17:27:41.859156Z",
     "start_time": "2024-11-19T17:27:41.848111Z"
    }
   },
   "outputs": [
    {
     "name": "stdout",
     "output_type": "stream",
     "text": [
      "The number of queries is:  200\n"
     ]
    }
   ],
   "source": [
    "from collections import namedtuple\n",
    "\n",
    "\n",
    "class QueriesDataset:\n",
    "    def __init__(self, df):\n",
    "        self.queries = [Query(row.query_id, row.text) for row in df.itertuples()]\n",
    "\n",
    "    def queries_iter(self):\n",
    "        return iter(self.queries)\n",
    "\n",
    "    def queries_count(self):\n",
    "        return len(self.queries)\n",
    "    \n",
    "    def get_query(self, query_id):\n",
    "        return self.queries[query_id]\n",
    "\n",
    "\n",
    "Query = namedtuple('Query', ['query_id', 'text'])\n",
    "queries.columns = ['query_id', 'text']\n",
    "queries_dataset = QueriesDataset(queries)\n",
    "print(\"The number of queries is: \", queries_dataset.queries_count())"
   ]
  },
  {
   "cell_type": "markdown",
   "metadata": {},
   "source": [
    "Let's prepare the functions necessary to perform TAAT and DAAT query processing"
   ]
  },
  {
   "cell_type": "markdown",
   "metadata": {},
   "source": [
    "First, we need a TopQueue class, which stores the top  K  (score, docid) tuples, using an heap "
   ]
  },
  {
   "cell_type": "code",
   "execution_count": 17,
   "metadata": {
    "ExecuteTime": {
     "end_time": "2024-11-19T17:27:41.954190Z",
     "start_time": "2024-11-19T17:27:41.931158Z"
    }
   },
   "outputs": [],
   "source": [
    "import heapq\n",
    "\n",
    "class TopQueue:\n",
    "    def __init__(self, k=10, threshold=0.0):\n",
    "        self.queue = []\n",
    "        self.k = k\n",
    "        self.threshold = threshold\n",
    "\n",
    "    def size(self):\n",
    "        return len(self.queue)\n",
    "\n",
    "    def would_enter(self, score):\n",
    "        return score > self.threshold\n",
    "\n",
    "    def clear(self, new_threshold=None):\n",
    "        self.queue = []\n",
    "        if new_threshold:\n",
    "            self.threshold = new_threshold\n",
    "\n",
    "    def __repr__(self):\n",
    "        return f'<{self.size()} items, th={self.threshold} {self.queue}'\n",
    "\n",
    "    def insert(self, docid, score):\n",
    "        if score > self.threshold:\n",
    "            if self.size() >= self.k:\n",
    "                heapq.heapreplace(self.queue, (score, docid))\n",
    "            else:\n",
    "                heapq.heappush(self.queue, (score, docid))\n",
    "            if self.size() >= self.k:\n",
    "                self.threshold = max(self.threshold, self.queue[0][0])\n",
    "            return True\n",
    "        return False\n",
    "\n",
    "#print(sorted(topq.queue, reverse=True)) # print the queue sorted by score"
   ]
  },
  {
   "cell_type": "markdown",
   "metadata": {},
   "source": [
    "### TAAT"
   ]
  },
  {
   "cell_type": "code",
   "execution_count": 18,
   "metadata": {
    "ExecuteTime": {
     "end_time": "2024-11-19T17:27:42.016394Z",
     "start_time": "2024-11-19T17:27:42.004032Z"
    }
   },
   "outputs": [],
   "source": [
    "from collections import defaultdict\n",
    "\n",
    "def taat(postings, k=10, method='bm25'):\n",
    "    A = defaultdict(float)\n",
    "    for posting in postings:\n",
    "        current_docid = posting.docid()\n",
    "        while current_docid != math.inf:\n",
    "            A[current_docid] += posting.score(method)\n",
    "            posting.next()\n",
    "            current_docid = posting.docid()\n",
    "    top = TopQueue(k)\n",
    "    for docid, score in A.items():\n",
    "        top.insert(docid, score)\n",
    "    return sorted(top.queue, reverse=True)\n",
    "\n",
    "\n",
    "def query_process(query, index):\n",
    "    qtokens = set(preprocess(query))\n",
    "    qtermids = index.get_termids(qtokens)\n",
    "    postings = index.get_postings(qtermids)\n",
    "    return taat(postings)"
   ]
  },
  {
   "cell_type": "markdown",
   "metadata": {},
   "source": [
    "### DAAT"
   ]
  },
  {
   "cell_type": "code",
   "execution_count": 19,
   "metadata": {
    "ExecuteTime": {
     "end_time": "2024-11-19T17:27:42.080146Z",
     "start_time": "2024-11-19T17:27:42.068274Z"
    }
   },
   "outputs": [],
   "source": [
    "import math\n",
    "\n",
    "def min_docid(postings):\n",
    "    min_docid = math.inf\n",
    "    for p in postings:\n",
    "        if not p.is_end_list():\n",
    "            min_docid = min(p.docid(), min_docid)\n",
    "    return min_docid\n",
    "\n",
    "def daat(postings, k=10, method='bm25'):\n",
    "    top = TopQueue(k)\n",
    "    current_docid = min_docid(postings)\n",
    "    while current_docid != math.inf:\n",
    "        score = 0\n",
    "        next_docid = math.inf\n",
    "        for posting in postings:\n",
    "            if posting.docid() == current_docid:\n",
    "                score += posting.score(method)\n",
    "                posting.next()\n",
    "            if not posting.is_end_list():\n",
    "                next_docid = posting.docid()\n",
    "        top.insert(current_docid, score)\n",
    "        current_docid = next_docid\n",
    "    return sorted(top.queue, reverse=True)\n",
    "\n",
    "def query_process(query, index):\n",
    "    qtokens = set(preprocess(query))\n",
    "    qtermids = index.get_termids(qtokens)\n",
    "    postings = index.get_postings(qtermids)\n",
    "    return daat(postings)"
   ]
  },
  {
   "cell_type": "code",
   "execution_count": 20,
   "metadata": {
    "ExecuteTime": {
     "end_time": "2024-11-19T17:27:42.158183Z",
     "start_time": "2024-11-19T17:27:42.146647Z"
    }
   },
   "outputs": [],
   "source": [
    "# from tqdm import tqdm\n",
    "# import cProfile\n",
    "# import pstats\n",
    "\n",
    "# @profile\n",
    "# def query_processing(queries_iter, fn):\n",
    "#     for q in tqdm(queries_iter, desc=\"Processing queries\", total=queries_dataset.queries_count(), unit=\"query\"):\n",
    "#         query = preprocess(q.text)\n",
    "#         termids = inv_index.get_termids(query)\n",
    "#         postings = inv_index.get_postings(termids)\n",
    "#         res = fn(postings)\n",
    "\n",
    "\n",
    "# cProfile.run(\"query_processing(queries_dataset.queries_iter(), taat)\", \"./perfm/result.prof\")\n",
    "# p = pstats.Stats(\"./perfm/result.prof\")\n",
    "# p.sort_stats(\"cumtime\").print_stats(25)"
   ]
  },
  {
   "cell_type": "markdown",
   "metadata": {},
   "source": [
    "---"
   ]
  },
  {
   "cell_type": "markdown",
   "metadata": {},
   "source": [
    "# 3. Evaluation"
   ]
  },
  {
   "cell_type": "markdown",
   "metadata": {},
   "source": [
    "A relevance assessment (called ***qrel*** in `ir_datasets`) is composed by:\n",
    "* a **topic id** (called *query_id* in `ir_datasets`) as in a topic,\n",
    "* a **docno** (called *doc_id* in `ir_datasets`) as in a document,\n",
    "* a **judgement** (called *relevance* in `ir_datasets`) as a binary or graded relevance judgment/label, and\n",
    "* an **iteration**, **UNUSED** and always equal to the string `'0'`."
   ]
  },
  {
   "cell_type": "code",
   "execution_count": 21,
   "metadata": {
    "ExecuteTime": {
     "end_time": "2024-11-19T17:27:48.428545Z",
     "start_time": "2024-11-19T17:27:48.400834Z"
    }
   },
   "outputs": [
    {
     "name": "stdout",
     "output_type": "stream",
     "text": [
      "Number of relevance judgments:  9260\n"
     ]
    }
   ],
   "source": [
    "# get the qrels for the chosen collection\n",
    "if chosen_collection == \"vaswani\":\n",
    "    sep = '\\t'\n",
    "else:\n",
    "    sep = ' '\n",
    "\n",
    "qrels = pd.read_csv('./collection/'+chosen_collection+'/'+chosen_collection+'-qrels.txt', sep=sep, header=None)\n",
    "\n",
    "if chosen_collection == \"vaswani\":\n",
    "    qrels.columns = ['query_id', 'doc_id', 'relevance', 'iteration']\n",
    "    \n",
    "else:\n",
    "    qrels.columns = ['query_id', 'Q0', 'doc_id', 'relevance']\n",
    "\n",
    "\n",
    "qrels['query_id'] = qrels['query_id'].apply(str)\n",
    "qrels['doc_id'] = qrels['doc_id'].apply(str)\n",
    "qrels['relevance'] = qrels['relevance'].apply(int)\n",
    "\n",
    "print(\"Number of relevance judgments: \",len(qrels))"
   ]
  },
  {
   "cell_type": "code",
   "execution_count": 22,
   "metadata": {
    "ExecuteTime": {
     "end_time": "2024-11-19T17:27:48.522665Z",
     "start_time": "2024-11-19T17:27:48.509131Z"
    }
   },
   "outputs": [],
   "source": [
    "import os\n",
    "\n",
    "\n",
    "def create_run_file(queries_dataset, fn, k, method, run_id, output_file):\n",
    "    \"\"\"\n",
    "    Preprocess the queries and write the results to a run file.\n",
    "    :param queries_dataset: queries dataset object\n",
    "    :param fn: Function to process the postings and return the results in the format (score, docid)\n",
    "    :param run_id: Name identifier for the run\n",
    "    :param output_file: Output run file\n",
    "    \"\"\"\n",
    "    if not os.path.exists('./results'):\n",
    "        os.makedirs('./results')\n",
    "    with open(f\"./results/{output_file}\", \"w\") as f:\n",
    "        for q in tqdm(queries_dataset.queries_iter(), desc=\"Processing queries\", total=queries_dataset.queries_count(), unit=\"query\"):\n",
    "            topic_id = q.query_id \n",
    "            query = preprocess(q.text)\n",
    "            termids = inv_index.get_termids(query)\n",
    "            postings = inv_index.get_postings(termids)\n",
    "            results = fn(postings, k=k, method=method)\n",
    "            \n",
    "            if results:\n",
    "                # Write results to the run file\n",
    "                for rank, (score, docno) in enumerate(results, start=1):\n",
    "                    line = f\"{topic_id}\\tQ0\\t{docno}\\t{rank}\\t{score:.6f}\\t{run_id}\\n\"\n",
    "                    f.write(line)\n",
    "            else:\n",
    "                # Annotate that no results were found for this query\n",
    "                line = f\"{topic_id}\\tQ0\\tNO_RESULTS\\t0\\t0.0\\t{run_id}\\n\"\n",
    "                f.write(line)\n",
    "\n",
    "    print(f\"Run file {output_file} produced successfully.\")"
   ]
  },
  {
   "cell_type": "code",
   "execution_count": 23,
   "metadata": {
    "ExecuteTime": {
     "end_time": "2024-11-19T17:27:49.927949Z",
     "start_time": "2024-11-19T17:27:48.573038Z"
    }
   },
   "outputs": [
    {
     "data": {
      "application/vnd.jupyter.widget-view+json": {
       "model_id": "aef92f931af9461eb324236bb2cc9e92",
       "version_major": 2,
       "version_minor": 0
      },
      "text/plain": [
       "Processing queries:   0%|          | 0/200 [00:00<?, ?query/s]"
      ]
     },
     "metadata": {},
     "output_type": "display_data"
    },
    {
     "name": "stdout",
     "output_type": "stream",
     "text": [
      "Run file msmarco_tfidf.run produced successfully.\n"
     ]
    },
    {
     "data": {
      "application/vnd.jupyter.widget-view+json": {
       "model_id": "b762b5484bf84ddaa1e2693aceaa5648",
       "version_major": 2,
       "version_minor": 0
      },
      "text/plain": [
       "Processing queries:   0%|          | 0/200 [00:00<?, ?query/s]"
      ]
     },
     "metadata": {},
     "output_type": "display_data"
    },
    {
     "name": "stdout",
     "output_type": "stream",
     "text": [
      "Run file msmarco_bm25.run produced successfully.\n"
     ]
    }
   ],
   "source": [
    "# if the folder already exists, delete it\n",
    "from shutil import rmtree\n",
    "if os.path.exists('./results'):\n",
    "    rmtree('./results')\n",
    "\n",
    "os.makedirs('./results')\n",
    "create_run_file(queries_dataset, taat, 1000, 'tfidf', \"run_tfidf\", f\"{chosen_collection}_tfidf.run\")\n",
    "create_run_file(queries_dataset, taat, 1000, 'bm25', \"run_bm25\", f\"{chosen_collection}_bm25.run\")"
   ]
  },
  {
   "cell_type": "code",
   "execution_count": 24,
   "metadata": {},
   "outputs": [
    {
     "name": "stdout",
     "output_type": "stream",
     "text": [
      "8841823\n"
     ]
    }
   ],
   "source": [
    "print(inv_index.num_docs())"
   ]
  },
  {
   "cell_type": "markdown",
   "metadata": {},
   "source": [
    "# IR Measures for our IR System"
   ]
  },
  {
   "cell_type": "code",
   "execution_count": 25,
   "metadata": {},
   "outputs": [],
   "source": [
    "import ir_measures\n",
    "from ir_measures import *\n",
    "\n",
    "# Load the run\n",
    "run_file_tfidf = list(ir_measures.read_trec_run(f'./results/{chosen_collection}_tfidf.run'))\n",
    "\n",
    "run_file_bm25 = list(ir_measures.read_trec_run(f'./results/{chosen_collection}_bm25.run'))"
   ]
  },
  {
   "cell_type": "code",
   "execution_count": 26,
   "metadata": {},
   "outputs": [],
   "source": [
    "# List of scoring functions (IR systems)\n",
    "scoring_functions = ['TF-IDF', 'BM25']\n",
    "\n",
    "# Number of decimal places to round the results\n",
    "decimals = 3\n",
    "\n",
    "# List of evaluation measures (metrics)\n",
    "metrics = [AP(rel=2), nDCG, nDCG@10, Recall(rel=2)@1000, Judged@10]\n",
    "\n",
    "# Initialize a dictionary to store results from the IR systems\n",
    "system_measures = {func: {} for func in scoring_functions}\n",
    "\n",
    "# Iterate over scoring functions and metrics to gather the results\n",
    "for func in scoring_functions:\n",
    "    # For system measures (e.g., TF-IDF, BM25) using `ir_measures`\n",
    "    for metric in metrics:\n",
    "        if func == 'TF-IDF':\n",
    "            system_measures[func][metric] = ir_measures.calc_aggregate([metric], qrels, run_file_tfidf).get(metric)\n",
    "        elif func == 'BM25':\n",
    "            system_measures[func][metric] = ir_measures.calc_aggregate([metric], qrels, run_file_bm25).get(metric)"
   ]
  },
  {
   "cell_type": "code",
   "execution_count": 27,
   "metadata": {},
   "outputs": [],
   "source": [
    "def print_results(measures):\n",
    "\t# put the results in a dataframe\n",
    "\tdf = pd.DataFrame(measures)\n",
    "\tdf = df.transpose()\n",
    "\tdf = df.round(decimals)\n",
    "\n",
    "\t# Print the results\n",
    "\tprint(df)"
   ]
  },
  {
   "cell_type": "code",
   "execution_count": 28,
   "metadata": {},
   "outputs": [
    {
     "name": "stdout",
     "output_type": "stream",
     "text": [
      "        AP(rel=2)  nDCG  nDCG@10  R(rel=2)@1000  Judged@10\n",
      "TF-IDF      0.263  0.55    0.437          0.711        0.7\n",
      "BM25        0.263  0.55    0.437          0.710        0.7\n"
     ]
    }
   ],
   "source": [
    "print_results(system_measures)"
   ]
  },
  {
   "cell_type": "markdown",
   "metadata": {},
   "source": [
    "##### The [Mean] Average Precision ([M]AP). \n",
    "The average precision of a single query is the mean of the precision scores at each relevant item returned in a search results list.\n",
    "\n",
    "##### The normalized Discounted Cumulative Gain (nDCG). \n",
    "Uses graded labels - systems that put the highest graded documents at the top of the ranking. \n",
    "It is normalized wrt. the Ideal NDCG, i.e. documents ranked in descending order of graded label.\n",
    "\n",
    "##### Recall@k\n",
    "The fraction of relevant documents for a query that have been retrieved by rank k.\n",
    "\n",
    "##### Judged@k\n",
    "Percentage of results in the top k (cutoff) results that have relevance judgments. \n",
    "Equivalent to P@k with a rel lower than any judgment."
   ]
  },
  {
   "cell_type": "markdown",
   "metadata": {},
   "source": [
    "---"
   ]
  },
  {
   "cell_type": "markdown",
   "metadata": {},
   "source": [
    "# PyTerrier"
   ]
  },
  {
   "cell_type": "code",
   "execution_count": 29,
   "metadata": {
    "ExecuteTime": {
     "end_time": "2024-11-19T18:00:25.080832Z",
     "start_time": "2024-11-19T18:00:16.846453Z"
    }
   },
   "outputs": [
    {
     "name": "stderr",
     "output_type": "stream",
     "text": [
      "Java started and loaded: pyterrier.java, pyterrier.terrier.java [version=5.10 (build: craigm 2024-08-22 17:33), helper_version=0.0.8]\n"
     ]
    }
   ],
   "source": [
    "import pyterrier as pt\n",
    "\n",
    "# note that pt.started() and pt.init() are deprecated\n",
    "\n",
    "if not pt.java.started():\n",
    "    pt.java.add_option('-Dtrec.encoding=UTF-8')\n",
    "    pt.java.init()"
   ]
  },
  {
   "cell_type": "code",
   "execution_count": 30,
   "metadata": {},
   "outputs": [
    {
     "name": "stdout",
     "output_type": "stream",
     "text": [
      "       qid                                              query\n",
      "0  1108939                  what slows down the flow of blood\n",
      "1  1112389             what is the county for grand rapids mn\n",
      "2   792752                                     what is ruclip\n",
      "3  1119729  what do you do when you have a nosebleed from ...\n",
      "4  1105095                  where is sugar lake lodge located\n",
      "     qid    docno  label\n",
      "0  19335  1017759      0\n",
      "1  19335  1082489      0\n",
      "2  19335   109063      0\n",
      "3  19335  1160863      0\n",
      "4  19335  1160871      0\n"
     ]
    }
   ],
   "source": [
    "dataset = pt.get_dataset(\"msmarco_passage\")\n",
    "\n",
    "print(dataset.get_topics(\"test-2019\").head())\n",
    "print(dataset.get_qrels(\"test-2019\").head())"
   ]
  },
  {
   "cell_type": "code",
   "execution_count": 31,
   "metadata": {},
   "outputs": [
    {
     "name": "stdout",
     "output_type": "stream",
     "text": [
      "Number of documents: 8841823\n",
      "Number of terms: 1170682\n",
      "Number of postings: 215238456\n",
      "Number of fields: 1\n",
      "Number of tokens: 288759529\n",
      "Field names: [text]\n",
      "Positions:   false\n",
      "\n"
     ]
    }
   ],
   "source": [
    "# print getCollectionStatistics\n",
    "index = pt.IndexFactory.of(dataset.get_index(variant='terrier_stemmed'))\n",
    "print(index.getCollectionStatistics())"
   ]
  },
  {
   "cell_type": "code",
   "execution_count": 32,
   "metadata": {},
   "outputs": [
    {
     "name": "stdout",
     "output_type": "stream",
     "text": [
      "200\n",
      "9260\n",
      "43\n"
     ]
    }
   ],
   "source": [
    "# print the number of queries\n",
    "print(len(dataset.get_topics(\"test-2019\")))\n",
    "\n",
    "# print the number of relevance judgments\n",
    "print(len(dataset.get_qrels(\"test-2019\")))\n",
    "\n",
    "# print the number of unique queries ids in the qrels\n",
    "print(len(dataset.get_qrels(\"test-2019\")[\"qid\"].unique()))"
   ]
  },
  {
   "cell_type": "code",
   "execution_count": 33,
   "metadata": {},
   "outputs": [
    {
     "name": "stdout",
     "output_type": "stream",
     "text": [
      "       qid                                              query\n",
      "0  1108939                  what slows down the flow of blood\n",
      "1  1112389             what is the county for grand rapids mn\n",
      "2   792752                                     what is ruclip\n",
      "3  1119729  what do you do when you have a nosebleed from ...\n",
      "4  1105095                  where is sugar lake lodge located\n",
      "     qid    docno  label\n",
      "0  19335  1017759      0\n",
      "1  19335  1082489      0\n",
      "2  19335   109063      0\n",
      "3  19335  1160863      0\n",
      "4  19335  1160871      0\n"
     ]
    }
   ],
   "source": [
    "from pyterrier.measures import *\n",
    "\n",
    "queries_pt = dataset.get_topics(\"test-2019\")\n",
    "qrels_pt = dataset.get_qrels(\"test-2019\")\n",
    "\n",
    "print(queries_pt.head())\n",
    "print(qrels_pt.head())"
   ]
  },
  {
   "cell_type": "code",
   "execution_count": 34,
   "metadata": {},
   "outputs": [
    {
     "name": "stdout",
     "output_type": "stream",
     "text": [
      "Numero totale di qid in queries: 200\n",
      "Numero totale di qid in qrels: 43\n",
      "Numero di qid comuni: 43\n",
      "Qid mancanti nei qrels: 157\n",
      "Qid mancanti nelle queries: 0\n",
      "Numero di valori univoci nella prima colonna ('qid') di qrels: 43\n"
     ]
    }
   ],
   "source": [
    "queries_qids = set(queries_pt[\"qid\"])\n",
    "qrels_qids = set(qrels_pt[\"qid\"])\n",
    "\n",
    "# count the number of unique qids in qrels\n",
    "unique_values_count = qrels_pt[\"qid\"].nunique()\n",
    "\n",
    "common_qids = queries_qids & qrels_qids\n",
    "missing_in_qrels = queries_qids - qrels_qids\n",
    "missing_in_queries = qrels_qids - queries_qids\n",
    "\n",
    "# Mostra i risultati\n",
    "print(f\"Numero totale di qid in queries: {len(queries_qids)}\")\n",
    "print(f\"Numero totale di qid in qrels: {len(qrels_qids)}\")\n",
    "print(f\"Numero di qid comuni: {len(common_qids)}\")\n",
    "print(f\"Qid mancanti nei qrels: {len(missing_in_qrels)}\")\n",
    "print(f\"Qid mancanti nelle queries: {len(missing_in_queries)}\")\n",
    "print(f\"Numero di valori univoci nella prima colonna ('qid') di qrels: {unique_values_count}\")"
   ]
  },
  {
   "cell_type": "code",
   "execution_count": 35,
   "metadata": {},
   "outputs": [],
   "source": [
    "# Definizione dei retriever\n",
    "TF_IDF = pt.terrier.Retriever.from_dataset('msmarco_passage', 'terrier_stemmed', wmodel='TF_IDF')\n",
    "BM25 = pt.terrier.Retriever.from_dataset('msmarco_passage', 'terrier_stemmed', wmodel='BM25')"
   ]
  },
  {
   "cell_type": "code",
   "execution_count": 36,
   "metadata": {},
   "outputs": [],
   "source": [
    "# List of scoring functions (IR systems)\n",
    "scoring_functions = ['TF-IDF', 'BM25']\n",
    "\n",
    "# Number of decimal places to round the results\n",
    "decimals = 3\n",
    "\n",
    "# List of evaluation measures (metrics)\n",
    "metrics = [AP(rel=2), nDCG, nDCG@10, Recall(rel=2)@1000, Judged@10]\n",
    "\n",
    "pyterrier_measures = {func: {} for func in scoring_functions}\n",
    "\n",
    "\n",
    "# Iterate over scoring functions and metrics to gather the results\n",
    "for func in scoring_functions:\n",
    "    \n",
    "    # For PyTerrier results (e.g., TF-IDF, BM25)\n",
    "    experiment_results = pt.Experiment(\n",
    "        [TF_IDF, BM25],\n",
    "        queries_pt,\n",
    "        qrels_pt,\n",
    "        eval_metrics=[metric for metric in metrics], \n",
    "        names=scoring_functions\n",
    "    )\n",
    "    \n",
    "    # Extract results for each metric in the experiment and store in pyterrier_measures\n",
    "    for metric in metrics:\n",
    "        pyterrier_measures[func][metric] = experiment_results.loc[experiment_results['name'] == func, str(metric)].values[0]\n"
   ]
  },
  {
   "cell_type": "code",
   "execution_count": 37,
   "metadata": {},
   "outputs": [
    {
     "name": "stdout",
     "output_type": "stream",
     "text": [
      "        AP(rel=2)   nDCG  nDCG@10  R(rel=2)@1000  Judged@10\n",
      "TF-IDF      0.286  0.593    0.478          0.755      0.958\n",
      "BM25        0.286  0.593    0.480          0.755      0.958\n"
     ]
    }
   ],
   "source": [
    "# print the results\n",
    "print_results(pyterrier_measures)"
   ]
  },
  {
   "cell_type": "markdown",
   "metadata": {},
   "source": [
    "# IR Systems Comparison"
   ]
  },
  {
   "cell_type": "code",
   "execution_count": 38,
   "metadata": {},
   "outputs": [],
   "source": [
    "# Iterate through each scoring function and create a comparison DataFrame for it\n",
    "def comparison(func, metrics, system_measures, pyterrier_measures, decimals):\n",
    "    # Prepare comparison data for the current scoring function\n",
    "    comparison_data = {\n",
    "        'Metric': metrics,\n",
    "        func + ' System': [system_measures[func].get(m, None) for m in metrics],\n",
    "        func + ' PyTerrier': [pyterrier_measures[func].get(m, None) for m in metrics],\n",
    "        func + ' Difference': [\n",
    "            pyterrier_measures[func].get(m, None) - system_measures[func].get(m, None) \n",
    "            for m in metrics\n",
    "        ]\n",
    "    }\n",
    "\n",
    "    # Convert to DataFrame for better readability\n",
    "    comparison_df = pd.DataFrame(comparison_data)\n",
    "    \n",
    "    # reverse columns and rows\n",
    "    comparison_df = comparison_df.transpose()\n",
    "    \n",
    "    # adjust column names\n",
    "    comparison_df.columns = comparison_df.iloc[0]\n",
    "    \n",
    "    # drop the first row\n",
    "    comparison_df = comparison_df[1:]\n",
    "    \n",
    "    # round values for better readability\n",
    "    comparison_df = comparison_df.round(decimals)\n",
    "\n",
    "    # Print the comparison DataFrame for the current scoring function\n",
    "    print(f\"Comparison for {func}:\\n\")\n",
    "    print(comparison_df)\n"
   ]
  },
  {
   "cell_type": "code",
   "execution_count": 39,
   "metadata": {},
   "outputs": [
    {
     "name": "stdout",
     "output_type": "stream",
     "text": [
      "Comparison for TF-IDF:\n",
      "\n",
      "Metric            AP(rel=2)      nDCG   nDCG@10 R(rel=2)@1000 Judged@10\n",
      "TF-IDF System      0.262596  0.549637  0.437137      0.711031       0.7\n",
      "TF-IDF PyTerrier   0.286342  0.593198   0.47831      0.754831   0.95814\n",
      "TF-IDF Difference  0.023746  0.043561  0.041173        0.0438   0.25814\n"
     ]
    }
   ],
   "source": [
    "comparison('TF-IDF', metrics, system_measures, pyterrier_measures, decimals)"
   ]
  },
  {
   "cell_type": "code",
   "execution_count": 40,
   "metadata": {},
   "outputs": [
    {
     "name": "stdout",
     "output_type": "stream",
     "text": [
      "Comparison for BM25:\n",
      "\n",
      "Metric          AP(rel=2)      nDCG   nDCG@10 R(rel=2)@1000 Judged@10\n",
      "BM25 System       0.26328  0.549911  0.437137      0.710347       0.7\n",
      "BM25 PyTerrier   0.286448  0.593433   0.47954      0.755332   0.95814\n",
      "BM25 Difference  0.023167  0.043522  0.042403      0.044985   0.25814\n"
     ]
    }
   ],
   "source": [
    "comparison('BM25', metrics, system_measures, pyterrier_measures, decimals)"
   ]
  },
  {
   "cell_type": "code",
   "execution_count": 41,
   "metadata": {},
   "outputs": [],
   "source": [
    "comparison_data = {\n",
    "    'Metric': metrics,\n",
    "    func + ' System': [system_measures[func].get(m, None) for m in metrics],\n",
    "    func + ' PyTerrier': [pyterrier_measures[func].get(m, None) for m in metrics],\n",
    "    func + ' Difference': [\n",
    "        pyterrier_measures[func].get(m, None) - system_measures[func].get(m, None) \n",
    "        for m in metrics\n",
    "    ],\n",
    "    func + ' Percentage Difference': [\n",
    "        ((pyterrier_measures[func].get(m, None) - system_measures[func].get(m, None)) /\n",
    "         system_measures[func].get(m, None) * 100) if system_measures[func].get(m, None) else None \n",
    "        for m in metrics\n",
    "    ]\n",
    "}"
   ]
  },
  {
   "cell_type": "code",
   "execution_count": 42,
   "metadata": {},
   "outputs": [
    {
     "data": {
      "text/plain": [
       "<Figure size 1000x600 with 0 Axes>"
      ]
     },
     "metadata": {},
     "output_type": "display_data"
    },
    {
     "data": {
      "image/png": "[encoded data removed]",
      "text/plain": [
       "<Figure size 640x480 with 1 Axes>"
      ]
     },
     "metadata": {},
     "output_type": "display_data"
    },
    {
     "data": {
      "text/plain": [
       "<Figure size 1000x600 with 0 Axes>"
      ]
     },
     "metadata": {},
     "output_type": "display_data"
    },
    {
     "data": {
      "image/png": "[encoded data removed]",
      "text/plain": [
       "<Figure size 640x480 with 1 Axes>"
      ]
     },
     "metadata": {},
     "output_type": "display_data"
    }
   ],
   "source": [
    "import matplotlib.pyplot as plt\n",
    "\n",
    "#metrics = [AP(rel=2), nDCG, nDCG@10, Recall(rel=2)@1000]\n",
    "\n",
    "# Example for one scoring function (TF-IDF)\n",
    "for func in scoring_functions:\n",
    "    # Prepare data for barplot\n",
    "    comparison_df = pd.DataFrame({\n",
    "        'Metric': metrics,\n",
    "        'System': [system_measures[func].get(m, None) for m in metrics],\n",
    "        'PyTerrier': [pyterrier_measures[func].get(m, None) for m in metrics]\n",
    "    })\n",
    "\n",
    "    # Set plot size and style\n",
    "    plt.figure(figsize=(10, 6))\n",
    "    comparison_df.set_index('Metric').plot(kind='bar', width=0.8, color=['lightblue', 'lightgreen'])\n",
    "    \n",
    "    plt.title(f'Comparison of {func} IR Systems')\n",
    "    plt.ylabel('Metric Value')\n",
    "    plt.xlabel('Metric')\n",
    "    plt.xticks(rotation=45)\n",
    "    plt.legend(title='System', labels=['Our System', 'PyTerrier'])\n",
    "    plt.tight_layout()\n",
    "    plt.show()"
   ]
  },
  {
   "cell_type": "markdown",
   "metadata": {},
   "source": [
    "# Evaluating baselines (significance testing, paired $t$-test, 𝑝 < 0.05)"
   ]
  },
  {
   "cell_type": "code",
   "execution_count": 43,
   "metadata": {},
   "outputs": [],
   "source": [
    "from scipy.stats import ttest_rel\n",
    "import numpy as np\n",
    "\n",
    "metrics = [AP(rel=2), nDCG, nDCG@10, Recall(rel=2)@1000]\n",
    "\n",
    "def evaluate_baseline(metric, baseline_index = 0):\n",
    "    # Baseline Index: 0 for TF-IDF, 1 for BM25\n",
    "    \n",
    "    # Compute per-topic AP scores for both TFIDF and BM25\n",
    "    tfidf_scores = {}\n",
    "    bm25_scores = {}\n",
    "\n",
    "    for res in ir_measures.iter_calc([metric], qrels, run_file_tfidf):\n",
    "        tfidf_scores[res.query_id] = res.value\n",
    "\n",
    "    for res in ir_measures.iter_calc([metric], qrels, run_file_bm25):\n",
    "        bm25_scores[res.query_id] = res.value\n",
    "\n",
    "    # Ensure we have common queries\n",
    "    common_queries = set(tfidf_scores.keys()).intersection(bm25_scores.keys())\n",
    "\n",
    "    tfidf_list = [tfidf_scores[q] for q in common_queries]\n",
    "    bm25_list = [bm25_scores[q] for q in common_queries]\n",
    "\n",
    "    # Perform paired t-test\n",
    "    t_stat, p_val = ttest_rel(tfidf_list, bm25_list)\n",
    "\n",
    "    # Compute mean AP for each system\n",
    "    mean_tfidf = np.mean(tfidf_list)\n",
    "    mean_bm25 = np.mean(bm25_list)\n",
    "\n",
    "    # Compute additional metrics relative to baseline\n",
    "    if baseline_index == 0:  # TF-IDF is baseline\n",
    "        baseline_name = \"TF-IDF\"\n",
    "        compare_name = \"BM25\"\n",
    "        plus = sum(1 for tf, bm in zip(tfidf_list, bm25_list) if bm > tf)\n",
    "        minus = sum(1 for tf, bm in zip(tfidf_list, bm25_list) if bm < tf)\n",
    "        baseline = mean_tfidf\n",
    "        compare = mean_bm25\n",
    "    else:  # BM25 is baseline\n",
    "        baseline_name = \"BM25\"\n",
    "        compare_name = \"TF-IDF\"\n",
    "        plus = sum(1 for tf, bm in zip(tfidf_list, bm25_list) if tf > bm)\n",
    "        minus = sum(1 for tf, bm in zip(tfidf_list, bm25_list) if tf < bm)\n",
    "        baseline = mean_bm25\n",
    "        compare = mean_tfidf\n",
    "\n",
    "    # Create the DataFrame to match the desired output\n",
    "    df_results = pd.DataFrame({\n",
    "        'name': [baseline_name, compare_name],\n",
    "        str(metric) : [baseline, compare],\n",
    "        str(metric)+' +': [np.nan, plus],  # + only for the non-baseline system\n",
    "        str(metric)+' -': [np.nan, minus],  # - only for the non-baseline system\n",
    "        'p-value': [np.nan, p_val]\n",
    "    })\n",
    "\n",
    "    # Round values for better readability\n",
    "    df_results = df_results.round(decimals)\n",
    "\n",
    "    # Display the output\n",
    "    print(df_results)\n"
   ]
  },
  {
   "cell_type": "code",
   "execution_count": 44,
   "metadata": {},
   "outputs": [
    {
     "name": "stdout",
     "output_type": "stream",
     "text": [
      "     name  AP(rel=2)  AP(rel=2) +  AP(rel=2) -  p-value\n",
      "0  TF-IDF      0.263          NaN          NaN      NaN\n",
      "1    BM25      0.263          1.0          2.0    0.349\n"
     ]
    }
   ],
   "source": [
    "evaluate_baseline(AP(rel=2))"
   ]
  },
  {
   "cell_type": "code",
   "execution_count": 45,
   "metadata": {},
   "outputs": [
    {
     "name": "stdout",
     "output_type": "stream",
     "text": [
      "     name  nDCG  nDCG +  nDCG -  p-value\n",
      "0  TF-IDF  0.55     NaN     NaN      NaN\n",
      "1    BM25  0.55     2.0     1.0    0.655\n"
     ]
    }
   ],
   "source": [
    "evaluate_baseline(nDCG)"
   ]
  },
  {
   "cell_type": "code",
   "execution_count": 46,
   "metadata": {},
   "outputs": [
    {
     "name": "stdout",
     "output_type": "stream",
     "text": [
      "     name  nDCG@10  nDCG@10 +  nDCG@10 -  p-value\n",
      "0  TF-IDF    0.437        NaN        NaN      NaN\n",
      "1    BM25    0.437        0.0        0.0      NaN\n"
     ]
    }
   ],
   "source": [
    "evaluate_baseline(nDCG@10)"
   ]
  },
  {
   "cell_type": "code",
   "execution_count": 47,
   "metadata": {},
   "outputs": [
    {
     "name": "stdout",
     "output_type": "stream",
     "text": [
      "     name  R(rel=2)@1000  R(rel=2)@1000 +  R(rel=2)@1000 -  p-value\n",
      "0  TF-IDF          0.711              NaN              NaN      NaN\n",
      "1    BM25          0.710              0.0              1.0    0.323\n"
     ]
    }
   ],
   "source": [
    "evaluate_baseline(Recall(rel=2)@1000)"
   ]
  },
  {
   "cell_type": "markdown",
   "metadata": {},
   "source": [
    "# PyTerrier evaluating baselines (significance testing, paired $t$-test)"
   ]
  },
  {
   "cell_type": "code",
   "execution_count": 48,
   "metadata": {},
   "outputs": [
    {
     "data": {
      "text/html": [
       "<div>\n",
       "<style scoped>\n",
       "    .dataframe tbody tr th:only-of-type {\n",
       "        vertical-align: middle;\n",
       "    }\n",
       "\n",
       "    .dataframe tbody tr th {\n",
       "        vertical-align: top;\n",
       "    }\n",
       "\n",
       "    .dataframe thead th {\n",
       "        text-align: right;\n",
       "    }\n",
       "</style>\n",
       "<table border=\"1\" class=\"dataframe\">\n",
       "  <thead>\n",
       "    <tr style=\"text-align: right;\">\n",
       "      <th></th>\n",
       "      <th>name</th>\n",
       "      <th>nDCG</th>\n",
       "      <th>nDCG@10</th>\n",
       "      <th>AP(rel=2)</th>\n",
       "      <th>R(rel=2)@1000</th>\n",
       "      <th>nDCG +</th>\n",
       "      <th>nDCG -</th>\n",
       "      <th>nDCG p-value</th>\n",
       "      <th>nDCG@10 +</th>\n",
       "      <th>nDCG@10 -</th>\n",
       "      <th>nDCG@10 p-value</th>\n",
       "      <th>AP(rel=2) +</th>\n",
       "      <th>AP(rel=2) -</th>\n",
       "      <th>AP(rel=2) p-value</th>\n",
       "      <th>R(rel=2)@1000 +</th>\n",
       "      <th>R(rel=2)@1000 -</th>\n",
       "      <th>R(rel=2)@1000 p-value</th>\n",
       "    </tr>\n",
       "  </thead>\n",
       "  <tbody>\n",
       "    <tr>\n",
       "      <th>0</th>\n",
       "      <td>TF-IDF</td>\n",
       "      <td>0.593</td>\n",
       "      <td>0.478</td>\n",
       "      <td>0.286</td>\n",
       "      <td>0.755</td>\n",
       "      <td>NaN</td>\n",
       "      <td>NaN</td>\n",
       "      <td>NaN</td>\n",
       "      <td>NaN</td>\n",
       "      <td>NaN</td>\n",
       "      <td>NaN</td>\n",
       "      <td>NaN</td>\n",
       "      <td>NaN</td>\n",
       "      <td>NaN</td>\n",
       "      <td>NaN</td>\n",
       "      <td>NaN</td>\n",
       "      <td>NaN</td>\n",
       "    </tr>\n",
       "    <tr>\n",
       "      <th>1</th>\n",
       "      <td>BM25</td>\n",
       "      <td>0.593</td>\n",
       "      <td>0.480</td>\n",
       "      <td>0.286</td>\n",
       "      <td>0.755</td>\n",
       "      <td>19.0</td>\n",
       "      <td>18.0</td>\n",
       "      <td>0.460364</td>\n",
       "      <td>2.0</td>\n",
       "      <td>2.0</td>\n",
       "      <td>0.419534</td>\n",
       "      <td>17.0</td>\n",
       "      <td>16.0</td>\n",
       "      <td>0.65963</td>\n",
       "      <td>2.0</td>\n",
       "      <td>0.0</td>\n",
       "      <td>0.169991</td>\n",
       "    </tr>\n",
       "  </tbody>\n",
       "</table>\n",
       "</div>"
      ],
      "text/plain": [
       "     name   nDCG  nDCG@10  AP(rel=2)  R(rel=2)@1000  nDCG +  nDCG -  \\\n",
       "0  TF-IDF  0.593    0.478      0.286          0.755     NaN     NaN   \n",
       "1    BM25  0.593    0.480      0.286          0.755    19.0    18.0   \n",
       "\n",
       "   nDCG p-value  nDCG@10 +  nDCG@10 -  nDCG@10 p-value  AP(rel=2) +  \\\n",
       "0           NaN        NaN        NaN              NaN          NaN   \n",
       "1      0.460364        2.0        2.0         0.419534         17.0   \n",
       "\n",
       "   AP(rel=2) -  AP(rel=2) p-value  R(rel=2)@1000 +  R(rel=2)@1000 -  \\\n",
       "0          NaN                NaN              NaN              NaN   \n",
       "1         16.0            0.65963              2.0              0.0   \n",
       "\n",
       "   R(rel=2)@1000 p-value  \n",
       "0                    NaN  \n",
       "1               0.169991  "
      ]
     },
     "execution_count": 48,
     "metadata": {},
     "output_type": "execute_result"
    }
   ],
   "source": [
    "# comparation among TF-IDF and BM25 using PyTerrier (maybe not useful for our project)\n",
    "\n",
    "pt.Experiment(\n",
    "    [TF_IDF, BM25],\n",
    "    queries_pt,\n",
    "    qrels_pt,\n",
    "    eval_metrics=[metric for metric in metrics],\n",
    "    names=scoring_functions,\n",
    "    round=3,\n",
    "    baseline=0,\n",
    "    save_dir='./',\n",
    "    save_mode=\"overwrite\"\n",
    ")"
   ]
  },
  {
   "cell_type": "code",
   "execution_count": 49,
   "metadata": {},
   "outputs": [
    {
     "name": "stderr",
     "output_type": "stream",
     "text": [
      "c:\\Users\\giuli\\miniconda3\\envs\\mircv\\lib\\site-packages\\pyterrier\\pipelines.py:133: UserWarning: 157 topic(s) not found in qrels. Scores for these topics are given as NaN and should not contribute to averages.\n",
      "  warn(f'{backfill_count} topic(s) not found in qrels. Scores for these topics are given as NaN and should not contribute to averages.')\n",
      "c:\\Users\\giuli\\miniconda3\\envs\\mircv\\lib\\site-packages\\pyterrier\\pipelines.py:133: UserWarning: 157 topic(s) not found in qrels. Scores for these topics are given as NaN and should not contribute to averages.\n",
      "  warn(f'{backfill_count} topic(s) not found in qrels. Scores for these topics are given as NaN and should not contribute to averages.')\n"
     ]
    }
   ],
   "source": [
    "perquery_results = pt.Experiment(\n",
    "    [TF_IDF, BM25],\n",
    "    queries_pt,\n",
    "    qrels_pt,\n",
    "    eval_metrics=[metric for metric in metrics],\n",
    "    names=scoring_functions,\n",
    "    round=3,\n",
    "    perquery=True\n",
    ")"
   ]
  },
  {
   "cell_type": "code",
   "execution_count": 50,
   "metadata": {},
   "outputs": [
    {
     "name": "stdout",
     "output_type": "stream",
     "text": [
      "       name      qid        measure  value\n",
      "836    BM25  1037798           nDCG  0.433\n",
      "837    BM25  1037798        nDCG@10  0.153\n",
      "838    BM25  1037798      AP(rel=2)  0.091\n",
      "839    BM25  1037798  R(rel=2)@1000  1.000\n",
      "884    BM25   104861           nDCG  0.731\n",
      "..      ...      ...            ...    ...\n",
      "43   TF-IDF   915593  R(rel=2)@1000  1.000\n",
      "52   TF-IDF   962179           nDCG  0.401\n",
      "53   TF-IDF   962179        nDCG@10  0.000\n",
      "54   TF-IDF   962179      AP(rel=2)  0.050\n",
      "55   TF-IDF   962179  R(rel=2)@1000  1.000\n",
      "\n",
      "[344 rows x 4 columns]\n"
     ]
    }
   ],
   "source": [
    "# print results that have value field not NaN\n",
    "print(perquery_results[perquery_results['value'].notna()])"
   ]
  },
  {
   "cell_type": "markdown",
   "metadata": {},
   "source": [
    "# Significance testing, paired $t$-test among our system and PyTerrier"
   ]
  },
  {
   "cell_type": "code",
   "execution_count": 51,
   "metadata": {},
   "outputs": [],
   "source": [
    "import pandas as pd\n",
    "from scipy.stats import ttest_rel\n",
    "import numpy as np\n",
    "import ir_measures\n",
    "from ir_measures import AP, nDCG, Recall\n",
    "\n",
    "def compare_systems_detailed(perquery_results, my_system_run, qrels, metrics, scoring_function):\n",
    "    \"\"\"\n",
    "    Compare a scoring function (BM25 or TF-IDF) between your system and PyTerrier using paired t-tests.\n",
    "\n",
    "    Args:\n",
    "        perquery_results (pd.DataFrame): PyTerrier per-query results DataFrame.\n",
    "        my_system_run: Path to your system's run file.\n",
    "        qrels: Ground truth relevance judgments.\n",
    "        metrics (list): List of metrics to evaluate (e.g., [AP(rel=2), nDCG()]).\n",
    "        scoring_function (str): Name of the scoring function (\"BM25\" or \"TF-IDF\").\n",
    "\n",
    "    Returns:\n",
    "        pd.DataFrame: DataFrame with detailed comparison results for all metrics.\n",
    "    \"\"\"\n",
    "    # Filter PyTerrier per-query results for the scoring function\n",
    "    pyterrier_results = perquery_results[perquery_results['name'] == scoring_function]\n",
    "\n",
    "    # Prepare my system's per-query scores\n",
    "    system_scores = {str(metric): {} for metric in metrics}\n",
    "    for metric in metrics:\n",
    "        for res in ir_measures.iter_calc([metric], qrels, my_system_run):\n",
    "            system_scores[str(metric)][res.query_id] = res.value\n",
    "\n",
    "    # Prepare data for detailed output\n",
    "    results = {'name': [f\"PyTerrier {scoring_function}\", f\"OurSystem {scoring_function}\"]}\n",
    "\n",
    "    for metric in metrics:\n",
    "        metric_name = str(metric)\n",
    "\n",
    "        # Extract PyTerrier per-query scores for this metric\n",
    "        pyterrier_metric_scores = pyterrier_results[pyterrier_results['measure'] == metric_name]\n",
    "\n",
    "        # Ensure only queries present in both systems are compared\n",
    "        common_queries = set(pyterrier_metric_scores['qid']).intersection(\n",
    "            system_scores[metric_name].keys()\n",
    "        )\n",
    "\n",
    "        # Extract scores for the common queries\n",
    "        pyterrier_list = [\n",
    "            pyterrier_metric_scores[pyterrier_metric_scores['qid'] == q]['value'].values[0]\n",
    "            for q in common_queries\n",
    "        ]\n",
    "        system_list = [system_scores[metric_name][q] for q in common_queries]\n",
    "\n",
    "        # Calculate paired t-test\n",
    "        t_stat, p_val = ttest_rel(system_list, pyterrier_list)\n",
    "\n",
    "        # Compute mean scores\n",
    "        mean_pyterrier = np.mean(pyterrier_list)\n",
    "        mean_mysystem = np.mean(system_list)\n",
    "\n",
    "        # Additional metrics     \n",
    "        plus = sum(1 for m, p in zip(system_list, pyterrier_list) if m > p)\n",
    "        minus = sum(1 for m, p in zip(system_list, pyterrier_list) if m < p)\n",
    "\n",
    "        # Add results for this metric\n",
    "        results[metric_name] = [mean_pyterrier, mean_mysystem]\n",
    "        results[f\"{metric_name} +\"] = [np.nan, plus]\n",
    "        results[f\"{metric_name} -\"] = [np.nan, minus]\n",
    "        results[f\"{metric_name} p-value\"] = [np.nan, p_val]\n",
    "\n",
    "    # Create DataFrame\n",
    "    df_results = pd.DataFrame(results)\n",
    "    df_results = df_results.round(decimals)\n",
    "\n",
    "    return df_results\n"
   ]
  },
  {
   "cell_type": "code",
   "execution_count": 52,
   "metadata": {},
   "outputs": [
    {
     "name": "stdout",
     "output_type": "stream",
     "text": [
      "               name  AP(rel=2)  AP(rel=2) +  AP(rel=2) -  AP(rel=2) p-value  \\\n",
      "0  PyTerrier TF-IDF      0.286          NaN          NaN                NaN   \n",
      "1  OurSystem TF-IDF      0.263         16.0         26.0                0.1   \n",
      "\n",
      "    nDCG  nDCG +  nDCG -  nDCG p-value  nDCG@10  nDCG@10 +  nDCG@10 -  \\\n",
      "0  0.593     NaN     NaN           NaN    0.478        NaN        NaN   \n",
      "1  0.550    16.0    27.0         0.016    0.437       14.0       27.0   \n",
      "\n",
      "   nDCG@10 p-value  R(rel=2)@1000  R(rel=2)@1000 +  R(rel=2)@1000 -  \\\n",
      "0              NaN          0.755              NaN              NaN   \n",
      "1            0.144          0.711             13.0             15.0   \n",
      "\n",
      "   R(rel=2)@1000 p-value  \n",
      "0                    NaN  \n",
      "1                  0.077  \n"
     ]
    }
   ],
   "source": [
    "# Define metrics for evaluation\n",
    "metrics = [AP(rel=2), nDCG(), nDCG@10, Recall(rel=2)@1000]\n",
    "\n",
    "# Call the function to compare systems\n",
    "df_results = compare_systems_detailed(\n",
    "    perquery_results=perquery_results,\n",
    "    my_system_run=run_file_tfidf,\n",
    "    qrels=qrels,\n",
    "    metrics=metrics,\n",
    "    scoring_function=\"TF-IDF\"  # Change to \"TF-IDF\" if needed\n",
    ")\n",
    "\n",
    "# Display the detailed results\n",
    "print(df_results)"
   ]
  },
  {
   "cell_type": "code",
   "execution_count": 53,
   "metadata": {},
   "outputs": [
    {
     "name": "stdout",
     "output_type": "stream",
     "text": [
      "             name  AP(rel=2)  AP(rel=2) +  AP(rel=2) -  AP(rel=2) p-value  \\\n",
      "0  PyTerrier BM25      0.286          NaN          NaN                NaN   \n",
      "1  OurSystem BM25      0.263         16.0         26.0              0.104   \n",
      "\n",
      "    nDCG  nDCG +  nDCG -  nDCG p-value  nDCG@10  nDCG@10 +  nDCG@10 -  \\\n",
      "0  0.593     NaN     NaN           NaN    0.480        NaN        NaN   \n",
      "1  0.550    14.0    29.0         0.016    0.437       14.0       27.0   \n",
      "\n",
      "   nDCG@10 p-value  R(rel=2)@1000  R(rel=2)@1000 +  R(rel=2)@1000 -  \\\n",
      "0              NaN          0.755              NaN              NaN   \n",
      "1            0.133          0.710             13.0             15.0   \n",
      "\n",
      "   R(rel=2)@1000 p-value  \n",
      "0                    NaN  \n",
      "1                  0.071  \n"
     ]
    }
   ],
   "source": [
    "# Define metrics for evaluation\n",
    "metrics = [AP(rel=2), nDCG(), nDCG@10, Recall(rel=2)@1000]\n",
    "\n",
    "# Call the function to compare systems\n",
    "df_results = compare_systems_detailed(\n",
    "    perquery_results=perquery_results,\n",
    "    my_system_run=run_file_bm25,\n",
    "    qrels=qrels,\n",
    "    metrics=metrics,\n",
    "    scoring_function=\"BM25\"  # Change to \"TF-IDF\" if needed\n",
    ")\n",
    "\n",
    "# Display the detailed results\n",
    "print(df_results)"
   ]
  },
  {
   "cell_type": "markdown",
   "metadata": {},
   "source": [
    "# Trying it out"
   ]
  },
  {
   "cell_type": "code",
   "execution_count": null,
   "metadata": {},
   "outputs": [],
   "source": [
    "import ipywidgets as widgets\n",
    "from IPython.display import display, clear_output\n",
    "import time\n",
    "from cachetools import LFUCache\n",
    "\n",
    "\n",
    "# UI elements\n",
    "search_bar = widgets.Text(\n",
    "    placeholder='Type in a query...',\n",
    "    description='Search:',\n",
    "    layout=widgets.Layout(width='80%')\n",
    ")\n",
    "search_button = widgets.Button(\n",
    "    description='Search',\n",
    "    button_style='success',\n",
    "    tooltip='Execute the query',\n",
    "    icon='search'\n",
    ")\n",
    "\n",
    "score_function_rbtn = widgets.RadioButtons(options=['TF-IDF', 'BM25'], description='Scoring function:', disabled=False)\n",
    "algo_rbtn = widgets.RadioButtons(options=['TAAT', 'DAAT'], description='Algorithm:', disabled=False)\n",
    "_style = widgets.HTML(\n",
    "    \"<style>.widget-radio-box {flex-direction: row !important;}.widget-radio-box\"\n",
    "    \" label{margin:2px !important;width: 100px !important;}</style>\",\n",
    "    layout=widgets.Layout(display=\"none\"),\n",
    ")\n",
    "\n",
    "output_area = widgets.Output()\n",
    "\n",
    "query_cache = LFUCache(maxsize=120)\n",
    "\n",
    "def on_search_click(b):\n",
    "    with output_area:\n",
    "        clear_output()  # clean previous output\n",
    "        query = search_bar.value\n",
    "        if not query.strip():\n",
    "            print(\"Please, type in a query.\")\n",
    "            return\n",
    "        \n",
    "        selected_scoring_function = score_function_rbtn.value\n",
    "        print(f\"Selected scoring function: {selected_scoring_function}\")\n",
    "        if selected_scoring_function == 'TF-IDF':\n",
    "            method = 'tfidf'\n",
    "        else:   \n",
    "            method = 'bm25'\n",
    "\n",
    "        selected_algorithm = algo_rbtn.value\n",
    "        print(f\"Selected Algorithm: {selected_algorithm}\")\n",
    "        \n",
    "        start_time = time.time()\n",
    "        # --- WITH CACHE ---\n",
    "        processed_query = preprocess(query)\n",
    "        print(\"processed_query: \", processed_query)\n",
    "        cache_key = tuple(processed_query)  # Usa la versione preprocessata della query come chiave della cache\n",
    "        # --- QUERY EXECUTION ---\n",
    "        processed_query = preprocess(query)\n",
    "        termids = inv_index.get_termids(processed_query)\n",
    "        postings = inv_index.get_postings(termids)\n",
    "        \n",
    "        if selected_algorithm == 'TAAT':\n",
    "            results = taat(postings, method=method)\n",
    "        else:\n",
    "            results = daat(postings, method=method)\n",
    "        # ------------------------\n",
    "        elapsed_time = (time.time() - start_time) * 1000 # convert in ms\n",
    "\n",
    "        # finally show the results\n",
    "        print(f\"Top {len(results)} documents:\\n\")\n",
    "        for res in results:\n",
    "            res = (round(res[0], 4), res[1]) # TODO : si potrebbe spostare direttamente nella score function\n",
    "            print(f\" - {res}\")\n",
    "        print(f\"\\nExecution time: {elapsed_time:.2f} ms\")\n",
    "\n",
    "search_button.on_click(on_search_click)\n",
    "\n",
    "top_row = widgets.HBox([score_function_rbtn,_style])\n",
    "middle_row = widgets.HBox([algo_rbtn,_style])\n",
    "bottom_row = widgets.HBox([search_bar, search_button])\n",
    "\n",
    "# finally display the UI\n",
    "display(widgets.VBox([top_row,middle_row, bottom_row]))\n",
    "display(output_area)"
   ]
  },
  {
   "cell_type": "code",
   "execution_count": 55,
   "metadata": {},
   "outputs": [
    {
     "name": "stdout",
     "output_type": "stream",
     "text": [
      "         9412559 function calls in 2.047 seconds\n",
      "\n",
      "   Ordered by: cumulative time\n",
      "   List reduced from 74 to 20 due to restriction <20>\n",
      "\n",
      "   ncalls  tottime  percall  cumtime  percall filename:lineno(function)\n",
      "        2    0.000    0.000    2.046    1.023 c:\\Users\\giuli\\miniconda3\\envs\\mircv\\lib\\site-packages\\IPython\\core\\interactiveshell.py:3541(run_code)\n",
      "        2    0.000    0.000    2.046    1.023 {built-in method builtins.exec}\n",
      "        1    0.009    0.009    2.046    2.046 C:\\Users\\giuli\\AppData\\Local\\Temp\\ipykernel_10580\\1336686007.py:3(func)\n",
      "        1    0.758    0.758    1.739    1.739 C:\\Users\\giuli\\AppData\\Local\\Temp\\ipykernel_10580\\993784742.py:3(taat)\n",
      "  1018080    0.233    0.000    0.414    0.000 C:\\Users\\giuli\\AppData\\Local\\Temp\\ipykernel_10580\\1193239800.py:92(next)\n",
      "  1018088    0.191    0.000    0.363    0.000 C:\\Users\\giuli\\AppData\\Local\\Temp\\ipykernel_10580\\1193239800.py:18(docid)\n",
      "  2036172    0.264    0.000    0.353    0.000 C:\\Users\\giuli\\AppData\\Local\\Temp\\ipykernel_10580\\1193239800.py:100(is_end_list)\n",
      "        1    0.000    0.000    0.299    0.299 C:\\Users\\giuli\\AppData\\Local\\Temp\\ipykernel_10580\\1193239800.py:144(get_postings)\n",
      "        1    0.000    0.000    0.299    0.299 C:\\Users\\giuli\\AppData\\Local\\Temp\\ipykernel_10580\\1193239800.py:145(<listcomp>)\n",
      "        4    0.002    0.000    0.299    0.075 C:\\Users\\giuli\\AppData\\Local\\Temp\\ipykernel_10580\\1193239800.py:127(get_posting)\n",
      "        6    0.176    0.029    0.225    0.037 C:\\Users\\giuli\\AppData\\Local\\Temp\\ipykernel_10580\\2402485507.py:55(decode_concatenated_vbyte)\n",
      "        3    0.048    0.016    0.197    0.066 C:\\Users\\giuli\\AppData\\Local\\Temp\\ipykernel_10580\\2402485507.py:76(decode_vbyte_with_delta)\n",
      "  1018080    0.137    0.000    0.137    0.000 C:\\Users\\giuli\\AppData\\Local\\Temp\\ipykernel_10580\\1193239800.py:23(score)\n",
      "  2036301    0.089    0.000    0.089    0.000 {built-in method builtins.len}\n",
      "  1302639    0.073    0.000    0.073    0.000 {method 'append' of 'list' objects}\n",
      "   982792    0.068    0.000    0.068    0.000 C:\\Users\\giuli\\AppData\\Local\\Temp\\ipykernel_10580\\3162871289.py:23(insert)\n",
      "        3    0.000    0.000    0.000    0.000 c:\\Users\\giuli\\miniconda3\\envs\\mircv\\lib\\site-packages\\cachetools\\__init__.py:184(__setitem__)\n",
      "        3    0.000    0.000    0.000    0.000 c:\\Users\\giuli\\miniconda3\\envs\\mircv\\lib\\site-packages\\cachetools\\__init__.py:71(__setitem__)\n",
      "        3    0.000    0.000    0.000    0.000 c:\\Users\\giuli\\miniconda3\\envs\\mircv\\lib\\site-packages\\cachetools\\__init__.py:192(popitem)\n",
      "        1    0.000    0.000    0.000    0.000 C:\\Users\\giuli\\AppData\\Local\\Temp\\ipykernel_10580\\4044608840.py:13(preprocess)\n",
      "\n",
      "\n",
      "\n"
     ]
    }
   ],
   "source": [
    "# CAPE TEST FUNCTION FOR SINGULAR QUERY TIMES\n",
    "\n",
    "def func(query, selected_algorithm, selected_scoring_function):\n",
    "    processed_query = preprocess(query)\n",
    "    termids = inv_index.get_termids(processed_query)\n",
    "    postings = inv_index.get_postings(termids)\n",
    "    if selected_algorithm == 'TAAT':\n",
    "        results = taat(postings, method=selected_scoring_function)\n",
    "    else:\n",
    "        results = daat(postings, method=selected_scoring_function)\n",
    "\n",
    "    return results\n",
    "\n",
    "\n",
    "# facciamone la cProfile\n",
    "import cProfile\n",
    "import pstats\n",
    "import io\n",
    "\n",
    "query = \"who formed the commonwealth of independent states\" if chosen_collection == \"msmarco\" else \"CHARACTERISTICS OF THE SINGLE ELECTRODE DISCHARGE IN THE RARE GASES AT LOW PRESSURES\"\n",
    "\n",
    "pr = cProfile.Profile()\n",
    "pr.enable()\n",
    "func(query, 'TAAT', 'tfidf')\n",
    "pr.disable()\n",
    "s = io.StringIO()\n",
    "sortby = 'cumulative'\n",
    "ps = pstats.Stats(pr, stream=s).sort_stats(sortby)\n",
    "ps.print_stats(20)\n",
    "print(s.getvalue())"
   ]
  }
 ],
 "metadata": {
  "kernelspec": {
   "display_name": "mircv",
   "language": "python",
   "name": "python3"
  },
  "language_info": {
   "codemirror_mode": {
    "name": "ipython",
    "version": 3
   },
   "file_extension": ".py",
   "mimetype": "text/x-python",
   "name": "python",
   "nbconvert_exporter": "python",
   "pygments_lexer": "ipython3",
   "version": "3.10.15"
  }
 },
 "nbformat": 4,
 "nbformat_minor": 2
}
